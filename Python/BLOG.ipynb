{
 "cells": [
  {
   "cell_type": "code",
   "execution_count": 1,
   "metadata": {},
   "outputs": [
    {
     "name": "stdout",
     "output_type": "stream",
     "text": [
      "The value of 4 * 1 = 4 \n",
      "The value of 4 * 2 = 8 \n",
      "The value of 4 * 3 = 12 \n",
      "The value of 4 * 4 = 16 \n",
      "The value of 4 * 5 = 20 \n",
      "The value of 4 * 6 = 24 \n",
      "The value of 4 * 7 = 28 \n",
      "The value of 4 * 8 = 32 \n",
      "The value of 4 * 9 = 36 \n",
      "The value of 4 * 10 = 40 \n"
     ]
    }
   ],
   "source": [
    "# it is the common way to import itertools in python\n",
    "import itertools as it\n",
    "j = 1 \n",
    "for i in it.count(start=4, step=4):\n",
    "    if(i > 40): \n",
    "        break\n",
    "    else:\n",
    "        print('The value of 4 * {} = {} '.format(j, i)) \n",
    "        # .format is used to print the values of i and j inside print statement\n",
    "        j+=1\n",
    "    "
   ]
  },
  {
   "cell_type": "code",
   "execution_count": 9,
   "metadata": {},
   "outputs": [],
   "source": [
    "lst = [1,2,3]"
   ]
  },
  {
   "cell_type": "code",
   "execution_count": 10,
   "metadata": {},
   "outputs": [
    {
     "name": "stdout",
     "output_type": "stream",
     "text": [
      "<itertools.cycle object at 0x108a123c0>\n"
     ]
    }
   ],
   "source": [
    "a = it.cycle(lst)\n",
    "print(a)"
   ]
  },
  {
   "cell_type": "code",
   "execution_count": 11,
   "metadata": {},
   "outputs": [
    {
     "name": "stdout",
     "output_type": "stream",
     "text": [
      "1 2 3 1 2 3 1 2 3 1 "
     ]
    }
   ],
   "source": [
    "i = 0\n",
    "for a in it.cycle(lst):\n",
    "    print(a, end=\" \")\n",
    "    i+=1\n",
    "    if i > 9:\n",
    "        break"
   ]
  },
  {
   "cell_type": "code",
   "execution_count": 12,
   "metadata": {},
   "outputs": [
    {
     "name": "stdout",
     "output_type": "stream",
     "text": [
      "[1, 2, 3]\n",
      "[1, 2, 3]\n",
      "[1, 2, 3]\n"
     ]
    }
   ],
   "source": [
    "from itertool import it\n",
    "lst = [1,2,3] #please don't made perception that these itertools iterates only on lst\n",
    "#you can iterate any iterable object like string too.\n",
    "#so thats your task to iterate through string\n",
    "i = 0 \n",
    "for a in it.repeat(lst, 3):\n",
    "    print(a)"
   ]
  },
  {
   "cell_type": "code",
   "execution_count": 15,
   "metadata": {},
   "outputs": [
    {
     "name": "stdout",
     "output_type": "stream",
     "text": [
      "Mansi and Mayur Mansi and Mayur Mansi and Mayur Mansi "
     ]
    }
   ],
   "source": [
    "#cycle using next function\n",
    "import itertools as it\n",
    "lst = ['Mansi','and','Mayur']\n",
    "\n",
    "iterate = it.cycle(lst)\n",
    "\n",
    "for a in range(10):\n",
    "    print(next(iterate), end = \" \")"
   ]
  },
  {
   "cell_type": "code",
   "execution_count": null,
   "metadata": {},
   "outputs": [],
   "source": []
  }
 ],
 "metadata": {
  "kernelspec": {
   "display_name": "Python 3",
   "language": "python",
   "name": "python3"
  },
  "language_info": {
   "codemirror_mode": {
    "name": "ipython",
    "version": 3
   },
   "file_extension": ".py",
   "mimetype": "text/x-python",
   "name": "python",
   "nbconvert_exporter": "python",
   "pygments_lexer": "ipython3",
   "version": "3.8.3"
  }
 },
 "nbformat": 4,
 "nbformat_minor": 4
}
