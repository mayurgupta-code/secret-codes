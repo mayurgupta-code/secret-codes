{
 "cells": [
  {
   "cell_type": "markdown",
   "id": "complicated-mention",
   "metadata": {},
   "source": [
    "# class"
   ]
  },
  {
   "cell_type": "code",
   "execution_count": 37,
   "id": "careful-jefferson",
   "metadata": {},
   "outputs": [],
   "source": [
    "class Students:\n",
    "    pass"
   ]
  },
  {
   "cell_type": "code",
   "execution_count": 38,
   "id": "happy-islam",
   "metadata": {},
   "outputs": [],
   "source": [
    "#mayur and mansi are objects here\n",
    "mayur = Students()\n",
    "mansi = Students()"
   ]
  },
  {
   "cell_type": "code",
   "execution_count": 39,
   "id": "inclusive-douglas",
   "metadata": {},
   "outputs": [
    {
     "name": "stdout",
     "output_type": "stream",
     "text": [
      "<__main__.Students object at 0x7fc4153a91f0> <__main__.Students object at 0x7fc4153a9610>\n"
     ]
    }
   ],
   "source": [
    "#these are different as their memory allocation is different for each\n",
    "print(mayur, mansi)"
   ]
  },
  {
   "cell_type": "code",
   "execution_count": 40,
   "id": "established-support",
   "metadata": {},
   "outputs": [],
   "source": [
    "mayur.name = 'mayur'\n",
    "mayur.std = 12\n",
    "mayur.section = 1"
   ]
  },
  {
   "cell_type": "code",
   "execution_count": 41,
   "id": "encouraging-endorsement",
   "metadata": {},
   "outputs": [
    {
     "data": {
      "text/plain": [
       "'mayur'"
      ]
     },
     "execution_count": 41,
     "metadata": {},
     "output_type": "execute_result"
    }
   ],
   "source": [
    "mayur.name"
   ]
  },
  {
   "cell_type": "code",
   "execution_count": 42,
   "id": "duplicate-nelson",
   "metadata": {},
   "outputs": [
    {
     "data": {
      "text/plain": [
       "12"
      ]
     },
     "execution_count": 42,
     "metadata": {},
     "output_type": "execute_result"
    }
   ],
   "source": [
    "mayur.std"
   ]
  },
  {
   "cell_type": "code",
   "execution_count": 43,
   "id": "acquired-mauritius",
   "metadata": {},
   "outputs": [
    {
     "data": {
      "text/plain": [
       "1"
      ]
     },
     "execution_count": 43,
     "metadata": {},
     "output_type": "execute_result"
    }
   ],
   "source": [
    "mayur.section"
   ]
  },
  {
   "cell_type": "code",
   "execution_count": 44,
   "id": "complex-bishop",
   "metadata": {},
   "outputs": [],
   "source": [
    "mansi.std = 9"
   ]
  },
  {
   "cell_type": "code",
   "execution_count": 45,
   "id": "rental-projector",
   "metadata": {},
   "outputs": [
    {
     "name": "stdout",
     "output_type": "stream",
     "text": [
      "12 9\n"
     ]
    }
   ],
   "source": [
    "print(mayur.std, mansi.std)"
   ]
  },
  {
   "cell_type": "code",
   "execution_count": 46,
   "id": "noble-drinking",
   "metadata": {},
   "outputs": [],
   "source": [
    "mansi.subjects = ['maths', 'english']"
   ]
  },
  {
   "cell_type": "code",
   "execution_count": 47,
   "id": "passing-sarah",
   "metadata": {},
   "outputs": [
    {
     "data": {
      "text/plain": [
       "['maths', 'english']"
      ]
     },
     "execution_count": 47,
     "metadata": {},
     "output_type": "execute_result"
    }
   ],
   "source": [
    "mansi.subjects"
   ]
  },
  {
   "cell_type": "code",
   "execution_count": 48,
   "id": "premier-jones",
   "metadata": {},
   "outputs": [
    {
     "data": {
      "text/plain": [
       "list"
      ]
     },
     "execution_count": 48,
     "metadata": {},
     "output_type": "execute_result"
    }
   ],
   "source": [
    "type(mansi.subjects)"
   ]
  },
  {
   "cell_type": "code",
   "execution_count": 49,
   "id": "desirable-contributor",
   "metadata": {},
   "outputs": [
    {
     "ename": "AttributeError",
     "evalue": "'Students' object has no attribute 'section'",
     "output_type": "error",
     "traceback": [
      "\u001b[0;31m---------------------------------------------------------------------------\u001b[0m",
      "\u001b[0;31mAttributeError\u001b[0m                            Traceback (most recent call last)",
      "\u001b[0;32m<ipython-input-49-3c26e41048b1>\u001b[0m in \u001b[0;36m<module>\u001b[0;34m\u001b[0m\n\u001b[0;32m----> 1\u001b[0;31m \u001b[0mmansi\u001b[0m\u001b[0;34m.\u001b[0m\u001b[0msection\u001b[0m\u001b[0;34m\u001b[0m\u001b[0;34m\u001b[0m\u001b[0m\n\u001b[0m\u001b[1;32m      2\u001b[0m \u001b[0;31m#because we didn't defines the section for the mansi\u001b[0m\u001b[0;34m\u001b[0m\u001b[0;34m\u001b[0m\u001b[0;34m\u001b[0m\u001b[0m\n",
      "\u001b[0;31mAttributeError\u001b[0m: 'Students' object has no attribute 'section'"
     ]
    }
   ],
   "source": [
    "mansi.section\n",
    "#because we didn't defines the section for the mansi"
   ]
  },
  {
   "cell_type": "code",
   "execution_count": 69,
   "id": "attached-intention",
   "metadata": {},
   "outputs": [],
   "source": [
    "#standard procedure to write name of the classes\n",
    "class Employee:\n",
    "    no_of_employees = 8\n",
    "    pass"
   ]
  },
  {
   "cell_type": "code",
   "execution_count": 70,
   "id": "guilty-mentor",
   "metadata": {},
   "outputs": [],
   "source": [
    "mayur = Employee()\n",
    "mansi = Employee()"
   ]
  },
  {
   "cell_type": "code",
   "execution_count": 71,
   "id": "assured-passport",
   "metadata": {},
   "outputs": [],
   "source": [
    "mayur.name = 'mayur'\n",
    "mayur.salary = 455\n",
    "mayur.role = 'instructor'\n",
    "\n",
    "mansi.name = 'mansi'\n",
    "mansi.salary = 4554\n",
    "mansi.role = 'developer'"
   ]
  },
  {
   "cell_type": "code",
   "execution_count": 72,
   "id": "antique-cyprus",
   "metadata": {},
   "outputs": [
    {
     "data": {
      "text/plain": [
       "'mayur'"
      ]
     },
     "execution_count": 72,
     "metadata": {},
     "output_type": "execute_result"
    }
   ],
   "source": [
    "mayur.name"
   ]
  },
  {
   "cell_type": "code",
   "execution_count": 73,
   "id": "neural-perfume",
   "metadata": {},
   "outputs": [
    {
     "data": {
      "text/plain": [
       "4554"
      ]
     },
     "execution_count": 73,
     "metadata": {},
     "output_type": "execute_result"
    }
   ],
   "source": [
    "mansi.salary"
   ]
  },
  {
   "cell_type": "code",
   "execution_count": 74,
   "id": "antique-level",
   "metadata": {},
   "outputs": [
    {
     "ename": "NameError",
     "evalue": "name 'no_of_employees' is not defined",
     "output_type": "error",
     "traceback": [
      "\u001b[0;31m---------------------------------------------------------------------------\u001b[0m",
      "\u001b[0;31mNameError\u001b[0m                                 Traceback (most recent call last)",
      "\u001b[0;32m<ipython-input-74-44b12bf1044a>\u001b[0m in \u001b[0;36m<module>\u001b[0;34m\u001b[0m\n\u001b[0;32m----> 1\u001b[0;31m \u001b[0mno_of_employees\u001b[0m\u001b[0;34m\u001b[0m\u001b[0;34m\u001b[0m\u001b[0m\n\u001b[0m",
      "\u001b[0;31mNameError\u001b[0m: name 'no_of_employees' is not defined"
     ]
    }
   ],
   "source": [
    "no_of_employees"
   ]
  },
  {
   "cell_type": "code",
   "execution_count": 75,
   "id": "occupied-beijing",
   "metadata": {},
   "outputs": [
    {
     "data": {
      "text/plain": [
       "8"
      ]
     },
     "execution_count": 75,
     "metadata": {},
     "output_type": "execute_result"
    }
   ],
   "source": [
    "mayur.no_of_employees"
   ]
  },
  {
   "cell_type": "code",
   "execution_count": 76,
   "id": "quick-concert",
   "metadata": {},
   "outputs": [
    {
     "data": {
      "text/plain": [
       "8"
      ]
     },
     "execution_count": 76,
     "metadata": {},
     "output_type": "execute_result"
    }
   ],
   "source": [
    "mansi.no_of_employees\n",
    "#both gives 8 because these no_of_employees inherit from class Employee"
   ]
  },
  {
   "cell_type": "code",
   "execution_count": 77,
   "id": "cathedral-public",
   "metadata": {},
   "outputs": [
    {
     "data": {
      "text/plain": [
       "8"
      ]
     },
     "execution_count": 77,
     "metadata": {},
     "output_type": "execute_result"
    }
   ],
   "source": [
    "Employee.no_of_employees"
   ]
  },
  {
   "cell_type": "code",
   "execution_count": 78,
   "id": "killing-express",
   "metadata": {},
   "outputs": [
    {
     "data": {
      "text/plain": [
       "{'name': 'mayur', 'salary': 455, 'role': 'instructor'}"
      ]
     },
     "execution_count": 78,
     "metadata": {},
     "output_type": "execute_result"
    }
   ],
   "source": [
    "mayur.__dict__"
   ]
  },
  {
   "cell_type": "code",
   "execution_count": 79,
   "id": "wireless-documentation",
   "metadata": {},
   "outputs": [
    {
     "data": {
      "text/plain": [
       "{'name': 'mansi', 'salary': 4554, 'role': 'developer'}"
      ]
     },
     "execution_count": 79,
     "metadata": {},
     "output_type": "execute_result"
    }
   ],
   "source": [
    "mansi.__dict__"
   ]
  },
  {
   "cell_type": "code",
   "execution_count": 80,
   "id": "reasonable-dutch",
   "metadata": {},
   "outputs": [
    {
     "data": {
      "text/plain": [
       "mappingproxy({'__module__': '__main__',\n",
       "              'no_of_employees': 8,\n",
       "              '__dict__': <attribute '__dict__' of 'Employee' objects>,\n",
       "              '__weakref__': <attribute '__weakref__' of 'Employee' objects>,\n",
       "              '__doc__': None})"
      ]
     },
     "execution_count": 80,
     "metadata": {},
     "output_type": "execute_result"
    }
   ],
   "source": [
    "Employee.__dict__"
   ]
  },
  {
   "cell_type": "code",
   "execution_count": 81,
   "id": "built-collectible",
   "metadata": {},
   "outputs": [],
   "source": [
    "#something change\n",
    "mayur.no_of_employees = 9"
   ]
  },
  {
   "cell_type": "code",
   "execution_count": 82,
   "id": "possible-cinema",
   "metadata": {},
   "outputs": [
    {
     "data": {
      "text/plain": [
       "9"
      ]
     },
     "execution_count": 82,
     "metadata": {},
     "output_type": "execute_result"
    }
   ],
   "source": [
    "mayur.no_of_employees"
   ]
  },
  {
   "cell_type": "code",
   "execution_count": 83,
   "id": "assumed-czech",
   "metadata": {},
   "outputs": [
    {
     "data": {
      "text/plain": [
       "8"
      ]
     },
     "execution_count": 83,
     "metadata": {},
     "output_type": "execute_result"
    }
   ],
   "source": [
    "mansi.no_of_employees"
   ]
  },
  {
   "cell_type": "code",
   "execution_count": 84,
   "id": "agricultural-composer",
   "metadata": {},
   "outputs": [
    {
     "data": {
      "text/plain": [
       "8"
      ]
     },
     "execution_count": 84,
     "metadata": {},
     "output_type": "execute_result"
    }
   ],
   "source": [
    "Employee.no_of_employees"
   ]
  },
  {
   "cell_type": "code",
   "execution_count": 85,
   "id": "exotic-assumption",
   "metadata": {},
   "outputs": [
    {
     "data": {
      "text/plain": [
       "{'name': 'mayur', 'salary': 455, 'role': 'instructor', 'no_of_employees': 9}"
      ]
     },
     "execution_count": 85,
     "metadata": {},
     "output_type": "execute_result"
    }
   ],
   "source": [
    "mayur.__dict__"
   ]
  },
  {
   "cell_type": "code",
   "execution_count": 86,
   "id": "public-hampshire",
   "metadata": {},
   "outputs": [
    {
     "data": {
      "text/plain": [
       "{'name': 'mansi', 'salary': 4554, 'role': 'developer'}"
      ]
     },
     "execution_count": 86,
     "metadata": {},
     "output_type": "execute_result"
    }
   ],
   "source": [
    "mansi.__dict__\n",
    "#means no_of_employees variable is only changed in the mayur instance not in other ones"
   ]
  },
  {
   "cell_type": "code",
   "execution_count": 88,
   "id": "removable-spare",
   "metadata": {},
   "outputs": [
    {
     "data": {
      "text/plain": [
       "mappingproxy({'__module__': '__main__',\n",
       "              'no_of_employees': 8,\n",
       "              '__dict__': <attribute '__dict__' of 'Employee' objects>,\n",
       "              '__weakref__': <attribute '__weakref__' of 'Employee' objects>,\n",
       "              '__doc__': None})"
      ]
     },
     "execution_count": 88,
     "metadata": {},
     "output_type": "execute_result"
    }
   ],
   "source": [
    "Employee.__dict__\n",
    "#no_of_employees = class variable"
   ]
  },
  {
   "cell_type": "code",
   "execution_count": 89,
   "id": "celtic-clothing",
   "metadata": {},
   "outputs": [],
   "source": [
    "Employee.no_of_employees = 10"
   ]
  },
  {
   "cell_type": "code",
   "execution_count": 90,
   "id": "documentary-tackle",
   "metadata": {},
   "outputs": [
    {
     "data": {
      "text/plain": [
       "9"
      ]
     },
     "execution_count": 90,
     "metadata": {},
     "output_type": "execute_result"
    }
   ],
   "source": [
    "mayur.no_of_employees"
   ]
  },
  {
   "cell_type": "code",
   "execution_count": 93,
   "id": "intended-japanese",
   "metadata": {},
   "outputs": [
    {
     "data": {
      "text/plain": [
       "10"
      ]
     },
     "execution_count": 93,
     "metadata": {},
     "output_type": "execute_result"
    }
   ],
   "source": [
    "mansi.no_of_employees\n",
    "#means that only class can make changes in their variable\n",
    "#no object can changes the class variable\n",
    "#but if we assign variable no_of_employee for other class then there attributes are added in itself only not in main class\n"
   ]
  },
  {
   "cell_type": "code",
   "execution_count": null,
   "id": "fourth-michael",
   "metadata": {},
   "outputs": [],
   "source": [
    "class Employee:\n",
    "    no_of_employees = 8\n",
    "    \n",
    "    def printDetails(self): #this is method\n",
    "        #this is like self is accessed using any of the instance of the class\n",
    "        #but now we are making this function using self and after that this can be applied to any other instance of the class\n",
    "        #like here mayur or mansi"
   ]
  },
  {
   "cell_type": "code",
   "execution_count": null,
   "id": "altered-jaguar",
   "metadata": {},
   "outputs": [],
   "source": []
  },
  {
   "cell_type": "code",
   "execution_count": null,
   "id": "every-travel",
   "metadata": {},
   "outputs": [],
   "source": []
  },
  {
   "cell_type": "code",
   "execution_count": null,
   "id": "least-community",
   "metadata": {},
   "outputs": [],
   "source": []
  },
  {
   "cell_type": "code",
   "execution_count": null,
   "id": "signal-brave",
   "metadata": {},
   "outputs": [],
   "source": []
  },
  {
   "cell_type": "code",
   "execution_count": null,
   "id": "parallel-nightlife",
   "metadata": {},
   "outputs": [],
   "source": []
  },
  {
   "cell_type": "code",
   "execution_count": null,
   "id": "painted-sphere",
   "metadata": {},
   "outputs": [],
   "source": []
  },
  {
   "cell_type": "code",
   "execution_count": null,
   "id": "prepared-green",
   "metadata": {},
   "outputs": [],
   "source": []
  }
 ],
 "metadata": {
  "kernelspec": {
   "display_name": "Python 3",
   "language": "python",
   "name": "python3"
  },
  "language_info": {
   "codemirror_mode": {
    "name": "ipython",
    "version": 3
   },
   "file_extension": ".py",
   "mimetype": "text/x-python",
   "name": "python",
   "nbconvert_exporter": "python",
   "pygments_lexer": "ipython3",
   "version": "3.8.5"
  }
 },
 "nbformat": 4,
 "nbformat_minor": 5
}
