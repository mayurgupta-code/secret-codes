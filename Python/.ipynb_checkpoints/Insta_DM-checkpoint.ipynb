{
 "cells": [
  {
   "cell_type": "code",
   "execution_count": 1,
   "metadata": {},
   "outputs": [],
   "source": [
    "from selenium import webdriver"
   ]
  },
  {
   "cell_type": "code",
   "execution_count": 2,
   "metadata": {},
   "outputs": [],
   "source": [
    "from time import sleep"
   ]
  },
  {
   "cell_type": "code",
   "execution_count": 3,
   "metadata": {},
   "outputs": [],
   "source": [
    "driver = webdriver.Chrome()"
   ]
  },
  {
   "cell_type": "code",
   "execution_count": 4,
   "metadata": {},
   "outputs": [],
   "source": [
    "driver.get('http://instagram.com')"
   ]
  },
  {
   "cell_type": "code",
   "execution_count": 5,
   "metadata": {},
   "outputs": [],
   "source": [
    "username = 'surya_g_upta'"
   ]
  },
  {
   "cell_type": "code",
   "execution_count": 6,
   "metadata": {},
   "outputs": [],
   "source": [
    "password = 'raftaarsamrat'"
   ]
  },
  {
   "cell_type": "code",
   "execution_count": 7,
   "metadata": {},
   "outputs": [],
   "source": [
    "username_box = driver.find_element_by_xpath('//*[@id=\"loginForm\"]/div/div[1]/div/label/input')"
   ]
  },
  {
   "cell_type": "code",
   "execution_count": 8,
   "metadata": {},
   "outputs": [],
   "source": [
    "password_box = driver.find_element_by_xpath('//*[@id=\"loginForm\"]/div/div[2]/div/label/input')"
   ]
  },
  {
   "cell_type": "code",
   "execution_count": 9,
   "metadata": {},
   "outputs": [],
   "source": [
    "username_box.send_keys(username)"
   ]
  },
  {
   "cell_type": "code",
   "execution_count": 10,
   "metadata": {},
   "outputs": [],
   "source": [
    "password_box.send_keys(password)"
   ]
  },
  {
   "cell_type": "code",
   "execution_count": 11,
   "metadata": {},
   "outputs": [],
   "source": [
    "login_button = driver.find_element_by_xpath('//*[@id=\"loginForm\"]/div/div[3]/button/div')"
   ]
  },
  {
   "cell_type": "code",
   "execution_count": 12,
   "metadata": {},
   "outputs": [],
   "source": [
    "login_button.click()"
   ]
  },
  {
   "cell_type": "code",
   "execution_count": 13,
   "metadata": {},
   "outputs": [],
   "source": [
    "try:\n",
    "    save_login_info = driver.find_element_by_xpath('//*[@id=\"react-root\"]/section/main/div/div/div/div/button')\n",
    "    save_login_info.click()\n",
    "except:\n",
    "    pass"
   ]
  },
  {
   "cell_type": "code",
   "execution_count": 16,
   "metadata": {},
   "outputs": [],
   "source": [
    "try:\n",
    "    turn_notification = driver.find_element_by_xpath('/html/body/div[4]/div/div/div/div[3]/button[2]')\n",
    "    turn_notification.click()\n",
    "except:\n",
    "    pass\n"
   ]
  },
  {
   "cell_type": "code",
   "execution_count": 18,
   "metadata": {},
   "outputs": [],
   "source": [
    "following = driver.find_element_by_xpath('/html/body/div[4]/div/div/div[2]/ul/div/li[2]/div/div[1]/div[2]/div[1]/span/a')"
   ]
  },
  {
   "cell_type": "code",
   "execution_count": 19,
   "metadata": {},
   "outputs": [
    {
     "name": "stdout",
     "output_type": "stream",
     "text": [
      "<selenium.webdriver.remote.webelement.WebElement (session=\"ea181437a104326c3fb9df850b384d8c\", element=\"5a235e0a-57e3-42da-9d29-cac5f3414cf8\")>\n"
     ]
    }
   ],
   "source": [
    "print(following)"
   ]
  },
  {
   "cell_type": "code",
   "execution_count": 27,
   "metadata": {},
   "outputs": [
    {
     "name": "stdout",
     "output_type": "stream",
     "text": [
      "<bound method WebElement.get_attribute of <selenium.webdriver.remote.webelement.WebElement (session=\"ea181437a104326c3fb9df850b384d8c\", element=\"5a235e0a-57e3-42da-9d29-cac5f3414cf8\")>>\n"
     ]
    }
   ],
   "source": [
    "print(following.get_attribute)"
   ]
  },
  {
   "cell_type": "code",
   "execution_count": 28,
   "metadata": {},
   "outputs": [],
   "source": [
    "import instapy"
   ]
  },
  {
   "cell_type": "code",
   "execution_count": 30,
   "metadata": {},
   "outputs": [
    {
     "data": {
      "text/plain": [
       "<module 'instapy.database_engine' from '/opt/anaconda3/lib/python3.8/site-packages/instapy/database_engine.py'>"
      ]
     },
     "execution_count": 30,
     "metadata": {},
     "output_type": "execute_result"
    }
   ],
   "source": [
    "instapy.database_engine"
   ]
  },
  {
   "cell_type": "code",
   "execution_count": 34,
   "metadata": {},
   "outputs": [
    {
     "name": "stdout",
     "output_type": "stream",
     "text": [
      "here\n",
      "here\n"
     ]
    }
   ],
   "source": [
    "import requests\n",
    "from bs4 import BeautifulSoup\n",
    "print('here')\n",
    "res = requests.get('https://www.instagram.com/officialkanikamann/following/')\n",
    "soup = BeautifulSoup(res.text,\"lxml\")\n",
    "print('here')\n",
    "\n",
    "\n",
    "for a in soup.findAll('div', {\"id\":\"home\"}):\n",
    "    print('here')\n",
    "\n",
    "\n",
    "    div = a.findAll('div', {\"class\": \"home-hot-thumb\"})\n",
    "    for div in div:\n",
    "        title=(div.img.get('title'))\n",
    "        print(title)\n",
    "        href=('http://www.cad.com/'+div.a.get('href'))\n",
    "        print(href)\n",
    "        src=('http://www.cad.com/'+div.img.get('src'))\n",
    "        print(src.replace('?w=70&h=70&mode=crop', ''))"
   ]
  },
  {
   "cell_type": "code",
   "execution_count": null,
   "metadata": {},
   "outputs": [],
   "source": []
  }
 ],
 "metadata": {
  "kernelspec": {
   "display_name": "Python 3",
   "language": "python",
   "name": "python3"
  },
  "language_info": {
   "codemirror_mode": {
    "name": "ipython",
    "version": 3
   },
   "file_extension": ".py",
   "mimetype": "text/x-python",
   "name": "python",
   "nbconvert_exporter": "python",
   "pygments_lexer": "ipython3",
   "version": "3.8.3"
  }
 },
 "nbformat": 4,
 "nbformat_minor": 4
}
