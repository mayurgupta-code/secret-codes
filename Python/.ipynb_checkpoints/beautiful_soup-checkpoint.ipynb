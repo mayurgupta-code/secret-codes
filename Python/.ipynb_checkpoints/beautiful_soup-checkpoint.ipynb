{
 "cells": [
  {
   "cell_type": "code",
   "execution_count": 2,
   "metadata": {},
   "outputs": [],
   "source": [
    "from bs4 import BeautifulSoup\n",
    "import requests"
   ]
  },
  {
   "cell_type": "code",
   "execution_count": 2,
   "metadata": {},
   "outputs": [],
   "source": [
    "url = 'https://www.tutorialspoint.com/index.htm'\n",
    "\n",
    "req = requests.get(url)\n",
    "\n",
    "soup = BeautifulSoup(req.text, 'html.parser')"
   ]
  },
  {
   "cell_type": "code",
   "execution_count": 3,
   "metadata": {},
   "outputs": [
    {
     "name": "stdout",
     "output_type": "stream",
     "text": [
      "<title>RxJS, ggplot2, Python Data Persistence, Caffe2, PyBrain, Python Data Access, H2O, Colab, Theano, Flutter, KNime, Mean.js, Weka, Solidity</title>\n"
     ]
    }
   ],
   "source": [
    "print(soup.title)"
   ]
  },
  {
   "cell_type": "code",
   "execution_count": 4,
   "metadata": {},
   "outputs": [
    {
     "name": "stdout",
     "output_type": "stream",
     "text": [
      "https://www.tutorialspoint.com/index.htm\n",
      "https://www.tutorialspoint.com/about/about_careers.htm\n",
      "https://www.tutorialspoint.com/questions/index.php\n",
      "https://www.tutorialspoint.com/online_dev_tools.htm\n",
      "https://www.tutorialspoint.com/codingground.htm\n",
      "https://www.tutorialspoint.com/current_affairs.htm\n",
      "https://www.tutorialspoint.com/upsc_ias_exams.htm\n",
      "https://www.tutorialspoint.com/tutor_connect/index.php\n",
      "https://www.tutorialspoint.com/whiteboard.htm\n",
      "https://www.tutorialspoint.com/netmeeting.php\n",
      "https://www.tutorix.com\n",
      "https://www.tutorialspoint.com/index.htm\n",
      "https://www.tutorialspoint.com/tutorialslibrary.htm\n",
      "https://www.tutorialspoint.com/videotutorials/index.php\n",
      "https://store.tutorialspoint.com\n",
      "https://www.tutorialspoint.com/gate_exams_tutorials.htm\n",
      "videotutorials/subscription.php\n",
      "https://www.tutorialspoint.com/videotutorials/latest-courses.php\n",
      "None\n",
      "None\n",
      "None\n",
      "None\n",
      "None\n",
      "None\n",
      "None\n",
      "https://www.tutorialspoint.com/mastering_dax_and_data_models_in_power_bi_desktop/index.asp\n",
      "https://www.tutorialspoint.com/videotutorials/profile/abhay_gadiya\n",
      "https://www.tutorialspoint.com/videotutorials/view_cart.php?cart_key=900\n",
      "https://www.tutorialspoint.com/build_excel_models_using_advanced_formulas_vba_power_query/index.asp\n",
      "https://www.tutorialspoint.com/videotutorials/profile/prashant_panchal\n",
      "https://www.tutorialspoint.com/videotutorials/view_cart.php?cart_key=907\n",
      "https://www.tutorialspoint.com/excel_power_query_training_beginners_to_advanced_level/index.asp\n",
      "https://www.tutorialspoint.com/videotutorials/profile/abhay_gadiya\n",
      "https://www.tutorialspoint.com/videotutorials/view_cart.php?cart_key=891\n",
      "https://www.tutorialspoint.com/quick_excel_for_financial_modeling/index.asp\n",
      "https://www.tutorialspoint.com/videotutorials/profile/blair_cook\n",
      "https://www.tutorialspoint.com/videotutorials/view_cart.php?cart_key=834\n",
      "https://www.tutorialspoint.com/advanced_microsoft_word_2013_tutorial/index.asp\n",
      "https://www.tutorialspoint.com/videotutorials/profile/syed_raza\n",
      "https://www.tutorialspoint.com/videotutorials/view_cart.php?cart_key=829\n",
      "https://www.tutorialspoint.com/advance_excel_power_query_troubleshooting_case_studies_custom_m_function_with_m_language/index.asp\n",
      "https://www.tutorialspoint.com/videotutorials/profile/abhay_gadiya\n",
      "https://www.tutorialspoint.com/videotutorials/view_cart.php?cart_key=1050\n",
      "https://www.tutorialspoint.com/videotutorials/latest-courses.php\n",
      "https://www.tutorialspoint.com/videotutorials/top-courses.php\n",
      "None\n",
      "None\n",
      "None\n",
      "None\n",
      "None\n",
      "None\n",
      "None\n",
      "https://www.tutorialspoint.com/ms_excel_online_training/index.asp\n",
      "https://www.tutorialspoint.com/videotutorials/profile/tutorialspoint_com\n",
      "https://www.tutorialspoint.com/videotutorials/view_cart.php?cart_key=42\n",
      "https://www.tutorialspoint.com/excel_vba_online_training/index.asp\n",
      "https://www.tutorialspoint.com/videotutorials/profile/tutorialspoint_com\n",
      "https://www.tutorialspoint.com/videotutorials/view_cart.php?cart_key=157\n",
      "https://www.tutorialspoint.com/advanced_excel_power_query_online_training/index.asp\n",
      "https://www.tutorialspoint.com/videotutorials/profile/tutorialspoint_com\n",
      "https://www.tutorialspoint.com/videotutorials/view_cart.php?cart_key=434\n",
      "https://www.tutorialspoint.com/sap_abap_online_training/index.asp\n",
      "https://www.tutorialspoint.com/videotutorials/profile/tutorialspoint_com\n",
      "https://www.tutorialspoint.com/videotutorials/view_cart.php?cart_key=174\n",
      "https://www.tutorialspoint.com/sap_c4c_online_training/index.asp\n",
      "https://www.tutorialspoint.com/videotutorials/profile/tutorialspoint_com\n",
      "https://www.tutorialspoint.com/videotutorials/view_cart.php?cart_key=74\n",
      "https://www.tutorialspoint.com/sap_mm_online_training/index.asp\n",
      "https://www.tutorialspoint.com/videotutorials/profile/tutorialspoint_com\n",
      "https://www.tutorialspoint.com/videotutorials/view_cart.php?cart_key=158\n",
      "https://www.tutorialspoint.com/videotutorials/top-courses.php\n",
      "https://www.tutorialspoint.com/videotutorials/featured-courses.php\n",
      "None\n",
      "None\n",
      "None\n",
      "None\n",
      "None\n",
      "None\n",
      "None\n",
      "https://www.tutorialspoint.com/mastering_microsoft_power_bi/index.asp\n",
      "https://www.tutorialspoint.com/videotutorials/profile/tutorialspoint_com\n",
      "https://www.tutorialspoint.com/videotutorials/view_cart.php?cart_key=997\n",
      "https://www.tutorialspoint.com/microsoft_azure_tutorials_step_by_step/index.asp\n",
      "https://www.tutorialspoint.com/videotutorials/profile/shivprasad_koirala\n",
      "https://www.tutorialspoint.com/videotutorials/view_cart.php?cart_key=525\n",
      "https://www.tutorialspoint.com/zero_to_hero_in_microsoft_excel_complete_excel_guide_2019/index.asp\n",
      "https://www.tutorialspoint.com/videotutorials/profile/abhishek_and_pukhraj-14426528\n",
      "https://www.tutorialspoint.com/videotutorials/view_cart.php?cart_key=699\n",
      "https://www.tutorialspoint.com/advanced_excel_crash_course/index.asp\n",
      "https://www.tutorialspoint.com/videotutorials/profile/yodalearning\n",
      "https://www.tutorialspoint.com/videotutorials/view_cart.php?cart_key=599\n",
      "https://www.tutorialspoint.com/microsoft_excel_masterclass_for_business_managers/index.asp\n",
      "https://www.tutorialspoint.com/videotutorials/profile/abhishek_and_pukhraj-14426528\n",
      "https://www.tutorialspoint.com/videotutorials/view_cart.php?cart_key=606\n",
      "https://www.tutorialspoint.com/excel_dashboard_crash_course/index.asp\n",
      "https://www.tutorialspoint.com/videotutorials/profile/yodalearning\n",
      "https://www.tutorialspoint.com/videotutorials/view_cart.php?cart_key=589\n",
      "https://www.tutorialspoint.com/videotutorials/featured-courses.php\n",
      "https://www.tutorialspoint.com/videotutorials/index.php\n",
      "https://www.tutorialspoint.com/videotutorials/profile/prof_paul_cline_ed_d\n",
      "https://www.tutorialspoint.com/videotutorials/profile/blair_cook\n",
      "https://www.tutorialspoint.com/videotutorials/profile/syed_raza\n",
      "https://www.tutorialspoint.com/videotutorials/profile/abhilash_nelson\n",
      "https://www.tutorialspoint.com/videotutorials/profile/frahaan_hussain\n",
      "https://www.tutorialspoint.com/videotutorials/profile/digifisk_programming_is_fun\n",
      "https://www.tutorialspoint.com/videotutorials/profile/Pavan-Lalwani\n",
      "https://www.tutorialspoint.com/videotutorials/profile/eduonix_learning_solutions\n",
      "https://www.tutorialspoint.com/videotutorials/profile/lets_kode_it\n",
      "https://www.tutorialspoint.com/videotutorials/profile/senol_atac\n",
      "https://www.tutorialspoint.com/videotutorials/profile/inf_sid\n",
      "https://www.tutorialspoint.com/tutorialslibrary.htm\n",
      "https://www.tutorialspoint.com/bitcoin/index.htm\n",
      "https://www.tutorialspoint.com/blockchain/index.htm\n",
      "https://www.tutorialspoint.com/blue_prism/index.htm\n",
      "https://www.tutorialspoint.com/ethereum/index.htm\n",
      "https://www.tutorialspoint.com/openshift/index.htm\n",
      "https://www.tutorialspoint.com/python_blockchain/index.htm\n",
      "https://www.tutorialspoint.com/latest_technologies.htm\n",
      "https://www.tutorialspoint.com/machine_learning/index.htm\n",
      "https://www.tutorialspoint.com/tensorflow/index.htm\n",
      "https://www.tutorialspoint.com/machine_learning_with_python/index.htm\n",
      "https://www.tutorialspoint.com/artificial_intelligence_with_python/index.htm\n",
      "https://www.tutorialspoint.com/time_series/index.htm\n",
      "https://www.tutorialspoint.com/pytorch/index.htm\n",
      "https://www.tutorialspoint.com/machine_learning_tutorials.htm\n",
      "https://www.tutorialspoint.com/computer_fundamentals/index.htm\n",
      "https://www.tutorialspoint.com/compiler_design/index.htm\n",
      "https://www.tutorialspoint.com/operating_system/index.htm\n",
      "https://www.tutorialspoint.com/data_structures_algorithms/index.htm\n",
      "https://www.tutorialspoint.com/dbms/index.htm\n",
      "https://www.tutorialspoint.com/data_communication_computer_network/index.htm\n",
      "https://www.tutorialspoint.com/computer_science_tutorials.htm\n",
      "https://www.tutorialspoint.com/html/index.htm\n",
      "https://www.tutorialspoint.com/css/index.htm\n",
      "https://www.tutorialspoint.com/javascript/index.htm\n",
      "https://www.tutorialspoint.com/php/index.htm\n",
      "https://www.tutorialspoint.com/angular4/index.htm\n",
      "https://www.tutorialspoint.com/mysql/index.htm\n",
      "https://www.tutorialspoint.com/web_development_tutorials.htm\n",
      "https://www.tutorialspoint.com/cprogramming/index.htm\n",
      "https://www.tutorialspoint.com/cplusplus/index.htm\n",
      "https://www.tutorialspoint.com/java8/index.htm\n",
      "https://www.tutorialspoint.com/python/index.htm\n",
      "https://www.tutorialspoint.com/scala/index.htm\n",
      "https://www.tutorialspoint.com/csharp/index.htm\n",
      "https://www.tutorialspoint.com/computer_programming_tutorials.htm\n",
      "https://www.tutorialspoint.com/java8/index.htm\n",
      "https://www.tutorialspoint.com/jdbc/index.htm\n",
      "https://www.tutorialspoint.com/servlets/index.htm\n",
      "https://www.tutorialspoint.com/spring/index.htm\n",
      "https://www.tutorialspoint.com/hibernate/index.htm\n",
      "https://www.tutorialspoint.com/swing/index.htm\n",
      "https://www.tutorialspoint.com/java_technology_tutorials.htm\n",
      "https://www.tutorialspoint.com/android/index.htm\n",
      "https://www.tutorialspoint.com/swift/index.htm\n",
      "https://www.tutorialspoint.com/ios/index.htm\n",
      "https://www.tutorialspoint.com/kotlin/index.htm\n",
      "https://www.tutorialspoint.com/react_native/index.htm\n",
      "https://www.tutorialspoint.com/xamarin/index.htm\n",
      "https://www.tutorialspoint.com/mobile_development_tutorials.htm\n",
      "https://www.tutorialspoint.com/mongodb/index.htm\n",
      "https://www.tutorialspoint.com/plsql/index.htm\n",
      "https://www.tutorialspoint.com/sql/index.htm\n",
      "https://www.tutorialspoint.com/db2/index.htm\n",
      "https://www.tutorialspoint.com/mysql/index.htm\n",
      "https://www.tutorialspoint.com/memcached/index.htm\n",
      "https://www.tutorialspoint.com/database_tutorials.htm\n",
      "https://www.tutorialspoint.com/asp.net/index.htm\n",
      "https://www.tutorialspoint.com/entity_framework/index.htm\n",
      "https://www.tutorialspoint.com/vb.net/index.htm\n",
      "https://www.tutorialspoint.com/ms_project/index.htm\n",
      "https://www.tutorialspoint.com/excel/index.htm\n",
      "https://www.tutorialspoint.com/word/index.htm\n",
      "https://www.tutorialspoint.com/microsoft_technologies_tutorials.htm\n",
      "https://www.tutorialspoint.com/big_data_analytics/index.htm\n",
      "https://www.tutorialspoint.com/hadoop/index.htm\n",
      "https://www.tutorialspoint.com/sas/index.htm\n",
      "https://www.tutorialspoint.com/qlikview/index.htm\n",
      "https://www.tutorialspoint.com/power_bi/index.htm\n",
      "https://www.tutorialspoint.com/tableau/index.htm\n",
      "https://www.tutorialspoint.com/big_data_tutorials.htm\n",
      "https://www.tutorialspoint.com/tutorialslibrary.htm\n",
      "https://www.tutorialspoint.com/codingground.htm\n",
      "https://www.tutorialspoint.com/coding_platform_for_websites.htm\n",
      "https://www.tutorialspoint.com/developers_best_practices/index.htm\n",
      "https://www.tutorialspoint.com/effective_resume_writing.htm\n",
      "https://www.tutorialspoint.com/computer_glossary.htm\n",
      "https://www.tutorialspoint.com/computer_whoiswho.htm\n",
      "https://www.tutorialspoint.com/questions_and_answers.htm\n",
      "https://www.tutorialspoint.com/multi_language_tutorials.htm\n",
      "https://itunes.apple.com/us/app/tutorials-point/id914891263?ls=1&mt=8\n",
      "https://play.google.com/store/apps/details?id=com.tutorialspoint.onlineviewer\n",
      "http://www.windowsphone.com/s?appid=91249671-7184-4ad6-8a5f-d11847946b09\n",
      "/about/index.htm\n",
      "/about/about_team.htm\n",
      "/about/about_careers.htm\n",
      "/about/about_privacy.htm\n",
      "/about/about_cookies.htm\n",
      "/about/about_terms_of_use.htm\n",
      "https://www.tutorialspoint.com/online_dev_tools.htm\n",
      "https://www.tutorialspoint.com/free_web_graphics.htm\n",
      "https://www.tutorialspoint.com/online_file_conversion.htm\n",
      "https://www.tutorialspoint.com/netmeeting.php\n",
      "https://www.tutorialspoint.com/free_online_whiteboard.htm\n",
      "http://www.tutorialspoint.com\n",
      "https://www.facebook.com/tutorialspointindia\n",
      "https://plus.google.com/u/0/+tutorialspoint\n",
      "http://www.twitter.com/tutorialspoint\n",
      "http://www.linkedin.com/company/tutorialspoint\n",
      "https://www.youtube.com/channel/UCVLbzhxVTiTLiVKeGV7WEBg\n",
      "https://www.tutorialspoint.com/index.htm\n",
      "/about/about_privacy.htm#cookies\n",
      "/about/faq.htm\n",
      "/about/about_helping.htm\n",
      "/about/contact_us.htm\n"
     ]
    }
   ],
   "source": [
    "for link in soup.find_all('a'):\n",
    "    print(link.get('href'))"
   ]
  },
  {
   "cell_type": "raw",
   "metadata": {},
   "source": [
    "Kind of objects in the BeautifulSoup\n",
    "When we passed a html document or string to a beautifulsoup constructor, beautifulsoup basically converts a complex html page into different python objects."
   ]
  },
  {
   "cell_type": "code",
   "execution_count": 5,
   "metadata": {},
   "outputs": [],
   "source": [
    "#Tag Objects\n",
    "soup = BeautifulSoup('<b class=\"boldest\">TutorialsPoint</b>')\n",
    "tag = soup.html\n"
   ]
  },
  {
   "cell_type": "code",
   "execution_count": 7,
   "metadata": {},
   "outputs": [
    {
     "data": {
      "text/plain": [
       "bs4.element.Tag"
      ]
     },
     "execution_count": 7,
     "metadata": {},
     "output_type": "execute_result"
    }
   ],
   "source": [
    "type(tag)"
   ]
  },
  {
   "cell_type": "code",
   "execution_count": 8,
   "metadata": {},
   "outputs": [
    {
     "data": {
      "text/plain": [
       "'html'"
      ]
     },
     "execution_count": 8,
     "metadata": {},
     "output_type": "execute_result"
    }
   ],
   "source": [
    "#tag.name\n",
    "tag.name"
   ]
  },
  {
   "cell_type": "code",
   "execution_count": 9,
   "metadata": {},
   "outputs": [],
   "source": [
    "tag.name = 'Strong'"
   ]
  },
  {
   "cell_type": "code",
   "execution_count": 10,
   "metadata": {},
   "outputs": [
    {
     "data": {
      "text/plain": [
       "<Strong><body><b class=\"boldest\">TutorialsPoint</b></body></Strong>"
      ]
     },
     "execution_count": 10,
     "metadata": {},
     "output_type": "execute_result"
    }
   ],
   "source": [
    "tag"
   ]
  },
  {
   "cell_type": "code",
   "execution_count": 11,
   "metadata": {},
   "outputs": [
    {
     "data": {
      "text/plain": [
       "'Strong'"
      ]
     },
     "execution_count": 11,
     "metadata": {},
     "output_type": "execute_result"
    }
   ],
   "source": [
    "tag.name"
   ]
  },
  {
   "cell_type": "code",
   "execution_count": 17,
   "metadata": {},
   "outputs": [],
   "source": [
    "#(Attributes) (tag.attrs)\n",
    "tutorialsP = BeautifulSoup(\"<div class='tutorialsP'></div>\",'html.parser')\n",
    "tag2 = tutorialsP.div\n"
   ]
  },
  {
   "cell_type": "code",
   "execution_count": 18,
   "metadata": {},
   "outputs": [
    {
     "data": {
      "text/plain": [
       "['tutorialsP']"
      ]
     },
     "execution_count": 18,
     "metadata": {},
     "output_type": "execute_result"
    }
   ],
   "source": [
    "tag2['class']"
   ]
  },
  {
   "cell_type": "code",
   "execution_count": 19,
   "metadata": {},
   "outputs": [],
   "source": [
    "tag2['class'] = 'online-learning'\n",
    "tag2['style'] = '2007'"
   ]
  },
  {
   "cell_type": "code",
   "execution_count": 20,
   "metadata": {},
   "outputs": [
    {
     "data": {
      "text/plain": [
       "<div class=\"online-learning\" style=\"2007\"></div>"
      ]
     },
     "execution_count": 20,
     "metadata": {},
     "output_type": "execute_result"
    }
   ],
   "source": [
    "tag2"
   ]
  },
  {
   "cell_type": "code",
   "execution_count": 21,
   "metadata": {},
   "outputs": [],
   "source": [
    "del tag2['style']"
   ]
  },
  {
   "cell_type": "code",
   "execution_count": 22,
   "metadata": {},
   "outputs": [
    {
     "data": {
      "text/plain": [
       "<div class=\"online-learning\"></div>"
      ]
     },
     "execution_count": 22,
     "metadata": {},
     "output_type": "execute_result"
    }
   ],
   "source": [
    "tag2"
   ]
  },
  {
   "cell_type": "code",
   "execution_count": 24,
   "metadata": {},
   "outputs": [
    {
     "data": {
      "text/plain": [
       "'online-learning'"
      ]
     },
     "execution_count": 24,
     "metadata": {},
     "output_type": "execute_result"
    }
   ],
   "source": [
    "tag2['class']"
   ]
  },
  {
   "cell_type": "code",
   "execution_count": 25,
   "metadata": {},
   "outputs": [
    {
     "ename": "KeyError",
     "evalue": "'style'",
     "output_type": "error",
     "traceback": [
      "\u001b[0;31m---------------------------------------------------------------------------\u001b[0m",
      "\u001b[0;31mKeyError\u001b[0m                                  Traceback (most recent call last)",
      "\u001b[0;32m<ipython-input-25-50f0d7ba3bd2>\u001b[0m in \u001b[0;36m<module>\u001b[0;34m\u001b[0m\n\u001b[0;32m----> 1\u001b[0;31m \u001b[0mtag2\u001b[0m\u001b[0;34m[\u001b[0m\u001b[0;34m'style'\u001b[0m\u001b[0;34m]\u001b[0m\u001b[0;34m\u001b[0m\u001b[0;34m\u001b[0m\u001b[0m\n\u001b[0m",
      "\u001b[0;32m/opt/anaconda3/lib/python3.8/site-packages/bs4/element.py\u001b[0m in \u001b[0;36m__getitem__\u001b[0;34m(self, key)\u001b[0m\n\u001b[1;32m   1399\u001b[0m         \"\"\"tag[key] returns the value of the 'key' attribute for the Tag,\n\u001b[1;32m   1400\u001b[0m         and throws an exception if it's not there.\"\"\"\n\u001b[0;32m-> 1401\u001b[0;31m         \u001b[0;32mreturn\u001b[0m \u001b[0mself\u001b[0m\u001b[0;34m.\u001b[0m\u001b[0mattrs\u001b[0m\u001b[0;34m[\u001b[0m\u001b[0mkey\u001b[0m\u001b[0;34m]\u001b[0m\u001b[0;34m\u001b[0m\u001b[0;34m\u001b[0m\u001b[0m\n\u001b[0m\u001b[1;32m   1402\u001b[0m \u001b[0;34m\u001b[0m\u001b[0m\n\u001b[1;32m   1403\u001b[0m     \u001b[0;32mdef\u001b[0m \u001b[0m__iter__\u001b[0m\u001b[0;34m(\u001b[0m\u001b[0mself\u001b[0m\u001b[0;34m)\u001b[0m\u001b[0;34m:\u001b[0m\u001b[0;34m\u001b[0m\u001b[0;34m\u001b[0m\u001b[0m\n",
      "\u001b[0;31mKeyError\u001b[0m: 'style'"
     ]
    }
   ],
   "source": [
    "tag2['style']"
   ]
  },
  {
   "cell_type": "code",
   "execution_count": 26,
   "metadata": {},
   "outputs": [],
   "source": [
    "css_soup = BeautifulSoup('<p class=\"body\"></p>')"
   ]
  },
  {
   "cell_type": "code",
   "execution_count": 28,
   "metadata": {},
   "outputs": [],
   "source": [
    "attr = css_soup.p['class']"
   ]
  },
  {
   "cell_type": "code",
   "execution_count": 29,
   "metadata": {},
   "outputs": [
    {
     "data": {
      "text/plain": [
       "['body']"
      ]
     },
     "execution_count": 29,
     "metadata": {},
     "output_type": "execute_result"
    }
   ],
   "source": [
    "attr"
   ]
  },
  {
   "cell_type": "code",
   "execution_count": 32,
   "metadata": {},
   "outputs": [],
   "source": [
    "#Multiple attribute\n",
    "css_soup = BeautifulSoup('<p class=\"body bold\"></p>')"
   ]
  },
  {
   "cell_type": "code",
   "execution_count": 33,
   "metadata": {},
   "outputs": [
    {
     "data": {
      "text/plain": [
       "['body', 'bold']"
      ]
     },
     "execution_count": 33,
     "metadata": {},
     "output_type": "execute_result"
    }
   ],
   "source": [
    "css_soup.p['class']"
   ]
  },
  {
   "cell_type": "code",
   "execution_count": 34,
   "metadata": {},
   "outputs": [],
   "source": [
    "id_soup = BeautifulSoup('<p id=\"body bold\"></p>')"
   ]
  },
  {
   "cell_type": "code",
   "execution_count": 39,
   "metadata": {},
   "outputs": [
    {
     "data": {
      "text/plain": [
       "'body bold'"
      ]
     },
     "execution_count": 39,
     "metadata": {},
     "output_type": "execute_result"
    }
   ],
   "source": [
    "#make object and the method is the tag and because of this we can find the attribute\n",
    "id_soup.p['id']"
   ]
  },
  {
   "cell_type": "code",
   "execution_count": 36,
   "metadata": {},
   "outputs": [],
   "source": [
    "#or\n",
    "tag3 = id_soup.p"
   ]
  },
  {
   "cell_type": "code",
   "execution_count": 37,
   "metadata": {},
   "outputs": [
    {
     "data": {
      "text/plain": [
       "'body bold'"
      ]
     },
     "execution_count": 37,
     "metadata": {},
     "output_type": "execute_result"
    }
   ],
   "source": [
    "tag3['id']"
   ]
  },
  {
   "cell_type": "code",
   "execution_count": 38,
   "metadata": {},
   "outputs": [
    {
     "data": {
      "text/plain": [
       "str"
      ]
     },
     "execution_count": 38,
     "metadata": {},
     "output_type": "execute_result"
    }
   ],
   "source": [
    "type(id_soup.p['id'])"
   ]
  },
  {
   "cell_type": "code",
   "execution_count": 40,
   "metadata": {},
   "outputs": [],
   "source": [
    "rel_soup = BeautifulSoup(\"<p> tutorialspoint Main <a rel='Index'> Page</a></p>\")"
   ]
  },
  {
   "cell_type": "code",
   "execution_count": 44,
   "metadata": {},
   "outputs": [
    {
     "data": {
      "text/plain": [
       "<p> tutorialspoint Main <a rel=\"Index\"> Page</a></p>"
      ]
     },
     "execution_count": 44,
     "metadata": {},
     "output_type": "execute_result"
    }
   ],
   "source": [
    "#To determine the value inside the tag\n",
    "rel_soup.p"
   ]
  },
  {
   "cell_type": "code",
   "execution_count": 45,
   "metadata": {},
   "outputs": [
    {
     "name": "stdout",
     "output_type": "stream",
     "text": [
      "<p> tutorialspoint Main <a rel=\"Index\"> Page</a></p>\n"
     ]
    }
   ],
   "source": [
    "print(rel_soup.p)"
   ]
  },
  {
   "cell_type": "code",
   "execution_count": 46,
   "metadata": {},
   "outputs": [
    {
     "data": {
      "text/plain": [
       "bs4.element.Tag"
      ]
     },
     "execution_count": 46,
     "metadata": {},
     "output_type": "execute_result"
    }
   ],
   "source": [
    "type(rel_soup.p)"
   ]
  },
  {
   "cell_type": "code",
   "execution_count": 49,
   "metadata": {},
   "outputs": [
    {
     "data": {
      "text/plain": [
       "['Index']"
      ]
     },
     "execution_count": 49,
     "metadata": {},
     "output_type": "execute_result"
    }
   ],
   "source": [
    "#Find the value of the attribute rel inside the tag a by making the object rel_soup\n",
    "rel_soup.a['rel']"
   ]
  },
  {
   "cell_type": "code",
   "execution_count": 50,
   "metadata": {},
   "outputs": [
    {
     "data": {
      "text/plain": [
       "<a rel=\"Index\"> Page</a>"
      ]
     },
     "execution_count": 50,
     "metadata": {},
     "output_type": "execute_result"
    }
   ],
   "source": [
    "rel_soup.a"
   ]
  },
  {
   "cell_type": "raw",
   "metadata": {},
   "source": [
    "By using ‘get_attribute_list’, you get a value that is always a list, string, irrespective of whether it is a multi-valued or not."
   ]
  },
  {
   "cell_type": "code",
   "execution_count": 53,
   "metadata": {},
   "outputs": [
    {
     "data": {
      "text/plain": [
       "{'id': 'body bold'}"
      ]
     },
     "execution_count": 53,
     "metadata": {},
     "output_type": "execute_result"
    }
   ],
   "source": [
    "#using attrs we can make the dictionary of all the attributes\n",
    "id_soup.p.attrs"
   ]
  },
  {
   "cell_type": "code",
   "execution_count": 56,
   "metadata": {},
   "outputs": [
    {
     "data": {
      "text/plain": [
       "['body bold']"
      ]
     },
     "execution_count": 56,
     "metadata": {},
     "output_type": "execute_result"
    }
   ],
   "source": [
    "id_soup.p.get_attribute_list('id')"
   ]
  },
  {
   "cell_type": "code",
   "execution_count": 57,
   "metadata": {},
   "outputs": [],
   "source": [
    "xml_soup = BeautifulSoup('<p class=\"body bold\"></p>', 'xml')"
   ]
  },
  {
   "cell_type": "code",
   "execution_count": 58,
   "metadata": {},
   "outputs": [
    {
     "data": {
      "text/plain": [
       "'body bold'"
      ]
     },
     "execution_count": 58,
     "metadata": {},
     "output_type": "execute_result"
    }
   ],
   "source": [
    "xml_soup.p['class']"
   ]
  },
  {
   "cell_type": "raw",
   "metadata": {},
   "source": [
    "NavigableString\n",
    "The navigablestring object is used to represent the contents of a tag. To access the contents, use “.string” with tag.\n",
    "\n",
    "object.tag(then all things)\n",
    "object.tag['tag_name']\n",
    "object.tag.method"
   ]
  },
  {
   "cell_type": "code",
   "execution_count": 59,
   "metadata": {},
   "outputs": [],
   "source": [
    "soup = BeautifulSoup(\"<h2 id='message'>Hello, Tutorialspoint!</h2>\")"
   ]
  },
  {
   "cell_type": "code",
   "execution_count": 61,
   "metadata": {},
   "outputs": [
    {
     "data": {
      "text/plain": [
       "'Hello, Tutorialspoint!'"
      ]
     },
     "execution_count": 61,
     "metadata": {},
     "output_type": "execute_result"
    }
   ],
   "source": [
    "soup.h2.string"
   ]
  },
  {
   "cell_type": "code",
   "execution_count": 62,
   "metadata": {},
   "outputs": [
    {
     "data": {
      "text/plain": [
       "bs4.element.NavigableString"
      ]
     },
     "execution_count": 62,
     "metadata": {},
     "output_type": "execute_result"
    }
   ],
   "source": [
    "type(soup.string)"
   ]
  },
  {
   "cell_type": "code",
   "execution_count": 63,
   "metadata": {},
   "outputs": [],
   "source": [
    "#You can replace the string with another string but you can’t edit the existing string.\n",
    "soup = BeautifulSoup(\"<h2 id='message'>Hello, Tutorialspoint!</h2>\")"
   ]
  },
  {
   "cell_type": "code",
   "execution_count": 64,
   "metadata": {},
   "outputs": [
    {
     "data": {
      "text/plain": [
       "'Hello, Tutorialspoint!'"
      ]
     },
     "execution_count": 64,
     "metadata": {},
     "output_type": "execute_result"
    }
   ],
   "source": [
    "soup.h2.string.replace_with('Online Learning')"
   ]
  },
  {
   "cell_type": "code",
   "execution_count": 65,
   "metadata": {},
   "outputs": [
    {
     "data": {
      "text/plain": [
       "'Online Learning'"
      ]
     },
     "execution_count": 65,
     "metadata": {},
     "output_type": "execute_result"
    }
   ],
   "source": [
    "soup.h2.string"
   ]
  },
  {
   "cell_type": "code",
   "execution_count": 66,
   "metadata": {},
   "outputs": [
    {
     "data": {
      "text/plain": [
       "<h2 id=\"message\">Online Learning</h2>"
      ]
     },
     "execution_count": 66,
     "metadata": {},
     "output_type": "execute_result"
    }
   ],
   "source": [
    "soup.h2"
   ]
  },
  {
   "cell_type": "code",
   "execution_count": 67,
   "metadata": {},
   "outputs": [
    {
     "data": {
      "text/plain": [
       "<html><body><h2 id=\"message\">Online Learning</h2></body></html>"
      ]
     },
     "execution_count": 67,
     "metadata": {},
     "output_type": "execute_result"
    }
   ],
   "source": [
    "soup"
   ]
  },
  {
   "cell_type": "raw",
   "metadata": {},
   "source": [
    "BeautifulSoup is the object created when we try to scrape a web resource. So, it is the complete document which we are trying to scrape. Most of the time, it is treated tag object."
   ]
  },
  {
   "cell_type": "code",
   "execution_count": 68,
   "metadata": {},
   "outputs": [],
   "source": [
    "soup = BeautifulSoup(\"<h2 id='message'>Hello, Tutorialspoint!</h2>\")"
   ]
  },
  {
   "cell_type": "code",
   "execution_count": 69,
   "metadata": {},
   "outputs": [
    {
     "data": {
      "text/plain": [
       "bs4.BeautifulSoup"
      ]
     },
     "execution_count": 69,
     "metadata": {},
     "output_type": "execute_result"
    }
   ],
   "source": [
    "type(soup)"
   ]
  },
  {
   "cell_type": "code",
   "execution_count": 70,
   "metadata": {},
   "outputs": [
    {
     "data": {
      "text/plain": [
       "'[document]'"
      ]
     },
     "execution_count": 70,
     "metadata": {},
     "output_type": "execute_result"
    }
   ],
   "source": [
    "soup.name"
   ]
  },
  {
   "cell_type": "raw",
   "metadata": {},
   "source": [
    "Comments\n",
    "The comment object illustrates the comment part of the web document. It is just a special type of NavigableString."
   ]
  },
  {
   "cell_type": "code",
   "execution_count": 71,
   "metadata": {},
   "outputs": [],
   "source": [
    "soup = BeautifulSoup('<p><!-- Everything inside it is COMMENTS --></p>')"
   ]
  },
  {
   "cell_type": "code",
   "execution_count": 72,
   "metadata": {},
   "outputs": [],
   "source": [
    "comment = soup.p.string"
   ]
  },
  {
   "cell_type": "code",
   "execution_count": 73,
   "metadata": {},
   "outputs": [
    {
     "data": {
      "text/plain": [
       "bs4.element.Comment"
      ]
     },
     "execution_count": 73,
     "metadata": {},
     "output_type": "execute_result"
    }
   ],
   "source": [
    "type(comment)"
   ]
  },
  {
   "cell_type": "code",
   "execution_count": 74,
   "metadata": {},
   "outputs": [
    {
     "name": "stdout",
     "output_type": "stream",
     "text": [
      "<p>\n",
      " <!-- Everything inside it is COMMENTS -->\n",
      "</p>\n"
     ]
    }
   ],
   "source": [
    "print(soup.p.prettify())"
   ]
  },
  {
   "cell_type": "code",
   "execution_count": 16,
   "metadata": {},
   "outputs": [],
   "source": [
    "url = 'https://www.instagram.com/officialkanikamann/'\n",
    "\n",
    "req = requests.get(url)"
   ]
  },
  {
   "cell_type": "code",
   "execution_count": 17,
   "metadata": {},
   "outputs": [],
   "source": [
    "soup = BeautifulSoup(req.text, 'html.parser')"
   ]
  },
  {
   "cell_type": "code",
   "execution_count": 18,
   "metadata": {},
   "outputs": [
    {
     "name": "stdout",
     "output_type": "stream",
     "text": [
      "<title>\n",
      "Kanika Mann 🦋 (@officialkanikamann) on Instagram • 1,961 photos and videos\n",
      "</title>\n"
     ]
    }
   ],
   "source": [
    "print(soup.find('title'))"
   ]
  },
  {
   "cell_type": "code",
   "execution_count": 19,
   "metadata": {},
   "outputs": [
    {
     "name": "stdout",
     "output_type": "stream",
     "text": [
      "<title>\n",
      "Kanika Mann 🦋 (@officialkanikamann) on Instagram • 1,961 photos and videos\n",
      "</title>\n"
     ]
    }
   ],
   "source": [
    "for item in soup.find_all({'title'}):\n",
    "    print(item)"
   ]
  },
  {
   "cell_type": "code",
   "execution_count": 20,
   "metadata": {},
   "outputs": [
    {
     "data": {
      "text/plain": [
       "[<div id=\"react-root\">\n",
       " <span><svg height=\"50\" style=\"position:absolute;top:50%;left:50%;margin:-25px 0 0 -25px;fill:#c7c7c7\" viewbox=\"0 0 50 50\" width=\"50\"><path d=\"M25 1c-6.52 0-7.34.03-9.9.14-2.55.12-4.3.53-5.82 1.12a11.76 11.76 0 0 0-4.25 2.77 11.76 11.76 0 0 0-2.77 4.25c-.6 1.52-1 3.27-1.12 5.82C1.03 17.66 1 18.48 1 25c0 6.5.03 7.33.14 9.88.12 2.56.53 4.3 1.12 5.83a11.76 11.76 0 0 0 2.77 4.25 11.76 11.76 0 0 0 4.25 2.77c1.52.59 3.27 1 5.82 1.11 2.56.12 3.38.14 9.9.14 6.5 0 7.33-.02 9.88-.14 2.56-.12 4.3-.52 5.83-1.11a11.76 11.76 0 0 0 4.25-2.77 11.76 11.76 0 0 0 2.77-4.25c.59-1.53 1-3.27 1.11-5.83.12-2.55.14-3.37.14-9.89 0-6.51-.02-7.33-.14-9.89-.12-2.55-.52-4.3-1.11-5.82a11.76 11.76 0 0 0-2.77-4.25 11.76 11.76 0 0 0-4.25-2.77c-1.53-.6-3.27-1-5.83-1.12A170.2 170.2 0 0 0 25 1zm0 4.32c6.4 0 7.16.03 9.69.14 2.34.11 3.6.5 4.45.83 1.12.43 1.92.95 2.76 1.8a7.43 7.43 0 0 1 1.8 2.75c.32.85.72 2.12.82 4.46.12 2.53.14 3.29.14 9.7 0 6.4-.02 7.16-.14 9.69-.1 2.34-.5 3.6-.82 4.45a7.43 7.43 0 0 1-1.8 2.76 7.43 7.43 0 0 1-2.76 1.8c-.84.32-2.11.72-4.45.82-2.53.12-3.3.14-9.7.14-6.4 0-7.16-.02-9.7-.14-2.33-.1-3.6-.5-4.45-.82a7.43 7.43 0 0 1-2.76-1.8 7.43 7.43 0 0 1-1.8-2.76c-.32-.84-.71-2.11-.82-4.45a166.5 166.5 0 0 1-.14-9.7c0-6.4.03-7.16.14-9.7.11-2.33.5-3.6.83-4.45a7.43 7.43 0 0 1 1.8-2.76 7.43 7.43 0 0 1 2.75-1.8c.85-.32 2.12-.71 4.46-.82 2.53-.11 3.29-.14 9.7-.14zm0 7.35a12.32 12.32 0 1 0 0 24.64 12.32 12.32 0 0 0 0-24.64zM25 33a8 8 0 1 1 0-16 8 8 0 0 1 0 16zm15.68-20.8a2.88 2.88 0 1 0-5.76 0 2.88 2.88 0 0 0 5.76 0z\"></path></svg></span>\n",
       " </div>]"
      ]
     },
     "execution_count": 20,
     "metadata": {},
     "output_type": "execute_result"
    }
   ],
   "source": [
    "soup.find_all('div')"
   ]
  },
  {
   "cell_type": "code",
   "execution_count": 22,
   "metadata": {},
   "outputs": [],
   "source": [
    "for link in soup.find_all('a'):\n",
    "    print(link.get('href'))"
   ]
  },
  {
   "cell_type": "code",
   "execution_count": 30,
   "metadata": {},
   "outputs": [
    {
     "data": {
      "text/plain": [
       "[<div id=\"react-root\">\n",
       " <span><svg height=\"50\" style=\"position:absolute;top:50%;left:50%;margin:-25px 0 0 -25px;fill:#c7c7c7\" viewbox=\"0 0 50 50\" width=\"50\"><path d=\"M25 1c-6.52 0-7.34.03-9.9.14-2.55.12-4.3.53-5.82 1.12a11.76 11.76 0 0 0-4.25 2.77 11.76 11.76 0 0 0-2.77 4.25c-.6 1.52-1 3.27-1.12 5.82C1.03 17.66 1 18.48 1 25c0 6.5.03 7.33.14 9.88.12 2.56.53 4.3 1.12 5.83a11.76 11.76 0 0 0 2.77 4.25 11.76 11.76 0 0 0 4.25 2.77c1.52.59 3.27 1 5.82 1.11 2.56.12 3.38.14 9.9.14 6.5 0 7.33-.02 9.88-.14 2.56-.12 4.3-.52 5.83-1.11a11.76 11.76 0 0 0 4.25-2.77 11.76 11.76 0 0 0 2.77-4.25c.59-1.53 1-3.27 1.11-5.83.12-2.55.14-3.37.14-9.89 0-6.51-.02-7.33-.14-9.89-.12-2.55-.52-4.3-1.11-5.82a11.76 11.76 0 0 0-2.77-4.25 11.76 11.76 0 0 0-4.25-2.77c-1.53-.6-3.27-1-5.83-1.12A170.2 170.2 0 0 0 25 1zm0 4.32c6.4 0 7.16.03 9.69.14 2.34.11 3.6.5 4.45.83 1.12.43 1.92.95 2.76 1.8a7.43 7.43 0 0 1 1.8 2.75c.32.85.72 2.12.82 4.46.12 2.53.14 3.29.14 9.7 0 6.4-.02 7.16-.14 9.69-.1 2.34-.5 3.6-.82 4.45a7.43 7.43 0 0 1-1.8 2.76 7.43 7.43 0 0 1-2.76 1.8c-.84.32-2.11.72-4.45.82-2.53.12-3.3.14-9.7.14-6.4 0-7.16-.02-9.7-.14-2.33-.1-3.6-.5-4.45-.82a7.43 7.43 0 0 1-2.76-1.8 7.43 7.43 0 0 1-1.8-2.76c-.32-.84-.71-2.11-.82-4.45a166.5 166.5 0 0 1-.14-9.7c0-6.4.03-7.16.14-9.7.11-2.33.5-3.6.83-4.45a7.43 7.43 0 0 1 1.8-2.76 7.43 7.43 0 0 1 2.75-1.8c.85-.32 2.12-.71 4.46-.82 2.53-.11 3.29-.14 9.7-.14zm0 7.35a12.32 12.32 0 1 0 0 24.64 12.32 12.32 0 0 0 0-24.64zM25 33a8 8 0 1 1 0-16 8 8 0 0 1 0 16zm15.68-20.8a2.88 2.88 0 1 0-5.76 0 2.88 2.88 0 0 0 5.76 0z\"></path></svg></span>\n",
       " </div>]"
      ]
     },
     "execution_count": 30,
     "metadata": {},
     "output_type": "execute_result"
    }
   ],
   "source": [
    "soup.body.find_all('div')"
   ]
  },
  {
   "cell_type": "code",
   "execution_count": 32,
   "metadata": {},
   "outputs": [
    {
     "name": "stdout",
     "output_type": "stream",
     "text": [
      "None\n"
     ]
    }
   ],
   "source": [
    "for item in soup.body.find_all('div'):\n",
    "    print(item.get('title'))"
   ]
  },
  {
   "cell_type": "code",
   "execution_count": 34,
   "metadata": {},
   "outputs": [],
   "source": [
    "file = open('test.txt')\n",
    "soup = BeautifulSoup(file,'html.parser')"
   ]
  },
  {
   "cell_type": "code",
   "execution_count": 45,
   "metadata": {},
   "outputs": [],
   "source": [
    "soup.body"
   ]
  },
  {
   "cell_type": "code",
   "execution_count": null,
   "metadata": {},
   "outputs": [],
   "source": []
  }
 ],
 "metadata": {
  "kernelspec": {
   "display_name": "Python 3",
   "language": "python",
   "name": "python3"
  },
  "language_info": {
   "codemirror_mode": {
    "name": "ipython",
    "version": 3
   },
   "file_extension": ".py",
   "mimetype": "text/x-python",
   "name": "python",
   "nbconvert_exporter": "python",
   "pygments_lexer": "ipython3",
   "version": "3.8.3"
  }
 },
 "nbformat": 4,
 "nbformat_minor": 4
}
