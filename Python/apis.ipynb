{
 "cells": [
  {
   "cell_type": "code",
   "execution_count": 24,
   "id": "reasonable-match",
   "metadata": {},
   "outputs": [],
   "source": [
    "import requests\n",
    "import json"
   ]
  },
  {
   "cell_type": "code",
   "execution_count": 10,
   "id": "english-stevens",
   "metadata": {},
   "outputs": [],
   "source": [
    "res = requests.get('https://httpbin.org/get')"
   ]
  },
  {
   "cell_type": "code",
   "execution_count": 11,
   "id": "simplified-congress",
   "metadata": {
    "scrolled": true
   },
   "outputs": [
    {
     "data": {
      "text/plain": [
       "<Response [200]>"
      ]
     },
     "execution_count": 11,
     "metadata": {},
     "output_type": "execute_result"
    }
   ],
   "source": [
    "res"
   ]
  },
  {
   "cell_type": "code",
   "execution_count": 12,
   "id": "secure-cabin",
   "metadata": {},
   "outputs": [
    {
     "data": {
      "text/plain": [
       "200"
      ]
     },
     "execution_count": 12,
     "metadata": {},
     "output_type": "execute_result"
    }
   ],
   "source": [
    "res.status_code"
   ]
  },
  {
   "cell_type": "code",
   "execution_count": 13,
   "id": "golden-police",
   "metadata": {},
   "outputs": [
    {
     "data": {
      "text/plain": [
       "'{\\n  \"args\": {}, \\n  \"headers\": {\\n    \"Accept\": \"*/*\", \\n    \"Accept-Encoding\": \"gzip, deflate, compress\", \\n    \"Host\": \"httpbin.org\", \\n    \"User-Agent\": \"python-requests/2.2.0 CPython/3.8.8 Darwin/20.6.0\", \\n    \"X-Amzn-Trace-Id\": \"Root=1-612878ca-3334ce1a1bda94b6756aaa23\"\\n  }, \\n  \"origin\": \"49.36.183.239\", \\n  \"url\": \"https://httpbin.org/get\"\\n}\\n'"
      ]
     },
     "execution_count": 13,
     "metadata": {},
     "output_type": "execute_result"
    }
   ],
   "source": [
    "res.text"
   ]
  },
  {
   "cell_type": "code",
   "execution_count": 14,
   "id": "phantom-cement",
   "metadata": {},
   "outputs": [],
   "source": [
    "payload = {'key1':'value'}"
   ]
  },
  {
   "cell_type": "code",
   "execution_count": 15,
   "id": "cloudy-belief",
   "metadata": {},
   "outputs": [],
   "source": [
    "res = requests.get('https://httpbin.org/get', params=payload)"
   ]
  },
  {
   "cell_type": "code",
   "execution_count": 16,
   "id": "wound-fleece",
   "metadata": {},
   "outputs": [
    {
     "data": {
      "text/plain": [
       "'{\\n  \"args\": {\\n    \"key1\": \"value\"\\n  }, \\n  \"headers\": {\\n    \"Accept\": \"*/*\", \\n    \"Accept-Encoding\": \"gzip, deflate, compress\", \\n    \"Host\": \"httpbin.org\", \\n    \"User-Agent\": \"python-requests/2.2.0 CPython/3.8.8 Darwin/20.6.0\", \\n    \"X-Amzn-Trace-Id\": \"Root=1-61287942-0453940b187f5bb70a6ccaa0\"\\n  }, \\n  \"origin\": \"49.36.183.239\", \\n  \"url\": \"https://httpbin.org/get?key1=value\"\\n}\\n'"
      ]
     },
     "execution_count": 16,
     "metadata": {},
     "output_type": "execute_result"
    }
   ],
   "source": [
    "res.text"
   ]
  },
  {
   "cell_type": "code",
   "execution_count": 17,
   "id": "super-catalyst",
   "metadata": {},
   "outputs": [
    {
     "data": {
      "text/plain": [
       "'https://httpbin.org/get?key1=value'"
      ]
     },
     "execution_count": 17,
     "metadata": {},
     "output_type": "execute_result"
    }
   ],
   "source": [
    "res.url"
   ]
  },
  {
   "cell_type": "code",
   "execution_count": 18,
   "id": "prime-balance",
   "metadata": {},
   "outputs": [],
   "source": [
    "res = requests.get('https://httpbin.org/get', data=payload)"
   ]
  },
  {
   "cell_type": "code",
   "execution_count": 21,
   "id": "decreased-evanescence",
   "metadata": {},
   "outputs": [
    {
     "data": {
      "text/plain": [
       "'{\\n  \"args\": {}, \\n  \"headers\": {\\n    \"Accept\": \"*/*\", \\n    \"Accept-Encoding\": \"gzip, deflate, compress\", \\n    \"Content-Length\": \"10\", \\n    \"Content-Type\": \"application/x-www-form-urlencoded\", \\n    \"Host\": \"httpbin.org\", \\n    \"User-Agent\": \"python-requests/2.2.0 CPython/3.8.8 Darwin/20.6.0\", \\n    \"X-Amzn-Trace-Id\": \"Root=1-61287ea5-0b2d8c5d48cdb4b60d628f49\"\\n  }, \\n  \"origin\": \"49.36.183.239\", \\n  \"url\": \"https://httpbin.org/get\"\\n}\\n'"
      ]
     },
     "execution_count": 21,
     "metadata": {},
     "output_type": "execute_result"
    }
   ],
   "source": [
    "res.text"
   ]
  },
  {
   "cell_type": "code",
   "execution_count": 22,
   "id": "textile-south",
   "metadata": {},
   "outputs": [
    {
     "data": {
      "text/plain": [
       "str"
      ]
     },
     "execution_count": 22,
     "metadata": {},
     "output_type": "execute_result"
    }
   ],
   "source": [
    "type(res.text)"
   ]
  },
  {
   "cell_type": "code",
   "execution_count": 23,
   "id": "light-telescope",
   "metadata": {},
   "outputs": [],
   "source": [
    "s = res.text"
   ]
  },
  {
   "cell_type": "code",
   "execution_count": 27,
   "id": "strong-thought",
   "metadata": {},
   "outputs": [],
   "source": [
    "# to convert in json \n",
    "js = json.loads(s)"
   ]
  },
  {
   "cell_type": "code",
   "execution_count": 28,
   "id": "minute-hypothesis",
   "metadata": {},
   "outputs": [
    {
     "data": {
      "text/plain": [
       "{'args': {},\n",
       " 'headers': {'Accept': '*/*',\n",
       "  'Accept-Encoding': 'gzip, deflate, compress',\n",
       "  'Content-Length': '10',\n",
       "  'Content-Type': 'application/x-www-form-urlencoded',\n",
       "  'Host': 'httpbin.org',\n",
       "  'User-Agent': 'python-requests/2.2.0 CPython/3.8.8 Darwin/20.6.0',\n",
       "  'X-Amzn-Trace-Id': 'Root=1-61287ea5-0b2d8c5d48cdb4b60d628f49'},\n",
       " 'origin': '49.36.183.239',\n",
       " 'url': 'https://httpbin.org/get'}"
      ]
     },
     "execution_count": 28,
     "metadata": {},
     "output_type": "execute_result"
    }
   ],
   "source": [
    "js"
   ]
  },
  {
   "cell_type": "code",
   "execution_count": 29,
   "id": "polished-report",
   "metadata": {},
   "outputs": [
    {
     "name": "stdout",
     "output_type": "stream",
     "text": [
      "{'args': {}, 'headers': {'Accept': '*/*', 'Accept-Encoding': 'gzip, deflate, compress', 'Content-Length': '10', 'Content-Type': 'application/x-www-form-urlencoded', 'Host': 'httpbin.org', 'User-Agent': 'python-requests/2.2.0 CPython/3.8.8 Darwin/20.6.0', 'X-Amzn-Trace-Id': 'Root=1-61287ea5-0b2d8c5d48cdb4b60d628f49'}, 'origin': '49.36.183.239', 'url': 'https://httpbin.org/get'}\n"
     ]
    }
   ],
   "source": [
    "print(js)"
   ]
  },
  {
   "cell_type": "code",
   "execution_count": 32,
   "id": "stupid-market",
   "metadata": {},
   "outputs": [
    {
     "data": {
      "text/plain": [
       "dict"
      ]
     },
     "execution_count": 32,
     "metadata": {},
     "output_type": "execute_result"
    }
   ],
   "source": [
    "type(js)"
   ]
  },
  {
   "cell_type": "code",
   "execution_count": 33,
   "id": "substantial-philippines",
   "metadata": {},
   "outputs": [
    {
     "data": {
      "text/plain": [
       "'https://httpbin.org/get'"
      ]
     },
     "execution_count": 33,
     "metadata": {},
     "output_type": "execute_result"
    }
   ],
   "source": [
    "js['url']"
   ]
  },
  {
   "cell_type": "code",
   "execution_count": 38,
   "id": "cross-cooking",
   "metadata": {},
   "outputs": [
    {
     "data": {
      "text/plain": [
       "dict_items([('args', {}), ('headers', {'Accept': '*/*', 'Accept-Encoding': 'gzip, deflate, compress', 'Content-Length': '10', 'Content-Type': 'application/x-www-form-urlencoded', 'Host': 'httpbin.org', 'User-Agent': 'python-requests/2.2.0 CPython/3.8.8 Darwin/20.6.0', 'X-Amzn-Trace-Id': 'Root=1-61287ea5-0b2d8c5d48cdb4b60d628f49'}), ('origin', '49.36.183.239'), ('url', 'https://httpbin.org/get')])"
      ]
     },
     "execution_count": 38,
     "metadata": {},
     "output_type": "execute_result"
    }
   ],
   "source": [
    "js.items()"
   ]
  },
  {
   "cell_type": "code",
   "execution_count": 39,
   "id": "artistic-conflict",
   "metadata": {},
   "outputs": [
    {
     "data": {
      "text/plain": [
       "dict_values([{}, {'Accept': '*/*', 'Accept-Encoding': 'gzip, deflate, compress', 'Content-Length': '10', 'Content-Type': 'application/x-www-form-urlencoded', 'Host': 'httpbin.org', 'User-Agent': 'python-requests/2.2.0 CPython/3.8.8 Darwin/20.6.0', 'X-Amzn-Trace-Id': 'Root=1-61287ea5-0b2d8c5d48cdb4b60d628f49'}, '49.36.183.239', 'https://httpbin.org/get'])"
      ]
     },
     "execution_count": 39,
     "metadata": {},
     "output_type": "execute_result"
    }
   ],
   "source": [
    "js.values()"
   ]
  },
  {
   "cell_type": "code",
   "execution_count": 40,
   "id": "strategic-encoding",
   "metadata": {},
   "outputs": [
    {
     "data": {
      "text/plain": [
       "dict_keys(['args', 'headers', 'origin', 'url'])"
      ]
     },
     "execution_count": 40,
     "metadata": {},
     "output_type": "execute_result"
    }
   ],
   "source": [
    "js.keys()"
   ]
  },
  {
   "cell_type": "code",
   "execution_count": 41,
   "id": "productive-failing",
   "metadata": {},
   "outputs": [
    {
     "data": {
      "text/plain": [
       "{'Accept': '*/*',\n",
       " 'Accept-Encoding': 'gzip, deflate, compress',\n",
       " 'Content-Length': '10',\n",
       " 'Content-Type': 'application/x-www-form-urlencoded',\n",
       " 'Host': 'httpbin.org',\n",
       " 'User-Agent': 'python-requests/2.2.0 CPython/3.8.8 Darwin/20.6.0',\n",
       " 'X-Amzn-Trace-Id': 'Root=1-61287ea5-0b2d8c5d48cdb4b60d628f49'}"
      ]
     },
     "execution_count": 41,
     "metadata": {},
     "output_type": "execute_result"
    }
   ],
   "source": [
    "js['headers']"
   ]
  },
  {
   "cell_type": "code",
   "execution_count": 42,
   "id": "exposed-sphere",
   "metadata": {},
   "outputs": [
    {
     "data": {
      "text/plain": [
       "'httpbin.org'"
      ]
     },
     "execution_count": 42,
     "metadata": {},
     "output_type": "execute_result"
    }
   ],
   "source": [
    "js['headers']['Host']"
   ]
  },
  {
   "cell_type": "code",
   "execution_count": 47,
   "id": "korean-chrome",
   "metadata": {},
   "outputs": [],
   "source": [
    "payload = {'name': 'mayur', 'age':22}\n",
    "r = requests.post('http://localhost:8000/test', data=payload)"
   ]
  },
  {
   "cell_type": "code",
   "execution_count": 48,
   "id": "greatest-cuisine",
   "metadata": {},
   "outputs": [
    {
     "data": {
      "text/plain": [
       "'{\"name\":\"mayur\",\"age\":22}'"
      ]
     },
     "execution_count": 48,
     "metadata": {},
     "output_type": "execute_result"
    }
   ],
   "source": [
    "r.text"
   ]
  },
  {
   "cell_type": "code",
   "execution_count": 49,
   "id": "supposed-schedule",
   "metadata": {},
   "outputs": [
    {
     "data": {
      "text/plain": [
       "str"
      ]
     },
     "execution_count": 49,
     "metadata": {},
     "output_type": "execute_result"
    }
   ],
   "source": [
    "type(r.text)"
   ]
  },
  {
   "cell_type": "code",
   "execution_count": 51,
   "id": "fifth-confirmation",
   "metadata": {},
   "outputs": [],
   "source": [
    "js = json.loads(r.text)"
   ]
  },
  {
   "cell_type": "code",
   "execution_count": 52,
   "id": "operating-weapon",
   "metadata": {},
   "outputs": [
    {
     "data": {
      "text/plain": [
       "{'name': 'mayur', 'age': 22}"
      ]
     },
     "execution_count": 52,
     "metadata": {},
     "output_type": "execute_result"
    }
   ],
   "source": [
    "js"
   ]
  },
  {
   "cell_type": "code",
   "execution_count": 53,
   "id": "preliminary-abraham",
   "metadata": {},
   "outputs": [
    {
     "data": {
      "text/plain": [
       "'mayur'"
      ]
     },
     "execution_count": 53,
     "metadata": {},
     "output_type": "execute_result"
    }
   ],
   "source": [
    "js['name']"
   ]
  },
  {
   "cell_type": "code",
   "execution_count": null,
   "id": "quality-planner",
   "metadata": {},
   "outputs": [],
   "source": []
  },
  {
   "cell_type": "code",
   "execution_count": null,
   "id": "worthy-relevance",
   "metadata": {},
   "outputs": [],
   "source": []
  },
  {
   "cell_type": "code",
   "execution_count": null,
   "id": "killing-concentrate",
   "metadata": {},
   "outputs": [],
   "source": []
  },
  {
   "cell_type": "code",
   "execution_count": null,
   "id": "trained-marketing",
   "metadata": {},
   "outputs": [],
   "source": []
  },
  {
   "cell_type": "code",
   "execution_count": null,
   "id": "analyzed-charity",
   "metadata": {},
   "outputs": [],
   "source": []
  },
  {
   "cell_type": "code",
   "execution_count": null,
   "id": "photographic-jerusalem",
   "metadata": {},
   "outputs": [],
   "source": []
  },
  {
   "cell_type": "code",
   "execution_count": null,
   "id": "tired-administrator",
   "metadata": {},
   "outputs": [],
   "source": []
  },
  {
   "cell_type": "code",
   "execution_count": null,
   "id": "weekly-strike",
   "metadata": {},
   "outputs": [],
   "source": []
  },
  {
   "cell_type": "code",
   "execution_count": null,
   "id": "crazy-organizer",
   "metadata": {},
   "outputs": [],
   "source": []
  },
  {
   "cell_type": "code",
   "execution_count": null,
   "id": "combined-bread",
   "metadata": {},
   "outputs": [],
   "source": []
  },
  {
   "cell_type": "code",
   "execution_count": null,
   "id": "silver-reggae",
   "metadata": {},
   "outputs": [],
   "source": []
  },
  {
   "cell_type": "code",
   "execution_count": null,
   "id": "tribal-breach",
   "metadata": {},
   "outputs": [],
   "source": []
  }
 ],
 "metadata": {
  "kernelspec": {
   "display_name": "Python 3",
   "language": "python",
   "name": "python3"
  },
  "language_info": {
   "codemirror_mode": {
    "name": "ipython",
    "version": 3
   },
   "file_extension": ".py",
   "mimetype": "text/x-python",
   "name": "python",
   "nbconvert_exporter": "python",
   "pygments_lexer": "ipython3",
   "version": "3.8.8"
  }
 },
 "nbformat": 4,
 "nbformat_minor": 5
}
