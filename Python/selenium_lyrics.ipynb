{
 "cells": [
  {
   "cell_type": "code",
   "execution_count": 1,
   "id": "finnish-hanging",
   "metadata": {},
   "outputs": [],
   "source": [
    "from selenium import webdriver"
   ]
  },
  {
   "cell_type": "code",
   "execution_count": 2,
   "id": "unnecessary-jurisdiction",
   "metadata": {},
   "outputs": [],
   "source": [
    "driver = webdriver.Chrome()"
   ]
  },
  {
   "cell_type": "code",
   "execution_count": 3,
   "id": "approved-immune",
   "metadata": {},
   "outputs": [],
   "source": [
    "sample = driver.find_element_by_xpath('//*[@id=\"panels\"]')"
   ]
  },
  {
   "cell_type": "code",
   "execution_count": 4,
   "id": "bored-community",
   "metadata": {},
   "outputs": [
    {
     "data": {
      "text/plain": [
       "\"Transcript\\n00:00\\n[Music]\\n00:04\\na company estimators and Ithaca Danny\\n00:19\\nbut the no tikis am I gonna walk it I\\n00:22\\ncouldn't believe it anything with the\\n00:24\\nKazakh came and Dom on they don't that\\n00:27\\nhe cut a baby to you dizzy smiler\\n00:30\\ntechnology they don't you're not gonna\\n00:32\\nbe there Pakistan will I even do it I\\n00:35\\ngot to compile a honest\\n00:41\\ndoo-doo-doo-doo smiley picket myelitis\\n00:43\\nbe did I get my goodies be the puppies\\n00:46\\nmy man I even knew I could to come\\n00:48\\nfinally on Eternia now to do drives only\\n00:51\\nI don't know\\n00:55\\n[Music]\\n01:09\\n[Music]\\n01:22\\n[Music]\\n01:33\\n[Music]\\n01:42\\nyou tell me could you be bit if I did\\n01:47\\nnot going on each other these feet acute\\n01:49\\ndisease Milan ticket now my disease not\\n01:52\\ngonna be the pilot only no I'll get\\n02:00\\nunder there do these minded take it now\\n02:03\\nI just be better get my girl to be the\\n02:05\\nThomas family\\n02:07\\nI can to compile a tornado jawboning I\\n02:11\\ndon't mind I'll do it\\n02:15\\n[Music]\\n02:18\\n[Applause]\\n02:19\\n[Music]\\n02:24\\ni butchered the love is selling a\\n02:27\\ncommittee cutter Bieber Lincoln on long\\n02:31\\nlick you sandal estimator tried to keep\\n02:34\\nthe edge or Lincoln up\\n02:37\\n- Joey Tommy a committee cutter people\\n02:41\\nLincoln on vicky's under to me to try to\\n02:46\\nget to order Geordi Lincoln\\n02:50\\nand know underfoot oppose the king then\\n02:53\\none day they met no jonatha johani got a\\n02:55\\ndate acute disease minor to keep now I\\n02:59\\ndidn't you're not gonna be the bomb\\n03:01\\nIstanbul I even got to compile a\\n03:04\\nattorney and I only have two minutes\\n03:07\\nunder there do these mind I pick it now\\n03:11\\nI just beat it I keep not gonna be the\\n03:13\\nBobby's family\\n03:15\\nto compile a on Antonietta man\\nEnglish (auto-generated)\""
      ]
     },
     "execution_count": 4,
     "metadata": {},
     "output_type": "execute_result"
    }
   ],
   "source": [
    "sample.text"
   ]
  },
  {
   "cell_type": "code",
   "execution_count": 5,
   "id": "waiting-blood",
   "metadata": {},
   "outputs": [],
   "source": [
    "str_1 = sample.text"
   ]
  },
  {
   "cell_type": "code",
   "execution_count": 6,
   "id": "typical-subscriber",
   "metadata": {},
   "outputs": [
    {
     "data": {
      "text/plain": [
       "\"Transcript\\n00:00\\n[Music]\\n00:04\\na company estimators and Ithaca Danny\\n00:19\\nbut the no tikis am I gonna walk it I\\n00:22\\ncouldn't believe it anything with the\\n00:24\\nKazakh came and Dom on they don't that\\n00:27\\nhe cut a baby to you dizzy smiler\\n00:30\\ntechnology they don't you're not gonna\\n00:32\\nbe there Pakistan will I even do it I\\n00:35\\ngot to compile a honest\\n00:41\\ndoo-doo-doo-doo smiley picket myelitis\\n00:43\\nbe did I get my goodies be the puppies\\n00:46\\nmy man I even knew I could to come\\n00:48\\nfinally on Eternia now to do drives only\\n00:51\\nI don't know\\n00:55\\n[Music]\\n01:09\\n[Music]\\n01:22\\n[Music]\\n01:33\\n[Music]\\n01:42\\nyou tell me could you be bit if I did\\n01:47\\nnot going on each other these feet acute\\n01:49\\ndisease Milan ticket now my disease not\\n01:52\\ngonna be the pilot only no I'll get\\n02:00\\nunder there do these minded take it now\\n02:03\\nI just be better get my girl to be the\\n02:05\\nThomas family\\n02:07\\nI can to compile a tornado jawboning I\\n02:11\\ndon't mind I'll do it\\n02:15\\n[Music]\\n02:18\\n[Applause]\\n02:19\\n[Music]\\n02:24\\ni butchered the love is selling a\\n02:27\\ncommittee cutter Bieber Lincoln on long\\n02:31\\nlick you sandal estimator tried to keep\\n02:34\\nthe edge or Lincoln up\\n02:37\\n- Joey Tommy a committee cutter people\\n02:41\\nLincoln on vicky's under to me to try to\\n02:46\\nget to order Geordi Lincoln\\n02:50\\nand know underfoot oppose the king then\\n02:53\\none day they met no jonatha johani got a\\n02:55\\ndate acute disease minor to keep now I\\n02:59\\ndidn't you're not gonna be the bomb\\n03:01\\nIstanbul I even got to compile a\\n03:04\\nattorney and I only have two minutes\\n03:07\\nunder there do these mind I pick it now\\n03:11\\nI just beat it I keep not gonna be the\\n03:13\\nBobby's family\\n03:15\\nto compile a on Antonietta man\\nEnglish (auto-generated)\""
      ]
     },
     "execution_count": 6,
     "metadata": {},
     "output_type": "execute_result"
    }
   ],
   "source": [
    "str_1"
   ]
  },
  {
   "cell_type": "code",
   "execution_count": 8,
   "id": "tender-defensive",
   "metadata": {
    "scrolled": true
   },
   "outputs": [
    {
     "name": "stdout",
     "output_type": "stream",
     "text": [
      "Transcript\n",
      "00:00\n",
      "[Music]\n",
      "00:04\n",
      "a company estimators and Ithaca Danny\n",
      "00:19\n",
      "but the no tikis am I gonna walk it I\n",
      "00:22\n",
      "couldn't believe it anything with the\n",
      "00:24\n",
      "Kazakh came and Dom on they don't that\n",
      "00:27\n",
      "he cut a baby to you dizzy smiler\n",
      "00:30\n",
      "technology they don't you're not gonna\n",
      "00:32\n",
      "be there Pakistan will I even do it I\n",
      "00:35\n",
      "got to compile a honest\n",
      "00:41\n",
      "doo-doo-doo-doo smiley picket myelitis\n",
      "00:43\n",
      "be did I get my goodies be the puppies\n",
      "00:46\n",
      "my man I even knew I could to come\n",
      "00:48\n",
      "finally on Eternia now to do drives only\n",
      "00:51\n",
      "I don't know\n",
      "00:55\n",
      "[Music]\n",
      "01:09\n",
      "[Music]\n",
      "01:22\n",
      "[Music]\n",
      "01:33\n",
      "[Music]\n",
      "01:42\n",
      "you tell me could you be bit if I did\n",
      "01:47\n",
      "not going on each other these feet acute\n",
      "01:49\n",
      "disease Milan ticket now my disease not\n",
      "01:52\n",
      "gonna be the pilot only no I'll get\n",
      "02:00\n",
      "under there do these minded take it now\n",
      "02:03\n",
      "I just be better get my girl to be the\n",
      "02:05\n",
      "Thomas family\n",
      "02:07\n",
      "I can to compile a tornado jawboning I\n",
      "02:11\n",
      "don't mind I'll do it\n",
      "02:15\n",
      "[Music]\n",
      "02:18\n",
      "[Applause]\n",
      "02:19\n",
      "[Music]\n",
      "02:24\n",
      "i butchered the love is selling a\n",
      "02:27\n",
      "committee cutter Bieber Lincoln on long\n",
      "02:31\n",
      "lick you sandal estimator tried to keep\n",
      "02:34\n",
      "the edge or Lincoln up\n",
      "02:37\n",
      "- Joey Tommy a committee cutter people\n",
      "02:41\n",
      "Lincoln on vicky's under to me to try to\n",
      "02:46\n",
      "get to order Geordi Lincoln\n",
      "02:50\n",
      "and know underfoot oppose the king then\n",
      "02:53\n",
      "one day they met no jonatha johani got a\n",
      "02:55\n",
      "date acute disease minor to keep now I\n",
      "02:59\n",
      "didn't you're not gonna be the bomb\n",
      "03:01\n",
      "Istanbul I even got to compile a\n",
      "03:04\n",
      "attorney and I only have two minutes\n",
      "03:07\n",
      "under there do these mind I pick it now\n",
      "03:11\n",
      "I just beat it I keep not gonna be the\n",
      "03:13\n",
      "Bobby's family\n",
      "03:15\n",
      "to compile a on Antonietta man\n",
      "English (auto-generated)\n"
     ]
    }
   ],
   "source": [
    "print(str_1)"
   ]
  },
  {
   "cell_type": "code",
   "execution_count": 9,
   "id": "according-columbus",
   "metadata": {},
   "outputs": [],
   "source": [
    "lst = str_1.split('\\n')"
   ]
  },
  {
   "cell_type": "code",
   "execution_count": 10,
   "id": "communist-billy",
   "metadata": {
    "scrolled": true
   },
   "outputs": [
    {
     "data": {
      "text/plain": [
       "['Transcript',\n",
       " '00:00',\n",
       " '[Music]',\n",
       " '00:04',\n",
       " 'a company estimators and Ithaca Danny',\n",
       " '00:19',\n",
       " 'but the no tikis am I gonna walk it I',\n",
       " '00:22',\n",
       " \"couldn't believe it anything with the\",\n",
       " '00:24',\n",
       " \"Kazakh came and Dom on they don't that\",\n",
       " '00:27',\n",
       " 'he cut a baby to you dizzy smiler',\n",
       " '00:30',\n",
       " \"technology they don't you're not gonna\",\n",
       " '00:32',\n",
       " 'be there Pakistan will I even do it I',\n",
       " '00:35',\n",
       " 'got to compile a honest',\n",
       " '00:41',\n",
       " 'doo-doo-doo-doo smiley picket myelitis',\n",
       " '00:43',\n",
       " 'be did I get my goodies be the puppies',\n",
       " '00:46',\n",
       " 'my man I even knew I could to come',\n",
       " '00:48',\n",
       " 'finally on Eternia now to do drives only',\n",
       " '00:51',\n",
       " \"I don't know\",\n",
       " '00:55',\n",
       " '[Music]',\n",
       " '01:09',\n",
       " '[Music]',\n",
       " '01:22',\n",
       " '[Music]',\n",
       " '01:33',\n",
       " '[Music]',\n",
       " '01:42',\n",
       " 'you tell me could you be bit if I did',\n",
       " '01:47',\n",
       " 'not going on each other these feet acute',\n",
       " '01:49',\n",
       " 'disease Milan ticket now my disease not',\n",
       " '01:52',\n",
       " \"gonna be the pilot only no I'll get\",\n",
       " '02:00',\n",
       " 'under there do these minded take it now',\n",
       " '02:03',\n",
       " 'I just be better get my girl to be the',\n",
       " '02:05',\n",
       " 'Thomas family',\n",
       " '02:07',\n",
       " 'I can to compile a tornado jawboning I',\n",
       " '02:11',\n",
       " \"don't mind I'll do it\",\n",
       " '02:15',\n",
       " '[Music]',\n",
       " '02:18',\n",
       " '[Applause]',\n",
       " '02:19',\n",
       " '[Music]',\n",
       " '02:24',\n",
       " 'i butchered the love is selling a',\n",
       " '02:27',\n",
       " 'committee cutter Bieber Lincoln on long',\n",
       " '02:31',\n",
       " 'lick you sandal estimator tried to keep',\n",
       " '02:34',\n",
       " 'the edge or Lincoln up',\n",
       " '02:37',\n",
       " '- Joey Tommy a committee cutter people',\n",
       " '02:41',\n",
       " \"Lincoln on vicky's under to me to try to\",\n",
       " '02:46',\n",
       " 'get to order Geordi Lincoln',\n",
       " '02:50',\n",
       " 'and know underfoot oppose the king then',\n",
       " '02:53',\n",
       " 'one day they met no jonatha johani got a',\n",
       " '02:55',\n",
       " 'date acute disease minor to keep now I',\n",
       " '02:59',\n",
       " \"didn't you're not gonna be the bomb\",\n",
       " '03:01',\n",
       " 'Istanbul I even got to compile a',\n",
       " '03:04',\n",
       " 'attorney and I only have two minutes',\n",
       " '03:07',\n",
       " 'under there do these mind I pick it now',\n",
       " '03:11',\n",
       " 'I just beat it I keep not gonna be the',\n",
       " '03:13',\n",
       " \"Bobby's family\",\n",
       " '03:15',\n",
       " 'to compile a on Antonietta man',\n",
       " 'English (auto-generated)']"
      ]
     },
     "execution_count": 10,
     "metadata": {},
     "output_type": "execute_result"
    }
   ],
   "source": [
    "lst"
   ]
  },
  {
   "cell_type": "code",
   "execution_count": null,
   "id": "maritime-angel",
   "metadata": {},
   "outputs": [],
   "source": []
  },
  {
   "cell_type": "code",
   "execution_count": null,
   "id": "disabled-longer",
   "metadata": {},
   "outputs": [],
   "source": []
  },
  {
   "cell_type": "code",
   "execution_count": null,
   "id": "judicial-surgeon",
   "metadata": {},
   "outputs": [],
   "source": []
  },
  {
   "cell_type": "code",
   "execution_count": null,
   "id": "future-bangkok",
   "metadata": {},
   "outputs": [],
   "source": []
  },
  {
   "cell_type": "code",
   "execution_count": null,
   "id": "parental-syracuse",
   "metadata": {},
   "outputs": [],
   "source": []
  },
  {
   "cell_type": "code",
   "execution_count": null,
   "id": "three-chamber",
   "metadata": {},
   "outputs": [],
   "source": []
  },
  {
   "cell_type": "code",
   "execution_count": null,
   "id": "applied-dietary",
   "metadata": {},
   "outputs": [],
   "source": []
  },
  {
   "cell_type": "code",
   "execution_count": null,
   "id": "scheduled-connectivity",
   "metadata": {},
   "outputs": [],
   "source": []
  },
  {
   "cell_type": "code",
   "execution_count": null,
   "id": "irish-maldives",
   "metadata": {},
   "outputs": [],
   "source": []
  },
  {
   "cell_type": "code",
   "execution_count": null,
   "id": "stunning-stuff",
   "metadata": {},
   "outputs": [],
   "source": []
  },
  {
   "cell_type": "code",
   "execution_count": null,
   "id": "extended-ethernet",
   "metadata": {},
   "outputs": [],
   "source": []
  },
  {
   "cell_type": "code",
   "execution_count": null,
   "id": "synthetic-secretary",
   "metadata": {},
   "outputs": [],
   "source": []
  },
  {
   "cell_type": "code",
   "execution_count": null,
   "id": "laughing-forwarding",
   "metadata": {},
   "outputs": [],
   "source": []
  },
  {
   "cell_type": "code",
   "execution_count": null,
   "id": "demanding-liberty",
   "metadata": {},
   "outputs": [],
   "source": []
  },
  {
   "cell_type": "code",
   "execution_count": null,
   "id": "diverse-commons",
   "metadata": {},
   "outputs": [],
   "source": []
  },
  {
   "cell_type": "code",
   "execution_count": null,
   "id": "stretch-expert",
   "metadata": {},
   "outputs": [],
   "source": []
  },
  {
   "cell_type": "code",
   "execution_count": null,
   "id": "configured-strip",
   "metadata": {},
   "outputs": [],
   "source": []
  },
  {
   "cell_type": "code",
   "execution_count": null,
   "id": "arranged-pharmacy",
   "metadata": {},
   "outputs": [],
   "source": []
  },
  {
   "cell_type": "code",
   "execution_count": null,
   "id": "monetary-innocent",
   "metadata": {},
   "outputs": [],
   "source": []
  },
  {
   "cell_type": "code",
   "execution_count": null,
   "id": "liquid-canberra",
   "metadata": {},
   "outputs": [],
   "source": []
  },
  {
   "cell_type": "code",
   "execution_count": null,
   "id": "visible-capability",
   "metadata": {},
   "outputs": [],
   "source": []
  },
  {
   "cell_type": "code",
   "execution_count": null,
   "id": "significant-rider",
   "metadata": {},
   "outputs": [],
   "source": []
  },
  {
   "cell_type": "code",
   "execution_count": null,
   "id": "international-bowling",
   "metadata": {},
   "outputs": [],
   "source": []
  },
  {
   "cell_type": "code",
   "execution_count": null,
   "id": "adopted-eligibility",
   "metadata": {},
   "outputs": [],
   "source": []
  },
  {
   "cell_type": "code",
   "execution_count": null,
   "id": "trained-lighter",
   "metadata": {},
   "outputs": [],
   "source": []
  }
 ],
 "metadata": {
  "kernelspec": {
   "display_name": "Python 3",
   "language": "python",
   "name": "python3"
  },
  "language_info": {
   "codemirror_mode": {
    "name": "ipython",
    "version": 3
   },
   "file_extension": ".py",
   "mimetype": "text/x-python",
   "name": "python",
   "nbconvert_exporter": "python",
   "pygments_lexer": "ipython3",
   "version": "3.8.5"
  }
 },
 "nbformat": 4,
 "nbformat_minor": 5
}
