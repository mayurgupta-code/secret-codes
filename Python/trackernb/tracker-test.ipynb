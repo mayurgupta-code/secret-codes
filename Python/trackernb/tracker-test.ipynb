{
 "cells": [
  {
   "cell_type": "code",
   "execution_count": 2,
   "id": "7b60cb46",
   "metadata": {},
   "outputs": [],
   "source": [
    "from django.utils import timezone"
   ]
  },
  {
   "cell_type": "code",
   "execution_count": 5,
   "id": "dc0a74db",
   "metadata": {},
   "outputs": [
    {
     "data": {
      "text/plain": [
       "datetime.datetime(2021, 9, 19, 19, 23, 7, 466684)"
      ]
     },
     "execution_count": 5,
     "metadata": {},
     "output_type": "execute_result"
    }
   ],
   "source": [
    "timezone.datetime.now()"
   ]
  },
  {
   "cell_type": "code",
   "execution_count": 6,
   "id": "17e875c9",
   "metadata": {},
   "outputs": [],
   "source": [
    "import datetime"
   ]
  },
  {
   "cell_type": "code",
   "execution_count": 7,
   "id": "19126497",
   "metadata": {},
   "outputs": [
    {
     "data": {
      "text/plain": [
       "datetime.date(2021, 9, 19)"
      ]
     },
     "execution_count": 7,
     "metadata": {},
     "output_type": "execute_result"
    }
   ],
   "source": [
    "datetime.date(2021, 9, 19)"
   ]
  },
  {
   "cell_type": "code",
   "execution_count": 2,
   "id": "dc341bcb",
   "metadata": {},
   "outputs": [],
   "source": [
    "dict = {\"url\": \"url_name\", \"id\": \"12\", \"date\": \"22\"}"
   ]
  },
  {
   "cell_type": "code",
   "execution_count": 3,
   "id": "c957791a",
   "metadata": {},
   "outputs": [
    {
     "data": {
      "text/plain": [
       "{'url': 'url_name', 'id': '12', 'date': '22'}"
      ]
     },
     "execution_count": 3,
     "metadata": {},
     "output_type": "execute_result"
    }
   ],
   "source": [
    "dict"
   ]
  },
  {
   "cell_type": "code",
   "execution_count": 4,
   "id": "4daf08de",
   "metadata": {},
   "outputs": [
    {
     "data": {
      "text/plain": [
       "dict_keys"
      ]
     },
     "execution_count": 4,
     "metadata": {},
     "output_type": "execute_result"
    }
   ],
   "source": [
    "type(dict.keys())"
   ]
  },
  {
   "cell_type": "code",
   "execution_count": 5,
   "id": "4d704209",
   "metadata": {},
   "outputs": [
    {
     "data": {
      "text/plain": [
       "dict_items([('url', 'url_name'), ('id', '12'), ('date', '22')])"
      ]
     },
     "execution_count": 5,
     "metadata": {},
     "output_type": "execute_result"
    }
   ],
   "source": [
    "dict.items()"
   ]
  },
  {
   "cell_type": "code",
   "execution_count": 6,
   "id": "7034eea0",
   "metadata": {},
   "outputs": [
    {
     "data": {
      "text/plain": [
       "'url_name'"
      ]
     },
     "execution_count": 6,
     "metadata": {},
     "output_type": "execute_result"
    }
   ],
   "source": [
    "dict[\"url\"]"
   ]
  },
  {
   "cell_type": "code",
   "execution_count": 7,
   "id": "d8a63fe6",
   "metadata": {},
   "outputs": [
    {
     "data": {
      "text/plain": [
       "'url_name'"
      ]
     },
     "execution_count": 7,
     "metadata": {},
     "output_type": "execute_result"
    }
   ],
   "source": [
    "dict.get(\"url\")"
   ]
  },
  {
   "cell_type": "code",
   "execution_count": 8,
   "id": "b325e89b",
   "metadata": {},
   "outputs": [
    {
     "name": "stdout",
     "output_type": "stream",
     "text": [
      "yess\n"
     ]
    }
   ],
   "source": [
    "if \"url\" in dict.keys():\n",
    "    print('yess')"
   ]
  },
  {
   "cell_type": "code",
   "execution_count": 11,
   "id": "87b4155b",
   "metadata": {},
   "outputs": [
    {
     "name": "stdout",
     "output_type": "stream",
     "text": [
      "no\n"
     ]
    }
   ],
   "source": [
    "if \"data\" in dict.keys():\n",
    "    print('yess')\n",
    "else:\n",
    "    print('no')"
   ]
  },
  {
   "cell_type": "code",
   "execution_count": 23,
   "id": "abdc8011",
   "metadata": {},
   "outputs": [],
   "source": [
    "dict = {\"url\": \"url_name\", \"date\": \"22\"}"
   ]
  },
  {
   "cell_type": "raw",
   "id": "14d3398d",
   "metadata": {},
   "source": [
    "This is for the query logic as if both url and date is there then return response price of the product on that query date\n",
    "if only url is there then return response the prices with all the dates inside the database\n",
    "if only date is there then return response the whole data of that date that was inserted \n"
   ]
  },
  {
   "cell_type": "code",
   "execution_count": 26,
   "id": "fade5e20",
   "metadata": {},
   "outputs": [
    {
     "name": "stdout",
     "output_type": "stream",
     "text": [
      "1\n"
     ]
    }
   ],
   "source": [
    "if (\"url\" in dict) and (\"date\" in dict):\n",
    "    print(1)\n",
    "elif \"url\" in dict:\n",
    "    print(2)\n",
    "elif \"date\" in dict:\n",
    "    print(3)"
   ]
  },
  {
   "cell_type": "code",
   "execution_count": 27,
   "id": "eaf3b20d",
   "metadata": {},
   "outputs": [],
   "source": [
    "s = \"2021-09-21\""
   ]
  },
  {
   "cell_type": "code",
   "execution_count": 29,
   "id": "8577e2cf",
   "metadata": {},
   "outputs": [],
   "source": [
    "lst = s.split(\"-\")"
   ]
  },
  {
   "cell_type": "code",
   "execution_count": 30,
   "id": "a03ad1e5",
   "metadata": {},
   "outputs": [
    {
     "data": {
      "text/plain": [
       "['2021', '09', '21']"
      ]
     },
     "execution_count": 30,
     "metadata": {},
     "output_type": "execute_result"
    }
   ],
   "source": [
    "lst"
   ]
  },
  {
   "cell_type": "code",
   "execution_count": 31,
   "id": "a46ea1d7",
   "metadata": {},
   "outputs": [],
   "source": [
    "import datetime"
   ]
  },
  {
   "cell_type": "code",
   "execution_count": 34,
   "id": "72c7a37b",
   "metadata": {},
   "outputs": [
    {
     "data": {
      "text/plain": [
       "datetime.date(2021, 9, 21)"
      ]
     },
     "execution_count": 34,
     "metadata": {},
     "output_type": "execute_result"
    }
   ],
   "source": [
    "datetime.date(int(lst[0]), int(lst[1]), int(lst[2]))"
   ]
  },
  {
   "cell_type": "code",
   "execution_count": null,
   "id": "7ae3cfca",
   "metadata": {},
   "outputs": [],
   "source": []
  },
  {
   "cell_type": "code",
   "execution_count": null,
   "id": "ca82249f",
   "metadata": {},
   "outputs": [],
   "source": []
  },
  {
   "cell_type": "code",
   "execution_count": null,
   "id": "63ad373c",
   "metadata": {},
   "outputs": [],
   "source": []
  },
  {
   "cell_type": "code",
   "execution_count": null,
   "id": "a9663a40",
   "metadata": {},
   "outputs": [],
   "source": []
  },
  {
   "cell_type": "code",
   "execution_count": null,
   "id": "fcf5e8ea",
   "metadata": {},
   "outputs": [],
   "source": []
  },
  {
   "cell_type": "code",
   "execution_count": null,
   "id": "bb104564",
   "metadata": {},
   "outputs": [],
   "source": []
  },
  {
   "cell_type": "code",
   "execution_count": null,
   "id": "1c819229",
   "metadata": {},
   "outputs": [],
   "source": []
  },
  {
   "cell_type": "code",
   "execution_count": null,
   "id": "ee405ae0",
   "metadata": {},
   "outputs": [],
   "source": []
  },
  {
   "cell_type": "code",
   "execution_count": null,
   "id": "4e4f8d20",
   "metadata": {},
   "outputs": [],
   "source": []
  }
 ],
 "metadata": {
  "kernelspec": {
   "display_name": "Python 3 (ipykernel)",
   "language": "python",
   "name": "python3"
  },
  "language_info": {
   "codemirror_mode": {
    "name": "ipython",
    "version": 3
   },
   "file_extension": ".py",
   "mimetype": "text/x-python",
   "name": "python",
   "nbconvert_exporter": "python",
   "pygments_lexer": "ipython3",
   "version": "3.8.11"
  }
 },
 "nbformat": 4,
 "nbformat_minor": 5
}
