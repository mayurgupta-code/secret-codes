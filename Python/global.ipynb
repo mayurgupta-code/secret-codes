{
 "cells": [
  {
   "cell_type": "markdown",
   "id": "durable-albany",
   "metadata": {},
   "source": [
    "global scope and local scope"
   ]
  },
  {
   "cell_type": "code",
   "execution_count": 1,
   "id": "demanding-nomination",
   "metadata": {},
   "outputs": [],
   "source": [
    "def func1():\n",
    "    x = 20\n",
    "    def func2():\n",
    "        global x\n",
    "        x = 24\n",
    "    print(x, 'before calling func2')\n",
    "    func2()\n",
    "    print(x, 'after calling func2')"
   ]
  },
  {
   "cell_type": "code",
   "execution_count": 4,
   "id": "educated-broadcasting",
   "metadata": {},
   "outputs": [
    {
     "name": "stdout",
     "output_type": "stream",
     "text": [
      "20 before calling func2\n",
      "20 after calling func2\n"
     ]
    }
   ],
   "source": [
    "func1()\n",
    "#here global will change in the global scope \n",
    "#outside the whole functions "
   ]
  },
  {
   "cell_type": "code",
   "execution_count": 5,
   "id": "geographic-floating",
   "metadata": {},
   "outputs": [
    {
     "data": {
      "text/plain": [
       "24"
      ]
     },
     "execution_count": 5,
     "metadata": {},
     "output_type": "execute_result"
    }
   ],
   "source": [
    "x #global will change globally variable\n",
    "#and if in global scope x is not there then x is created by value 24"
   ]
  },
  {
   "cell_type": "code",
   "execution_count": 6,
   "id": "adjustable-topic",
   "metadata": {},
   "outputs": [],
   "source": [
    "import sys"
   ]
  },
  {
   "cell_type": "code",
   "execution_count": 7,
   "id": "described-resource",
   "metadata": {},
   "outputs": [
    {
     "data": {
      "text/plain": [
       "['/Users/apple/Desktop/code/Python',\n",
       " '/opt/anaconda3/lib/python38.zip',\n",
       " '/opt/anaconda3/lib/python3.8',\n",
       " '/opt/anaconda3/lib/python3.8/lib-dynload',\n",
       " '',\n",
       " '/opt/anaconda3/lib/python3.8/site-packages',\n",
       " '/opt/anaconda3/lib/python3.8/site-packages/aeosa',\n",
       " '/opt/anaconda3/lib/python3.8/site-packages/locket-0.2.1-py3.8.egg',\n",
       " '/opt/anaconda3/lib/python3.8/site-packages/IPython/extensions',\n",
       " '/Users/apple/.ipython']"
      ]
     },
     "execution_count": 7,
     "metadata": {},
     "output_type": "execute_result"
    }
   ],
   "source": [
    "sys.path"
   ]
  },
  {
   "cell_type": "code",
   "execution_count": null,
   "id": "brutal-thompson",
   "metadata": {},
   "outputs": [],
   "source": []
  },
  {
   "cell_type": "code",
   "execution_count": null,
   "id": "electoral-champion",
   "metadata": {},
   "outputs": [],
   "source": []
  },
  {
   "cell_type": "code",
   "execution_count": null,
   "id": "imperial-guitar",
   "metadata": {},
   "outputs": [],
   "source": []
  },
  {
   "cell_type": "code",
   "execution_count": null,
   "id": "fresh-marking",
   "metadata": {},
   "outputs": [],
   "source": []
  },
  {
   "cell_type": "code",
   "execution_count": null,
   "id": "regulation-performance",
   "metadata": {},
   "outputs": [],
   "source": []
  },
  {
   "cell_type": "code",
   "execution_count": null,
   "id": "western-celtic",
   "metadata": {},
   "outputs": [],
   "source": []
  },
  {
   "cell_type": "code",
   "execution_count": null,
   "id": "genuine-valve",
   "metadata": {},
   "outputs": [],
   "source": []
  }
 ],
 "metadata": {
  "kernelspec": {
   "display_name": "Python 3",
   "language": "python",
   "name": "python3"
  },
  "language_info": {
   "codemirror_mode": {
    "name": "ipython",
    "version": 3
   },
   "file_extension": ".py",
   "mimetype": "text/x-python",
   "name": "python",
   "nbconvert_exporter": "python",
   "pygments_lexer": "ipython3",
   "version": "3.8.5"
  }
 },
 "nbformat": 4,
 "nbformat_minor": 5
}
