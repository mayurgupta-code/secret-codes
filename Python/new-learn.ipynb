{
 "cells": [
  {
   "cell_type": "markdown",
   "id": "abstract-denver",
   "metadata": {},
   "source": [
    "# Decorators"
   ]
  },
  {
   "cell_type": "code",
   "execution_count": 5,
   "id": "fuzzy-orange",
   "metadata": {},
   "outputs": [],
   "source": [
    "def div(a,b):\n",
    "    return a/b"
   ]
  },
  {
   "cell_type": "code",
   "execution_count": 6,
   "id": "hazardous-printing",
   "metadata": {},
   "outputs": [
    {
     "data": {
      "text/plain": [
       "2.0"
      ]
     },
     "execution_count": 6,
     "metadata": {},
     "output_type": "execute_result"
    }
   ],
   "source": [
    "div(4,2)"
   ]
  },
  {
   "cell_type": "code",
   "execution_count": 7,
   "id": "hybrid-orleans",
   "metadata": {},
   "outputs": [
    {
     "data": {
      "text/plain": [
       "0.5"
      ]
     },
     "execution_count": 7,
     "metadata": {},
     "output_type": "execute_result"
    }
   ],
   "source": [
    "div(2,4)"
   ]
  },
  {
   "cell_type": "raw",
   "id": "industrial-consistency",
   "metadata": {},
   "source": [
    "Now we have to create a function like if we pass two variable a,b in div function then numerator should be greater than the denominator whatever we gives the value like if we give numerator lesser than denominator than values should swap\n",
    "for this let's modify the function"
   ]
  },
  {
   "cell_type": "code",
   "execution_count": 8,
   "id": "demonstrated-width",
   "metadata": {},
   "outputs": [],
   "source": [
    "def div(a,b):\n",
    "    if a < b:\n",
    "        a, b = b, a\n",
    "    return a/b    "
   ]
  },
  {
   "cell_type": "code",
   "execution_count": 9,
   "id": "direct-julian",
   "metadata": {},
   "outputs": [
    {
     "data": {
      "text/plain": [
       "2.0"
      ]
     },
     "execution_count": 9,
     "metadata": {},
     "output_type": "execute_result"
    }
   ],
   "source": [
    "div(2,4)"
   ]
  },
  {
   "cell_type": "code",
   "execution_count": 10,
   "id": "twelve-quarterly",
   "metadata": {
    "scrolled": true
   },
   "outputs": [
    {
     "data": {
      "text/plain": [
       "2.0"
      ]
     },
     "execution_count": 10,
     "metadata": {},
     "output_type": "execute_result"
    }
   ],
   "source": [
    "div(4,2)"
   ]
  },
  {
   "cell_type": "raw",
   "id": "religious-presentation",
   "metadata": {},
   "source": [
    "But what if this function we imported from the outside of this file we imported in our code as like it's a function of a python libraries class let's say\n",
    "or else it's a function that is defined in the another file for that we can't change the code of the predefined function but i want to change some functionality of it then there the concept of the decorators comes\n",
    "\n",
    "so using decorators we can add extra feature in the existing function"
   ]
  },
  {
   "cell_type": "code",
   "execution_count": 11,
   "id": "exceptional-farmer",
   "metadata": {},
   "outputs": [],
   "source": [
    "def div(a,b):\n",
    "    return a/b\n",
    "\n",
    "#here to modify the existing function div we create a smart div that takes a function as an input\n",
    "#and this function will return the inner function\n",
    "#and now the inner function is like a function that is going to modify the functionality of the div function\n",
    "#first of all a div function is input of smart_div then without touching anything inside it this goes to the\n",
    "# inner function where a,b will swaps or any other functionality modifies and then actual div function is \n",
    "# returned from here\n",
    "\n",
    "\n",
    "# this is decorator definition\n",
    "def smart_div(myfunc):\n",
    "    \n",
    "    def inner(a,b):\n",
    "        if a < b:\n",
    "            a, b = b, a\n",
    "        return myfunc(a, b)\n",
    "    return inner\n",
    "        \n",
    "        "
   ]
  },
  {
   "cell_type": "code",
   "execution_count": 13,
   "id": "excess-cloud",
   "metadata": {},
   "outputs": [
    {
     "data": {
      "text/plain": [
       "0.5"
      ]
     },
     "execution_count": 13,
     "metadata": {},
     "output_type": "execute_result"
    }
   ],
   "source": [
    "div(2, 4)\n",
    "#that's same now also because still there is no connection between the smart_div and the div"
   ]
  },
  {
   "cell_type": "code",
   "execution_count": 14,
   "id": "prime-administrator",
   "metadata": {},
   "outputs": [],
   "source": [
    "div = smart_div(div)\n",
    "#now this will modifies the existing div function"
   ]
  },
  {
   "cell_type": "code",
   "execution_count": 15,
   "id": "simple-ottawa",
   "metadata": {},
   "outputs": [
    {
     "data": {
      "text/plain": [
       "2.0"
      ]
     },
     "execution_count": 15,
     "metadata": {},
     "output_type": "execute_result"
    }
   ],
   "source": [
    "div(2, 4)"
   ]
  },
  {
   "cell_type": "code",
   "execution_count": 23,
   "id": "limiting-criterion",
   "metadata": {},
   "outputs": [],
   "source": [
    "# actual decorator syntax\n",
    "# this is the short syntax of the div = smart_div(div)\n",
    "\n",
    "# this is to apply decorator to a function\n",
    "@smart_div\n",
    "def div(a, b):\n",
    "    return a/b"
   ]
  },
  {
   "cell_type": "code",
   "execution_count": 24,
   "id": "dying-central",
   "metadata": {},
   "outputs": [
    {
     "data": {
      "text/plain": [
       "2.0"
      ]
     },
     "execution_count": 24,
     "metadata": {},
     "output_type": "execute_result"
    }
   ],
   "source": [
    "div(2,4)"
   ]
  },
  {
   "cell_type": "markdown",
   "id": "theoretical-scope",
   "metadata": {},
   "source": [
    "# OOPs"
   ]
  },
  {
   "cell_type": "raw",
   "id": "committed-pursuit",
   "metadata": {},
   "source": [
    "All things are work here as objects:\n",
    "and every objects has two things one in attribute and one is behaviour\n",
    "attribute is like my name, my roll number and behaviour is like my way of talk, walk etc.\n",
    "\n",
    "Methods: these are like the functions in the object oriented programming\n",
    "so methods are the functions that are inside a class so, whenever we're working with the classes so we won't call functions as functions we call them methods\n",
    "There is not of any single difference but there is the change in the name\n",
    "so methods are the functions inside the class\n",
    "\n",
    "Class: Design\n",
    "Object: Instance \n",
    "\n",
    "Like class is only one and from one class we can create any number of objects \n",
    "or say object is the instance of the class\n",
    "\n",
    "so to create an object we need to create a class first \n",
    "and from that one class we can create any number of the objects\n",
    "\n",
    "class is the blueprint and the object is a product from that blueprint(class) \n",
    "and from a blueprint we can create any number of the objects or products"
   ]
  },
  {
   "cell_type": "raw",
   "id": "multiple-trade",
   "metadata": {},
   "source": [
    "Inside class, there are two things:\n",
    "Attributes -> variables\n",
    "Behaviour -> Methods(functions) \n",
    "\n",
    "so methods and variables are the main building block of a class"
   ]
  },
  {
   "cell_type": "code",
   "execution_count": 26,
   "id": "general-billy",
   "metadata": {},
   "outputs": [],
   "source": [
    "# this creates class\n",
    "# so now Computer is a class and the config is the method\n",
    "class Computer:\n",
    "    \n",
    "    def config(self):\n",
    "        print('i5, 8GB, 128GB SSD')"
   ]
  },
  {
   "cell_type": "code",
   "execution_count": 28,
   "id": "oriented-riding",
   "metadata": {},
   "outputs": [],
   "source": [
    "# com1 is the object of the Computer class\n",
    "# that means there is the blueprint called Computer and now we can create any number of \n",
    "# computers from that single blueprint\n",
    "com1 = Computer()"
   ]
  },
  {
   "cell_type": "code",
   "execution_count": 31,
   "id": "selective-collection",
   "metadata": {},
   "outputs": [
    {
     "name": "stdout",
     "output_type": "stream",
     "text": [
      "<class '__main__.Computer'>\n"
     ]
    }
   ],
   "source": [
    "print(type(com1))\n",
    "# that means this com1 is an object of the Computer class"
   ]
  },
  {
   "cell_type": "code",
   "execution_count": 32,
   "id": "patient-saturday",
   "metadata": {},
   "outputs": [],
   "source": [
    "# also in python everything is the object of any class including integer float string etc\n",
    "x = 8"
   ]
  },
  {
   "cell_type": "code",
   "execution_count": 33,
   "id": "conventional-learning",
   "metadata": {},
   "outputs": [
    {
     "name": "stdout",
     "output_type": "stream",
     "text": [
      "<class 'int'>\n"
     ]
    }
   ],
   "source": [
    "print(type(x))\n",
    "# so x is the object of the class int"
   ]
  },
  {
   "cell_type": "code",
   "execution_count": 35,
   "id": "medical-august",
   "metadata": {},
   "outputs": [
    {
     "name": "stdout",
     "output_type": "stream",
     "text": [
      "<class 'str'>\n"
     ]
    }
   ],
   "source": [
    "c = 'mayur'\n",
    "print(type(c))\n",
    "# so c is the object of the class str\n",
    "# int float str are the builtin object of the class of the python"
   ]
  },
  {
   "cell_type": "code",
   "execution_count": 36,
   "id": "comfortable-syracuse",
   "metadata": {},
   "outputs": [],
   "source": [
    "com1 = Computer()"
   ]
  },
  {
   "cell_type": "code",
   "execution_count": 37,
   "id": "reduced-timothy",
   "metadata": {},
   "outputs": [
    {
     "ename": "NameError",
     "evalue": "name 'config' is not defined",
     "output_type": "error",
     "traceback": [
      "\u001b[0;31m---------------------------------------------------------------------------\u001b[0m",
      "\u001b[0;31mNameError\u001b[0m                                 Traceback (most recent call last)",
      "\u001b[0;32m<ipython-input-37-16bf9948c157>\u001b[0m in \u001b[0;36m<module>\u001b[0;34m\u001b[0m\n\u001b[1;32m      1\u001b[0m \u001b[0;31m# if i want to call the function config or better say method of the Computer class then\u001b[0m\u001b[0;34m\u001b[0m\u001b[0;34m\u001b[0m\u001b[0;34m\u001b[0m\u001b[0m\n\u001b[1;32m      2\u001b[0m \u001b[0;31m# normally calling function is like\u001b[0m\u001b[0;34m\u001b[0m\u001b[0;34m\u001b[0m\u001b[0;34m\u001b[0m\u001b[0m\n\u001b[0;32m----> 3\u001b[0;31m \u001b[0mconfig\u001b[0m\u001b[0;34m(\u001b[0m\u001b[0;34m)\u001b[0m\u001b[0;34m\u001b[0m\u001b[0;34m\u001b[0m\u001b[0m\n\u001b[0m",
      "\u001b[0;31mNameError\u001b[0m: name 'config' is not defined"
     ]
    }
   ],
   "source": [
    "# if i want to call the function config or better say method of the Computer class then\n",
    "# normally calling function is like\n",
    "config()\n",
    "# but this shows an error"
   ]
  },
  {
   "cell_type": "code",
   "execution_count": 38,
   "id": "previous-corpus",
   "metadata": {},
   "outputs": [
    {
     "ename": "TypeError",
     "evalue": "config() missing 1 required positional argument: 'self'",
     "output_type": "error",
     "traceback": [
      "\u001b[0;31m---------------------------------------------------------------------------\u001b[0m",
      "\u001b[0;31mTypeError\u001b[0m                                 Traceback (most recent call last)",
      "\u001b[0;32m<ipython-input-38-b13b5e497ced>\u001b[0m in \u001b[0;36m<module>\u001b[0;34m\u001b[0m\n\u001b[1;32m      1\u001b[0m \u001b[0;31m# so to call config function or better say the method of the class Computer\u001b[0m\u001b[0;34m\u001b[0m\u001b[0;34m\u001b[0m\u001b[0;34m\u001b[0m\u001b[0m\n\u001b[1;32m      2\u001b[0m \u001b[0;31m# first we take class then we call method of that class\u001b[0m\u001b[0;34m\u001b[0m\u001b[0;34m\u001b[0m\u001b[0;34m\u001b[0m\u001b[0m\n\u001b[0;32m----> 3\u001b[0;31m \u001b[0mComputer\u001b[0m\u001b[0;34m.\u001b[0m\u001b[0mconfig\u001b[0m\u001b[0;34m(\u001b[0m\u001b[0;34m)\u001b[0m\u001b[0;34m\u001b[0m\u001b[0;34m\u001b[0m\u001b[0m\n\u001b[0m",
      "\u001b[0;31mTypeError\u001b[0m: config() missing 1 required positional argument: 'self'"
     ]
    }
   ],
   "source": [
    "# so to call config function or better say the method of the class Computer \n",
    "# first we take class then we call method of that class\n",
    "Computer.config()\n",
    "# but now this will also raises an error because inside config function that requires an argument self\n",
    "# and now self is the object that we've created from the class \n",
    "# because most of the times the config depends on the object so this requires self"
   ]
  },
  {
   "cell_type": "code",
   "execution_count": 39,
   "id": "affected-thumb",
   "metadata": {},
   "outputs": [
    {
     "name": "stdout",
     "output_type": "stream",
     "text": [
      "i5, 8GB, 128GB SSD\n"
     ]
    }
   ],
   "source": [
    "Computer.config(com1)\n",
    "# now this will calls the function config for the object com1"
   ]
  },
  {
   "cell_type": "code",
   "execution_count": 42,
   "id": "sunrise-reggae",
   "metadata": {},
   "outputs": [
    {
     "name": "stdout",
     "output_type": "stream",
     "text": [
      "i5, 8GB, 128GB SSD\n"
     ]
    }
   ],
   "source": [
    "# the normal usual syntax to call the config method is like \n",
    "com1.config()\n",
    "\n",
    "# this does the same work but behind the scene com1 passes as self inside the config method\n",
    "# so self is the parameter that takes object "
   ]
  },
  {
   "cell_type": "raw",
   "id": "exempt-saturn",
   "metadata": {},
   "source": [
    "We've special variables that are __name__\n",
    "as also similar to that we've special methods that are __init__"
   ]
  },
  {
   "cell_type": "code",
   "execution_count": 44,
   "id": "appointed-tooth",
   "metadata": {},
   "outputs": [],
   "source": [
    "class Computer:\n",
    "    \n",
    "    def __init__(self): #special method\n",
    "        print('inside init')\n",
    "        \n",
    "    def config(self):\n",
    "        print('i5 8th gen, 8GB, 128GB SSD')\n",
    "        "
   ]
  },
  {
   "cell_type": "code",
   "execution_count": 46,
   "id": "domestic-namibia",
   "metadata": {},
   "outputs": [
    {
     "name": "stdout",
     "output_type": "stream",
     "text": [
      "inside init\n"
     ]
    }
   ],
   "source": [
    "com1 = Computer()\n",
    "# here i am not calling any method of Computer class but then also __init__ method will calls automatically\n",
    "# so this gives a special method __init__ for this whenever we create an object then __init__ runs automatically\n",
    "# there is no need to call the __init__ method this calls automatically\n",
    "# this is also called the constructor in the other programming languages"
   ]
  },
  {
   "cell_type": "code",
   "execution_count": 1,
   "id": "bizarre-michigan",
   "metadata": {},
   "outputs": [],
   "source": [
    "class Computer:\n",
    "    \n",
    "    def __init__(self, cpu, ram):\n",
    "        print('inside init')\n",
    "        self.cpu = cpu \n",
    "        self.ram = ram \n",
    "        \n",
    "    def config(self):\n",
    "        print('config is:', self.cpu, self.ram)\n",
    "\n",
    "# this will assign the value of cpu to the object (self) cpu that is \n",
    "# passed while creating object\n",
    "# this init method is taking three arguments but we're passing only two\n",
    "# that's not the case in actual we're passing three arguments one is self that is object \n",
    "# and other ones are cpu and ram\n",
    "\n",
    "\n",
    "# inside config we use self.cpu and self.ram instead of using only ram and cpu alone\n",
    "# this is how data transports inside the python class \n",
    "# intially we assign the value to self or an object inside init method then we can use that value\n",
    "# elsewhere we need during the construction of the method"
   ]
  },
  {
   "cell_type": "code",
   "execution_count": 2,
   "id": "colonial-wilson",
   "metadata": {},
   "outputs": [
    {
     "name": "stdout",
     "output_type": "stream",
     "text": [
      "inside init\n",
      "inside init\n"
     ]
    }
   ],
   "source": [
    "com1 = Computer('i5', 8)\n",
    "com2 = Computer('Ryzen 7', 16)"
   ]
  },
  {
   "cell_type": "code",
   "execution_count": 3,
   "id": "fluid-draft",
   "metadata": {},
   "outputs": [
    {
     "name": "stdout",
     "output_type": "stream",
     "text": [
      "config is: i5 8\n",
      "config is: Ryzen 7 16\n"
     ]
    }
   ],
   "source": [
    "com1.config()\n",
    "com2.config()"
   ]
  },
  {
   "cell_type": "code",
   "execution_count": 4,
   "id": "rational-mayor",
   "metadata": {},
   "outputs": [
    {
     "data": {
      "text/plain": [
       "'i5'"
      ]
     },
     "execution_count": 4,
     "metadata": {},
     "output_type": "execute_result"
    }
   ],
   "source": [
    "com1.cpu"
   ]
  },
  {
   "cell_type": "code",
   "execution_count": 6,
   "id": "surface-firmware",
   "metadata": {},
   "outputs": [
    {
     "name": "stdout",
     "output_type": "stream",
     "text": [
      "140367976995280\n"
     ]
    }
   ],
   "source": [
    "print(id(com1))"
   ]
  },
  {
   "cell_type": "raw",
   "id": "german-button",
   "metadata": {},
   "source": [
    "compare(who_is_calling, whom_to_compare)"
   ]
  },
  {
   "cell_type": "code",
   "execution_count": 17,
   "id": "powerful-bradley",
   "metadata": {},
   "outputs": [],
   "source": [
    "class Computer:\n",
    "    \n",
    "    def __init__(self):\n",
    "        self.name = \"Mayur\"\n",
    "        self.age = 20\n",
    "        \n",
    "    def update(self):\n",
    "        self.name = \"Mansi\"\n",
    "        \n",
    "    def compare(self, other):\n",
    "        if self.age == other.age:\n",
    "            return True\n",
    "        else:\n",
    "            return False\n",
    "        "
   ]
  },
  {
   "cell_type": "code",
   "execution_count": 18,
   "id": "aggressive-shoulder",
   "metadata": {},
   "outputs": [],
   "source": [
    "com1 = Computer()"
   ]
  },
  {
   "cell_type": "code",
   "execution_count": 11,
   "id": "historic-method",
   "metadata": {},
   "outputs": [
    {
     "data": {
      "text/plain": [
       "'Mayur'"
      ]
     },
     "execution_count": 11,
     "metadata": {},
     "output_type": "execute_result"
    }
   ],
   "source": [
    "com1.name\n",
    "# initially __init__ method runs automatically so, this will assign name and age to the object "
   ]
  },
  {
   "cell_type": "code",
   "execution_count": 13,
   "id": "noted-thomas",
   "metadata": {},
   "outputs": [],
   "source": [
    "com1.update()\n",
    "# now after running the update() method on the object this will changes the name attribute of the object"
   ]
  },
  {
   "cell_type": "code",
   "execution_count": 14,
   "id": "constant-wedding",
   "metadata": {},
   "outputs": [
    {
     "data": {
      "text/plain": [
       "'Mansi'"
      ]
     },
     "execution_count": 14,
     "metadata": {},
     "output_type": "execute_result"
    }
   ],
   "source": [
    "com1.name"
   ]
  },
  {
   "cell_type": "code",
   "execution_count": 15,
   "id": "regulated-version",
   "metadata": {},
   "outputs": [],
   "source": [
    "# also we can change any attribute manually\n",
    "com1.name = 'surya'"
   ]
  },
  {
   "cell_type": "code",
   "execution_count": 16,
   "id": "potential-charger",
   "metadata": {},
   "outputs": [
    {
     "data": {
      "text/plain": [
       "'surya'"
      ]
     },
     "execution_count": 16,
     "metadata": {},
     "output_type": "execute_result"
    }
   ],
   "source": [
    "com1.name"
   ]
  },
  {
   "cell_type": "code",
   "execution_count": 19,
   "id": "sixth-rough",
   "metadata": {},
   "outputs": [],
   "source": [
    "com2 = Computer()"
   ]
  },
  {
   "cell_type": "code",
   "execution_count": 20,
   "id": "certified-dress",
   "metadata": {},
   "outputs": [
    {
     "data": {
      "text/plain": [
       "True"
      ]
     },
     "execution_count": 20,
     "metadata": {},
     "output_type": "execute_result"
    }
   ],
   "source": [
    "com1.compare(com2)\n",
    "# this is to compare the two "
   ]
  },
  {
   "cell_type": "code",
   "execution_count": 21,
   "id": "offshore-dancing",
   "metadata": {},
   "outputs": [],
   "source": [
    "com2.age = 30"
   ]
  },
  {
   "cell_type": "code",
   "execution_count": 22,
   "id": "detected-klein",
   "metadata": {},
   "outputs": [
    {
     "data": {
      "text/plain": [
       "False"
      ]
     },
     "execution_count": 22,
     "metadata": {},
     "output_type": "execute_result"
    }
   ],
   "source": [
    "com1.compare(com2)"
   ]
  },
  {
   "cell_type": "raw",
   "id": "linear-compilation",
   "metadata": {},
   "source": [
    "self refers to the object that is calling the method"
   ]
  },
  {
   "cell_type": "raw",
   "id": "official-trace",
   "metadata": {},
   "source": [
    "Types of variables inside class\n",
    "There are two kinds of variables inside the class\n",
    "1. Instance Variables \n",
    "2. Class(Static) Variables\n",
    "\n",
    "These instance variables are those we put from a simple __init__ methods initially they are common but if we change the variable of an object then this will change only variable for that object only it won't affects the other variables\n",
    "But what if want a variables that if changes by one object then it changes for all the other object too"
   ]
  },
  {
   "cell_type": "code",
   "execution_count": 23,
   "id": "divine-stylus",
   "metadata": {},
   "outputs": [],
   "source": [
    "class Car:\n",
    "    \n",
    "    def __init__(self):\n",
    "        self.mil = 10\n",
    "        self.comp = \"BMW\"\n",
    "        "
   ]
  },
  {
   "cell_type": "code",
   "execution_count": 24,
   "id": "desperate-radar",
   "metadata": {},
   "outputs": [],
   "source": [
    "c1 = Car()\n",
    "c2 = Car()"
   ]
  },
  {
   "cell_type": "code",
   "execution_count": 25,
   "id": "downtown-wallace",
   "metadata": {},
   "outputs": [
    {
     "data": {
      "text/plain": [
       "10"
      ]
     },
     "execution_count": 25,
     "metadata": {},
     "output_type": "execute_result"
    }
   ],
   "source": [
    "c1.mil"
   ]
  },
  {
   "cell_type": "code",
   "execution_count": 28,
   "id": "improving-swift",
   "metadata": {},
   "outputs": [
    {
     "data": {
      "text/plain": [
       "10"
      ]
     },
     "execution_count": 28,
     "metadata": {},
     "output_type": "execute_result"
    }
   ],
   "source": [
    "c2.mil"
   ]
  },
  {
   "cell_type": "code",
   "execution_count": 32,
   "id": "peripheral-juice",
   "metadata": {},
   "outputs": [],
   "source": [
    "c2.mil = 8\n",
    "# this changes the mil variable only for the car c2, c1 mil attribute will be as previously \n",
    "# so, these are the case of the simple instance variables"
   ]
  },
  {
   "cell_type": "code",
   "execution_count": 33,
   "id": "weighted-affair",
   "metadata": {},
   "outputs": [
    {
     "data": {
      "text/plain": [
       "8"
      ]
     },
     "execution_count": 33,
     "metadata": {},
     "output_type": "execute_result"
    }
   ],
   "source": [
    "c2.mil"
   ]
  },
  {
   "cell_type": "code",
   "execution_count": 34,
   "id": "peaceful-emission",
   "metadata": {},
   "outputs": [
    {
     "data": {
      "text/plain": [
       "10"
      ]
     },
     "execution_count": 34,
     "metadata": {},
     "output_type": "execute_result"
    }
   ],
   "source": [
    "c1.mil"
   ]
  },
  {
   "cell_type": "code",
   "execution_count": 35,
   "id": "active-northeast",
   "metadata": {},
   "outputs": [],
   "source": [
    "class Car:\n",
    "    \n",
    "    wheels = 4 # class variables these are the common variables amongs all the object\n",
    "    \n",
    "    def __init__(self):\n",
    "        self.mil = 10 # these are instance variables\n",
    "        self.comp = \"BMW\"\n",
    "        "
   ]
  },
  {
   "cell_type": "code",
   "execution_count": 36,
   "id": "sunrise-thomas",
   "metadata": {},
   "outputs": [],
   "source": [
    "c1 = Car()\n",
    "c2 = Car()"
   ]
  },
  {
   "cell_type": "code",
   "execution_count": 37,
   "id": "aggregate-proceeding",
   "metadata": {},
   "outputs": [
    {
     "data": {
      "text/plain": [
       "4"
      ]
     },
     "execution_count": 37,
     "metadata": {},
     "output_type": "execute_result"
    }
   ],
   "source": [
    "c1.wheels"
   ]
  },
  {
   "cell_type": "code",
   "execution_count": 38,
   "id": "heard-weekend",
   "metadata": {},
   "outputs": [
    {
     "data": {
      "text/plain": [
       "4"
      ]
     },
     "execution_count": 38,
     "metadata": {},
     "output_type": "execute_result"
    }
   ],
   "source": [
    "c2.wheels"
   ]
  },
  {
   "cell_type": "code",
   "execution_count": 39,
   "id": "portuguese-relative",
   "metadata": {},
   "outputs": [],
   "source": [
    "c2.wheels = 5"
   ]
  },
  {
   "cell_type": "code",
   "execution_count": 40,
   "id": "awful-praise",
   "metadata": {},
   "outputs": [
    {
     "data": {
      "text/plain": [
       "4"
      ]
     },
     "execution_count": 40,
     "metadata": {},
     "output_type": "execute_result"
    }
   ],
   "source": [
    "c1.wheels"
   ]
  },
  {
   "cell_type": "code",
   "execution_count": 41,
   "id": "prepared-picture",
   "metadata": {},
   "outputs": [
    {
     "data": {
      "text/plain": [
       "5"
      ]
     },
     "execution_count": 41,
     "metadata": {},
     "output_type": "execute_result"
    }
   ],
   "source": [
    "c2.wheels"
   ]
  },
  {
   "cell_type": "code",
   "execution_count": 46,
   "id": "favorite-pendant",
   "metadata": {},
   "outputs": [],
   "source": [
    "Car.wheels = 5\n",
    "# if i change variable by accessing from class then it would change the variables to all objects now"
   ]
  },
  {
   "cell_type": "code",
   "execution_count": 47,
   "id": "demonstrated-cloud",
   "metadata": {},
   "outputs": [
    {
     "data": {
      "text/plain": [
       "5"
      ]
     },
     "execution_count": 47,
     "metadata": {},
     "output_type": "execute_result"
    }
   ],
   "source": [
    "c1.wheels"
   ]
  },
  {
   "cell_type": "code",
   "execution_count": 48,
   "id": "indonesian-welding",
   "metadata": {},
   "outputs": [
    {
     "data": {
      "text/plain": [
       "5"
      ]
     },
     "execution_count": 48,
     "metadata": {},
     "output_type": "execute_result"
    }
   ],
   "source": [
    "c2.wheels"
   ]
  },
  {
   "cell_type": "raw",
   "id": "graduate-locator",
   "metadata": {},
   "source": [
    "Types of methods in class\n",
    "1. Instance method - methods that are related to particular object only that takes object means self as an argunment\n",
    "2. Class method - method that takes class as an argument, and we can perform function on class and also this requires one decorator @classmethod\n",
    "3. Static method - method that takes nothing as an argument but that the common function inside class that won't require access of the data of any class or object(self) and this requires one decorator @staticmethod"
   ]
  },
  {
   "cell_type": "code",
   "execution_count": 77,
   "id": "fixed-interest",
   "metadata": {},
   "outputs": [],
   "source": [
    "class Student:\n",
    "    \n",
    "    school = \"codeif\" #class or static variable\n",
    "    \n",
    "    def __init__(self, m1, m2, m3):\n",
    "        self.m1 = m1 #instance variable\n",
    "        self.m2 = m2\n",
    "        self.m3 = m3\n",
    "        \n",
    "    def avg(self): #instance method\n",
    "        return (self.m1 + self.m2 + self.m3)/3\n",
    "    \n",
    "    @classmethod  \n",
    "    def getSchool(cls): #class method \n",
    "        return cls.school\n",
    "    \n",
    "    @staticmethod\n",
    "    def info():\n",
    "        print(\"This is Student class.. in python module\")\n",
    "    "
   ]
  },
  {
   "cell_type": "code",
   "execution_count": 78,
   "id": "peaceful-roads",
   "metadata": {},
   "outputs": [],
   "source": [
    "s1 = Student(20, 24, 21)\n",
    "s2 = Student(21, 28, 45)"
   ]
  },
  {
   "cell_type": "code",
   "execution_count": 79,
   "id": "expressed-accordance",
   "metadata": {},
   "outputs": [
    {
     "data": {
      "text/plain": [
       "20"
      ]
     },
     "execution_count": 79,
     "metadata": {},
     "output_type": "execute_result"
    }
   ],
   "source": [
    "s1.m1"
   ]
  },
  {
   "cell_type": "code",
   "execution_count": 80,
   "id": "bottom-currency",
   "metadata": {},
   "outputs": [
    {
     "data": {
      "text/plain": [
       "21.666666666666668"
      ]
     },
     "execution_count": 80,
     "metadata": {},
     "output_type": "execute_result"
    }
   ],
   "source": [
    "s1.avg()"
   ]
  },
  {
   "cell_type": "code",
   "execution_count": 81,
   "id": "municipal-spare",
   "metadata": {},
   "outputs": [
    {
     "data": {
      "text/plain": [
       "31.333333333333332"
      ]
     },
     "execution_count": 81,
     "metadata": {},
     "output_type": "execute_result"
    }
   ],
   "source": [
    "s2.avg()"
   ]
  },
  {
   "cell_type": "code",
   "execution_count": 82,
   "id": "interesting-bhutan",
   "metadata": {},
   "outputs": [
    {
     "data": {
      "text/plain": [
       "'codeif'"
      ]
     },
     "execution_count": 82,
     "metadata": {},
     "output_type": "execute_result"
    }
   ],
   "source": [
    "Student.getSchool()"
   ]
  },
  {
   "cell_type": "code",
   "execution_count": 83,
   "id": "dedicated-three",
   "metadata": {},
   "outputs": [
    {
     "name": "stdout",
     "output_type": "stream",
     "text": [
      "This is Student class.. in python module\n"
     ]
    }
   ],
   "source": [
    "Student.info()"
   ]
  },
  {
   "cell_type": "code",
   "execution_count": 84,
   "id": "noticed-maldives",
   "metadata": {},
   "outputs": [
    {
     "name": "stdout",
     "output_type": "stream",
     "text": [
      "This is Student class.. in python module\n"
     ]
    }
   ],
   "source": [
    "s1.info()"
   ]
  },
  {
   "cell_type": "raw",
   "id": "surprising-roads",
   "metadata": {},
   "source": [
    "Inner Class"
   ]
  },
  {
   "cell_type": "code",
   "execution_count": 107,
   "id": "powerful-swift",
   "metadata": {},
   "outputs": [],
   "source": [
    "class Student:\n",
    "    \n",
    "    #for create any object which is object of student will also becomes object of Laptop class\n",
    "    #so create that instance inside student only\n",
    "    def __init__(self, name, rollno):\n",
    "        self.name = name\n",
    "        self.rollno = rollno\n",
    "        self.lap = self.Laptop()\n",
    "        \n",
    "    def show(self):\n",
    "        print(self.name, self.rollno)\n",
    "        \n",
    "    # create class inside class\n",
    "    class Laptop:\n",
    "        def __init__(self):\n",
    "            self.brand = 'Apple'\n",
    "            self.cpu = 'i5'\n",
    "            self.ram = 8\n",
    "            \n",
    "        def show(self):\n",
    "            print(self.brand, self.cpu, self.ram)"
   ]
  },
  {
   "cell_type": "code",
   "execution_count": 98,
   "id": "distinct-lancaster",
   "metadata": {},
   "outputs": [],
   "source": [
    "s1 = Student('Mayur', 71)"
   ]
  },
  {
   "cell_type": "code",
   "execution_count": 99,
   "id": "italic-margin",
   "metadata": {},
   "outputs": [
    {
     "data": {
      "text/plain": [
       "'Mayur'"
      ]
     },
     "execution_count": 99,
     "metadata": {},
     "output_type": "execute_result"
    }
   ],
   "source": [
    "s1.name"
   ]
  },
  {
   "cell_type": "code",
   "execution_count": 100,
   "id": "nuclear-article",
   "metadata": {},
   "outputs": [
    {
     "name": "stdout",
     "output_type": "stream",
     "text": [
      "Mayur 71\n"
     ]
    }
   ],
   "source": [
    "s1.show()"
   ]
  },
  {
   "cell_type": "code",
   "execution_count": 104,
   "id": "mighty-opportunity",
   "metadata": {},
   "outputs": [
    {
     "data": {
      "text/plain": [
       "'Apple'"
      ]
     },
     "execution_count": 104,
     "metadata": {},
     "output_type": "execute_result"
    }
   ],
   "source": [
    "s1.lap.brand\n",
    "# this will gives access to the laptop class also"
   ]
  },
  {
   "cell_type": "code",
   "execution_count": 111,
   "id": "exposed-george",
   "metadata": {},
   "outputs": [],
   "source": [
    "s2 = Student.Laptop()\n",
    "# we can create instance of the inner class directly but we need to access Laptop class only by \n",
    "# Student.Laptop"
   ]
  },
  {
   "cell_type": "code",
   "execution_count": 112,
   "id": "prepared-excerpt",
   "metadata": {},
   "outputs": [
    {
     "name": "stdout",
     "output_type": "stream",
     "text": [
      "<class '__main__.Student.Laptop'>\n"
     ]
    }
   ],
   "source": [
    "print(type(s2))"
   ]
  },
  {
   "cell_type": "code",
   "execution_count": 113,
   "id": "initial-amsterdam",
   "metadata": {
    "scrolled": true
   },
   "outputs": [
    {
     "name": "stdout",
     "output_type": "stream",
     "text": [
      "Apple i5 8\n"
     ]
    }
   ],
   "source": [
    "s2.show()"
   ]
  },
  {
   "cell_type": "raw",
   "id": "least-wilson",
   "metadata": {},
   "source": [
    "Inheritance\n",
    "If we want the feature of A inside B without copy paste of the class"
   ]
  },
  {
   "cell_type": "code",
   "execution_count": 119,
   "id": "hollywood-spray",
   "metadata": {},
   "outputs": [],
   "source": [
    "class A:\n",
    "    def feature1(self):\n",
    "        print('Feature 1 working')\n",
    "        \n",
    "    def feature2(self):\n",
    "        print('Feature 2 working')   \n",
    "\n",
    "#single level inheritance        \n",
    "class B(A):\n",
    "    def feature3(self):\n",
    "        print('Feature 3 working')\n",
    "        \n",
    "    def feature4(self):\n",
    "        print('Feature 4 working')  \n",
    "       "
   ]
  },
  {
   "cell_type": "code",
   "execution_count": 116,
   "id": "decreased-fortune",
   "metadata": {},
   "outputs": [],
   "source": [
    "a1 = A()"
   ]
  },
  {
   "cell_type": "code",
   "execution_count": 118,
   "id": "aging-coalition",
   "metadata": {
    "scrolled": true
   },
   "outputs": [
    {
     "name": "stdout",
     "output_type": "stream",
     "text": [
      "Feature 1 working\n"
     ]
    }
   ],
   "source": [
    "a1.feature1()"
   ]
  },
  {
   "cell_type": "code",
   "execution_count": 120,
   "id": "educated-socket",
   "metadata": {},
   "outputs": [],
   "source": [
    "b1 = B()"
   ]
  },
  {
   "cell_type": "code",
   "execution_count": 121,
   "id": "proprietary-cricket",
   "metadata": {},
   "outputs": [
    {
     "name": "stdout",
     "output_type": "stream",
     "text": [
      "Feature 2 working\n"
     ]
    }
   ],
   "source": [
    "b1.feature2()\n",
    "# now B contains the all features of B as well the all features of the A class too\n",
    "# This is also called the inheritance \n",
    "# now A class is called Super class and "
   ]
  },
  {
   "cell_type": "code",
   "execution_count": 122,
   "id": "native-cookbook",
   "metadata": {},
   "outputs": [],
   "source": [
    "class A:\n",
    "    def feature1(self):\n",
    "        print('Feature 1 working')\n",
    "        \n",
    "    def feature2(self):\n",
    "        print('Feature 2 working')   \n",
    "\n",
    "#single level inheritance        \n",
    "class B(A):\n",
    "    def feature3(self):\n",
    "        print('Feature 3 working')\n",
    "        \n",
    "    def feature4(self):\n",
    "        print('Feature 4 working')  \n",
    "    \n",
    "# Multi inheritance   \n",
    "class C(B):\n",
    "    def feature5(self):\n",
    "        print('Feature 5 working') "
   ]
  },
  {
   "cell_type": "code",
   "execution_count": 123,
   "id": "metric-rider",
   "metadata": {},
   "outputs": [],
   "source": [
    "c1 = C()"
   ]
  },
  {
   "cell_type": "code",
   "execution_count": 125,
   "id": "neutral-amazon",
   "metadata": {},
   "outputs": [
    {
     "name": "stdout",
     "output_type": "stream",
     "text": [
      "Feature 2 working\n"
     ]
    }
   ],
   "source": [
    "c1.feature2()\n",
    "# so C inherited the both A and B classes \n",
    "# as C inherites B only but B has A, so C has both A and B"
   ]
  },
  {
   "cell_type": "code",
   "execution_count": 126,
   "id": "useful-white",
   "metadata": {},
   "outputs": [],
   "source": [
    "class A:\n",
    "    def feature1(self):\n",
    "        print('Feature 1 working')\n",
    "        \n",
    "    def feature2(self):\n",
    "        print('Feature 2 working')   \n",
    "        \n",
    "class B:\n",
    "    def feature3(self):\n",
    "        print('Feature 3 working')\n",
    "        \n",
    "    def feature4(self):\n",
    "        print('Feature 4 working')  \n",
    "    \n",
    "# Multiple inheritance   \n",
    "# this is multiple inheritance where we can have access to both A and B classes\n",
    "class C(A, B):\n",
    "    def feature5(self):\n",
    "        print('Feature 5 working') "
   ]
  },
  {
   "cell_type": "code",
   "execution_count": 127,
   "id": "competent-extension",
   "metadata": {},
   "outputs": [],
   "source": [
    "c1 = C()"
   ]
  },
  {
   "cell_type": "code",
   "execution_count": 128,
   "id": "theoretical-lesbian",
   "metadata": {
    "scrolled": false
   },
   "outputs": [
    {
     "name": "stdout",
     "output_type": "stream",
     "text": [
      "Feature 3 working\n"
     ]
    }
   ],
   "source": [
    "c1.feature3()"
   ]
  },
  {
   "cell_type": "raw",
   "id": "neural-fifteen",
   "metadata": {},
   "source": [
    "Constructor in Inheritance\n",
    "\n",
    "constructor is the __init__ special method "
   ]
  },
  {
   "cell_type": "code",
   "execution_count": 137,
   "id": "legislative-drinking",
   "metadata": {},
   "outputs": [],
   "source": [
    "class A:\n",
    "    def __init__(self):\n",
    "        print('In A init')\n",
    "    \n",
    "    def feature1(self):\n",
    "        print('Feature 1 working')\n",
    "        \n",
    "    def feature2(self):\n",
    "        print('Feature 2 working')   \n",
    "        \n",
    "class B(A):\n",
    "    def __init__(self):\n",
    "        super().__init__()\n",
    "        print('In B init')\n",
    "        \n",
    "    def feature3(self):\n",
    "        print('Feature 3 working')\n",
    "        \n",
    "    def feature4(self):\n",
    "        print('Feature 4 working')  "
   ]
  },
  {
   "cell_type": "code",
   "execution_count": 133,
   "id": "fewer-suspect",
   "metadata": {},
   "outputs": [
    {
     "name": "stdout",
     "output_type": "stream",
     "text": [
      "In A init\n"
     ]
    }
   ],
   "source": [
    "b1 = B()\n",
    "# if __init__ is not in B but only in A then A constructor or init will run"
   ]
  },
  {
   "cell_type": "code",
   "execution_count": 136,
   "id": "progressive-cabin",
   "metadata": {},
   "outputs": [
    {
     "name": "stdout",
     "output_type": "stream",
     "text": [
      "In B init\n"
     ]
    }
   ],
   "source": [
    "b1 = B()\n",
    "# if __init__ is in B also and A also then B constructor or init will run\n",
    "# because this will finds the constructor first inside B then it goes to A"
   ]
  },
  {
   "cell_type": "code",
   "execution_count": 138,
   "id": "solar-marriage",
   "metadata": {},
   "outputs": [
    {
     "name": "stdout",
     "output_type": "stream",
     "text": [
      "In A init\n",
      "In B init\n"
     ]
    }
   ],
   "source": [
    "# if we want to call the init method of both the classes then we use super method inside sub class \n",
    "# to call init method\n",
    "b1 = B()"
   ]
  },
  {
   "cell_type": "code",
   "execution_count": null,
   "id": "facial-living",
   "metadata": {},
   "outputs": [],
   "source": [
    "# method resolution order (mro) for multiple inheritance\n",
    "# in this method goes from left to right\n"
   ]
  },
  {
   "cell_type": "code",
   "execution_count": 141,
   "id": "elect-chambers",
   "metadata": {},
   "outputs": [],
   "source": [
    "class A:\n",
    "    def __init__(self):\n",
    "        print('In A init')\n",
    "    \n",
    "    def feature1(self):\n",
    "        print('Feature 1 working')\n",
    "        \n",
    "    def feature2(self):\n",
    "        print('Feature 2 working')   \n",
    "        \n",
    "class B:\n",
    "    def __init__(self):\n",
    "        print('In B init')\n",
    "        \n",
    "    def feature3(self):\n",
    "        print('Feature 3 working')\n",
    "        \n",
    "    def feature4(self):\n",
    "        print('Feature 4 working')  \n",
    "        \n",
    "        \n",
    "class C(A, B):\n",
    "    def __init__(self):\n",
    "        super().__init__()\n",
    "        print('In C init')\n",
    "        \n",
    "    def feature5(self):\n",
    "        print('Feature 5 working') "
   ]
  },
  {
   "cell_type": "code",
   "execution_count": 142,
   "id": "ordinary-conviction",
   "metadata": {
    "scrolled": true
   },
   "outputs": [
    {
     "name": "stdout",
     "output_type": "stream",
     "text": [
      "In A init\n",
      "In C init\n"
     ]
    }
   ],
   "source": [
    "c1 = C()"
   ]
  },
  {
   "cell_type": "raw",
   "id": "naughty-string",
   "metadata": {},
   "source": [
    "Polymorphism: It's a one thing with multiple forms"
   ]
  },
  {
   "cell_type": "code",
   "execution_count": 143,
   "id": "portable-lover",
   "metadata": {},
   "outputs": [],
   "source": [
    "from django.utils import timezone"
   ]
  },
  {
   "cell_type": "code",
   "execution_count": 146,
   "id": "mighty-syracuse",
   "metadata": {},
   "outputs": [
    {
     "ename": "ImproperlyConfigured",
     "evalue": "Requested setting USE_TZ, but settings are not configured. You must either define the environment variable DJANGO_SETTINGS_MODULE or call settings.configure() before accessing settings.",
     "output_type": "error",
     "traceback": [
      "\u001b[0;31m---------------------------------------------------------------------------\u001b[0m",
      "\u001b[0;31mImproperlyConfigured\u001b[0m                      Traceback (most recent call last)",
      "\u001b[0;32m<ipython-input-146-bbc8b8ee62b9>\u001b[0m in \u001b[0;36m<module>\u001b[0;34m\u001b[0m\n\u001b[0;32m----> 1\u001b[0;31m \u001b[0mtimezone\u001b[0m\u001b[0;34m.\u001b[0m\u001b[0mnow\u001b[0m\u001b[0;34m(\u001b[0m\u001b[0;34m)\u001b[0m\u001b[0;34m\u001b[0m\u001b[0;34m\u001b[0m\u001b[0m\n\u001b[0m",
      "\u001b[0;32m/opt/anaconda3/lib/python3.8/site-packages/django/utils/timezone.py\u001b[0m in \u001b[0;36mnow\u001b[0;34m()\u001b[0m\n\u001b[1;32m    195\u001b[0m     \u001b[0mReturn\u001b[0m \u001b[0man\u001b[0m \u001b[0maware\u001b[0m \u001b[0;32mor\u001b[0m \u001b[0mnaive\u001b[0m \u001b[0mdatetime\u001b[0m\u001b[0;34m.\u001b[0m\u001b[0mdatetime\u001b[0m\u001b[0;34m,\u001b[0m \u001b[0mdepending\u001b[0m \u001b[0mon\u001b[0m \u001b[0msettings\u001b[0m\u001b[0;34m.\u001b[0m\u001b[0mUSE_TZ\u001b[0m\u001b[0;34m.\u001b[0m\u001b[0;34m\u001b[0m\u001b[0;34m\u001b[0m\u001b[0m\n\u001b[1;32m    196\u001b[0m     \"\"\"\n\u001b[0;32m--> 197\u001b[0;31m     \u001b[0;32mif\u001b[0m \u001b[0msettings\u001b[0m\u001b[0;34m.\u001b[0m\u001b[0mUSE_TZ\u001b[0m\u001b[0;34m:\u001b[0m\u001b[0;34m\u001b[0m\u001b[0;34m\u001b[0m\u001b[0m\n\u001b[0m\u001b[1;32m    198\u001b[0m         \u001b[0;31m# timeit shows that datetime.now(tz=utc) is 24% slower\u001b[0m\u001b[0;34m\u001b[0m\u001b[0;34m\u001b[0m\u001b[0;34m\u001b[0m\u001b[0m\n\u001b[1;32m    199\u001b[0m         \u001b[0;32mreturn\u001b[0m \u001b[0mdatetime\u001b[0m\u001b[0;34m.\u001b[0m\u001b[0mutcnow\u001b[0m\u001b[0;34m(\u001b[0m\u001b[0;34m)\u001b[0m\u001b[0;34m.\u001b[0m\u001b[0mreplace\u001b[0m\u001b[0;34m(\u001b[0m\u001b[0mtzinfo\u001b[0m\u001b[0;34m=\u001b[0m\u001b[0mutc\u001b[0m\u001b[0;34m)\u001b[0m\u001b[0;34m\u001b[0m\u001b[0;34m\u001b[0m\u001b[0m\n",
      "\u001b[0;32m/opt/anaconda3/lib/python3.8/site-packages/django/conf/__init__.py\u001b[0m in \u001b[0;36m__getattr__\u001b[0;34m(self, name)\u001b[0m\n\u001b[1;32m     80\u001b[0m         \u001b[0;34m\"\"\"Return the value of a setting and cache it in self.__dict__.\"\"\"\u001b[0m\u001b[0;34m\u001b[0m\u001b[0;34m\u001b[0m\u001b[0m\n\u001b[1;32m     81\u001b[0m         \u001b[0;32mif\u001b[0m \u001b[0mself\u001b[0m\u001b[0;34m.\u001b[0m\u001b[0m_wrapped\u001b[0m \u001b[0;32mis\u001b[0m \u001b[0mempty\u001b[0m\u001b[0;34m:\u001b[0m\u001b[0;34m\u001b[0m\u001b[0;34m\u001b[0m\u001b[0m\n\u001b[0;32m---> 82\u001b[0;31m             \u001b[0mself\u001b[0m\u001b[0;34m.\u001b[0m\u001b[0m_setup\u001b[0m\u001b[0;34m(\u001b[0m\u001b[0mname\u001b[0m\u001b[0;34m)\u001b[0m\u001b[0;34m\u001b[0m\u001b[0;34m\u001b[0m\u001b[0m\n\u001b[0m\u001b[1;32m     83\u001b[0m         \u001b[0mval\u001b[0m \u001b[0;34m=\u001b[0m \u001b[0mgetattr\u001b[0m\u001b[0;34m(\u001b[0m\u001b[0mself\u001b[0m\u001b[0;34m.\u001b[0m\u001b[0m_wrapped\u001b[0m\u001b[0;34m,\u001b[0m \u001b[0mname\u001b[0m\u001b[0;34m)\u001b[0m\u001b[0;34m\u001b[0m\u001b[0;34m\u001b[0m\u001b[0m\n\u001b[1;32m     84\u001b[0m \u001b[0;34m\u001b[0m\u001b[0m\n",
      "\u001b[0;32m/opt/anaconda3/lib/python3.8/site-packages/django/conf/__init__.py\u001b[0m in \u001b[0;36m_setup\u001b[0;34m(self, name)\u001b[0m\n\u001b[1;32m     61\u001b[0m         \u001b[0;32mif\u001b[0m \u001b[0;32mnot\u001b[0m \u001b[0msettings_module\u001b[0m\u001b[0;34m:\u001b[0m\u001b[0;34m\u001b[0m\u001b[0;34m\u001b[0m\u001b[0m\n\u001b[1;32m     62\u001b[0m             \u001b[0mdesc\u001b[0m \u001b[0;34m=\u001b[0m \u001b[0;34m(\u001b[0m\u001b[0;34m\"setting %s\"\u001b[0m \u001b[0;34m%\u001b[0m \u001b[0mname\u001b[0m\u001b[0;34m)\u001b[0m \u001b[0;32mif\u001b[0m \u001b[0mname\u001b[0m \u001b[0;32melse\u001b[0m \u001b[0;34m\"settings\"\u001b[0m\u001b[0;34m\u001b[0m\u001b[0;34m\u001b[0m\u001b[0m\n\u001b[0;32m---> 63\u001b[0;31m             raise ImproperlyConfigured(\n\u001b[0m\u001b[1;32m     64\u001b[0m                 \u001b[0;34m\"Requested %s, but settings are not configured. \"\u001b[0m\u001b[0;34m\u001b[0m\u001b[0;34m\u001b[0m\u001b[0m\n\u001b[1;32m     65\u001b[0m                 \u001b[0;34m\"You must either define the environment variable %s \"\u001b[0m\u001b[0;34m\u001b[0m\u001b[0;34m\u001b[0m\u001b[0m\n",
      "\u001b[0;31mImproperlyConfigured\u001b[0m: Requested setting USE_TZ, but settings are not configured. You must either define the environment variable DJANGO_SETTINGS_MODULE or call settings.configure() before accessing settings."
     ]
    }
   ],
   "source": [
    "timezone.now()"
   ]
  },
  {
   "cell_type": "code",
   "execution_count": 147,
   "id": "dense-group",
   "metadata": {},
   "outputs": [],
   "source": [
    "from datetime import datetime"
   ]
  },
  {
   "cell_type": "code",
   "execution_count": 154,
   "id": "protected-hazard",
   "metadata": {},
   "outputs": [
    {
     "data": {
      "text/plain": [
       "datetime.datetime(2021, 8, 25, 20, 36, 53, 401992)"
      ]
     },
     "execution_count": 154,
     "metadata": {},
     "output_type": "execute_result"
    }
   ],
   "source": [
    "datetime.now()"
   ]
  },
  {
   "cell_type": "code",
   "execution_count": 153,
   "id": "southern-dialogue",
   "metadata": {},
   "outputs": [
    {
     "ename": "TypeError",
     "evalue": "tzinfo argument must be None or of a tzinfo subclass, not type 'int'",
     "output_type": "error",
     "traceback": [
      "\u001b[0;31m---------------------------------------------------------------------------\u001b[0m",
      "\u001b[0;31mTypeError\u001b[0m                                 Traceback (most recent call last)",
      "\u001b[0;32m<ipython-input-153-d5450273eae6>\u001b[0m in \u001b[0;36m<module>\u001b[0;34m\u001b[0m\n\u001b[0;32m----> 1\u001b[0;31m \u001b[0mdatetime\u001b[0m\u001b[0;34m.\u001b[0m\u001b[0mnow\u001b[0m\u001b[0;34m(\u001b[0m\u001b[0mtz\u001b[0m\u001b[0;34m=\u001b[0m\u001b[0;36m530\u001b[0m\u001b[0;34m)\u001b[0m\u001b[0;34m\u001b[0m\u001b[0;34m\u001b[0m\u001b[0m\n\u001b[0m",
      "\u001b[0;31mTypeError\u001b[0m: tzinfo argument must be None or of a tzinfo subclass, not type 'int'"
     ]
    }
   ],
   "source": [
    "datetime.now(tz=)"
   ]
  },
  {
   "cell_type": "code",
   "execution_count": null,
   "id": "solved-intensity",
   "metadata": {},
   "outputs": [],
   "source": []
  },
  {
   "cell_type": "code",
   "execution_count": null,
   "id": "raised-cooking",
   "metadata": {},
   "outputs": [],
   "source": []
  },
  {
   "cell_type": "code",
   "execution_count": null,
   "id": "precious-sheep",
   "metadata": {},
   "outputs": [],
   "source": []
  },
  {
   "cell_type": "code",
   "execution_count": null,
   "id": "typical-stockholm",
   "metadata": {},
   "outputs": [],
   "source": []
  },
  {
   "cell_type": "code",
   "execution_count": null,
   "id": "secret-repair",
   "metadata": {},
   "outputs": [],
   "source": []
  },
  {
   "cell_type": "code",
   "execution_count": null,
   "id": "passive-detective",
   "metadata": {},
   "outputs": [],
   "source": []
  },
  {
   "cell_type": "code",
   "execution_count": null,
   "id": "confident-bookmark",
   "metadata": {},
   "outputs": [],
   "source": []
  },
  {
   "cell_type": "code",
   "execution_count": null,
   "id": "comparative-reviewer",
   "metadata": {},
   "outputs": [],
   "source": []
  }
 ],
 "metadata": {
  "kernelspec": {
   "display_name": "Python 3",
   "language": "python",
   "name": "python3"
  },
  "language_info": {
   "codemirror_mode": {
    "name": "ipython",
    "version": 3
   },
   "file_extension": ".py",
   "mimetype": "text/x-python",
   "name": "python",
   "nbconvert_exporter": "python",
   "pygments_lexer": "ipython3",
   "version": "3.8.8"
  }
 },
 "nbformat": 4,
 "nbformat_minor": 5
}
