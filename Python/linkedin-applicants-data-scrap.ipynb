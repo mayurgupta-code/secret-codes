{
 "cells": [
  {
   "cell_type": "code",
   "execution_count": 99,
   "id": "greenhouse-conclusion",
   "metadata": {},
   "outputs": [],
   "source": [
    "from selenium import webdriver"
   ]
  },
  {
   "cell_type": "code",
   "execution_count": 100,
   "id": "commercial-sullivan",
   "metadata": {},
   "outputs": [],
   "source": [
    "driver = webdriver.Chrome()"
   ]
  },
  {
   "cell_type": "code",
   "execution_count": 3,
   "id": "featured-surrey",
   "metadata": {},
   "outputs": [],
   "source": [
    "import os"
   ]
  },
  {
   "cell_type": "code",
   "execution_count": 4,
   "id": "working-accreditation",
   "metadata": {},
   "outputs": [
    {
     "data": {
      "text/plain": [
       "'/Users/apple/Desktop/Desktop Kachra/code/Python'"
      ]
     },
     "execution_count": 4,
     "metadata": {},
     "output_type": "execute_result"
    }
   ],
   "source": [
    "os.getcwd()"
   ]
  },
  {
   "cell_type": "code",
   "execution_count": 9,
   "id": "advanced-enlargement",
   "metadata": {},
   "outputs": [
    {
     "data": {
      "text/plain": [
       "['/opt/anaconda3/bin',\n",
       " '/opt/anaconda3/condabin',\n",
       " '/usr/local/bin',\n",
       " '/usr/bin',\n",
       " '/bin',\n",
       " '/usr/sbin',\n",
       " '/sbin']"
      ]
     },
     "execution_count": 9,
     "metadata": {},
     "output_type": "execute_result"
    }
   ],
   "source": [
    "os.get_exec_path()"
   ]
  },
  {
   "cell_type": "code",
   "execution_count": 14,
   "id": "extraordinary-supervision",
   "metadata": {},
   "outputs": [
    {
     "ename": "NoSuchWindowException",
     "evalue": "Message: no such window: window was already closed\n  (Session info: chrome=91.0.4472.114)\n",
     "output_type": "error",
     "traceback": [
      "\u001b[0;31m---------------------------------------------------------------------------\u001b[0m",
      "\u001b[0;31mNoSuchWindowException\u001b[0m                     Traceback (most recent call last)",
      "\u001b[0;32m<ipython-input-14-76946712c79f>\u001b[0m in \u001b[0;36m<module>\u001b[0;34m\u001b[0m\n\u001b[0;32m----> 1\u001b[0;31m \u001b[0mbtn\u001b[0m \u001b[0;34m=\u001b[0m \u001b[0mdriver\u001b[0m\u001b[0;34m.\u001b[0m\u001b[0mfind_element_by_xpath\u001b[0m\u001b[0;34m(\u001b[0m\u001b[0;34m'//*[@id=\"ember260\"]'\u001b[0m\u001b[0;34m)\u001b[0m\u001b[0;34m\u001b[0m\u001b[0;34m\u001b[0m\u001b[0m\n\u001b[0m",
      "\u001b[0;32m/opt/anaconda3/lib/python3.8/site-packages/selenium/webdriver/remote/webdriver.py\u001b[0m in \u001b[0;36mfind_element_by_xpath\u001b[0;34m(self, xpath)\u001b[0m\n\u001b[1;32m    392\u001b[0m             \u001b[0melement\u001b[0m \u001b[0;34m=\u001b[0m \u001b[0mdriver\u001b[0m\u001b[0;34m.\u001b[0m\u001b[0mfind_element_by_xpath\u001b[0m\u001b[0;34m(\u001b[0m\u001b[0;34m'//div/td[1]'\u001b[0m\u001b[0;34m)\u001b[0m\u001b[0;34m\u001b[0m\u001b[0;34m\u001b[0m\u001b[0m\n\u001b[1;32m    393\u001b[0m         \"\"\"\n\u001b[0;32m--> 394\u001b[0;31m         \u001b[0;32mreturn\u001b[0m \u001b[0mself\u001b[0m\u001b[0;34m.\u001b[0m\u001b[0mfind_element\u001b[0m\u001b[0;34m(\u001b[0m\u001b[0mby\u001b[0m\u001b[0;34m=\u001b[0m\u001b[0mBy\u001b[0m\u001b[0;34m.\u001b[0m\u001b[0mXPATH\u001b[0m\u001b[0;34m,\u001b[0m \u001b[0mvalue\u001b[0m\u001b[0;34m=\u001b[0m\u001b[0mxpath\u001b[0m\u001b[0;34m)\u001b[0m\u001b[0;34m\u001b[0m\u001b[0;34m\u001b[0m\u001b[0m\n\u001b[0m\u001b[1;32m    395\u001b[0m \u001b[0;34m\u001b[0m\u001b[0m\n\u001b[1;32m    396\u001b[0m     \u001b[0;32mdef\u001b[0m \u001b[0mfind_elements_by_xpath\u001b[0m\u001b[0;34m(\u001b[0m\u001b[0mself\u001b[0m\u001b[0;34m,\u001b[0m \u001b[0mxpath\u001b[0m\u001b[0;34m)\u001b[0m\u001b[0;34m:\u001b[0m\u001b[0;34m\u001b[0m\u001b[0;34m\u001b[0m\u001b[0m\n",
      "\u001b[0;32m/opt/anaconda3/lib/python3.8/site-packages/selenium/webdriver/remote/webdriver.py\u001b[0m in \u001b[0;36mfind_element\u001b[0;34m(self, by, value)\u001b[0m\n\u001b[1;32m    974\u001b[0m                 \u001b[0mby\u001b[0m \u001b[0;34m=\u001b[0m \u001b[0mBy\u001b[0m\u001b[0;34m.\u001b[0m\u001b[0mCSS_SELECTOR\u001b[0m\u001b[0;34m\u001b[0m\u001b[0;34m\u001b[0m\u001b[0m\n\u001b[1;32m    975\u001b[0m                 \u001b[0mvalue\u001b[0m \u001b[0;34m=\u001b[0m \u001b[0;34m'[name=\"%s\"]'\u001b[0m \u001b[0;34m%\u001b[0m \u001b[0mvalue\u001b[0m\u001b[0;34m\u001b[0m\u001b[0;34m\u001b[0m\u001b[0m\n\u001b[0;32m--> 976\u001b[0;31m         return self.execute(Command.FIND_ELEMENT, {\n\u001b[0m\u001b[1;32m    977\u001b[0m             \u001b[0;34m'using'\u001b[0m\u001b[0;34m:\u001b[0m \u001b[0mby\u001b[0m\u001b[0;34m,\u001b[0m\u001b[0;34m\u001b[0m\u001b[0;34m\u001b[0m\u001b[0m\n\u001b[1;32m    978\u001b[0m             'value': value})['value']\n",
      "\u001b[0;32m/opt/anaconda3/lib/python3.8/site-packages/selenium/webdriver/remote/webdriver.py\u001b[0m in \u001b[0;36mexecute\u001b[0;34m(self, driver_command, params)\u001b[0m\n\u001b[1;32m    319\u001b[0m         \u001b[0mresponse\u001b[0m \u001b[0;34m=\u001b[0m \u001b[0mself\u001b[0m\u001b[0;34m.\u001b[0m\u001b[0mcommand_executor\u001b[0m\u001b[0;34m.\u001b[0m\u001b[0mexecute\u001b[0m\u001b[0;34m(\u001b[0m\u001b[0mdriver_command\u001b[0m\u001b[0;34m,\u001b[0m \u001b[0mparams\u001b[0m\u001b[0;34m)\u001b[0m\u001b[0;34m\u001b[0m\u001b[0;34m\u001b[0m\u001b[0m\n\u001b[1;32m    320\u001b[0m         \u001b[0;32mif\u001b[0m \u001b[0mresponse\u001b[0m\u001b[0;34m:\u001b[0m\u001b[0;34m\u001b[0m\u001b[0;34m\u001b[0m\u001b[0m\n\u001b[0;32m--> 321\u001b[0;31m             \u001b[0mself\u001b[0m\u001b[0;34m.\u001b[0m\u001b[0merror_handler\u001b[0m\u001b[0;34m.\u001b[0m\u001b[0mcheck_response\u001b[0m\u001b[0;34m(\u001b[0m\u001b[0mresponse\u001b[0m\u001b[0;34m)\u001b[0m\u001b[0;34m\u001b[0m\u001b[0;34m\u001b[0m\u001b[0m\n\u001b[0m\u001b[1;32m    322\u001b[0m             response['value'] = self._unwrap_value(\n\u001b[1;32m    323\u001b[0m                 response.get('value', None))\n",
      "\u001b[0;32m/opt/anaconda3/lib/python3.8/site-packages/selenium/webdriver/remote/errorhandler.py\u001b[0m in \u001b[0;36mcheck_response\u001b[0;34m(self, response)\u001b[0m\n\u001b[1;32m    240\u001b[0m                 \u001b[0malert_text\u001b[0m \u001b[0;34m=\u001b[0m \u001b[0mvalue\u001b[0m\u001b[0;34m[\u001b[0m\u001b[0;34m'alert'\u001b[0m\u001b[0;34m]\u001b[0m\u001b[0;34m.\u001b[0m\u001b[0mget\u001b[0m\u001b[0;34m(\u001b[0m\u001b[0;34m'text'\u001b[0m\u001b[0;34m)\u001b[0m\u001b[0;34m\u001b[0m\u001b[0;34m\u001b[0m\u001b[0m\n\u001b[1;32m    241\u001b[0m             \u001b[0;32mraise\u001b[0m \u001b[0mexception_class\u001b[0m\u001b[0;34m(\u001b[0m\u001b[0mmessage\u001b[0m\u001b[0;34m,\u001b[0m \u001b[0mscreen\u001b[0m\u001b[0;34m,\u001b[0m \u001b[0mstacktrace\u001b[0m\u001b[0;34m,\u001b[0m \u001b[0malert_text\u001b[0m\u001b[0;34m)\u001b[0m\u001b[0;34m\u001b[0m\u001b[0;34m\u001b[0m\u001b[0m\n\u001b[0;32m--> 242\u001b[0;31m         \u001b[0;32mraise\u001b[0m \u001b[0mexception_class\u001b[0m\u001b[0;34m(\u001b[0m\u001b[0mmessage\u001b[0m\u001b[0;34m,\u001b[0m \u001b[0mscreen\u001b[0m\u001b[0;34m,\u001b[0m \u001b[0mstacktrace\u001b[0m\u001b[0;34m)\u001b[0m\u001b[0;34m\u001b[0m\u001b[0;34m\u001b[0m\u001b[0m\n\u001b[0m\u001b[1;32m    243\u001b[0m \u001b[0;34m\u001b[0m\u001b[0m\n\u001b[1;32m    244\u001b[0m     \u001b[0;32mdef\u001b[0m \u001b[0m_value_or_default\u001b[0m\u001b[0;34m(\u001b[0m\u001b[0mself\u001b[0m\u001b[0;34m,\u001b[0m \u001b[0mobj\u001b[0m\u001b[0;34m,\u001b[0m \u001b[0mkey\u001b[0m\u001b[0;34m,\u001b[0m \u001b[0mdefault\u001b[0m\u001b[0;34m)\u001b[0m\u001b[0;34m:\u001b[0m\u001b[0;34m\u001b[0m\u001b[0;34m\u001b[0m\u001b[0m\n",
      "\u001b[0;31mNoSuchWindowException\u001b[0m: Message: no such window: window was already closed\n  (Session info: chrome=91.0.4472.114)\n"
     ]
    }
   ],
   "source": [
    "btn = driver.find_element_by_xpath('//*[@id=\"ember260\"]')"
   ]
  },
  {
   "cell_type": "code",
   "execution_count": 15,
   "id": "proved-russia",
   "metadata": {},
   "outputs": [
    {
     "ename": "NoSuchWindowException",
     "evalue": "Message: no such window: target window already closed\nfrom unknown error: web view not found\n  (Session info: chrome=91.0.4472.114)\n",
     "output_type": "error",
     "traceback": [
      "\u001b[0;31m---------------------------------------------------------------------------\u001b[0m",
      "\u001b[0;31mNoSuchWindowException\u001b[0m                     Traceback (most recent call last)",
      "\u001b[0;32m<ipython-input-15-b493a679ded8>\u001b[0m in \u001b[0;36m<module>\u001b[0;34m\u001b[0m\n\u001b[0;32m----> 1\u001b[0;31m \u001b[0mdriver\u001b[0m\u001b[0;34m.\u001b[0m\u001b[0mcurrent_url\u001b[0m\u001b[0;34m(\u001b[0m\u001b[0;34m)\u001b[0m\u001b[0;34m\u001b[0m\u001b[0;34m\u001b[0m\u001b[0m\n\u001b[0m",
      "\u001b[0;32m/opt/anaconda3/lib/python3.8/site-packages/selenium/webdriver/remote/webdriver.py\u001b[0m in \u001b[0;36mcurrent_url\u001b[0;34m(self)\u001b[0m\n\u001b[1;32m    667\u001b[0m             \u001b[0mdriver\u001b[0m\u001b[0;34m.\u001b[0m\u001b[0mcurrent_url\u001b[0m\u001b[0;34m\u001b[0m\u001b[0;34m\u001b[0m\u001b[0m\n\u001b[1;32m    668\u001b[0m         \"\"\"\n\u001b[0;32m--> 669\u001b[0;31m         \u001b[0;32mreturn\u001b[0m \u001b[0mself\u001b[0m\u001b[0;34m.\u001b[0m\u001b[0mexecute\u001b[0m\u001b[0;34m(\u001b[0m\u001b[0mCommand\u001b[0m\u001b[0;34m.\u001b[0m\u001b[0mGET_CURRENT_URL\u001b[0m\u001b[0;34m)\u001b[0m\u001b[0;34m[\u001b[0m\u001b[0;34m'value'\u001b[0m\u001b[0;34m]\u001b[0m\u001b[0;34m\u001b[0m\u001b[0;34m\u001b[0m\u001b[0m\n\u001b[0m\u001b[1;32m    670\u001b[0m \u001b[0;34m\u001b[0m\u001b[0m\n\u001b[1;32m    671\u001b[0m     \u001b[0;34m@\u001b[0m\u001b[0mproperty\u001b[0m\u001b[0;34m\u001b[0m\u001b[0;34m\u001b[0m\u001b[0m\n",
      "\u001b[0;32m/opt/anaconda3/lib/python3.8/site-packages/selenium/webdriver/remote/webdriver.py\u001b[0m in \u001b[0;36mexecute\u001b[0;34m(self, driver_command, params)\u001b[0m\n\u001b[1;32m    319\u001b[0m         \u001b[0mresponse\u001b[0m \u001b[0;34m=\u001b[0m \u001b[0mself\u001b[0m\u001b[0;34m.\u001b[0m\u001b[0mcommand_executor\u001b[0m\u001b[0;34m.\u001b[0m\u001b[0mexecute\u001b[0m\u001b[0;34m(\u001b[0m\u001b[0mdriver_command\u001b[0m\u001b[0;34m,\u001b[0m \u001b[0mparams\u001b[0m\u001b[0;34m)\u001b[0m\u001b[0;34m\u001b[0m\u001b[0;34m\u001b[0m\u001b[0m\n\u001b[1;32m    320\u001b[0m         \u001b[0;32mif\u001b[0m \u001b[0mresponse\u001b[0m\u001b[0;34m:\u001b[0m\u001b[0;34m\u001b[0m\u001b[0;34m\u001b[0m\u001b[0m\n\u001b[0;32m--> 321\u001b[0;31m             \u001b[0mself\u001b[0m\u001b[0;34m.\u001b[0m\u001b[0merror_handler\u001b[0m\u001b[0;34m.\u001b[0m\u001b[0mcheck_response\u001b[0m\u001b[0;34m(\u001b[0m\u001b[0mresponse\u001b[0m\u001b[0;34m)\u001b[0m\u001b[0;34m\u001b[0m\u001b[0;34m\u001b[0m\u001b[0m\n\u001b[0m\u001b[1;32m    322\u001b[0m             response['value'] = self._unwrap_value(\n\u001b[1;32m    323\u001b[0m                 response.get('value', None))\n",
      "\u001b[0;32m/opt/anaconda3/lib/python3.8/site-packages/selenium/webdriver/remote/errorhandler.py\u001b[0m in \u001b[0;36mcheck_response\u001b[0;34m(self, response)\u001b[0m\n\u001b[1;32m    240\u001b[0m                 \u001b[0malert_text\u001b[0m \u001b[0;34m=\u001b[0m \u001b[0mvalue\u001b[0m\u001b[0;34m[\u001b[0m\u001b[0;34m'alert'\u001b[0m\u001b[0;34m]\u001b[0m\u001b[0;34m.\u001b[0m\u001b[0mget\u001b[0m\u001b[0;34m(\u001b[0m\u001b[0;34m'text'\u001b[0m\u001b[0;34m)\u001b[0m\u001b[0;34m\u001b[0m\u001b[0;34m\u001b[0m\u001b[0m\n\u001b[1;32m    241\u001b[0m             \u001b[0;32mraise\u001b[0m \u001b[0mexception_class\u001b[0m\u001b[0;34m(\u001b[0m\u001b[0mmessage\u001b[0m\u001b[0;34m,\u001b[0m \u001b[0mscreen\u001b[0m\u001b[0;34m,\u001b[0m \u001b[0mstacktrace\u001b[0m\u001b[0;34m,\u001b[0m \u001b[0malert_text\u001b[0m\u001b[0;34m)\u001b[0m\u001b[0;34m\u001b[0m\u001b[0;34m\u001b[0m\u001b[0m\n\u001b[0;32m--> 242\u001b[0;31m         \u001b[0;32mraise\u001b[0m \u001b[0mexception_class\u001b[0m\u001b[0;34m(\u001b[0m\u001b[0mmessage\u001b[0m\u001b[0;34m,\u001b[0m \u001b[0mscreen\u001b[0m\u001b[0;34m,\u001b[0m \u001b[0mstacktrace\u001b[0m\u001b[0;34m)\u001b[0m\u001b[0;34m\u001b[0m\u001b[0;34m\u001b[0m\u001b[0m\n\u001b[0m\u001b[1;32m    243\u001b[0m \u001b[0;34m\u001b[0m\u001b[0m\n\u001b[1;32m    244\u001b[0m     \u001b[0;32mdef\u001b[0m \u001b[0m_value_or_default\u001b[0m\u001b[0;34m(\u001b[0m\u001b[0mself\u001b[0m\u001b[0;34m,\u001b[0m \u001b[0mobj\u001b[0m\u001b[0;34m,\u001b[0m \u001b[0mkey\u001b[0m\u001b[0;34m,\u001b[0m \u001b[0mdefault\u001b[0m\u001b[0;34m)\u001b[0m\u001b[0;34m:\u001b[0m\u001b[0;34m\u001b[0m\u001b[0;34m\u001b[0m\u001b[0m\n",
      "\u001b[0;31mNoSuchWindowException\u001b[0m: Message: no such window: target window already closed\nfrom unknown error: web view not found\n  (Session info: chrome=91.0.4472.114)\n"
     ]
    }
   ],
   "source": [
    "driver.current_url()"
   ]
  },
  {
   "cell_type": "code",
   "execution_count": 18,
   "id": "perfect-piano",
   "metadata": {},
   "outputs": [],
   "source": [
    "driver.find_element_by_xpath('//*[@id=\"ember56\"]').click()"
   ]
  },
  {
   "cell_type": "code",
   "execution_count": 19,
   "id": "necessary-situation",
   "metadata": {},
   "outputs": [],
   "source": [
    "lst = []\n",
    "lst = driver.find_element_by_class_name('hiring-applicants__list-item')"
   ]
  },
  {
   "cell_type": "code",
   "execution_count": 21,
   "id": "attended-herald",
   "metadata": {},
   "outputs": [
    {
     "data": {
      "text/plain": [
       "[]"
      ]
     },
     "execution_count": 21,
     "metadata": {},
     "output_type": "execute_result"
    }
   ],
   "source": [
    "lst.find_elements()"
   ]
  },
  {
   "cell_type": "code",
   "execution_count": 22,
   "id": "sunrise-kidney",
   "metadata": {},
   "outputs": [
    {
     "data": {
      "text/plain": [
       "<selenium.webdriver.remote.webelement.WebElement (session=\"ba9310f03fbb283da4c9af2c018344a6\", element=\"447eb264-9f70-4d33-94dd-1fd88d8288e9\")>"
      ]
     },
     "execution_count": 22,
     "metadata": {},
     "output_type": "execute_result"
    }
   ],
   "source": [
    "lst"
   ]
  },
  {
   "cell_type": "code",
   "execution_count": 26,
   "id": "solved-policy",
   "metadata": {},
   "outputs": [],
   "source": [
    "a = driver.find_element_by_xpath('/html/body/div[6]/div[3]/div/div[3]/div/div/div[3]/ul/li[2]')"
   ]
  },
  {
   "cell_type": "code",
   "execution_count": 27,
   "id": "described-royalty",
   "metadata": {},
   "outputs": [
    {
     "data": {
      "text/plain": [
       "'Harshit Tyagi\\n3rd degree connection\\n· 3rd\\nStudent at THDC Institute of Hydropower Engineering\\nUttarakhand, India\\nTHDC Institute of Hydropower Engineering: B...\\nRating\\nMaybe\\nApplied 1d ago'"
      ]
     },
     "execution_count": 27,
     "metadata": {},
     "output_type": "execute_result"
    }
   ],
   "source": [
    "a.text"
   ]
  },
  {
   "cell_type": "code",
   "execution_count": 32,
   "id": "potential-secretariat",
   "metadata": {},
   "outputs": [],
   "source": [
    "b = driver.find_element_by_xpath('//*[@id=\"ember200\"]')"
   ]
  },
  {
   "cell_type": "code",
   "execution_count": 35,
   "id": "baking-civilization",
   "metadata": {},
   "outputs": [
    {
     "data": {
      "text/plain": [
       "''"
      ]
     },
     "execution_count": 35,
     "metadata": {},
     "output_type": "execute_result"
    }
   ],
   "source": [
    "b.text"
   ]
  },
  {
   "cell_type": "code",
   "execution_count": 37,
   "id": "indirect-wiring",
   "metadata": {},
   "outputs": [
    {
     "data": {
      "text/plain": [
       "'See full profile\\nEmail applicant at ayush.chakladar@gmail.com\\nayush.chakladar@gmail.com\\nEmail address\\nCopy phone number +918347290125 to clipboard\\n+918347290125\\nCopy phone number'"
      ]
     },
     "execution_count": 37,
     "metadata": {},
     "output_type": "execute_result"
    }
   ],
   "source": [
    "a = driver.find_element_by_xpath('/html/body/div[6]/div[3]/div/div[3]/div/div/div[3]/ul/li[2]')\n",
    "driver.find_element_by_xpath('//*[@id=\"ember199\"]').click()\n",
    "b = driver.find_element_by_xpath('//*[@id=\"ember200\"]')\n",
    "b.text"
   ]
  },
  {
   "cell_type": "code",
   "execution_count": 39,
   "id": "false-intensity",
   "metadata": {},
   "outputs": [
    {
     "data": {
      "text/plain": [
       "'See full profile\\nEmail applicant at ayush.chakladar@gmail.com\\nayush.chakladar@gmail.com\\nEmail address\\nCopy phone number +918347290125 to clipboard\\n+918347290125\\nCopy phone number'"
      ]
     },
     "execution_count": 39,
     "metadata": {},
     "output_type": "execute_result"
    }
   ],
   "source": [
    "a = driver.find_element_by_xpath('/html/body/div[6]/div[3]/div/div[3]/div/div/div[3]/ul/li[3]')\n",
    "driver.find_element_by_xpath('//*[@id=\"ember199\"]').click()\n",
    "b = driver.find_element_by_xpath('//*[@id=\"ember200\"]')\n",
    "b.text"
   ]
  },
  {
   "cell_type": "code",
   "execution_count": 40,
   "id": "desirable-tactics",
   "metadata": {},
   "outputs": [
    {
     "name": "stdout",
     "output_type": "stream",
     "text": [
      "Harshit Tyagi\n",
      "3rd degree connection\n",
      "· 3rd\n",
      "Student at THDC Institute of Hydropower Engineering\n",
      "Uttarakhand, India\n",
      "THDC Institute of Hydropower Engineering: B...\n",
      "Rating\n",
      "Maybe\n",
      "Applied 1d ago\n"
     ]
    },
    {
     "data": {
      "text/plain": [
       "'See full profile\\nEmail applicant at harshitt79@gmail.com\\nharshitt79@gmail.com\\nEmail address\\nCopy phone number +919756043631 to clipboard\\n+919756043631\\nCopy phone number'"
      ]
     },
     "execution_count": 40,
     "metadata": {},
     "output_type": "execute_result"
    }
   ],
   "source": [
    "a = driver.find_element_by_xpath('/html/body/div[6]/div[3]/div/div[3]/div/div/div[3]/ul/li[2]')\n",
    "print(a.text)\n",
    "driver.find_element_by_xpath('//*[@id=\"ember199\"]').click()\n",
    "b = driver.find_element_by_xpath('//*[@id=\"ember200\"]')\n",
    "b.text"
   ]
  },
  {
   "cell_type": "code",
   "execution_count": 42,
   "id": "veterinary-concentration",
   "metadata": {},
   "outputs": [
    {
     "data": {
      "text/plain": [
       "'Himanshu Bhardwaz\\n3rd degree connection\\n· 3rd\\nFull Stack web developer\\nVellore\\nSDE Intern at LetsEndorse • 2021 - 2021\\nFrontend Developer at JarvIOT Co • 2021 - 20...\\nApplied 8h ago\\n1/1 must-have qualifications'"
      ]
     },
     "execution_count": 42,
     "metadata": {},
     "output_type": "execute_result"
    }
   ],
   "source": [
    "a = driver.find_element_by_xpath('/html/body/div[6]/div[3]/div/div[3]/div/div/div[3]/ul/li[3]')\n",
    "a.text"
   ]
  },
  {
   "cell_type": "code",
   "execution_count": 44,
   "id": "robust-cleveland",
   "metadata": {},
   "outputs": [
    {
     "name": "stdout",
     "output_type": "stream",
     "text": [
      "Himanshu Bhardwaz\n",
      "3rd degree connection\n",
      "· 3rd\n",
      "Full Stack web developer\n",
      "Vellore\n",
      "SDE Intern at LetsEndorse • 2021 - 2021\n",
      "Frontend Developer at JarvIOT Co • 2021 - 20...\n",
      "Applied 8h ago\n",
      "1/1 must-have qualifications\n"
     ]
    },
    {
     "data": {
      "text/plain": [
       "'See full profile\\nEmail applicant at himanshu76200@gmail.com\\nhimanshu76200@gmail.com\\nEmail address\\nCopy phone number +919709234000 to clipboard\\n+919709234000\\nCopy phone number'"
      ]
     },
     "execution_count": 44,
     "metadata": {},
     "output_type": "execute_result"
    }
   ],
   "source": [
    "a = driver.find_element_by_xpath('/html/body/div[6]/div[3]/div/div[3]/div/div/div[3]/ul/li[3]')\n",
    "print(a.text)\n",
    "driver.find_element_by_xpath('//*[@id=\"ember199\"]').click()\n",
    "b = driver.find_element_by_xpath('//*[@id=\"ember200\"]')\n",
    "b.text"
   ]
  },
  {
   "cell_type": "code",
   "execution_count": 45,
   "id": "dedicated-galaxy",
   "metadata": {
    "scrolled": true
   },
   "outputs": [
    {
     "data": {
      "text/plain": [
       "'Ayush Chakladar\\n3rd degree connection\\n· 3rd\\nCore Committee Member at VIT Spartans\\nIndia\\nCore committee member at VIT Spartans • 20...\\nCore Committee Member at Mozilla FireFox C...\\nRating\\nMaybe\\nApplied 1d ago'"
      ]
     },
     "execution_count": 45,
     "metadata": {},
     "output_type": "execute_result"
    }
   ],
   "source": [
    "a = driver.find_element_by_xpath('/html/body/div[6]/div[3]/div/div[3]/div/div/div[3]/ul/li[1]')\n",
    "a.text"
   ]
  },
  {
   "cell_type": "code",
   "execution_count": 46,
   "id": "sudden-success",
   "metadata": {},
   "outputs": [
    {
     "name": "stdout",
     "output_type": "stream",
     "text": [
      "Ayush Chakladar\n",
      "3rd degree connection\n",
      "· 3rd\n",
      "Core Committee Member at VIT Spartans\n",
      "India\n",
      "Core committee member at VIT Spartans • 20...\n",
      "Core Committee Member at Mozilla FireFox C...\n",
      "Rating\n",
      "Maybe\n",
      "Applied 1d ago\n"
     ]
    }
   ],
   "source": [
    "a = driver.find_element_by_xpath('/html/body/div[6]/div[3]/div/div[3]/div/div/div[3]/ul/li[1]')\n",
    "print(a.text)\n",
    "b = driver.find_element_by_xpath('//*[@id=\"ember199\"]')\n",
    "b.click()"
   ]
  },
  {
   "cell_type": "code",
   "execution_count": 47,
   "id": "economic-private",
   "metadata": {
    "scrolled": true
   },
   "outputs": [
    {
     "name": "stdout",
     "output_type": "stream",
     "text": [
      "Ayush Chakladar\n",
      "3rd degree connection\n",
      "· 3rd\n",
      "Core Committee Member at VIT Spartans\n",
      "India\n",
      "Core committee member at VIT Spartans • 20...\n",
      "Core Committee Member at Mozilla FireFox C...\n",
      "Rating\n",
      "Maybe\n",
      "Applied 1d ago\n"
     ]
    },
    {
     "data": {
      "text/plain": [
       "'See full profile\\nEmail applicant at ayush.chakladar@gmail.com\\nayush.chakladar@gmail.com\\nEmail address\\nCopy phone number +918347290125 to clipboard\\n+918347290125\\nCopy phone number'"
      ]
     },
     "execution_count": 47,
     "metadata": {},
     "output_type": "execute_result"
    }
   ],
   "source": [
    "a = driver.find_element_by_xpath('/html/body/div[6]/div[3]/div/div[3]/div/div/div[3]/ul/li[1]')\n",
    "print(a.text)\n",
    "b = driver.find_element_by_xpath('//*[@id=\"ember199\"]')\n",
    "b.click()\n",
    "c = driver.find_element_by_xpath('//*[@id=\"ember200\"]')\n",
    "c.text"
   ]
  },
  {
   "cell_type": "raw",
   "id": "african-education",
   "metadata": {},
   "source": [
    "25 list items in a page"
   ]
  },
  {
   "cell_type": "code",
   "execution_count": 48,
   "id": "first-contemporary",
   "metadata": {},
   "outputs": [
    {
     "name": "stdout",
     "output_type": "stream",
     "text": [
      "Ayush Chakladar\n",
      "3rd degree connection\n",
      "· 3rd\n",
      "Core Committee Member at VIT Spartans\n",
      "India\n",
      "Core committee member at VIT Spartans • 20...\n",
      "Core Committee Member at Mozilla FireFox C...\n",
      "Rating\n",
      "Maybe\n",
      "Applied 1d ago\n"
     ]
    }
   ],
   "source": [
    "a = driver.find_element_by_xpath('/html/body/div[6]/div[3]/div/div[3]/div/div/div[3]/ul/li[1]')\n",
    "print(a.text)"
   ]
  },
  {
   "cell_type": "code",
   "execution_count": 50,
   "id": "sitting-intent",
   "metadata": {},
   "outputs": [
    {
     "name": "stdout",
     "output_type": "stream",
     "text": [
      "Sanjeev Sagar\n",
      "3rd degree connection\n",
      "· 3rd\n",
      "Python | web developer(Django) | Student\n",
      "Lucknow\n",
      "Dr. A.P.J. Abdul Kalam Technical University: B....\n",
      "Oxford Public School - India: Intermediate\n",
      "Rating\n",
      "Maybe\n",
      "Applied 11h ago\n"
     ]
    }
   ],
   "source": [
    "a = driver.find_element_by_xpath('/html/body/div[6]/div[3]/div/div[3]/div/div/div[3]/ul/li[25]')\n",
    "print(a.text)"
   ]
  },
  {
   "cell_type": "code",
   "execution_count": 51,
   "id": "capital-convention",
   "metadata": {},
   "outputs": [],
   "source": [
    "i = 2"
   ]
  },
  {
   "cell_type": "code",
   "execution_count": 54,
   "id": "french-commons",
   "metadata": {
    "scrolled": true
   },
   "outputs": [
    {
     "name": "stdout",
     "output_type": "stream",
     "text": [
      "Harshit Tyagi\n",
      "3rd degree connection\n",
      "· 3rd\n",
      "Student at THDC Institute of Hydropower Engineering\n",
      "Uttarakhand, India\n",
      "THDC Institute of Hydropower Engineering: B...\n",
      "Rating\n",
      "Maybe\n",
      "Applied 1d ago\n"
     ]
    }
   ],
   "source": [
    "# using string literals\n",
    "a = driver.find_element_by_xpath(f'/html/body/div[6]/div[3]/div/div[3]/div/div/div[3]/ul/li[{i}]')\n",
    "print(a.text)"
   ]
  },
  {
   "cell_type": "markdown",
   "id": "entire-savings",
   "metadata": {},
   "source": [
    "For this follow these steps:\n",
    "* First find elements list \n",
    "* Then iterate that list this contains candidates names, connection degree, headlines (a)\n",
    "* Then click more button (b)\n",
    "* Also, now text of (c) inside more button"
   ]
  },
  {
   "cell_type": "code",
   "execution_count": 56,
   "id": "spatial-williams",
   "metadata": {
    "scrolled": true
   },
   "outputs": [
    {
     "name": "stdout",
     "output_type": "stream",
     "text": [
      "Ayush Chakladar\n",
      "3rd degree connection\n",
      "· 3rd\n",
      "Core Committee Member at VIT Spartans\n",
      "India\n",
      "Core committee member at VIT Spartans • 20...\n",
      "Core Committee Member at Mozilla FireFox C...\n",
      "Rating\n",
      "Maybe\n",
      "Applied 1d ago\n",
      "\n",
      "Harshit Tyagi\n",
      "3rd degree connection\n",
      "· 3rd\n",
      "Student at THDC Institute of Hydropower Engineering\n",
      "Uttarakhand, India\n",
      "THDC Institute of Hydropower Engineering: B...\n",
      "Rating\n",
      "Maybe\n",
      "Applied 1d ago\n",
      "See full profile\n",
      "Email applicant at sanjeevsagarsagar3@gmail.com\n",
      "sanjeevsagarsagar3@gmail.com\n",
      "Email address\n",
      "Copy phone number +917388703487 to clipboard\n",
      "+917388703487\n",
      "Copy phone number\n",
      "Himanshu Bhardwaz\n",
      "3rd degree connection\n",
      "· 3rd\n",
      "Full Stack web developer\n",
      "Vellore\n",
      "SDE Intern at LetsEndorse • 2021 - 2021\n",
      "Frontend Developer at JarvIOT Co • 2021 - 20...\n",
      "Applied 8h ago\n",
      "1/1 must-have qualifications\n",
      "See full profile\n",
      "Email applicant at sanjeevsagarsagar3@gmail.com\n",
      "sanjeevsagarsagar3@gmail.com\n",
      "Email address\n",
      "Copy phone number +917388703487 to clipboard\n",
      "+917388703487\n",
      "Copy phone number\n",
      "Manmohan Kumar\n",
      "3rd degree connection\n",
      "· 3rd\n",
      "Student at Lovely Professional University\n",
      "Solan\n",
      "Lovely Professional University: Bachelor of Te...\n",
      "Rating\n",
      "Maybe\n",
      "Applied 1d ago\n",
      "See full profile\n",
      "Email applicant at sanjeevsagarsagar3@gmail.com\n",
      "sanjeevsagarsagar3@gmail.com\n",
      "Email address\n",
      "Copy phone number +917388703487 to clipboard\n",
      "+917388703487\n",
      "Copy phone number\n",
      "Rajat Dhiman\n",
      "3rd degree connection\n",
      "· 3rd\n",
      "Consultant- Software Assets Management at EY\n",
      "Gurgaon\n",
      "Consultant at EY • 2020 - Present\n",
      "Associate Consultant at EY • 2019 - 2020\n",
      "Applied 9h ago\n",
      "1/1 must-have qualifications\n",
      "See full profile\n",
      "Email applicant at sanjeevsagarsagar3@gmail.com\n",
      "sanjeevsagarsagar3@gmail.com\n",
      "Email address\n",
      "Copy phone number +917388703487 to clipboard\n",
      "+917388703487\n",
      "Copy phone number\n",
      "Jay Kakkar\n",
      "3rd degree connection\n",
      "· 3rd\n",
      "Full Stack Web Developer |Andriod App Developer | Student at MSIT\n",
      "Delhi, India\n",
      "Maharaja Surajmal Institute Of Technology: Ba...\n",
      "Kulachi Hansraj Model School - India\n",
      "Rating\n",
      "Maybe\n",
      "Applied 18h ago\n",
      "See full profile\n",
      "Email applicant at sanjeevsagarsagar3@gmail.com\n",
      "sanjeevsagarsagar3@gmail.com\n",
      "Email address\n",
      "Copy phone number +917388703487 to clipboard\n",
      "+917388703487\n",
      "Copy phone number\n",
      "Neeraj Yadav\n",
      "3rd degree connection\n",
      "· 3rd\n",
      "Student at Guru Gobind Singh Indraprastha University\n",
      "New Delhi\n",
      "Guru Gobind Singh Indraprastha University: B...\n",
      "Applied 5h ago\n",
      "1/1 must-have qualifications\n",
      "See full profile\n",
      "Email applicant at sanjeevsagarsagar3@gmail.com\n",
      "sanjeevsagarsagar3@gmail.com\n",
      "Email address\n",
      "Copy phone number +917388703487 to clipboard\n",
      "+917388703487\n",
      "Copy phone number\n",
      "Rahul Gupta\n",
      "3rd degree connection\n",
      "· 3rd\n",
      "MERN developer || Data Analyst || Competitive coder\n",
      "Alwar\n",
      "National Institute of Technology Silchar: Bach...\n",
      "Applied 1h ago\n",
      "1/1 must-have qualifications\n",
      "See full profile\n",
      "Email applicant at sanjeevsagarsagar3@gmail.com\n",
      "sanjeevsagarsagar3@gmail.com\n",
      "Email address\n",
      "Copy phone number +917388703487 to clipboard\n",
      "+917388703487\n",
      "Copy phone number\n",
      "Somya Gupta\n",
      "3rd degree connection\n",
      "· 3rd\n",
      "Technical coordinator at Developer Students Club JIIT Noida | MERN developer Intern at koder |fullstack stack developer\n",
      "New Delhi\n",
      "Jaypee Institute Of Information Technology: B...\n",
      "Applied 8h ago\n",
      "1/1 must-have qualifications\n",
      "See full profile\n",
      "Email applicant at sanjeevsagarsagar3@gmail.com\n",
      "sanjeevsagarsagar3@gmail.com\n",
      "Email address\n",
      "Copy phone number +917388703487 to clipboard\n",
      "+917388703487\n",
      "Copy phone number\n",
      "Titir Biswas\n",
      "Passionate developer and tech enthusiast\n",
      "West Bengal, India\n",
      "NIT Jalandhar: Bachelor of Technology - BTec...\n",
      "Applied 8h ago\n",
      "1/1 must-have qualifications\n",
      "See full profile\n",
      "Email applicant at sanjeevsagarsagar3@gmail.com\n",
      "sanjeevsagarsagar3@gmail.com\n",
      "Email address\n",
      "Copy phone number +917388703487 to clipboard\n",
      "+917388703487\n",
      "Copy phone number\n",
      "Vishal Kumar\n",
      "3rd degree connection\n",
      "· 3rd\n",
      "Student\n",
      "Patna\n",
      "Business Development Executive at Pickara • ...\n",
      "International Institute of Information Technolo...\n",
      "Rating\n",
      "Maybe\n",
      "Applied 1d ago\n",
      "See full profile\n",
      "Email applicant at sanjeevsagarsagar3@gmail.com\n",
      "sanjeevsagarsagar3@gmail.com\n",
      "Email address\n",
      "Copy phone number +917388703487 to clipboard\n",
      "+917388703487\n",
      "Copy phone number\n",
      "Ashwani Yadav\n",
      "2nd degree connection\n",
      "· 2nd\n",
      "ECE Undergrad @ IIT G\n",
      "New Delhi\n",
      "General Executive at Student Alumni Interacti...\n",
      "Club Member at IITG.ai • 2020 - 2021\n",
      "Rating\n",
      "Maybe\n",
      "Applied 1d ago\n",
      "See full profile\n",
      "Email applicant at sanjeevsagarsagar3@gmail.com\n",
      "sanjeevsagarsagar3@gmail.com\n",
      "Email address\n",
      "Copy phone number +917388703487 to clipboard\n",
      "+917388703487\n",
      "Copy phone number\n",
      "kuldeep tiwari\n",
      "3rd degree connection\n",
      "· 3rd\n",
      "Student at GLA university\n",
      "Lucknow\n",
      "Web Developer at Altruism Labs • 2021 - 2021\n",
      "node.js development at Youth India Foundatio...\n",
      "Applied 1d ago\n",
      "1/1 must-have qualifications\n",
      "See full profile\n",
      "Email applicant at sanjeevsagarsagar3@gmail.com\n",
      "sanjeevsagarsagar3@gmail.com\n",
      "Email address\n",
      "Copy phone number +917388703487 to clipboard\n",
      "+917388703487\n",
      "Copy phone number\n",
      "Tamarai selvan Ravi\n",
      "Student at Government College of Engineering, Bargur\n",
      "Tiruppur district\n",
      "Kongu Polytechnic College, Perundurai, Erode...\n",
      "MIGRO K.I.D.S MATRICULATION HIGHER SCE ...\n",
      "Applied 23m ago\n",
      "1/1 must-have qualifications\n",
      "See full profile\n",
      "Email applicant at sanjeevsagarsagar3@gmail.com\n",
      "sanjeevsagarsagar3@gmail.com\n",
      "Email address\n",
      "Copy phone number +917388703487 to clipboard\n",
      "+917388703487\n",
      "Copy phone number\n",
      "Rajeev Sharma\n",
      "3rd degree connection\n",
      "· 3rd\n",
      "Seeking Job/Internship for full stack Data Science | Data Science Graduate | Python Developer | GCP Data Engineer Certification\n",
      "New Delhi\n",
      "Uttar Pradesh Technical University: Bachelor ...\n",
      "Applied 14h ago\n",
      "1/1 must-have qualifications\n",
      "See full profile\n",
      "Email applicant at sanjeevsagarsagar3@gmail.com\n",
      "sanjeevsagarsagar3@gmail.com\n",
      "Email address\n",
      "Copy phone number +917388703487 to clipboard\n",
      "+917388703487\n",
      "Copy phone number\n",
      "Manisha Baghel\n",
      "Student at Rama University\n",
      "Noida\n",
      "Rama University: B.Tech • 2015 - 2019\n",
      "Applied 1d ago\n",
      "1/1 must-have qualifications\n",
      "See full profile\n",
      "Email applicant at sanjeevsagarsagar3@gmail.com\n",
      "sanjeevsagarsagar3@gmail.com\n",
      "Email address\n",
      "Copy phone number +917388703487 to clipboard\n",
      "+917388703487\n",
      "Copy phone number\n",
      "satwik Mishra\n",
      "3rd degree connection\n",
      "· 3rd\n",
      "MERN developer at One24\n",
      "Madhya Pradesh, India\n",
      "MERN developer at One24 • 2021 - Present\n",
      "Machine Learning Intern at Darwin Digitech P...\n",
      "Applied 1d ago\n",
      "1/1 must-have qualifications\n",
      "See full profile\n",
      "Email applicant at sanjeevsagarsagar3@gmail.com\n",
      "sanjeevsagarsagar3@gmail.com\n",
      "Email address\n",
      "Copy phone number +917388703487 to clipboard\n",
      "+917388703487\n",
      "Copy phone number\n",
      "Harish Nishad\n",
      "Computer Science student, looking for internship/full time job opportunity\n",
      "South Delhi\n",
      "Indira Gandhi National Open University: BCA •...\n",
      "Applied 1d ago\n",
      "1/1 must-have qualifications\n",
      "See full profile\n",
      "Email applicant at sanjeevsagarsagar3@gmail.com\n",
      "sanjeevsagarsagar3@gmail.com\n",
      "Email address\n",
      "Copy phone number +917388703487 to clipboard\n",
      "+917388703487\n",
      "Copy phone number\n",
      "Jai singh Yadav\n",
      "3rd degree connection\n",
      "· 3rd\n",
      "Athlete Frontend web designer Forex\n",
      "Jaipur\n",
      "Arya College of Engineering and IT: Bachelor ...\n",
      "Rating\n",
      "Maybe\n",
      "Applied 11h ago\n",
      "See full profile\n",
      "Email applicant at sanjeevsagarsagar3@gmail.com\n",
      "sanjeevsagarsagar3@gmail.com\n",
      "Email address\n",
      "Copy phone number +917388703487 to clipboard\n",
      "+917388703487\n",
      "Copy phone number\n",
      "Manan Garg\n",
      "3rd degree connection\n",
      "· 3rd\n",
      "Student at G.L. Bajaj Institute of Technology And Management\n",
      "Delhi, India\n",
      "Python Developer at Codec Networks Pvt Ltd ...\n",
      "Web Developer at Unhu Entertainment LLP - ...\n",
      "Rating\n",
      "Maybe\n",
      "Applied 1d ago\n",
      "See full profile\n",
      "Email applicant at sanjeevsagarsagar3@gmail.com\n",
      "sanjeevsagarsagar3@gmail.com\n",
      "Email address\n",
      "Copy phone number +917388703487 to clipboard\n",
      "+917388703487\n",
      "Copy phone number\n",
      "vaishnavi khurana\n",
      "2nd degree connection\n",
      "· 2nd\n",
      "GHC21scholar|| 2* codechef || lgmsoc21|| Passionate about learning new tech stack!\n",
      "West Delhi\n",
      "Content Writer at Subons LLP • 2019 - 2020\n",
      "Guru Gobind Singh Indraprastha University: B...\n",
      "Applied 22h ago\n",
      "1/1 must-have qualifications\n",
      "See full profile\n",
      "Email applicant at sanjeevsagarsagar3@gmail.com\n",
      "sanjeevsagarsagar3@gmail.com\n",
      "Email address\n",
      "Copy phone number +917388703487 to clipboard\n",
      "+917388703487\n",
      "Copy phone number\n",
      "Samir Gayatri\n",
      "2nd degree connection\n",
      "· 2nd\n",
      "Geeks | Leadership Qualities | Looking For Internship\n",
      "Gorakhpur\n",
      "Student at Dr. A.P.J. Abdul Kalam Technical U...\n",
      "Campus Ambassador at Collegedunia • 2020 ...\n",
      "Rating\n",
      "Maybe\n",
      "Applied 11h ago\n",
      "See full profile\n",
      "Email applicant at sanjeevsagarsagar3@gmail.com\n",
      "sanjeevsagarsagar3@gmail.com\n",
      "Email address\n",
      "Copy phone number +917388703487 to clipboard\n",
      "+917388703487\n",
      "Copy phone number\n",
      "Prashant kaushik\n",
      "3rd degree connection\n",
      "· 3rd\n",
      "Young Hustler\n",
      "New Delhi\n",
      "Dr Akhilesh Das Gupta Institute of Technology...\n",
      "Applied 10h ago\n",
      "1/1 must-have qualifications\n",
      "See full profile\n",
      "Email applicant at sanjeevsagarsagar3@gmail.com\n",
      "sanjeevsagarsagar3@gmail.com\n",
      "Email address\n",
      "Copy phone number +917388703487 to clipboard\n",
      "+917388703487\n",
      "Copy phone number\n"
     ]
    },
    {
     "name": "stdout",
     "output_type": "stream",
     "text": [
      "RUTWIK MOON\n",
      "3rd degree connection\n",
      "· 3rd\n",
      "Student at Technocrats Institute of Technology (Excellence), Anand Nagar, PB No. 24, Post Piplani, BHEL, Bhopal\n",
      "Bhopal\n",
      "Technocrats Institute of Technology (Excellen...\n",
      "Rating\n",
      "Maybe\n",
      "Applied 9h ago\n",
      "See full profile\n",
      "Email applicant at sanjeevsagarsagar3@gmail.com\n",
      "sanjeevsagarsagar3@gmail.com\n",
      "Email address\n",
      "Copy phone number +917388703487 to clipboard\n",
      "+917388703487\n",
      "Copy phone number\n",
      "Sanjeev Sagar\n",
      "3rd degree connection\n",
      "· 3rd\n",
      "Python | web developer(Django) | Student\n",
      "Lucknow\n",
      "Dr. A.P.J. Abdul Kalam Technical University: B....\n",
      "Oxford Public School - India: Intermediate\n",
      "Rating\n",
      "Maybe\n",
      "Applied 11h ago\n",
      "See full profile\n",
      "Email applicant at sanjeevsagarsagar3@gmail.com\n",
      "sanjeevsagarsagar3@gmail.com\n",
      "Email address\n",
      "Copy phone number +917388703487 to clipboard\n",
      "+917388703487\n",
      "Copy phone number\n"
     ]
    }
   ],
   "source": [
    "for i in range(1, 26):\n",
    "    a = driver.find_element_by_xpath(f'/html/body/div[6]/div[3]/div/div[3]/div/div/div[3]/ul/li[{i}]')\n",
    "    print(a.text)\n",
    "    b = driver.find_element_by_xpath('//*[@id=\"ember199\"]')\n",
    "    b.click()\n",
    "    c = driver.find_element_by_xpath('//*[@id=\"ember200\"]')\n",
    "    print(c.text)"
   ]
  },
  {
   "cell_type": "code",
   "execution_count": 57,
   "id": "floral-venezuela",
   "metadata": {},
   "outputs": [
    {
     "name": "stdout",
     "output_type": "stream",
     "text": [
      "Ayush Chakladar\n",
      "3rd degree connection\n",
      "· 3rd\n",
      "Core Committee Member at VIT Spartans\n",
      "India\n",
      "Core committee member at VIT Spartans • 20...\n",
      "Core Committee Member at Mozilla FireFox C...\n",
      "Rating\n",
      "Maybe\n",
      "Applied 1d ago\n",
      "See full profile\n",
      "Email applicant at sanjeevsagarsagar3@gmail.com\n",
      "sanjeevsagarsagar3@gmail.com\n",
      "Email address\n",
      "Copy phone number +917388703487 to clipboard\n",
      "+917388703487\n",
      "Copy phone number\n"
     ]
    }
   ],
   "source": [
    "a = driver.find_element_by_xpath('/html/body/div[6]/div[3]/div/div[3]/div/div/div[3]/ul/li[1]')\n",
    "print(a.text)\n",
    "b = driver.find_element_by_xpath('//*[@id=\"ember199\"]')\n",
    "b.click()\n",
    "c = driver.find_element_by_xpath('//*[@id=\"ember200\"]')\n",
    "print(c.text)"
   ]
  },
  {
   "cell_type": "code",
   "execution_count": 58,
   "id": "complimentary-witness",
   "metadata": {},
   "outputs": [
    {
     "data": {
      "text/plain": [
       "'Ayush Chakladar\\n3rd degree connection\\n· 3rd\\nCore Committee Member at VIT Spartans\\nIndia\\nCore committee member at VIT Spartans • 20...\\nCore Committee Member at Mozilla FireFox C...\\nRating\\nMaybe\\nApplied 1d ago'"
      ]
     },
     "execution_count": 58,
     "metadata": {},
     "output_type": "execute_result"
    }
   ],
   "source": [
    "a = driver.find_element_by_xpath('/html/body/div[6]/div[3]/div/div[3]/div/div/div[3]/ul/li[1]')\n",
    "a.text"
   ]
  },
  {
   "cell_type": "code",
   "execution_count": 59,
   "id": "confidential-nancy",
   "metadata": {},
   "outputs": [],
   "source": [
    "s1 = a.text"
   ]
  },
  {
   "cell_type": "code",
   "execution_count": 60,
   "id": "timely-saturn",
   "metadata": {},
   "outputs": [],
   "source": [
    "lst = s1.split('\\n')"
   ]
  },
  {
   "cell_type": "code",
   "execution_count": 61,
   "id": "fallen-filling",
   "metadata": {},
   "outputs": [
    {
     "data": {
      "text/plain": [
       "['Ayush Chakladar',\n",
       " '3rd degree connection',\n",
       " '· 3rd',\n",
       " 'Core Committee Member at VIT Spartans',\n",
       " 'India',\n",
       " 'Core committee member at VIT Spartans • 20...',\n",
       " 'Core Committee Member at Mozilla FireFox C...',\n",
       " 'Rating',\n",
       " 'Maybe',\n",
       " 'Applied 1d ago']"
      ]
     },
     "execution_count": 61,
     "metadata": {},
     "output_type": "execute_result"
    }
   ],
   "source": [
    "lst"
   ]
  },
  {
   "cell_type": "code",
   "execution_count": 63,
   "id": "configured-disclaimer",
   "metadata": {},
   "outputs": [
    {
     "data": {
      "text/plain": [
       "['Harshit Tyagi',\n",
       " '3rd degree connection',\n",
       " '· 3rd',\n",
       " 'Student at THDC Institute of Hydropower Engineering',\n",
       " 'Uttarakhand, India',\n",
       " 'THDC Institute of Hydropower Engineering: B...',\n",
       " 'Rating',\n",
       " 'Maybe',\n",
       " 'Applied 1d ago']"
      ]
     },
     "execution_count": 63,
     "metadata": {},
     "output_type": "execute_result"
    }
   ],
   "source": [
    "a = driver.find_element_by_xpath('/html/body/div[6]/div[3]/div/div[3]/div/div/div[3]/ul/li[2]')\n",
    "s1 = a.text\n",
    "lst = s1.split('\\n')\n",
    "lst"
   ]
  },
  {
   "cell_type": "code",
   "execution_count": 64,
   "id": "parallel-hampshire",
   "metadata": {},
   "outputs": [
    {
     "data": {
      "text/plain": [
       "'See full profile\\nEmail applicant at sanjeevsagarsagar3@gmail.com\\nsanjeevsagarsagar3@gmail.com\\nEmail address\\nCopy phone number +917388703487 to clipboard\\n+917388703487\\nCopy phone number'"
      ]
     },
     "execution_count": 64,
     "metadata": {},
     "output_type": "execute_result"
    }
   ],
   "source": [
    "a = driver.find_element_by_xpath('/html/body/div[6]/div[3]/div/div[3]/div/div/div[3]/ul/li[1]')\n",
    "b = driver.find_element_by_xpath('//*[@id=\"ember199\"]')\n",
    "b.click()\n",
    "c = driver.find_element_by_xpath('//*[@id=\"ember200\"]')\n",
    "c.text"
   ]
  },
  {
   "cell_type": "code",
   "execution_count": 65,
   "id": "underlying-conversion",
   "metadata": {},
   "outputs": [],
   "source": [
    "s2 = c.text"
   ]
  },
  {
   "cell_type": "code",
   "execution_count": 66,
   "id": "protecting-springer",
   "metadata": {},
   "outputs": [],
   "source": [
    "lst_ = s2.split('\\n')"
   ]
  },
  {
   "cell_type": "code",
   "execution_count": 67,
   "id": "minor-andrews",
   "metadata": {},
   "outputs": [
    {
     "data": {
      "text/plain": [
       "['See full profile',\n",
       " 'Email applicant at sanjeevsagarsagar3@gmail.com',\n",
       " 'sanjeevsagarsagar3@gmail.com',\n",
       " 'Email address',\n",
       " 'Copy phone number +917388703487 to clipboard',\n",
       " '+917388703487',\n",
       " 'Copy phone number']"
      ]
     },
     "execution_count": 67,
     "metadata": {},
     "output_type": "execute_result"
    }
   ],
   "source": [
    "lst_"
   ]
  },
  {
   "cell_type": "code",
   "execution_count": 68,
   "id": "focal-plain",
   "metadata": {},
   "outputs": [],
   "source": [
    "file = open('email-list.txt', 'w')"
   ]
  },
  {
   "cell_type": "code",
   "execution_count": 69,
   "id": "infectious-coaching",
   "metadata": {},
   "outputs": [
    {
     "data": {
      "text/plain": [
       "28"
      ]
     },
     "execution_count": 69,
     "metadata": {},
     "output_type": "execute_result"
    }
   ],
   "source": [
    "file.write(lst_[2])"
   ]
  },
  {
   "cell_type": "code",
   "execution_count": 70,
   "id": "amino-degree",
   "metadata": {},
   "outputs": [],
   "source": [
    "file.close()"
   ]
  },
  {
   "cell_type": "code",
   "execution_count": 72,
   "id": "scientific-spice",
   "metadata": {},
   "outputs": [
    {
     "data": {
      "text/plain": [
       "True"
      ]
     },
     "execution_count": 72,
     "metadata": {},
     "output_type": "execute_result"
    }
   ],
   "source": [
    "file.closed"
   ]
  },
  {
   "cell_type": "code",
   "execution_count": 77,
   "id": "headed-excitement",
   "metadata": {},
   "outputs": [
    {
     "name": "stdout",
     "output_type": "stream",
     "text": [
      "['']\n"
     ]
    },
    {
     "ename": "IndexError",
     "evalue": "list index out of range",
     "output_type": "error",
     "traceback": [
      "\u001b[0;31m---------------------------------------------------------------------------\u001b[0m",
      "\u001b[0;31mIndexError\u001b[0m                                Traceback (most recent call last)",
      "\u001b[0;32m<ipython-input-77-e90ceeeb34c5>\u001b[0m in \u001b[0;36m<module>\u001b[0;34m\u001b[0m\n\u001b[1;32m      8\u001b[0m     \u001b[0mlst_\u001b[0m \u001b[0;34m=\u001b[0m \u001b[0mc\u001b[0m\u001b[0;34m.\u001b[0m\u001b[0mtext\u001b[0m\u001b[0;34m.\u001b[0m\u001b[0msplit\u001b[0m\u001b[0;34m(\u001b[0m\u001b[0;34m'\\n'\u001b[0m\u001b[0;34m)\u001b[0m\u001b[0;34m\u001b[0m\u001b[0;34m\u001b[0m\u001b[0m\n\u001b[1;32m      9\u001b[0m     \u001b[0mprint\u001b[0m\u001b[0;34m(\u001b[0m\u001b[0mlst_\u001b[0m\u001b[0;34m)\u001b[0m\u001b[0;34m\u001b[0m\u001b[0;34m\u001b[0m\u001b[0m\n\u001b[0;32m---> 10\u001b[0;31m     \u001b[0memails\u001b[0m\u001b[0;34m.\u001b[0m\u001b[0mappend\u001b[0m\u001b[0;34m(\u001b[0m\u001b[0mlst_\u001b[0m\u001b[0;34m[\u001b[0m\u001b[0;36m2\u001b[0m\u001b[0;34m]\u001b[0m\u001b[0;34m)\u001b[0m\u001b[0;34m\u001b[0m\u001b[0;34m\u001b[0m\u001b[0m\n\u001b[0m",
      "\u001b[0;31mIndexError\u001b[0m: list index out of range"
     ]
    }
   ],
   "source": [
    "emails = []\n",
    "for i in range(1, 26):\n",
    "    lst_ = []\n",
    "    a = driver.find_element_by_xpath(f'/html/body/div[6]/div[3]/div/div[3]/div/div/div[3]/ul/li[{i}]')\n",
    "    b = driver.find_element_by_xpath('//*[@id=\"ember199\"]')\n",
    "    b.click()\n",
    "    c = driver.find_element_by_xpath('//*[@id=\"ember200\"]')\n",
    "    lst_ = c.text.split('\\n')\n",
    "    print(lst_)\n",
    "    emails.append(lst_[2])"
   ]
  },
  {
   "cell_type": "code",
   "execution_count": 74,
   "id": "governing-newfoundland",
   "metadata": {},
   "outputs": [
    {
     "data": {
      "text/plain": [
       "['sanjeevsagarsagar3@gmail.com',\n",
       " 'sanjeevsagarsagar3@gmail.com',\n",
       " 'sanjeevsagarsagar3@gmail.com',\n",
       " 'sanjeevsagarsagar3@gmail.com',\n",
       " 'sanjeevsagarsagar3@gmail.com',\n",
       " 'sanjeevsagarsagar3@gmail.com',\n",
       " 'sanjeevsagarsagar3@gmail.com',\n",
       " 'sanjeevsagarsagar3@gmail.com',\n",
       " 'sanjeevsagarsagar3@gmail.com',\n",
       " 'sanjeevsagarsagar3@gmail.com',\n",
       " 'sanjeevsagarsagar3@gmail.com',\n",
       " 'sanjeevsagarsagar3@gmail.com',\n",
       " 'sanjeevsagarsagar3@gmail.com',\n",
       " 'sanjeevsagarsagar3@gmail.com',\n",
       " 'sanjeevsagarsagar3@gmail.com',\n",
       " 'sanjeevsagarsagar3@gmail.com',\n",
       " 'sanjeevsagarsagar3@gmail.com',\n",
       " 'sanjeevsagarsagar3@gmail.com',\n",
       " 'sanjeevsagarsagar3@gmail.com',\n",
       " 'sanjeevsagarsagar3@gmail.com',\n",
       " 'sanjeevsagarsagar3@gmail.com',\n",
       " 'sanjeevsagarsagar3@gmail.com',\n",
       " 'sanjeevsagarsagar3@gmail.com',\n",
       " 'sanjeevsagarsagar3@gmail.com',\n",
       " 'sanjeevsagarsagar3@gmail.com']"
      ]
     },
     "execution_count": 74,
     "metadata": {},
     "output_type": "execute_result"
    }
   ],
   "source": [
    "emails"
   ]
  },
  {
   "cell_type": "code",
   "execution_count": 75,
   "id": "cross-margin",
   "metadata": {},
   "outputs": [
    {
     "name": "stdout",
     "output_type": "stream",
     "text": [
      "Ayush Chakladar\n",
      "3rd degree connection\n",
      "· 3rd\n",
      "Core Committee Member at VIT Spartans\n",
      "India\n",
      "Core committee member at VIT Spartans • 20...\n",
      "Core Committee Member at Mozilla FireFox C...\n",
      "Rating\n",
      "Maybe\n",
      "Applied 1d ago\n",
      "\n",
      "Harshit Tyagi\n",
      "3rd degree connection\n",
      "· 3rd\n",
      "Student at THDC Institute of Hydropower Engineering\n",
      "Uttarakhand, India\n",
      "THDC Institute of Hydropower Engineering: B...\n",
      "Rating\n",
      "Maybe\n",
      "Applied 1d ago\n",
      "See full profile\n",
      "Email applicant at sanjeevsagarsagar3@gmail.com\n",
      "sanjeevsagarsagar3@gmail.com\n",
      "Email address\n",
      "Copy phone number +917388703487 to clipboard\n",
      "+917388703487\n",
      "Copy phone number\n",
      "Himanshu Bhardwaz\n",
      "3rd degree connection\n",
      "· 3rd\n",
      "Full Stack web developer\n",
      "Vellore\n",
      "SDE Intern at LetsEndorse • 2021 - 2021\n",
      "Frontend Developer at JarvIOT Co • 2021 - 20...\n",
      "Applied 8h ago\n",
      "1/1 must-have qualifications\n",
      "See full profile\n",
      "Email applicant at sanjeevsagarsagar3@gmail.com\n",
      "sanjeevsagarsagar3@gmail.com\n",
      "Email address\n",
      "Copy phone number +917388703487 to clipboard\n",
      "+917388703487\n",
      "Copy phone number\n",
      "Manmohan Kumar\n",
      "3rd degree connection\n",
      "· 3rd\n",
      "Student at Lovely Professional University\n",
      "Solan\n",
      "Lovely Professional University: Bachelor of Te...\n",
      "Rating\n",
      "Maybe\n",
      "Applied 1d ago\n",
      "See full profile\n",
      "Email applicant at sanjeevsagarsagar3@gmail.com\n",
      "sanjeevsagarsagar3@gmail.com\n",
      "Email address\n",
      "Copy phone number +917388703487 to clipboard\n",
      "+917388703487\n",
      "Copy phone number\n",
      "Rajat Dhiman\n",
      "3rd degree connection\n",
      "· 3rd\n",
      "Consultant- Software Assets Management at EY\n",
      "Gurgaon\n",
      "Consultant at EY • 2020 - Present\n",
      "Associate Consultant at EY • 2019 - 2020\n",
      "Applied 9h ago\n",
      "1/1 must-have qualifications\n",
      "See full profile\n",
      "Email applicant at sanjeevsagarsagar3@gmail.com\n",
      "sanjeevsagarsagar3@gmail.com\n",
      "Email address\n",
      "Copy phone number +917388703487 to clipboard\n",
      "+917388703487\n",
      "Copy phone number\n",
      "Jay Kakkar\n",
      "3rd degree connection\n",
      "· 3rd\n",
      "Full Stack Web Developer |Andriod App Developer | Student at MSIT\n",
      "Delhi, India\n",
      "Maharaja Surajmal Institute Of Technology: Ba...\n",
      "Kulachi Hansraj Model School - India\n",
      "Rating\n",
      "Maybe\n",
      "Applied 18h ago\n",
      "See full profile\n",
      "Email applicant at sanjeevsagarsagar3@gmail.com\n",
      "sanjeevsagarsagar3@gmail.com\n",
      "Email address\n",
      "Copy phone number +917388703487 to clipboard\n",
      "+917388703487\n",
      "Copy phone number\n",
      "Neeraj Yadav\n",
      "3rd degree connection\n",
      "· 3rd\n",
      "Student at Guru Gobind Singh Indraprastha University\n",
      "New Delhi\n",
      "Guru Gobind Singh Indraprastha University: B...\n",
      "Applied 5h ago\n",
      "1/1 must-have qualifications\n",
      "See full profile\n",
      "Email applicant at sanjeevsagarsagar3@gmail.com\n",
      "sanjeevsagarsagar3@gmail.com\n",
      "Email address\n",
      "Copy phone number +917388703487 to clipboard\n",
      "+917388703487\n",
      "Copy phone number\n",
      "Rahul Gupta\n",
      "3rd degree connection\n",
      "· 3rd\n",
      "MERN developer || Data Analyst || Competitive coder\n",
      "Alwar\n",
      "National Institute of Technology Silchar: Bach...\n",
      "Applied 1h ago\n",
      "1/1 must-have qualifications\n",
      "See full profile\n",
      "Email applicant at sanjeevsagarsagar3@gmail.com\n",
      "sanjeevsagarsagar3@gmail.com\n",
      "Email address\n",
      "Copy phone number +917388703487 to clipboard\n",
      "+917388703487\n",
      "Copy phone number\n",
      "Somya Gupta\n",
      "3rd degree connection\n",
      "· 3rd\n",
      "Technical coordinator at Developer Students Club JIIT Noida | MERN developer Intern at koder |fullstack stack developer\n",
      "New Delhi\n",
      "Jaypee Institute Of Information Technology: B...\n",
      "Applied 8h ago\n",
      "1/1 must-have qualifications\n",
      "See full profile\n",
      "Email applicant at sanjeevsagarsagar3@gmail.com\n",
      "sanjeevsagarsagar3@gmail.com\n",
      "Email address\n",
      "Copy phone number +917388703487 to clipboard\n",
      "+917388703487\n",
      "Copy phone number\n",
      "Titir Biswas\n",
      "Passionate developer and tech enthusiast\n",
      "West Bengal, India\n",
      "NIT Jalandhar: Bachelor of Technology - BTec...\n",
      "Applied 8h ago\n",
      "1/1 must-have qualifications\n",
      "See full profile\n",
      "Email applicant at sanjeevsagarsagar3@gmail.com\n",
      "sanjeevsagarsagar3@gmail.com\n",
      "Email address\n",
      "Copy phone number +917388703487 to clipboard\n",
      "+917388703487\n",
      "Copy phone number\n",
      "Vishal Kumar\n",
      "3rd degree connection\n",
      "· 3rd\n",
      "Student\n",
      "Patna\n",
      "Business Development Executive at Pickara • ...\n",
      "International Institute of Information Technolo...\n",
      "Rating\n",
      "Maybe\n",
      "Applied 1d ago\n",
      "See full profile\n",
      "Email applicant at sanjeevsagarsagar3@gmail.com\n",
      "sanjeevsagarsagar3@gmail.com\n",
      "Email address\n",
      "Copy phone number +917388703487 to clipboard\n",
      "+917388703487\n",
      "Copy phone number\n",
      "Ashwani Yadav\n",
      "2nd degree connection\n",
      "· 2nd\n",
      "ECE Undergrad @ IIT G\n",
      "New Delhi\n",
      "General Executive at Student Alumni Interacti...\n",
      "Club Member at IITG.ai • 2020 - 2021\n",
      "Rating\n",
      "Maybe\n",
      "Applied 1d ago\n",
      "See full profile\n",
      "Email applicant at sanjeevsagarsagar3@gmail.com\n",
      "sanjeevsagarsagar3@gmail.com\n",
      "Email address\n",
      "Copy phone number +917388703487 to clipboard\n",
      "+917388703487\n",
      "Copy phone number\n",
      "kuldeep tiwari\n",
      "3rd degree connection\n",
      "· 3rd\n",
      "Student at GLA university\n",
      "Lucknow\n",
      "Web Developer at Altruism Labs • 2021 - 2021\n",
      "node.js development at Youth India Foundatio...\n",
      "Applied 1d ago\n",
      "1/1 must-have qualifications\n",
      "See full profile\n",
      "Email applicant at sanjeevsagarsagar3@gmail.com\n",
      "sanjeevsagarsagar3@gmail.com\n",
      "Email address\n",
      "Copy phone number +917388703487 to clipboard\n",
      "+917388703487\n",
      "Copy phone number\n",
      "Tamarai selvan Ravi\n",
      "Student at Government College of Engineering, Bargur\n",
      "Tiruppur district\n",
      "Kongu Polytechnic College, Perundurai, Erode...\n",
      "MIGRO K.I.D.S MATRICULATION HIGHER SCE ...\n",
      "Applied 23m ago\n",
      "1/1 must-have qualifications\n",
      "See full profile\n",
      "Email applicant at sanjeevsagarsagar3@gmail.com\n",
      "sanjeevsagarsagar3@gmail.com\n",
      "Email address\n",
      "Copy phone number +917388703487 to clipboard\n",
      "+917388703487\n",
      "Copy phone number\n",
      "Rajeev Sharma\n",
      "3rd degree connection\n",
      "· 3rd\n",
      "Seeking Job/Internship for full stack Data Science | Data Science Graduate | Python Developer | GCP Data Engineer Certification\n",
      "New Delhi\n",
      "Uttar Pradesh Technical University: Bachelor ...\n",
      "Applied 14h ago\n",
      "1/1 must-have qualifications\n",
      "See full profile\n",
      "Email applicant at sanjeevsagarsagar3@gmail.com\n",
      "sanjeevsagarsagar3@gmail.com\n",
      "Email address\n",
      "Copy phone number +917388703487 to clipboard\n",
      "+917388703487\n",
      "Copy phone number\n",
      "Manisha Baghel\n",
      "Student at Rama University\n",
      "Noida\n",
      "Rama University: B.Tech • 2015 - 2019\n",
      "Applied 1d ago\n",
      "1/1 must-have qualifications\n",
      "See full profile\n",
      "Email applicant at sanjeevsagarsagar3@gmail.com\n",
      "sanjeevsagarsagar3@gmail.com\n",
      "Email address\n",
      "Copy phone number +917388703487 to clipboard\n",
      "+917388703487\n",
      "Copy phone number\n",
      "satwik Mishra\n",
      "3rd degree connection\n",
      "· 3rd\n",
      "MERN developer at One24\n",
      "Madhya Pradesh, India\n",
      "MERN developer at One24 • 2021 - Present\n",
      "Machine Learning Intern at Darwin Digitech P...\n",
      "Applied 1d ago\n",
      "1/1 must-have qualifications\n",
      "See full profile\n",
      "Email applicant at sanjeevsagarsagar3@gmail.com\n",
      "sanjeevsagarsagar3@gmail.com\n",
      "Email address\n",
      "Copy phone number +917388703487 to clipboard\n",
      "+917388703487\n",
      "Copy phone number\n",
      "Harish Nishad\n",
      "Computer Science student, looking for internship/full time job opportunity\n",
      "South Delhi\n",
      "Indira Gandhi National Open University: BCA •...\n",
      "Applied 1d ago\n",
      "1/1 must-have qualifications\n",
      "See full profile\n",
      "Email applicant at sanjeevsagarsagar3@gmail.com\n",
      "sanjeevsagarsagar3@gmail.com\n",
      "Email address\n",
      "Copy phone number +917388703487 to clipboard\n",
      "+917388703487\n",
      "Copy phone number\n",
      "Jai singh Yadav\n",
      "3rd degree connection\n",
      "· 3rd\n",
      "Athlete Frontend web designer Forex\n",
      "Jaipur\n",
      "Arya College of Engineering and IT: Bachelor ...\n",
      "Rating\n",
      "Maybe\n",
      "Applied 11h ago\n",
      "See full profile\n",
      "Email applicant at sanjeevsagarsagar3@gmail.com\n",
      "sanjeevsagarsagar3@gmail.com\n",
      "Email address\n",
      "Copy phone number +917388703487 to clipboard\n",
      "+917388703487\n",
      "Copy phone number\n",
      "Manan Garg\n",
      "3rd degree connection\n",
      "· 3rd\n",
      "Student at G.L. Bajaj Institute of Technology And Management\n",
      "Delhi, India\n",
      "Python Developer at Codec Networks Pvt Ltd ...\n",
      "Web Developer at Unhu Entertainment LLP - ...\n",
      "Rating\n",
      "Maybe\n",
      "Applied 1d ago\n",
      "See full profile\n",
      "Email applicant at sanjeevsagarsagar3@gmail.com\n",
      "sanjeevsagarsagar3@gmail.com\n",
      "Email address\n",
      "Copy phone number +917388703487 to clipboard\n",
      "+917388703487\n",
      "Copy phone number\n",
      "vaishnavi khurana\n",
      "2nd degree connection\n",
      "· 2nd\n",
      "GHC21scholar|| 2* codechef || lgmsoc21|| Passionate about learning new tech stack!\n",
      "West Delhi\n",
      "Content Writer at Subons LLP • 2019 - 2020\n",
      "Guru Gobind Singh Indraprastha University: B...\n",
      "Applied 22h ago\n",
      "1/1 must-have qualifications\n",
      "See full profile\n",
      "Email applicant at sanjeevsagarsagar3@gmail.com\n",
      "sanjeevsagarsagar3@gmail.com\n",
      "Email address\n",
      "Copy phone number +917388703487 to clipboard\n",
      "+917388703487\n",
      "Copy phone number\n",
      "Samir Gayatri\n",
      "2nd degree connection\n",
      "· 2nd\n",
      "Geeks | Leadership Qualities | Looking For Internship\n",
      "Gorakhpur\n",
      "Student at Dr. A.P.J. Abdul Kalam Technical U...\n",
      "Campus Ambassador at Collegedunia • 2020 ...\n",
      "Rating\n",
      "Maybe\n",
      "Applied 11h ago\n",
      "See full profile\n",
      "Email applicant at sanjeevsagarsagar3@gmail.com\n",
      "sanjeevsagarsagar3@gmail.com\n",
      "Email address\n",
      "Copy phone number +917388703487 to clipboard\n",
      "+917388703487\n",
      "Copy phone number\n",
      "Prashant kaushik\n",
      "3rd degree connection\n",
      "· 3rd\n",
      "Young Hustler\n",
      "New Delhi\n",
      "Dr Akhilesh Das Gupta Institute of Technology...\n",
      "Applied 10h ago\n",
      "1/1 must-have qualifications\n",
      "See full profile\n",
      "Email applicant at sanjeevsagarsagar3@gmail.com\n",
      "sanjeevsagarsagar3@gmail.com\n",
      "Email address\n",
      "Copy phone number +917388703487 to clipboard\n",
      "+917388703487\n",
      "Copy phone number\n",
      "RUTWIK MOON\n",
      "3rd degree connection\n",
      "· 3rd\n",
      "Student at Technocrats Institute of Technology (Excellence), Anand Nagar, PB No. 24, Post Piplani, BHEL, Bhopal\n",
      "Bhopal\n",
      "Technocrats Institute of Technology (Excellen...\n",
      "Rating\n",
      "Maybe\n",
      "Applied 9h ago\n",
      "See full profile\n",
      "Email applicant at sanjeevsagarsagar3@gmail.com\n",
      "sanjeevsagarsagar3@gmail.com\n",
      "Email address\n",
      "Copy phone number +917388703487 to clipboard\n",
      "+917388703487\n",
      "Copy phone number\n"
     ]
    },
    {
     "name": "stdout",
     "output_type": "stream",
     "text": [
      "Sanjeev Sagar\n",
      "3rd degree connection\n",
      "· 3rd\n",
      "Python | web developer(Django) | Student\n",
      "Lucknow\n",
      "Dr. A.P.J. Abdul Kalam Technical University: B....\n",
      "Oxford Public School - India: Intermediate\n",
      "Rating\n",
      "Maybe\n",
      "Applied 11h ago\n",
      "See full profile\n",
      "Email applicant at sanjeevsagarsagar3@gmail.com\n",
      "sanjeevsagarsagar3@gmail.com\n",
      "Email address\n",
      "Copy phone number +917388703487 to clipboard\n",
      "+917388703487\n",
      "Copy phone number\n"
     ]
    }
   ],
   "source": [
    "for i in range(1, 26):\n",
    "    a = driver.find_element_by_xpath(f'/html/body/div[6]/div[3]/div/div[3]/div/div/div[3]/ul/li[{i}]')\n",
    "    print(a.text)\n",
    "    b = driver.find_element_by_xpath('//*[@id=\"ember199\"]')\n",
    "    b.click()\n",
    "    c = driver.find_element_by_xpath('//*[@id=\"ember200\"]')\n",
    "    print(c.text)"
   ]
  },
  {
   "cell_type": "code",
   "execution_count": 85,
   "id": "compatible-lucas",
   "metadata": {
    "scrolled": true
   },
   "outputs": [
    {
     "ename": "NoSuchElementException",
     "evalue": "Message: no such element: Unable to locate element: {\"method\":\"xpath\",\"selector\":\"//*[@id=\"ember199\"]\"}\n  (Session info: chrome=91.0.4472.114)\n",
     "output_type": "error",
     "traceback": [
      "\u001b[0;31m---------------------------------------------------------------------------\u001b[0m",
      "\u001b[0;31mNoSuchElementException\u001b[0m                    Traceback (most recent call last)",
      "\u001b[0;32m<ipython-input-85-bec1080130f8>\u001b[0m in \u001b[0;36m<module>\u001b[0;34m\u001b[0m\n\u001b[1;32m      5\u001b[0m     \u001b[0ma\u001b[0m\u001b[0;34m.\u001b[0m\u001b[0mclick\u001b[0m\u001b[0;34m(\u001b[0m\u001b[0;34m)\u001b[0m\u001b[0;34m\u001b[0m\u001b[0;34m\u001b[0m\u001b[0m\n\u001b[1;32m      6\u001b[0m     \u001b[0mtime\u001b[0m\u001b[0;34m.\u001b[0m\u001b[0msleep\u001b[0m\u001b[0;34m(\u001b[0m\u001b[0;36m2\u001b[0m\u001b[0;34m)\u001b[0m\u001b[0;34m\u001b[0m\u001b[0;34m\u001b[0m\u001b[0m\n\u001b[0;32m----> 7\u001b[0;31m     \u001b[0mb\u001b[0m \u001b[0;34m=\u001b[0m \u001b[0mdriver\u001b[0m\u001b[0;34m.\u001b[0m\u001b[0mfind_element_by_xpath\u001b[0m\u001b[0;34m(\u001b[0m\u001b[0;34m'//*[@id=\"ember199\"]'\u001b[0m\u001b[0;34m)\u001b[0m\u001b[0;34m\u001b[0m\u001b[0;34m\u001b[0m\u001b[0m\n\u001b[0m\u001b[1;32m      8\u001b[0m     \u001b[0mb\u001b[0m\u001b[0;34m.\u001b[0m\u001b[0mclick\u001b[0m\u001b[0;34m(\u001b[0m\u001b[0;34m)\u001b[0m\u001b[0;34m\u001b[0m\u001b[0;34m\u001b[0m\u001b[0m\n\u001b[1;32m      9\u001b[0m     \u001b[0mc\u001b[0m \u001b[0;34m=\u001b[0m \u001b[0mdriver\u001b[0m\u001b[0;34m.\u001b[0m\u001b[0mfind_element_by_xpath\u001b[0m\u001b[0;34m(\u001b[0m\u001b[0;34m'//*[@id=\"ember200\"]'\u001b[0m\u001b[0;34m)\u001b[0m\u001b[0;34m\u001b[0m\u001b[0;34m\u001b[0m\u001b[0m\n",
      "\u001b[0;32m/opt/anaconda3/lib/python3.8/site-packages/selenium/webdriver/remote/webdriver.py\u001b[0m in \u001b[0;36mfind_element_by_xpath\u001b[0;34m(self, xpath)\u001b[0m\n\u001b[1;32m    392\u001b[0m             \u001b[0melement\u001b[0m \u001b[0;34m=\u001b[0m \u001b[0mdriver\u001b[0m\u001b[0;34m.\u001b[0m\u001b[0mfind_element_by_xpath\u001b[0m\u001b[0;34m(\u001b[0m\u001b[0;34m'//div/td[1]'\u001b[0m\u001b[0;34m)\u001b[0m\u001b[0;34m\u001b[0m\u001b[0;34m\u001b[0m\u001b[0m\n\u001b[1;32m    393\u001b[0m         \"\"\"\n\u001b[0;32m--> 394\u001b[0;31m         \u001b[0;32mreturn\u001b[0m \u001b[0mself\u001b[0m\u001b[0;34m.\u001b[0m\u001b[0mfind_element\u001b[0m\u001b[0;34m(\u001b[0m\u001b[0mby\u001b[0m\u001b[0;34m=\u001b[0m\u001b[0mBy\u001b[0m\u001b[0;34m.\u001b[0m\u001b[0mXPATH\u001b[0m\u001b[0;34m,\u001b[0m \u001b[0mvalue\u001b[0m\u001b[0;34m=\u001b[0m\u001b[0mxpath\u001b[0m\u001b[0;34m)\u001b[0m\u001b[0;34m\u001b[0m\u001b[0;34m\u001b[0m\u001b[0m\n\u001b[0m\u001b[1;32m    395\u001b[0m \u001b[0;34m\u001b[0m\u001b[0m\n\u001b[1;32m    396\u001b[0m     \u001b[0;32mdef\u001b[0m \u001b[0mfind_elements_by_xpath\u001b[0m\u001b[0;34m(\u001b[0m\u001b[0mself\u001b[0m\u001b[0;34m,\u001b[0m \u001b[0mxpath\u001b[0m\u001b[0;34m)\u001b[0m\u001b[0;34m:\u001b[0m\u001b[0;34m\u001b[0m\u001b[0;34m\u001b[0m\u001b[0m\n",
      "\u001b[0;32m/opt/anaconda3/lib/python3.8/site-packages/selenium/webdriver/remote/webdriver.py\u001b[0m in \u001b[0;36mfind_element\u001b[0;34m(self, by, value)\u001b[0m\n\u001b[1;32m    974\u001b[0m                 \u001b[0mby\u001b[0m \u001b[0;34m=\u001b[0m \u001b[0mBy\u001b[0m\u001b[0;34m.\u001b[0m\u001b[0mCSS_SELECTOR\u001b[0m\u001b[0;34m\u001b[0m\u001b[0;34m\u001b[0m\u001b[0m\n\u001b[1;32m    975\u001b[0m                 \u001b[0mvalue\u001b[0m \u001b[0;34m=\u001b[0m \u001b[0;34m'[name=\"%s\"]'\u001b[0m \u001b[0;34m%\u001b[0m \u001b[0mvalue\u001b[0m\u001b[0;34m\u001b[0m\u001b[0;34m\u001b[0m\u001b[0m\n\u001b[0;32m--> 976\u001b[0;31m         return self.execute(Command.FIND_ELEMENT, {\n\u001b[0m\u001b[1;32m    977\u001b[0m             \u001b[0;34m'using'\u001b[0m\u001b[0;34m:\u001b[0m \u001b[0mby\u001b[0m\u001b[0;34m,\u001b[0m\u001b[0;34m\u001b[0m\u001b[0;34m\u001b[0m\u001b[0m\n\u001b[1;32m    978\u001b[0m             'value': value})['value']\n",
      "\u001b[0;32m/opt/anaconda3/lib/python3.8/site-packages/selenium/webdriver/remote/webdriver.py\u001b[0m in \u001b[0;36mexecute\u001b[0;34m(self, driver_command, params)\u001b[0m\n\u001b[1;32m    319\u001b[0m         \u001b[0mresponse\u001b[0m \u001b[0;34m=\u001b[0m \u001b[0mself\u001b[0m\u001b[0;34m.\u001b[0m\u001b[0mcommand_executor\u001b[0m\u001b[0;34m.\u001b[0m\u001b[0mexecute\u001b[0m\u001b[0;34m(\u001b[0m\u001b[0mdriver_command\u001b[0m\u001b[0;34m,\u001b[0m \u001b[0mparams\u001b[0m\u001b[0;34m)\u001b[0m\u001b[0;34m\u001b[0m\u001b[0;34m\u001b[0m\u001b[0m\n\u001b[1;32m    320\u001b[0m         \u001b[0;32mif\u001b[0m \u001b[0mresponse\u001b[0m\u001b[0;34m:\u001b[0m\u001b[0;34m\u001b[0m\u001b[0;34m\u001b[0m\u001b[0m\n\u001b[0;32m--> 321\u001b[0;31m             \u001b[0mself\u001b[0m\u001b[0;34m.\u001b[0m\u001b[0merror_handler\u001b[0m\u001b[0;34m.\u001b[0m\u001b[0mcheck_response\u001b[0m\u001b[0;34m(\u001b[0m\u001b[0mresponse\u001b[0m\u001b[0;34m)\u001b[0m\u001b[0;34m\u001b[0m\u001b[0;34m\u001b[0m\u001b[0m\n\u001b[0m\u001b[1;32m    322\u001b[0m             response['value'] = self._unwrap_value(\n\u001b[1;32m    323\u001b[0m                 response.get('value', None))\n",
      "\u001b[0;32m/opt/anaconda3/lib/python3.8/site-packages/selenium/webdriver/remote/errorhandler.py\u001b[0m in \u001b[0;36mcheck_response\u001b[0;34m(self, response)\u001b[0m\n\u001b[1;32m    240\u001b[0m                 \u001b[0malert_text\u001b[0m \u001b[0;34m=\u001b[0m \u001b[0mvalue\u001b[0m\u001b[0;34m[\u001b[0m\u001b[0;34m'alert'\u001b[0m\u001b[0;34m]\u001b[0m\u001b[0;34m.\u001b[0m\u001b[0mget\u001b[0m\u001b[0;34m(\u001b[0m\u001b[0;34m'text'\u001b[0m\u001b[0;34m)\u001b[0m\u001b[0;34m\u001b[0m\u001b[0;34m\u001b[0m\u001b[0m\n\u001b[1;32m    241\u001b[0m             \u001b[0;32mraise\u001b[0m \u001b[0mexception_class\u001b[0m\u001b[0;34m(\u001b[0m\u001b[0mmessage\u001b[0m\u001b[0;34m,\u001b[0m \u001b[0mscreen\u001b[0m\u001b[0;34m,\u001b[0m \u001b[0mstacktrace\u001b[0m\u001b[0;34m,\u001b[0m \u001b[0malert_text\u001b[0m\u001b[0;34m)\u001b[0m\u001b[0;34m\u001b[0m\u001b[0;34m\u001b[0m\u001b[0m\n\u001b[0;32m--> 242\u001b[0;31m         \u001b[0;32mraise\u001b[0m \u001b[0mexception_class\u001b[0m\u001b[0;34m(\u001b[0m\u001b[0mmessage\u001b[0m\u001b[0;34m,\u001b[0m \u001b[0mscreen\u001b[0m\u001b[0;34m,\u001b[0m \u001b[0mstacktrace\u001b[0m\u001b[0;34m)\u001b[0m\u001b[0;34m\u001b[0m\u001b[0;34m\u001b[0m\u001b[0m\n\u001b[0m\u001b[1;32m    243\u001b[0m \u001b[0;34m\u001b[0m\u001b[0m\n\u001b[1;32m    244\u001b[0m     \u001b[0;32mdef\u001b[0m \u001b[0m_value_or_default\u001b[0m\u001b[0;34m(\u001b[0m\u001b[0mself\u001b[0m\u001b[0;34m,\u001b[0m \u001b[0mobj\u001b[0m\u001b[0;34m,\u001b[0m \u001b[0mkey\u001b[0m\u001b[0;34m,\u001b[0m \u001b[0mdefault\u001b[0m\u001b[0;34m)\u001b[0m\u001b[0;34m:\u001b[0m\u001b[0;34m\u001b[0m\u001b[0;34m\u001b[0m\u001b[0m\n",
      "\u001b[0;31mNoSuchElementException\u001b[0m: Message: no such element: Unable to locate element: {\"method\":\"xpath\",\"selector\":\"//*[@id=\"ember199\"]\"}\n  (Session info: chrome=91.0.4472.114)\n"
     ]
    }
   ],
   "source": [
    "# //*[@id=\"ember1504\"]\n",
    "# //*[@id=\"ember1505\"]\n",
    "# /html/body/div[6]/div[3]/div/div[3]/div/main/div/div[1]/div[1]/div[1]/div[2]/div[3]/div\n",
    "# /html/body/div[6]/div[3]/div/div[3]/div/main/div/div[1]/div[1]/div[1]/div[2]/div[3]/div\n",
    "\n",
    "# //*[@id=\"ember202\"]\n",
    "# /html/body/div[6]/div[3]/div/div[3]/div/main/div/div[1]/div[1]/div[1]/div[2]/div[3]/div\n",
    "import time\n",
    "count = 0\n",
    "for i in range(1, 26):\n",
    "    a = driver.find_element_by_xpath(f'/html/body/div[6]/div[3]/div/div[3]/div/div/div[3]/ul/li[{i}]')\n",
    "    a.click()\n",
    "    time.sleep(2)\n",
    "    b = driver.find_element_by_xpath('//*[@id=\"ember199\"]')\n",
    "    b.click()\n",
    "    c = driver.find_element_by_xpath('//*[@id=\"ember200\"]')\n",
    "    print(c.text)\n",
    "    print(count)\n",
    "    count+=1"
   ]
  },
  {
   "cell_type": "code",
   "execution_count": 81,
   "id": "expressed-station",
   "metadata": {},
   "outputs": [],
   "source": [
    "a = driver.find_element_by_xpath('/html/body/div[6]/div[3]/div/div[3]/div/div/div[3]/ul/li[25]')\n",
    "a.click()"
   ]
  },
  {
   "cell_type": "code",
   "execution_count": 87,
   "id": "crazy-diary",
   "metadata": {},
   "outputs": [
    {
     "data": {
      "text/plain": [
       "''"
      ]
     },
     "execution_count": 87,
     "metadata": {},
     "output_type": "execute_result"
    }
   ],
   "source": [
    "elem = driver.find_element_by_xpath('/html/body/div[6]/div[3]/div/div[3]/div/main/div/div[1]/div[1]/div[1]/div[2]/div[3]/div')\n",
    "elem.text"
   ]
  },
  {
   "cell_type": "code",
   "execution_count": 88,
   "id": "human-peripheral",
   "metadata": {},
   "outputs": [
    {
     "data": {
      "text/plain": [
       "True"
      ]
     },
     "execution_count": 88,
     "metadata": {},
     "output_type": "execute_result"
    }
   ],
   "source": [
    "'/html/body/div[6]/div[3]/div/div[3]/div/main/div/div[1]/div[1]/div[1]/div[2]/div[3]/div' == '/html/body/div[6]/div[3]/div/div[3]/div/main/div/div[1]/div[1]/div[1]/div[2]/div[3]/div'"
   ]
  },
  {
   "cell_type": "code",
   "execution_count": 89,
   "id": "signed-prototype",
   "metadata": {},
   "outputs": [
    {
     "name": "stdout",
     "output_type": "stream",
     "text": [
      "See full profile\n",
      "Email applicant at himanshu76200@gmail.com\n",
      "himanshu76200@gmail.com\n",
      "Email address\n",
      "Copy phone number +919709234000 to clipboard\n",
      "+919709234000\n",
      "Copy phone number\n",
      "0\n",
      "See full profile\n",
      "Email applicant at ayush.chakladar@gmail.com\n",
      "ayush.chakladar@gmail.com\n",
      "Email address\n",
      "Copy phone number +918347290125 to clipboard\n",
      "+918347290125\n",
      "Copy phone number\n",
      "1\n",
      "See full profile\n",
      "Email applicant at harshitt79@gmail.com\n",
      "harshitt79@gmail.com\n",
      "Email address\n",
      "Copy phone number +919756043631 to clipboard\n",
      "+919756043631\n",
      "Copy phone number\n",
      "2\n",
      "See full profile\n",
      "Email applicant at kmanmohan030@gmail.com\n",
      "kmanmohan030@gmail.com\n",
      "Email address\n",
      "Copy phone number +919218100126 to clipboard\n",
      "+919218100126\n",
      "Copy phone number\n",
      "3\n",
      "See full profile\n",
      "Email applicant at rajat.dhiman007@gmail.com\n",
      "rajat.dhiman007@gmail.com\n",
      "Email address\n",
      "Copy phone number +918860477730 to clipboard\n",
      "+918860477730\n",
      "Copy phone number\n",
      "4\n",
      "See full profile\n",
      "Email applicant at neerajy125@gmail.com\n",
      "neerajy125@gmail.com\n",
      "Email address\n",
      "Copy phone number +917011995800 to clipboard\n",
      "+917011995800\n",
      "Copy phone number\n",
      "5\n",
      "See full profile\n",
      "Email applicant at samirgupta19670@gmail.com\n",
      "samirgupta19670@gmail.com\n",
      "Email address\n",
      "Copy phone number +919170808019 to clipboard\n",
      "+919170808019\n",
      "Copy phone number\n",
      "6\n",
      "See full profile\n",
      "Email applicant at jaykakkar31@gmail.com\n",
      "jaykakkar31@gmail.com\n",
      "Email address\n",
      "Copy phone number +919868632455 to clipboard\n",
      "+919868632455\n",
      "Copy phone number\n",
      "7\n",
      "See full profile\n",
      "Email applicant at rahulgupta6350567@gmail.com\n",
      "rahulgupta6350567@gmail.com\n",
      "Email address\n",
      "Copy phone number +916350567599 to clipboard\n",
      "+916350567599\n",
      "Copy phone number\n",
      "8\n",
      "See full profile\n",
      "Email applicant at somyagupta746@gmail.com\n",
      "somyagupta746@gmail.com\n",
      "Email address\n",
      "Copy phone number +918287526476 to clipboard\n",
      "+918287526476\n",
      "Copy phone number\n",
      "9\n",
      "See full profile\n",
      "Email applicant at titirb.ip.19@nitj.ac.in\n",
      "titirb.ip.19@nitj.ac.in\n",
      "Email address\n",
      "Copy phone number +917047048498 to clipboard\n",
      "+917047048498\n",
      "Copy phone number\n",
      "10\n",
      "See full profile\n",
      "Email applicant at 2000kuldeeptiwari@gmail.com\n",
      "2000kuldeeptiwari@gmail.com\n",
      "Email address\n",
      "Copy phone number +917275097161 to clipboard\n",
      "+917275097161\n",
      "Copy phone number\n",
      "11\n",
      "See full profile\n",
      "Email applicant at ashwani.shr002@gmail.com\n",
      "ashwani.shr002@gmail.com\n",
      "Email address\n",
      "Copy phone number +916398275066 to clipboard\n",
      "+916398275066\n",
      "Copy phone number\n",
      "12\n",
      "See full profile\n",
      "Email applicant at tamaraiselvan98@gmail.com\n",
      "tamaraiselvan98@gmail.com\n",
      "Email address\n",
      "Copy phone number +919688814221 to clipboard\n",
      "+919688814221\n",
      "Copy phone number\n",
      "13\n",
      "See full profile\n",
      "Email applicant at vkhurana50b@gmail.com\n",
      "vkhurana50b@gmail.com\n",
      "Email address\n",
      "Copy phone number +918447705359 to clipboard\n",
      "+918447705359\n",
      "Copy phone number\n",
      "14\n",
      "See full profile\n",
      "Email applicant at mishra.satwik9532@gmail.com\n",
      "mishra.satwik9532@gmail.com\n",
      "Email address\n",
      "Copy phone number +919621525088 to clipboard\n",
      "+919621525088\n",
      "Copy phone number\n",
      "15\n",
      "See full profile\n",
      "Email applicant at jobforvishal@outlook.com\n",
      "jobforvishal@outlook.com\n",
      "Email address\n",
      "Copy phone number +916239135363 to clipboard\n",
      "+916239135363\n",
      "Copy phone number\n",
      "16\n",
      "See full profile\n",
      "17\n",
      "See full profile\n",
      "Email applicant at harish.nishad0775@gmail.com\n",
      "harish.nishad0775@gmail.com\n",
      "Email address\n",
      "Copy phone number +919319130910 to clipboard\n",
      "+919319130910\n",
      "Copy phone number\n",
      "18\n",
      "See full profile\n",
      "Email applicant at manishabaghel1122@gmail.com\n",
      "manishabaghel1122@gmail.com\n",
      "Email address\n",
      "Copy phone number +919151358369 to clipboard\n",
      "+919151358369\n",
      "Copy phone number\n",
      "19\n",
      "\n",
      "20\n",
      "See full profile\n",
      "21\n",
      "See full profile\n",
      "Email applicant at prashantkaushik012@gmail.com\n",
      "prashantkaushik012@gmail.com\n",
      "Email address\n",
      "Copy phone number +918802560637 to clipboard\n",
      "+918802560637\n",
      "Copy phone number\n",
      "22\n",
      "See full profile\n",
      "Email applicant at rutwikdmoon@gmail.com\n",
      "rutwikdmoon@gmail.com\n",
      "Email address\n",
      "Copy phone number +91(917) 975-5990 to clipboard\n",
      "+91(917) 975-5990\n",
      "Copy phone number\n",
      "23\n",
      "See full profile\n",
      "Email applicant at sanjeevsagarsagar3@gmail.com\n",
      "sanjeevsagarsagar3@gmail.com\n",
      "Email address\n",
      "Copy phone number +917388703487 to clipboard\n",
      "+917388703487\n",
      "Copy phone number\n",
      "24\n"
     ]
    }
   ],
   "source": [
    "import time\n",
    "count = 0\n",
    "for i in range(1, 26):\n",
    "    a = driver.find_element_by_xpath(f'/html/body/div[6]/div[3]/div/div[3]/div/div/div[3]/ul/li[{i}]')\n",
    "    a.click()\n",
    "    time.sleep(2)\n",
    "    b = driver.find_element_by_xpath('/html/body/div[6]/div[3]/div/div[3]/div/main/div/div[1]/div[1]/div[1]/div[2]/div[3]/button')\n",
    "    b.click()\n",
    "    c = driver.find_element_by_xpath('/html/body/div[6]/div[3]/div/div[3]/div/main/div/div[1]/div[1]/div[1]/div[2]/div[3]/div')\n",
    "    print(c.text)\n",
    "    print(count)\n",
    "    count+=1"
   ]
  },
  {
   "cell_type": "code",
   "execution_count": 97,
   "id": "threaded-efficiency",
   "metadata": {
    "scrolled": true
   },
   "outputs": [
    {
     "name": "stdout",
     "output_type": "stream",
     "text": [
      "\n",
      "0\n",
      "See full profile\n",
      "Email applicant at ayush.chakladar@gmail.com\n",
      "ayush.chakladar@gmail.com\n",
      "Email address\n",
      "Copy phone number +918347290125 to clipboard\n",
      "+918347290125\n",
      "Copy phone number\n",
      "1\n",
      "See full profile\n",
      "Email applicant at harshitt79@gmail.com\n",
      "harshitt79@gmail.com\n",
      "Email address\n",
      "Copy phone number +919756043631 to clipboard\n",
      "+919756043631\n",
      "Copy phone number\n",
      "2\n",
      "See full profile\n",
      "Email applicant at kmanmohan030@gmail.com\n",
      "kmanmohan030@gmail.com\n",
      "Email address\n",
      "Copy phone number +919218100126 to clipboard\n",
      "+919218100126\n",
      "Copy phone number\n",
      "3\n",
      "\n",
      "4\n"
     ]
    },
    {
     "ename": "KeyboardInterrupt",
     "evalue": "",
     "output_type": "error",
     "traceback": [
      "\u001b[0;31m---------------------------------------------------------------------------\u001b[0m",
      "\u001b[0;31mKeyboardInterrupt\u001b[0m                         Traceback (most recent call last)",
      "\u001b[0;32m<ipython-input-97-06cf092c852b>\u001b[0m in \u001b[0;36m<module>\u001b[0;34m\u001b[0m\n\u001b[1;32m      5\u001b[0m     \u001b[0ma\u001b[0m \u001b[0;34m=\u001b[0m \u001b[0mdriver\u001b[0m\u001b[0;34m.\u001b[0m\u001b[0mfind_element_by_xpath\u001b[0m\u001b[0;34m(\u001b[0m\u001b[0;34mf'/html/body/div[5]/div[3]/div/div[3]/div/div/div[3]/ul/li[{i}]'\u001b[0m\u001b[0;34m)\u001b[0m\u001b[0;34m\u001b[0m\u001b[0;34m\u001b[0m\u001b[0m\n\u001b[1;32m      6\u001b[0m     \u001b[0ma\u001b[0m\u001b[0;34m.\u001b[0m\u001b[0mclick\u001b[0m\u001b[0;34m(\u001b[0m\u001b[0;34m)\u001b[0m\u001b[0;34m\u001b[0m\u001b[0;34m\u001b[0m\u001b[0m\n\u001b[0;32m----> 7\u001b[0;31m     \u001b[0mtime\u001b[0m\u001b[0;34m.\u001b[0m\u001b[0msleep\u001b[0m\u001b[0;34m(\u001b[0m\u001b[0;36m3\u001b[0m\u001b[0;34m)\u001b[0m\u001b[0;34m\u001b[0m\u001b[0;34m\u001b[0m\u001b[0m\n\u001b[0m\u001b[1;32m      8\u001b[0m     \u001b[0mb\u001b[0m \u001b[0;34m=\u001b[0m \u001b[0mdriver\u001b[0m\u001b[0;34m.\u001b[0m\u001b[0mfind_element_by_xpath\u001b[0m\u001b[0;34m(\u001b[0m\u001b[0;34m'/html/body/div[5]/div[3]/div/div[3]/div/main/div/div[1]/div[1]/div[1]/div[2]/div[3]/button'\u001b[0m\u001b[0;34m)\u001b[0m\u001b[0;34m\u001b[0m\u001b[0;34m\u001b[0m\u001b[0m\n\u001b[1;32m      9\u001b[0m     \u001b[0mb\u001b[0m\u001b[0;34m.\u001b[0m\u001b[0mclick\u001b[0m\u001b[0;34m(\u001b[0m\u001b[0;34m)\u001b[0m\u001b[0;34m\u001b[0m\u001b[0;34m\u001b[0m\u001b[0m\n",
      "\u001b[0;31mKeyboardInterrupt\u001b[0m: "
     ]
    }
   ],
   "source": [
    "# /html/body/div[5]/div[3]/div/div[3]/div/div/div[3]/ul/li[1]\n",
    "import time\n",
    "count = 0\n",
    "for i in range(1, 26):\n",
    "    a = driver.find_element_by_xpath(f'/html/body/div[5]/div[3]/div/div[3]/div/div/div[3]/ul/li[{i}]')\n",
    "    a.click()\n",
    "    time.sleep(3)\n",
    "    b = driver.find_element_by_xpath('/html/body/div[5]/div[3]/div/div[3]/div/main/div/div[1]/div[1]/div[1]/div[2]/div[3]/button')\n",
    "    b.click()\n",
    "    c = driver.find_element_by_xpath('/html/body/div[5]/div[3]/div/div[3]/div/main/div/div[1]/div[1]/div[1]/div[2]/div[3]/div')\n",
    "    print(c.text)\n",
    "    print(count)\n",
    "    count+=1"
   ]
  },
  {
   "cell_type": "code",
   "execution_count": 101,
   "id": "subsequent-tomato",
   "metadata": {},
   "outputs": [
    {
     "name": "stdout",
     "output_type": "stream",
     "text": [
      "0\n",
      "0\n",
      "0\n",
      "0\n",
      "0\n",
      "0\n",
      "0\n",
      "0\n",
      "0\n",
      "0\n",
      "0\n",
      "0\n",
      "0\n",
      "0\n",
      "0\n",
      "0\n",
      "0\n",
      "0\n",
      "0\n",
      "0\n",
      "0\n",
      "0\n",
      "0\n",
      "0\n",
      "0\n"
     ]
    }
   ],
   "source": [
    "# /html/body/div[5]/div[3]/div/div[3]/div/div/div[3]/ul/li[1]\n",
    "import time\n",
    "count = 0\n",
    "emails = []\n",
    "for i in range(1, 26):\n",
    "    lst = []\n",
    "    a = driver.find_element_by_xpath(f'/html/body/div[5]/div[3]/div/div[3]/div/div/div[3]/ul/li[{i}]')\n",
    "    a.click()\n",
    "    time.sleep(3)\n",
    "    b = driver.find_element_by_xpath('/html/body/div[5]/div[3]/div/div[3]/div/main/div/div[1]/div[1]/div[1]/div[2]/div[3]/button')\n",
    "    b.click()\n",
    "    c = driver.find_element_by_xpath('/html/body/div[5]/div[3]/div/div[3]/div/main/div/div[1]/div[1]/div[1]/div[2]/div[3]/div')\n",
    "    lst = c.text.split('\\n')\n",
    "    emails.append(lst)\n",
    "    print(count)\n",
    "    \n"
   ]
  },
  {
   "cell_type": "code",
   "execution_count": 102,
   "id": "nervous-statistics",
   "metadata": {},
   "outputs": [
    {
     "data": {
      "text/plain": [
       "[['See full profile',\n",
       "  'Email applicant at himanshu76200@gmail.com',\n",
       "  'himanshu76200@gmail.com',\n",
       "  'Email address',\n",
       "  'Copy phone number +919709234000 to clipboard',\n",
       "  '+919709234000',\n",
       "  'Copy phone number'],\n",
       " ['See full profile',\n",
       "  'Email applicant at harshitt79@gmail.com',\n",
       "  'harshitt79@gmail.com',\n",
       "  'Email address',\n",
       "  'Copy phone number +919756043631 to clipboard',\n",
       "  '+919756043631',\n",
       "  'Copy phone number'],\n",
       " ['See full profile',\n",
       "  'Email applicant at kmanmohan030@gmail.com',\n",
       "  'kmanmohan030@gmail.com',\n",
       "  'Email address',\n",
       "  'Copy phone number +919218100126 to clipboard',\n",
       "  '+919218100126',\n",
       "  'Copy phone number'],\n",
       " ['See full profile',\n",
       "  'Email applicant at rajat.dhiman007@gmail.com',\n",
       "  'rajat.dhiman007@gmail.com',\n",
       "  'Email address',\n",
       "  'Copy phone number +918860477730 to clipboard',\n",
       "  '+918860477730',\n",
       "  'Copy phone number'],\n",
       " ['See full profile',\n",
       "  'Email applicant at neerajy125@gmail.com',\n",
       "  'neerajy125@gmail.com',\n",
       "  'Email address',\n",
       "  'Copy phone number +917011995800 to clipboard',\n",
       "  '+917011995800',\n",
       "  'Copy phone number'],\n",
       " ['See full profile',\n",
       "  'Email applicant at ayush.chakladar@gmail.com',\n",
       "  'ayush.chakladar@gmail.com',\n",
       "  'Email address',\n",
       "  'Copy phone number +918347290125 to clipboard',\n",
       "  '+918347290125',\n",
       "  'Copy phone number'],\n",
       " ['See full profile',\n",
       "  'Email applicant at jaykakkar31@gmail.com',\n",
       "  'jaykakkar31@gmail.com',\n",
       "  'Email address',\n",
       "  'Copy phone number +919868632455 to clipboard',\n",
       "  '+919868632455',\n",
       "  'Copy phone number'],\n",
       " ['See full profile',\n",
       "  'Email applicant at rahulgupta6350567@gmail.com',\n",
       "  'rahulgupta6350567@gmail.com',\n",
       "  'Email address',\n",
       "  'Copy phone number +916350567599 to clipboard',\n",
       "  '+916350567599',\n",
       "  'Copy phone number'],\n",
       " ['See full profile',\n",
       "  'Email applicant at somyagupta746@gmail.com',\n",
       "  'somyagupta746@gmail.com',\n",
       "  'Email address',\n",
       "  'Copy phone number +918287526476 to clipboard',\n",
       "  '+918287526476',\n",
       "  'Copy phone number'],\n",
       " ['See full profile',\n",
       "  'Email applicant at titirb.ip.19@nitj.ac.in',\n",
       "  'titirb.ip.19@nitj.ac.in',\n",
       "  'Email address',\n",
       "  'Copy phone number +917047048498 to clipboard',\n",
       "  '+917047048498',\n",
       "  'Copy phone number'],\n",
       " ['See full profile',\n",
       "  'Email applicant at 2000kuldeeptiwari@gmail.com',\n",
       "  '2000kuldeeptiwari@gmail.com',\n",
       "  'Email address',\n",
       "  'Copy phone number +917275097161 to clipboard',\n",
       "  '+917275097161',\n",
       "  'Copy phone number'],\n",
       " [''],\n",
       " ['See full profile',\n",
       "  'Email applicant at tamaraiselvan98@gmail.com',\n",
       "  'tamaraiselvan98@gmail.com',\n",
       "  'Email address',\n",
       "  'Copy phone number +919688814221 to clipboard',\n",
       "  '+919688814221',\n",
       "  'Copy phone number'],\n",
       " ['See full profile',\n",
       "  'Email applicant at mishra.satwik9532@gmail.com',\n",
       "  'mishra.satwik9532@gmail.com',\n",
       "  'Email address',\n",
       "  'Copy phone number +919621525088 to clipboard',\n",
       "  '+919621525088',\n",
       "  'Copy phone number'],\n",
       " [''],\n",
       " [''],\n",
       " ['See full profile',\n",
       "  'Email applicant at harish.nishad0775@gmail.com',\n",
       "  'harish.nishad0775@gmail.com',\n",
       "  'Email address',\n",
       "  'Copy phone number +919319130910 to clipboard',\n",
       "  '+919319130910',\n",
       "  'Copy phone number'],\n",
       " ['See full profile',\n",
       "  'Email applicant at manishabaghel1122@gmail.com',\n",
       "  'manishabaghel1122@gmail.com',\n",
       "  'Email address',\n",
       "  'Copy phone number +919151358369 to clipboard',\n",
       "  '+919151358369',\n",
       "  'Copy phone number'],\n",
       " ['See full profile',\n",
       "  'Email applicant at jaisinghyadavrko@gmail.com',\n",
       "  'jaisinghyadavrko@gmail.com',\n",
       "  'Email address',\n",
       "  'Copy phone number +917232011089 to clipboard',\n",
       "  '+917232011089',\n",
       "  'Copy phone number'],\n",
       " ['See full profile',\n",
       "  'Email applicant at manangarg9f@gmail.com',\n",
       "  'manangarg9f@gmail.com',\n",
       "  'Email address',\n",
       "  'Copy phone number +918860782624 to clipboard',\n",
       "  '+918860782624',\n",
       "  'Copy phone number'],\n",
       " ['See full profile',\n",
       "  'Email applicant at vkhurana50b@gmail.com',\n",
       "  'vkhurana50b@gmail.com',\n",
       "  'Email address',\n",
       "  'Copy phone number +918447705359 to clipboard',\n",
       "  '+918447705359',\n",
       "  'Copy phone number'],\n",
       " ['See full profile',\n",
       "  'Email applicant at prashantkaushik012@gmail.com',\n",
       "  'prashantkaushik012@gmail.com',\n",
       "  'Email address',\n",
       "  'Copy phone number +918802560637 to clipboard',\n",
       "  '+918802560637',\n",
       "  'Copy phone number'],\n",
       " ['See full profile',\n",
       "  'Email applicant at rutwikdmoon@gmail.com',\n",
       "  'rutwikdmoon@gmail.com',\n",
       "  'Email address',\n",
       "  'Copy phone number +91(917) 975-5990 to clipboard',\n",
       "  '+91(917) 975-5990',\n",
       "  'Copy phone number'],\n",
       " ['See full profile',\n",
       "  'Email applicant at Riyad.hasan8282@gmail.com',\n",
       "  'Riyad.hasan8282@gmail.com',\n",
       "  'Email address',\n",
       "  'Copy phone number +880+8801830799683 to clipboard',\n",
       "  '+880+8801830799683',\n",
       "  'Copy phone number'],\n",
       " ['']]"
      ]
     },
     "execution_count": 102,
     "metadata": {},
     "output_type": "execute_result"
    }
   ],
   "source": [
    "emails"
   ]
  },
  {
   "cell_type": "code",
   "execution_count": 105,
   "id": "spectacular-processing",
   "metadata": {},
   "outputs": [
    {
     "name": "stdout",
     "output_type": "stream",
     "text": [
      "0\n",
      "1\n",
      "2\n",
      "3\n",
      "4\n",
      "5\n",
      "6\n",
      "7\n",
      "8\n",
      "9\n",
      "10\n",
      "11\n",
      "12\n",
      "13\n",
      "14\n",
      "15\n",
      "16\n",
      "17\n"
     ]
    }
   ],
   "source": [
    "# /html/body/div[5]/div[3]/div/div[3]/div/div/div[3]/ul/li[1]\n",
    "import time\n",
    "count = 0\n",
    "emails = []\n",
    "for i in range(1, 26):\n",
    "    lst = []\n",
    "    a = driver.find_element_by_xpath(f'/html/body/div[5]/div[3]/div/div[3]/div/div/div[3]/ul/li[{i}]')\n",
    "    a.click()\n",
    "    time.sleep(3)\n",
    "    b = driver.find_element_by_xpath('/html/body/div[5]/div[3]/div/div[3]/div/main/div/div[1]/div[1]/div[1]/div[2]/div[3]/button')\n",
    "    b.click()\n",
    "    c = driver.find_element_by_xpath('/html/body/div[5]/div[3]/div/div[3]/div/main/div/div[1]/div[1]/div[1]/div[2]/div[3]/div')\n",
    "    try:\n",
    "        lst = c.text.split('\\n')\n",
    "        emails.append(lst[2])\n",
    "    except:\n",
    "        continue\n",
    "    print(count)\n",
    "    count+=1"
   ]
  },
  {
   "cell_type": "code",
   "execution_count": 106,
   "id": "entertaining-lambda",
   "metadata": {},
   "outputs": [
    {
     "data": {
      "text/plain": [
       "['himanshu76200@gmail.com',\n",
       " 'harshitt79@gmail.com',\n",
       " 'kmanmohan030@gmail.com',\n",
       " 'neerajy125@gmail.com',\n",
       " 'ayush.chakladar@gmail.com',\n",
       " 'jaykakkar31@gmail.com',\n",
       " 'somyagupta746@gmail.com',\n",
       " 'titirb.ip.19@nitj.ac.in',\n",
       " '2000kuldeeptiwari@gmail.com',\n",
       " 'ashwani.shr002@gmail.com',\n",
       " 'tamaraiselvan98@gmail.com',\n",
       " 'jobforvishal@outlook.com',\n",
       " 'harish.nishad0775@gmail.com',\n",
       " 'jaisinghyadavrko@gmail.com',\n",
       " 'manangarg9f@gmail.com',\n",
       " 'rutwikdmoon@gmail.com',\n",
       " 'Riyad.hasan8282@gmail.com',\n",
       " 'sanjeevsagarsagar3@gmail.com']"
      ]
     },
     "execution_count": 106,
     "metadata": {},
     "output_type": "execute_result"
    }
   ],
   "source": [
    "emails"
   ]
  },
  {
   "cell_type": "code",
   "execution_count": 113,
   "id": "surprising-quest",
   "metadata": {
    "collapsed": true
   },
   "outputs": [
    {
     "name": "stdout",
     "output_type": "stream",
     "text": [
      "0\n",
      "failed 1\n",
      "failed 2\n",
      "3\n",
      "4\n",
      "5\n",
      "6\n",
      "failed 7\n",
      "8\n",
      "9\n",
      "10\n",
      "11\n",
      "12\n",
      "13\n",
      "14\n",
      "15\n",
      "16\n",
      "17\n",
      "18\n",
      "19\n",
      "20\n",
      "21\n",
      "22\n",
      "23\n",
      "24\n"
     ]
    }
   ],
   "source": [
    "# /html/body/div[5]/div[3]/div/div[3]/div/div/div[3]/ul/li[1]\n",
    "import time\n",
    "count = 0\n",
    "emails = []\n",
    "for i in range(1, 26):\n",
    "    lst = []\n",
    "    a = driver.find_element_by_xpath(f'/html/body/div[5]/div[3]/div/div[3]/div/div/div[3]/ul/li[{i}]')\n",
    "    a.click()\n",
    "    time.sleep(5)\n",
    "    b = driver.find_element_by_xpath('/html/body/div[5]/div[3]/div/div[3]/div/main/div/div[1]/div[1]/div[1]/div[2]/div[3]/button')\n",
    "    b.click()\n",
    "    c = driver.find_element_by_xpath('/html/body/div[5]/div[3]/div/div[3]/div/main/div/div[1]/div[1]/div[1]/div[2]/div[3]/div')\n",
    "    try:\n",
    "        lst = c.text.split('\\n')\n",
    "        emails.append(lst[2])\n",
    "    except:\n",
    "        print('failed',  count)\n",
    "        count+=1\n",
    "        continue\n",
    "    print(count)\n",
    "    count+=1"
   ]
  },
  {
   "cell_type": "code",
   "execution_count": 114,
   "id": "seven-deviation",
   "metadata": {},
   "outputs": [
    {
     "data": {
      "text/plain": [
       "['himanshu76200@gmail.com',\n",
       " 'kmanmohan030@gmail.com',\n",
       " 'neerajy125@gmail.com',\n",
       " 'ayush.chakladar@gmail.com',\n",
       " 'jaykakkar31@gmail.com',\n",
       " 'somyagupta746@gmail.com',\n",
       " 'titirb.ip.19@nitj.ac.in',\n",
       " '2000kuldeeptiwari@gmail.com',\n",
       " 'ashwani.shr002@gmail.com',\n",
       " 'tamaraiselvan98@gmail.com',\n",
       " 'mishra.satwik9532@gmail.com',\n",
       " 'jobforvishal@outlook.com',\n",
       " 'rajeevsharma23june@gmail.com',\n",
       " 'harish.nishad0775@gmail.com',\n",
       " 'manishabaghel1122@gmail.com',\n",
       " 'jaisinghyadavrko@gmail.com',\n",
       " 'manangarg9f@gmail.com',\n",
       " 'vkhurana50b@gmail.com',\n",
       " 'prashantkaushik012@gmail.com',\n",
       " 'rutwikdmoon@gmail.com',\n",
       " 'Riyad.hasan8282@gmail.com',\n",
       " 'sanjeevsagarsagar3@gmail.com']"
      ]
     },
     "execution_count": 114,
     "metadata": {},
     "output_type": "execute_result"
    }
   ],
   "source": [
    "emails"
   ]
  },
  {
   "cell_type": "code",
   "execution_count": 115,
   "id": "specified-array",
   "metadata": {},
   "outputs": [
    {
     "data": {
      "text/plain": [
       "22"
      ]
     },
     "execution_count": 115,
     "metadata": {},
     "output_type": "execute_result"
    }
   ],
   "source": [
    "len(emails)"
   ]
  },
  {
   "cell_type": "code",
   "execution_count": 118,
   "id": "valuable-corpus",
   "metadata": {},
   "outputs": [],
   "source": [
    "str_1 = ', '.join(emails)"
   ]
  },
  {
   "cell_type": "code",
   "execution_count": 119,
   "id": "mexican-owner",
   "metadata": {},
   "outputs": [
    {
     "data": {
      "text/plain": [
       "'himanshu76200@gmail.com, kmanmohan030@gmail.com, neerajy125@gmail.com, ayush.chakladar@gmail.com, jaykakkar31@gmail.com, somyagupta746@gmail.com, titirb.ip.19@nitj.ac.in, 2000kuldeeptiwari@gmail.com, ashwani.shr002@gmail.com, tamaraiselvan98@gmail.com, mishra.satwik9532@gmail.com, jobforvishal@outlook.com, rajeevsharma23june@gmail.com, harish.nishad0775@gmail.com, manishabaghel1122@gmail.com, jaisinghyadavrko@gmail.com, manangarg9f@gmail.com, vkhurana50b@gmail.com, prashantkaushik012@gmail.com, rutwikdmoon@gmail.com, Riyad.hasan8282@gmail.com, sanjeevsagarsagar3@gmail.com'"
      ]
     },
     "execution_count": 119,
     "metadata": {},
     "output_type": "execute_result"
    }
   ],
   "source": [
    "str_1"
   ]
  },
  {
   "cell_type": "code",
   "execution_count": 123,
   "id": "herbal-shuttle",
   "metadata": {},
   "outputs": [
    {
     "data": {
      "text/plain": [
       "578"
      ]
     },
     "execution_count": 123,
     "metadata": {},
     "output_type": "execute_result"
    }
   ],
   "source": [
    "file = open('email-list.txt', 'w')\n",
    "file.write(str_1)"
   ]
  },
  {
   "cell_type": "code",
   "execution_count": 125,
   "id": "statewide-smoke",
   "metadata": {},
   "outputs": [],
   "source": [
    "file.close()"
   ]
  },
  {
   "cell_type": "code",
   "execution_count": 124,
   "id": "computational-evolution",
   "metadata": {},
   "outputs": [
    {
     "data": {
      "text/plain": [
       "'himanshu76200@gmail.com, kmanmohan030@gmail.com, neerajy125@gmail.com, ayush.chakladar@gmail.com, jaykakkar31@gmail.com, somyagupta746@gmail.com, titirb.ip.19@nitj.ac.in, 2000kuldeeptiwari@gmail.com, ashwani.shr002@gmail.com, tamaraiselvan98@gmail.com, mishra.satwik9532@gmail.com, jobforvishal@outlook.com, rajeevsharma23june@gmail.com, harish.nishad0775@gmail.com, manishabaghel1122@gmail.com, jaisinghyadavrko@gmail.com, manangarg9f@gmail.com, vkhurana50b@gmail.com, prashantkaushik012@gmail.com, rutwikdmoon@gmail.com, Riyad.hasan8282@gmail.com, sanjeevsagarsagar3@gmail.com'"
      ]
     },
     "execution_count": 124,
     "metadata": {},
     "output_type": "execute_result"
    }
   ],
   "source": [
    "str_1"
   ]
  },
  {
   "cell_type": "code",
   "execution_count": 127,
   "id": "broke-warehouse",
   "metadata": {},
   "outputs": [
    {
     "name": "stdout",
     "output_type": "stream",
     "text": [
      "0\n",
      "1\n",
      "2\n",
      "3\n",
      "4\n",
      "5\n",
      "6\n",
      "7\n",
      "8\n",
      "9\n",
      "10\n",
      "failed 11\n",
      "failed 12\n",
      "failed 13\n",
      "failed 14\n",
      "failed 15\n",
      "failed 16\n",
      "failed 17\n",
      "failed 18\n",
      "failed 19\n",
      "failed 20\n",
      "failed 21\n",
      "failed 22\n",
      "failed 23\n",
      "failed 24\n"
     ]
    }
   ],
   "source": [
    "import time\n",
    "count = 0\n",
    "emails = []\n",
    "passed = 0\n",
    "failed = 0\n",
    "for i in range(1, 26):\n",
    "    try:\n",
    "        lst = []\n",
    "        a = driver.find_element_by_xpath(f'/html/body/div[5]/div[3]/div/div[3]/div/div/div[3]/ul/li[{i}]')\n",
    "        a.click()\n",
    "        time.sleep(5)\n",
    "        b = driver.find_element_by_xpath('/html/body/div[5]/div[3]/div/div[3]/div/main/div/div[1]/div[1]/div[1]/div[2]/div[3]/button')\n",
    "        b.click()\n",
    "        time.sleep(2)\n",
    "        c = driver.find_element_by_xpath('/html/body/div[5]/div[3]/div/div[3]/div/main/div/div[1]/div[1]/div[1]/div[2]/div[3]/div')\n",
    "        lst = c.text.split('\\n')\n",
    "        emails.append(lst[2])\n",
    "        passed+=1\n",
    "    except:\n",
    "        print('failed',  count)\n",
    "        count+=1\n",
    "        failed+=1\n",
    "        continue\n",
    "    print(count)\n",
    "    count+=1"
   ]
  },
  {
   "cell_type": "code",
   "execution_count": 128,
   "id": "numeric-passage",
   "metadata": {},
   "outputs": [
    {
     "data": {
      "text/plain": [
       "['rajeevsharma23june@gmail.com',\n",
       " 'guptakartik2608@gmail.com',\n",
       " 'jhandujhasendra111@gmail.com',\n",
       " 'prashantkaushik012@gmail.com',\n",
       " 'samirgupta19670@gmail.com',\n",
       " 'irahulkv@outlook.com',\n",
       " 'premsundarpadhy@gmail.com',\n",
       " 'nikhilfalke11@gmail.com',\n",
       " 'rksingh7982@gmail.com',\n",
       " 'sais44598@gmail.com',\n",
       " 'harshit.srivastava2001@gmail.com']"
      ]
     },
     "execution_count": 128,
     "metadata": {},
     "output_type": "execute_result"
    }
   ],
   "source": [
    "emails"
   ]
  },
  {
   "cell_type": "code",
   "execution_count": 129,
   "id": "canadian-flesh",
   "metadata": {},
   "outputs": [
    {
     "data": {
      "text/plain": [
       "True"
      ]
     },
     "execution_count": 129,
     "metadata": {},
     "output_type": "execute_result"
    }
   ],
   "source": [
    "file.closed"
   ]
  },
  {
   "cell_type": "code",
   "execution_count": 130,
   "id": "informed-patent",
   "metadata": {},
   "outputs": [],
   "source": [
    "file = open('email-list.txt', 'r')"
   ]
  },
  {
   "cell_type": "code",
   "execution_count": 131,
   "id": "designing-buddy",
   "metadata": {},
   "outputs": [
    {
     "data": {
      "text/plain": [
       "'himanshu76200@gmail.com, kmanmohan030@gmail.com, neerajy125@gmail.com, ayush.chakladar@gmail.com, jaykakkar31@gmail.com, somyagupta746@gmail.com, titirb.ip.19@nitj.ac.in, 2000kuldeeptiwari@gmail.com, ashwani.shr002@gmail.com, tamaraiselvan98@gmail.com, mishra.satwik9532@gmail.com, jobforvishal@outlook.com, rajeevsharma23june@gmail.com, harish.nishad0775@gmail.com, manishabaghel1122@gmail.com, jaisinghyadavrko@gmail.com, manangarg9f@gmail.com, vkhurana50b@gmail.com, prashantkaushik012@gmail.com, rutwikdmoon@gmail.com, Riyad.hasan8282@gmail.com, sanjeevsagarsagar3@gmail.com'"
      ]
     },
     "execution_count": 131,
     "metadata": {},
     "output_type": "execute_result"
    }
   ],
   "source": [
    "file.read()"
   ]
  },
  {
   "cell_type": "code",
   "execution_count": 132,
   "id": "strange-burner",
   "metadata": {},
   "outputs": [
    {
     "name": "stdout",
     "output_type": "stream",
     "text": [
      "failed 0\n",
      "failed 1\n",
      "failed 2\n",
      "failed 3\n",
      "failed 4\n",
      "failed 5\n",
      "failed 6\n",
      "failed 7\n",
      "failed 8\n",
      "failed 9\n",
      "failed 10\n",
      "failed 11\n",
      "failed 12\n",
      "failed 13\n",
      "failed 14\n",
      "failed 15\n",
      "failed 16\n",
      "failed 17\n",
      "failed 18\n",
      "failed 19\n",
      "failed 20\n",
      "failed 21\n",
      "failed 22\n",
      "failed 23\n",
      "failed 24\n"
     ]
    }
   ],
   "source": [
    "import time\n",
    "count = 0\n",
    "emails = []\n",
    "passed = 0\n",
    "failed = 0\n",
    "for i in range(1, 26):\n",
    "    try:\n",
    "        lst = []\n",
    "        a = driver.find_element_by_xpath(f'/html/body/div[5]/div[3]/div/div[3]/div/div/div[3]/ul/li[{i}]')\n",
    "        a.click()\n",
    "        time.sleep(5)\n",
    "        b = driver.find_element_by_xpath('/html/body/div[5]/div[3]/div/div[3]/div/main/div/div[1]/div[1]/div[1]/div[2]/div[3]/button')\n",
    "        b.click()\n",
    "        time.sleep(2)\n",
    "        c = driver.find_element_by_xpath('/html/body/div[5]/div[3]/div/div[3]/div/main/div/div[1]/div[1]/div[1]/div[2]/div[3]/div')\n",
    "        lst = c.text.split('\\n')\n",
    "        emails.append(lst[2])\n",
    "        passed+=1\n",
    "    except:\n",
    "        print('failed',  count)\n",
    "        count+=1\n",
    "        failed+=1\n",
    "        continue\n",
    "    print(count)\n",
    "    count+=1"
   ]
  },
  {
   "cell_type": "code",
   "execution_count": 134,
   "id": "worse-representation",
   "metadata": {},
   "outputs": [
    {
     "name": "stdout",
     "output_type": "stream",
     "text": [
      "0\n"
     ]
    },
    {
     "ename": "NoSuchElementException",
     "evalue": "Message: no such element: Unable to locate element: {\"method\":\"xpath\",\"selector\":\"/html/body/div[5]/div[3]/div/div[3]/div/div/div[2]/ul/li[14]\"}\n  (Session info: chrome=91.0.4472.114)\n",
     "output_type": "error",
     "traceback": [
      "\u001b[0;31m---------------------------------------------------------------------------\u001b[0m",
      "\u001b[0;31mNoSuchElementException\u001b[0m                    Traceback (most recent call last)",
      "\u001b[0;32m<ipython-input-134-3e61102e9aa7>\u001b[0m in \u001b[0;36m<module>\u001b[0;34m\u001b[0m\n\u001b[1;32m      6\u001b[0m \u001b[0;32mfor\u001b[0m \u001b[0mi\u001b[0m \u001b[0;32min\u001b[0m \u001b[0mrange\u001b[0m\u001b[0;34m(\u001b[0m\u001b[0;36m1\u001b[0m\u001b[0;34m,\u001b[0m \u001b[0;36m26\u001b[0m\u001b[0;34m)\u001b[0m\u001b[0;34m:\u001b[0m\u001b[0;34m\u001b[0m\u001b[0;34m\u001b[0m\u001b[0m\n\u001b[1;32m      7\u001b[0m     \u001b[0mlst\u001b[0m \u001b[0;34m=\u001b[0m \u001b[0;34m[\u001b[0m\u001b[0;34m]\u001b[0m\u001b[0;34m\u001b[0m\u001b[0;34m\u001b[0m\u001b[0m\n\u001b[0;32m----> 8\u001b[0;31m     \u001b[0ma\u001b[0m \u001b[0;34m=\u001b[0m \u001b[0mdriver\u001b[0m\u001b[0;34m.\u001b[0m\u001b[0mfind_element_by_xpath\u001b[0m\u001b[0;34m(\u001b[0m\u001b[0;34mf'/html/body/div[5]/div[3]/div/div[3]/div/div/div[2]/ul/li[{i}]'\u001b[0m\u001b[0;34m)\u001b[0m\u001b[0;34m\u001b[0m\u001b[0;34m\u001b[0m\u001b[0m\n\u001b[0m\u001b[1;32m      9\u001b[0m     \u001b[0ma\u001b[0m\u001b[0;34m.\u001b[0m\u001b[0mclick\u001b[0m\u001b[0;34m(\u001b[0m\u001b[0;34m)\u001b[0m\u001b[0;34m\u001b[0m\u001b[0;34m\u001b[0m\u001b[0m\n\u001b[1;32m     10\u001b[0m \u001b[0;31m#     time.sleep(3)\u001b[0m\u001b[0;34m\u001b[0m\u001b[0;34m\u001b[0m\u001b[0;34m\u001b[0m\u001b[0m\n",
      "\u001b[0;32m/opt/anaconda3/lib/python3.8/site-packages/selenium/webdriver/remote/webdriver.py\u001b[0m in \u001b[0;36mfind_element_by_xpath\u001b[0;34m(self, xpath)\u001b[0m\n\u001b[1;32m    392\u001b[0m             \u001b[0melement\u001b[0m \u001b[0;34m=\u001b[0m \u001b[0mdriver\u001b[0m\u001b[0;34m.\u001b[0m\u001b[0mfind_element_by_xpath\u001b[0m\u001b[0;34m(\u001b[0m\u001b[0;34m'//div/td[1]'\u001b[0m\u001b[0;34m)\u001b[0m\u001b[0;34m\u001b[0m\u001b[0;34m\u001b[0m\u001b[0m\n\u001b[1;32m    393\u001b[0m         \"\"\"\n\u001b[0;32m--> 394\u001b[0;31m         \u001b[0;32mreturn\u001b[0m \u001b[0mself\u001b[0m\u001b[0;34m.\u001b[0m\u001b[0mfind_element\u001b[0m\u001b[0;34m(\u001b[0m\u001b[0mby\u001b[0m\u001b[0;34m=\u001b[0m\u001b[0mBy\u001b[0m\u001b[0;34m.\u001b[0m\u001b[0mXPATH\u001b[0m\u001b[0;34m,\u001b[0m \u001b[0mvalue\u001b[0m\u001b[0;34m=\u001b[0m\u001b[0mxpath\u001b[0m\u001b[0;34m)\u001b[0m\u001b[0;34m\u001b[0m\u001b[0;34m\u001b[0m\u001b[0m\n\u001b[0m\u001b[1;32m    395\u001b[0m \u001b[0;34m\u001b[0m\u001b[0m\n\u001b[1;32m    396\u001b[0m     \u001b[0;32mdef\u001b[0m \u001b[0mfind_elements_by_xpath\u001b[0m\u001b[0;34m(\u001b[0m\u001b[0mself\u001b[0m\u001b[0;34m,\u001b[0m \u001b[0mxpath\u001b[0m\u001b[0;34m)\u001b[0m\u001b[0;34m:\u001b[0m\u001b[0;34m\u001b[0m\u001b[0;34m\u001b[0m\u001b[0m\n",
      "\u001b[0;32m/opt/anaconda3/lib/python3.8/site-packages/selenium/webdriver/remote/webdriver.py\u001b[0m in \u001b[0;36mfind_element\u001b[0;34m(self, by, value)\u001b[0m\n\u001b[1;32m    974\u001b[0m                 \u001b[0mby\u001b[0m \u001b[0;34m=\u001b[0m \u001b[0mBy\u001b[0m\u001b[0;34m.\u001b[0m\u001b[0mCSS_SELECTOR\u001b[0m\u001b[0;34m\u001b[0m\u001b[0;34m\u001b[0m\u001b[0m\n\u001b[1;32m    975\u001b[0m                 \u001b[0mvalue\u001b[0m \u001b[0;34m=\u001b[0m \u001b[0;34m'[name=\"%s\"]'\u001b[0m \u001b[0;34m%\u001b[0m \u001b[0mvalue\u001b[0m\u001b[0;34m\u001b[0m\u001b[0;34m\u001b[0m\u001b[0m\n\u001b[0;32m--> 976\u001b[0;31m         return self.execute(Command.FIND_ELEMENT, {\n\u001b[0m\u001b[1;32m    977\u001b[0m             \u001b[0;34m'using'\u001b[0m\u001b[0;34m:\u001b[0m \u001b[0mby\u001b[0m\u001b[0;34m,\u001b[0m\u001b[0;34m\u001b[0m\u001b[0;34m\u001b[0m\u001b[0m\n\u001b[1;32m    978\u001b[0m             'value': value})['value']\n",
      "\u001b[0;32m/opt/anaconda3/lib/python3.8/site-packages/selenium/webdriver/remote/webdriver.py\u001b[0m in \u001b[0;36mexecute\u001b[0;34m(self, driver_command, params)\u001b[0m\n\u001b[1;32m    319\u001b[0m         \u001b[0mresponse\u001b[0m \u001b[0;34m=\u001b[0m \u001b[0mself\u001b[0m\u001b[0;34m.\u001b[0m\u001b[0mcommand_executor\u001b[0m\u001b[0;34m.\u001b[0m\u001b[0mexecute\u001b[0m\u001b[0;34m(\u001b[0m\u001b[0mdriver_command\u001b[0m\u001b[0;34m,\u001b[0m \u001b[0mparams\u001b[0m\u001b[0;34m)\u001b[0m\u001b[0;34m\u001b[0m\u001b[0;34m\u001b[0m\u001b[0m\n\u001b[1;32m    320\u001b[0m         \u001b[0;32mif\u001b[0m \u001b[0mresponse\u001b[0m\u001b[0;34m:\u001b[0m\u001b[0;34m\u001b[0m\u001b[0;34m\u001b[0m\u001b[0m\n\u001b[0;32m--> 321\u001b[0;31m             \u001b[0mself\u001b[0m\u001b[0;34m.\u001b[0m\u001b[0merror_handler\u001b[0m\u001b[0;34m.\u001b[0m\u001b[0mcheck_response\u001b[0m\u001b[0;34m(\u001b[0m\u001b[0mresponse\u001b[0m\u001b[0;34m)\u001b[0m\u001b[0;34m\u001b[0m\u001b[0;34m\u001b[0m\u001b[0m\n\u001b[0m\u001b[1;32m    322\u001b[0m             response['value'] = self._unwrap_value(\n\u001b[1;32m    323\u001b[0m                 response.get('value', None))\n",
      "\u001b[0;32m/opt/anaconda3/lib/python3.8/site-packages/selenium/webdriver/remote/errorhandler.py\u001b[0m in \u001b[0;36mcheck_response\u001b[0;34m(self, response)\u001b[0m\n\u001b[1;32m    240\u001b[0m                 \u001b[0malert_text\u001b[0m \u001b[0;34m=\u001b[0m \u001b[0mvalue\u001b[0m\u001b[0;34m[\u001b[0m\u001b[0;34m'alert'\u001b[0m\u001b[0;34m]\u001b[0m\u001b[0;34m.\u001b[0m\u001b[0mget\u001b[0m\u001b[0;34m(\u001b[0m\u001b[0;34m'text'\u001b[0m\u001b[0;34m)\u001b[0m\u001b[0;34m\u001b[0m\u001b[0;34m\u001b[0m\u001b[0m\n\u001b[1;32m    241\u001b[0m             \u001b[0;32mraise\u001b[0m \u001b[0mexception_class\u001b[0m\u001b[0;34m(\u001b[0m\u001b[0mmessage\u001b[0m\u001b[0;34m,\u001b[0m \u001b[0mscreen\u001b[0m\u001b[0;34m,\u001b[0m \u001b[0mstacktrace\u001b[0m\u001b[0;34m,\u001b[0m \u001b[0malert_text\u001b[0m\u001b[0;34m)\u001b[0m\u001b[0;34m\u001b[0m\u001b[0;34m\u001b[0m\u001b[0m\n\u001b[0;32m--> 242\u001b[0;31m         \u001b[0;32mraise\u001b[0m \u001b[0mexception_class\u001b[0m\u001b[0;34m(\u001b[0m\u001b[0mmessage\u001b[0m\u001b[0;34m,\u001b[0m \u001b[0mscreen\u001b[0m\u001b[0;34m,\u001b[0m \u001b[0mstacktrace\u001b[0m\u001b[0;34m)\u001b[0m\u001b[0;34m\u001b[0m\u001b[0;34m\u001b[0m\u001b[0m\n\u001b[0m\u001b[1;32m    243\u001b[0m \u001b[0;34m\u001b[0m\u001b[0m\n\u001b[1;32m    244\u001b[0m     \u001b[0;32mdef\u001b[0m \u001b[0m_value_or_default\u001b[0m\u001b[0;34m(\u001b[0m\u001b[0mself\u001b[0m\u001b[0;34m,\u001b[0m \u001b[0mobj\u001b[0m\u001b[0;34m,\u001b[0m \u001b[0mkey\u001b[0m\u001b[0;34m,\u001b[0m \u001b[0mdefault\u001b[0m\u001b[0;34m)\u001b[0m\u001b[0;34m:\u001b[0m\u001b[0;34m\u001b[0m\u001b[0;34m\u001b[0m\u001b[0m\n",
      "\u001b[0;31mNoSuchElementException\u001b[0m: Message: no such element: Unable to locate element: {\"method\":\"xpath\",\"selector\":\"/html/body/div[5]/div[3]/div/div[3]/div/div/div[2]/ul/li[14]\"}\n  (Session info: chrome=91.0.4472.114)\n"
     ]
    }
   ],
   "source": [
    "# /html/body/div[5]/div[3]/div/div[3]/div/div/div[3]/ul/li[1]\n",
    "# /html/body/div[5]/div[3]/div/div[3]/div/div/div[2]/ul/li[1]\n",
    "import time\n",
    "count = 0\n",
    "emails = []\n",
    "for i in range(1, 26):\n",
    "    lst = []\n",
    "    a = driver.find_element_by_xpath(f'/html/body/div[5]/div[3]/div/div[3]/div/div/div[2]/ul/li[{i}]')\n",
    "    a.click()\n",
    "#     time.sleep(3)\n",
    "    b = driver.find_element_by_xpath('/html/body/div[5]/div[3]/div/div[3]/div/main/div/div[1]/div[1]/div[1]/div[2]/div[3]/button')\n",
    "    b.click()\n",
    "    c = driver.find_element_by_xpath('/html/body/div[5]/div[3]/div/div[3]/div/main/div/div[1]/div[1]/div[1]/div[2]/div[3]/div')\n",
    "    try:\n",
    "        lst = c.text.split('\\n')\n",
    "        emails.append(lst[2])\n",
    "    except:\n",
    "        continue\n",
    "    print(count)\n",
    "    count+=1"
   ]
  },
  {
   "cell_type": "code",
   "execution_count": 137,
   "id": "utility-duncan",
   "metadata": {},
   "outputs": [
    {
     "name": "stdout",
     "output_type": "stream",
     "text": [
      "0\n",
      "1\n",
      "2\n",
      "3\n",
      "4\n",
      "5\n",
      "6\n",
      "7\n",
      "8\n",
      "9\n",
      "10\n",
      "11\n",
      "12\n",
      "13\n",
      "14\n",
      "15\n",
      "16\n",
      "17\n",
      "18\n",
      "19\n",
      "20\n",
      "21\n",
      "22\n",
      "23\n",
      "24\n"
     ]
    }
   ],
   "source": [
    "import time\n",
    "count = 0\n",
    "emails = []\n",
    "passed = 0\n",
    "failed = 0\n",
    "for i in range(1, 26):\n",
    "    try:\n",
    "        lst = []\n",
    "        a = driver.find_element_by_xpath(f'/html/body/div[5]/div[3]/div/div[3]/div/div/div[2]/ul/li[{i}]')\n",
    "        a.click()\n",
    "        time.sleep(5)\n",
    "        b = driver.find_element_by_xpath('/html/body/div[5]/div[3]/div/div[3]/div/main/div/div[1]/div[1]/div[1]/div[2]/div[3]/button')\n",
    "        b.click()\n",
    "        time.sleep(2)\n",
    "        c = driver.find_element_by_xpath('/html/body/div[5]/div[3]/div/div[3]/div/main/div/div[1]/div[1]/div[1]/div[2]/div[3]/div')\n",
    "        lst = c.text.split('\\n')\n",
    "        emails.append(lst[2])\n",
    "        passed+=1\n",
    "    except:\n",
    "        print('failed',  count)\n",
    "        count+=1\n",
    "        failed+=1\n",
    "        continue\n",
    "    print(count)\n",
    "    count+=1"
   ]
  },
  {
   "cell_type": "code",
   "execution_count": 138,
   "id": "exact-radius",
   "metadata": {},
   "outputs": [],
   "source": [
    "#decides education date if passing year is above 2022 then ok add emails of them\n",
    "edu_date = driver.find_element_by_xpath('/html/body/div[5]/div[3]/div/div[3]/div/main/div/div[2]/div[1]/section/ul/li/div/p[3]/span[2]')"
   ]
  },
  {
   "cell_type": "code",
   "execution_count": 139,
   "id": "imposed-pursuit",
   "metadata": {},
   "outputs": [
    {
     "data": {
      "text/plain": [
       "'2012 – 2016'"
      ]
     },
     "execution_count": 139,
     "metadata": {},
     "output_type": "execute_result"
    }
   ],
   "source": [
    "edu_date.text"
   ]
  },
  {
   "cell_type": "code",
   "execution_count": 141,
   "id": "fantastic-sudan",
   "metadata": {},
   "outputs": [
    {
     "data": {
      "text/plain": [
       "'16'"
      ]
     },
     "execution_count": 141,
     "metadata": {},
     "output_type": "execute_result"
    }
   ],
   "source": [
    "edu_date.text[-2:]"
   ]
  },
  {
   "cell_type": "code",
   "execution_count": 144,
   "id": "smoking-party",
   "metadata": {},
   "outputs": [
    {
     "name": "stdout",
     "output_type": "stream",
     "text": [
      "adult 1\n",
      "adult 2\n",
      "adult 3\n",
      "failed 3\n",
      "adult 4\n",
      "adult 5\n",
      "failed 6\n",
      "adult 6\n",
      "pass out year 23\n",
      "pass out year 23\n",
      "pass out year 23\n",
      "pass out year 23\n",
      "adult 7\n",
      "failed 13\n",
      "failed 14\n",
      "failed 15\n",
      "failed 16\n",
      "adult 8\n",
      "adult 9\n",
      "adult 10\n",
      "adult 11\n",
      "failed 21\n",
      "adult 12\n",
      "adult 13\n",
      "failed 24\n"
     ]
    }
   ],
   "source": [
    "import time\n",
    "count = 0\n",
    "emails = []\n",
    "passed = 0\n",
    "failed = 0\n",
    "adults = 0\n",
    "for i in range(1, 26):\n",
    "    try:\n",
    "        lst = []\n",
    "        a = driver.find_element_by_xpath(f'/html/body/div[5]/div[3]/div/div[3]/div/div/div[2]/ul/li[{i}]')\n",
    "        a.click()\n",
    "        time.sleep(5)\n",
    "        #decides education date if passing year is above 2022 then ok add emails of them\n",
    "        edu_date = driver.find_element_by_xpath('/html/body/div[5]/div[3]/div/div[3]/div/main/div/div[2]/div[1]/section/ul/li/div/p[3]/span[2]')\n",
    "        edu_date_text = edu_date.text\n",
    "        if int(edu_date_text[-2:]) >= 22:\n",
    "            print('pass out year', edu_date_text[-2:])\n",
    "            b = driver.find_element_by_xpath('/html/body/div[5]/div[3]/div/div[3]/div/main/div/div[1]/div[1]/div[1]/div[2]/div[3]/button')\n",
    "            b.click()\n",
    "            time.sleep(2)\n",
    "            c = driver.find_element_by_xpath('/html/body/div[5]/div[3]/div/div[3]/div/main/div/div[1]/div[1]/div[1]/div[2]/div[3]/div')\n",
    "            lst = c.text.split('\\n')\n",
    "            emails.append(lst[2])\n",
    "            passed+=1\n",
    "        else:\n",
    "            adults+=1\n",
    "            print('adult', adults)\n",
    "    except:\n",
    "        print('failed',  count)\n",
    "        count+=1\n",
    "        failed+=1\n",
    "        continue\n",
    "#     print(count)\n",
    "    count+=1"
   ]
  },
  {
   "cell_type": "code",
   "execution_count": 145,
   "id": "overhead-values",
   "metadata": {},
   "outputs": [
    {
     "data": {
      "text/plain": [
       "['rahulgupta6350567@gmail.com',\n",
       " 'rahulgupta6350567@gmail.com',\n",
       " 'somyagupta746@gmail.com',\n",
       " 'titirb.ip.19@nitj.ac.in']"
      ]
     },
     "execution_count": 145,
     "metadata": {},
     "output_type": "execute_result"
    }
   ],
   "source": [
    "emails"
   ]
  },
  {
   "cell_type": "code",
   "execution_count": null,
   "id": "consistent-australian",
   "metadata": {},
   "outputs": [],
   "source": [
    "/html/body/div[5]/div[3]/div/div[3]/div/main/div/div[2]/div[1]/section[2]/ul/li/div/p[3]/span[2]\n",
    "/html/body/div[5]/div[3]/div/div[3]/div/main/div/div[2]/div[1]/section[2]/ul/li[1]/div/p[3]/span[2]"
   ]
  },
  {
   "cell_type": "code",
   "execution_count": null,
   "id": "hydraulic-return",
   "metadata": {},
   "outputs": [],
   "source": [
    "/html/body/div[5]/div[3]/div/div[3]/div/main/div/div[2]/div[1]/section[2]\n",
    "/html/body/div[5]/div[3]/div/div[3]/div/main/div/div[2]/div[1]/section[2]\n",
    "/html/body/div[5]/div[3]/div/div[3]/div/main/div/div[2]/div[1]/section\n",
    "/html/body/div[5]/div[3]/div/div[3]/div/main/div/div[2]/div[1]/section[2]"
   ]
  },
  {
   "cell_type": "code",
   "execution_count": 146,
   "id": "least-gravity",
   "metadata": {},
   "outputs": [
    {
     "ename": "NoSuchElementException",
     "evalue": "Message: no such element: Unable to locate element: {\"method\":\"xpath\",\"selector\":\"/html/body/div[5]/div[3]/div/div[3]/div/main/div/div[2]/div[1]/section[2]\"}\n  (Session info: chrome=91.0.4472.114)\n",
     "output_type": "error",
     "traceback": [
      "\u001b[0;31m---------------------------------------------------------------------------\u001b[0m",
      "\u001b[0;31mNoSuchElementException\u001b[0m                    Traceback (most recent call last)",
      "\u001b[0;32m<ipython-input-146-31245b55f4cf>\u001b[0m in \u001b[0;36m<module>\u001b[0;34m\u001b[0m\n\u001b[0;32m----> 1\u001b[0;31m \u001b[0medu_date\u001b[0m \u001b[0;34m=\u001b[0m \u001b[0mdriver\u001b[0m\u001b[0;34m.\u001b[0m\u001b[0mfind_element_by_xpath\u001b[0m\u001b[0;34m(\u001b[0m\u001b[0;34m'/html/body/div[5]/div[3]/div/div[3]/div/main/div/div[2]/div[1]/section[2]'\u001b[0m\u001b[0;34m)\u001b[0m\u001b[0;34m\u001b[0m\u001b[0;34m\u001b[0m\u001b[0m\n\u001b[0m",
      "\u001b[0;32m/opt/anaconda3/lib/python3.8/site-packages/selenium/webdriver/remote/webdriver.py\u001b[0m in \u001b[0;36mfind_element_by_xpath\u001b[0;34m(self, xpath)\u001b[0m\n\u001b[1;32m    392\u001b[0m             \u001b[0melement\u001b[0m \u001b[0;34m=\u001b[0m \u001b[0mdriver\u001b[0m\u001b[0;34m.\u001b[0m\u001b[0mfind_element_by_xpath\u001b[0m\u001b[0;34m(\u001b[0m\u001b[0;34m'//div/td[1]'\u001b[0m\u001b[0;34m)\u001b[0m\u001b[0;34m\u001b[0m\u001b[0;34m\u001b[0m\u001b[0m\n\u001b[1;32m    393\u001b[0m         \"\"\"\n\u001b[0;32m--> 394\u001b[0;31m         \u001b[0;32mreturn\u001b[0m \u001b[0mself\u001b[0m\u001b[0;34m.\u001b[0m\u001b[0mfind_element\u001b[0m\u001b[0;34m(\u001b[0m\u001b[0mby\u001b[0m\u001b[0;34m=\u001b[0m\u001b[0mBy\u001b[0m\u001b[0;34m.\u001b[0m\u001b[0mXPATH\u001b[0m\u001b[0;34m,\u001b[0m \u001b[0mvalue\u001b[0m\u001b[0;34m=\u001b[0m\u001b[0mxpath\u001b[0m\u001b[0;34m)\u001b[0m\u001b[0;34m\u001b[0m\u001b[0;34m\u001b[0m\u001b[0m\n\u001b[0m\u001b[1;32m    395\u001b[0m \u001b[0;34m\u001b[0m\u001b[0m\n\u001b[1;32m    396\u001b[0m     \u001b[0;32mdef\u001b[0m \u001b[0mfind_elements_by_xpath\u001b[0m\u001b[0;34m(\u001b[0m\u001b[0mself\u001b[0m\u001b[0;34m,\u001b[0m \u001b[0mxpath\u001b[0m\u001b[0;34m)\u001b[0m\u001b[0;34m:\u001b[0m\u001b[0;34m\u001b[0m\u001b[0;34m\u001b[0m\u001b[0m\n",
      "\u001b[0;32m/opt/anaconda3/lib/python3.8/site-packages/selenium/webdriver/remote/webdriver.py\u001b[0m in \u001b[0;36mfind_element\u001b[0;34m(self, by, value)\u001b[0m\n\u001b[1;32m    974\u001b[0m                 \u001b[0mby\u001b[0m \u001b[0;34m=\u001b[0m \u001b[0mBy\u001b[0m\u001b[0;34m.\u001b[0m\u001b[0mCSS_SELECTOR\u001b[0m\u001b[0;34m\u001b[0m\u001b[0;34m\u001b[0m\u001b[0m\n\u001b[1;32m    975\u001b[0m                 \u001b[0mvalue\u001b[0m \u001b[0;34m=\u001b[0m \u001b[0;34m'[name=\"%s\"]'\u001b[0m \u001b[0;34m%\u001b[0m \u001b[0mvalue\u001b[0m\u001b[0;34m\u001b[0m\u001b[0;34m\u001b[0m\u001b[0m\n\u001b[0;32m--> 976\u001b[0;31m         return self.execute(Command.FIND_ELEMENT, {\n\u001b[0m\u001b[1;32m    977\u001b[0m             \u001b[0;34m'using'\u001b[0m\u001b[0;34m:\u001b[0m \u001b[0mby\u001b[0m\u001b[0;34m,\u001b[0m\u001b[0;34m\u001b[0m\u001b[0;34m\u001b[0m\u001b[0m\n\u001b[1;32m    978\u001b[0m             'value': value})['value']\n",
      "\u001b[0;32m/opt/anaconda3/lib/python3.8/site-packages/selenium/webdriver/remote/webdriver.py\u001b[0m in \u001b[0;36mexecute\u001b[0;34m(self, driver_command, params)\u001b[0m\n\u001b[1;32m    319\u001b[0m         \u001b[0mresponse\u001b[0m \u001b[0;34m=\u001b[0m \u001b[0mself\u001b[0m\u001b[0;34m.\u001b[0m\u001b[0mcommand_executor\u001b[0m\u001b[0;34m.\u001b[0m\u001b[0mexecute\u001b[0m\u001b[0;34m(\u001b[0m\u001b[0mdriver_command\u001b[0m\u001b[0;34m,\u001b[0m \u001b[0mparams\u001b[0m\u001b[0;34m)\u001b[0m\u001b[0;34m\u001b[0m\u001b[0;34m\u001b[0m\u001b[0m\n\u001b[1;32m    320\u001b[0m         \u001b[0;32mif\u001b[0m \u001b[0mresponse\u001b[0m\u001b[0;34m:\u001b[0m\u001b[0;34m\u001b[0m\u001b[0;34m\u001b[0m\u001b[0m\n\u001b[0;32m--> 321\u001b[0;31m             \u001b[0mself\u001b[0m\u001b[0;34m.\u001b[0m\u001b[0merror_handler\u001b[0m\u001b[0;34m.\u001b[0m\u001b[0mcheck_response\u001b[0m\u001b[0;34m(\u001b[0m\u001b[0mresponse\u001b[0m\u001b[0;34m)\u001b[0m\u001b[0;34m\u001b[0m\u001b[0;34m\u001b[0m\u001b[0m\n\u001b[0m\u001b[1;32m    322\u001b[0m             response['value'] = self._unwrap_value(\n\u001b[1;32m    323\u001b[0m                 response.get('value', None))\n",
      "\u001b[0;32m/opt/anaconda3/lib/python3.8/site-packages/selenium/webdriver/remote/errorhandler.py\u001b[0m in \u001b[0;36mcheck_response\u001b[0;34m(self, response)\u001b[0m\n\u001b[1;32m    240\u001b[0m                 \u001b[0malert_text\u001b[0m \u001b[0;34m=\u001b[0m \u001b[0mvalue\u001b[0m\u001b[0;34m[\u001b[0m\u001b[0;34m'alert'\u001b[0m\u001b[0;34m]\u001b[0m\u001b[0;34m.\u001b[0m\u001b[0mget\u001b[0m\u001b[0;34m(\u001b[0m\u001b[0;34m'text'\u001b[0m\u001b[0;34m)\u001b[0m\u001b[0;34m\u001b[0m\u001b[0;34m\u001b[0m\u001b[0m\n\u001b[1;32m    241\u001b[0m             \u001b[0;32mraise\u001b[0m \u001b[0mexception_class\u001b[0m\u001b[0;34m(\u001b[0m\u001b[0mmessage\u001b[0m\u001b[0;34m,\u001b[0m \u001b[0mscreen\u001b[0m\u001b[0;34m,\u001b[0m \u001b[0mstacktrace\u001b[0m\u001b[0;34m,\u001b[0m \u001b[0malert_text\u001b[0m\u001b[0;34m)\u001b[0m\u001b[0;34m\u001b[0m\u001b[0;34m\u001b[0m\u001b[0m\n\u001b[0;32m--> 242\u001b[0;31m         \u001b[0;32mraise\u001b[0m \u001b[0mexception_class\u001b[0m\u001b[0;34m(\u001b[0m\u001b[0mmessage\u001b[0m\u001b[0;34m,\u001b[0m \u001b[0mscreen\u001b[0m\u001b[0;34m,\u001b[0m \u001b[0mstacktrace\u001b[0m\u001b[0;34m)\u001b[0m\u001b[0;34m\u001b[0m\u001b[0;34m\u001b[0m\u001b[0m\n\u001b[0m\u001b[1;32m    243\u001b[0m \u001b[0;34m\u001b[0m\u001b[0m\n\u001b[1;32m    244\u001b[0m     \u001b[0;32mdef\u001b[0m \u001b[0m_value_or_default\u001b[0m\u001b[0;34m(\u001b[0m\u001b[0mself\u001b[0m\u001b[0;34m,\u001b[0m \u001b[0mobj\u001b[0m\u001b[0;34m,\u001b[0m \u001b[0mkey\u001b[0m\u001b[0;34m,\u001b[0m \u001b[0mdefault\u001b[0m\u001b[0;34m)\u001b[0m\u001b[0;34m:\u001b[0m\u001b[0;34m\u001b[0m\u001b[0;34m\u001b[0m\u001b[0m\n",
      "\u001b[0;31mNoSuchElementException\u001b[0m: Message: no such element: Unable to locate element: {\"method\":\"xpath\",\"selector\":\"/html/body/div[5]/div[3]/div/div[3]/div/main/div/div[2]/div[1]/section[2]\"}\n  (Session info: chrome=91.0.4472.114)\n"
     ]
    }
   ],
   "source": [
    "edu_date = driver.find_element_by_xpath('/html/body/div[5]/div[3]/div/div[3]/div/main/div/div[2]/div[1]/section[2]')\n"
   ]
  },
  {
   "cell_type": "code",
   "execution_count": 147,
   "id": "primary-farming",
   "metadata": {},
   "outputs": [],
   "source": [
    "edu_date = driver.find_element_by_xpath('/html/body/div[5]/div[3]/div/div[3]/div/main/div/div[2]/div[1]/section')\n"
   ]
  },
  {
   "cell_type": "code",
   "execution_count": 148,
   "id": "genetic-worry",
   "metadata": {},
   "outputs": [
    {
     "data": {
      "text/plain": [
       "'Education\\nTHDC Institute of Hydropower Engineering\\nBachelor of Technology - BTech, computer science\\nYears attended from 2018 to 2021\\n2018 – 2021'"
      ]
     },
     "execution_count": 148,
     "metadata": {},
     "output_type": "execute_result"
    }
   ],
   "source": [
    "edu_date.text"
   ]
  },
  {
   "cell_type": "code",
   "execution_count": 149,
   "id": "received-theta",
   "metadata": {},
   "outputs": [
    {
     "data": {
      "text/plain": [
       "['Education',\n",
       " 'THDC Institute of Hydropower Engineering',\n",
       " 'Bachelor of Technology - BTech, computer science',\n",
       " 'Years attended from 2018 to 2021',\n",
       " '2018 – 2021']"
      ]
     },
     "execution_count": 149,
     "metadata": {},
     "output_type": "execute_result"
    }
   ],
   "source": [
    "edu_date.text.split('\\n')"
   ]
  },
  {
   "cell_type": "code",
   "execution_count": 150,
   "id": "falling-encounter",
   "metadata": {},
   "outputs": [
    {
     "data": {
      "text/plain": [
       "'2018 – 2021'"
      ]
     },
     "execution_count": 150,
     "metadata": {},
     "output_type": "execute_result"
    }
   ],
   "source": [
    "edu_date.text.split('\\n')[-1]"
   ]
  },
  {
   "cell_type": "code",
   "execution_count": 151,
   "id": "cultural-intensity",
   "metadata": {},
   "outputs": [
    {
     "data": {
      "text/plain": [
       "'21'"
      ]
     },
     "execution_count": 151,
     "metadata": {},
     "output_type": "execute_result"
    }
   ],
   "source": [
    "edu_date.text.split('\\n')[-1][-2:]"
   ]
  },
  {
   "cell_type": "code",
   "execution_count": 155,
   "id": "electrical-enough",
   "metadata": {},
   "outputs": [
    {
     "name": "stdout",
     "output_type": "stream",
     "text": [
      "pass out year 23\n",
      "adult 1\n",
      "adult 2\n",
      "failed 3\n",
      "adult 3\n",
      "failed 5\n",
      "failed 6\n",
      "adult 4\n",
      "pass out year 23\n",
      "failed 9\n",
      "pass out year 23\n",
      "pass out year 23\n",
      "pass out year 23\n",
      "failed 13\n",
      "pass out year 23\n",
      "failed 15\n",
      "pass out year 22\n",
      "adult 5\n",
      "adult 6\n",
      "pass out year 23\n",
      "failed 19\n",
      "adult 7\n",
      "failed 21\n",
      "failed 22\n",
      "adult 8\n",
      "failed 24\n"
     ]
    }
   ],
   "source": [
    "import time\n",
    "count = 0\n",
    "emails = []\n",
    "passed = 0\n",
    "failed = 0\n",
    "adults = 0\n",
    "for i in range(1, 26):\n",
    "    try:\n",
    "        lst = []\n",
    "        a = driver.find_element_by_xpath(f'/html/body/div[5]/div[3]/div/div[3]/div/div/div[2]/ul/li[{i}]')\n",
    "        a.click()\n",
    "        time.sleep(5)\n",
    "        #decides education date if passing year is above 2022 then ok add emails of them\n",
    "        try:\n",
    "            edu_date = driver.find_element_by_xpath('/html/body/div[5]/div[3]/div/div[3]/div/main/div/div[2]/div[1]/section[2]')\n",
    "            edu_date_year = edu_date.text.split('\\n')[-1][-2:]\n",
    "        except:\n",
    "            edu_date = driver.find_element_by_xpath('/html/body/div[5]/div[3]/div/div[3]/div/main/div/div[2]/div[1]/section')\n",
    "            edu_date_year = edu_date.text.split('\\n')[-1][-2:]            \n",
    "        if int(edu_date_year) >= 22:\n",
    "            print('pass out year', edu_date_year)\n",
    "            b = driver.find_element_by_xpath('/html/body/div[5]/div[3]/div/div[3]/div/main/div/div[1]/div[1]/div[1]/div[2]/div[3]/button')\n",
    "            b.click()\n",
    "            time.sleep(2)\n",
    "            c = driver.find_element_by_xpath('/html/body/div[5]/div[3]/div/div[3]/div/main/div/div[1]/div[1]/div[1]/div[2]/div[3]/div')\n",
    "            lst = c.text.split('\\n')\n",
    "            emails.append(lst[2])\n",
    "            passed+=1\n",
    "        else:\n",
    "            adults+=1\n",
    "            print('adult', adults)\n",
    "    except:\n",
    "        print('failed',  count)\n",
    "        count+=1\n",
    "        failed+=1\n",
    "        continue\n",
    "    time.sleep(2)    \n",
    "#     print(count)\n",
    "    count+=1"
   ]
  },
  {
   "cell_type": "code",
   "execution_count": 154,
   "id": "limiting-hollow",
   "metadata": {},
   "outputs": [
    {
     "data": {
      "text/plain": [
       "['himanshu76200@gmail.com',\n",
       " 'rahulgupta6350567@gmail.com',\n",
       " 'somyagupta746@gmail.com',\n",
       " 'titirb.ip.19@nitj.ac.in',\n",
       " '2000kuldeeptiwari@gmail.com',\n",
       " 'ayush.chakladar@gmail.com',\n",
       " 'mishra.satwik9532@gmail.com',\n",
       " 'vkhurana50b@gmail.com']"
      ]
     },
     "execution_count": 154,
     "metadata": {},
     "output_type": "execute_result"
    }
   ],
   "source": [
    "emails"
   ]
  },
  {
   "cell_type": "code",
   "execution_count": 156,
   "id": "radio-exclusion",
   "metadata": {},
   "outputs": [
    {
     "data": {
      "text/plain": [
       "['himanshu76200@gmail.com',\n",
       " 'rahulgupta6350567@gmail.com',\n",
       " 'somyagupta746@gmail.com',\n",
       " 'titirb.ip.19@nitj.ac.in',\n",
       " '2000kuldeeptiwari@gmail.com',\n",
       " 'ayush.chakladar@gmail.com',\n",
       " 'mishra.satwik9532@gmail.com']"
      ]
     },
     "execution_count": 156,
     "metadata": {},
     "output_type": "execute_result"
    }
   ],
   "source": [
    "emails"
   ]
  },
  {
   "cell_type": "code",
   "execution_count": 158,
   "id": "specified-mileage",
   "metadata": {},
   "outputs": [
    {
     "name": "stdout",
     "output_type": "stream",
     "text": [
      "pass out year 23\n",
      "failed 0\n",
      "failed 1\n",
      "failed 2\n",
      "failed 3\n",
      "failed 4\n",
      "failed 5\n",
      "failed 6\n",
      "failed 7\n",
      "failed 8\n",
      "failed 9\n",
      "failed 10\n",
      "failed 11\n",
      "pass out year 23\n",
      "failed 13\n",
      "pass out year 23\n",
      "failed 15\n",
      "pass out year 22\n",
      "failed 17\n",
      "failed 18\n",
      "pass out year 23\n",
      "pass out year 23\n",
      "failed 21\n",
      "failed 22\n",
      "failed 23\n",
      "failed 24\n"
     ]
    }
   ],
   "source": [
    "import time\n",
    "count = 0\n",
    "emails = []\n",
    "passed = 0\n",
    "failed = 0\n",
    "adults = 0\n",
    "for i in range(1, 26):\n",
    "    try:\n",
    "        lst = []\n",
    "        a = driver.find_element_by_xpath(f'/html/body/div[5]/div[3]/div/div[3]/div/div/div[2]/ul/li[{i}]')\n",
    "        a.click()\n",
    "        time.sleep(5)\n",
    "        #decides education date if passing year is above 2022 then ok add emails of them\n",
    "        try:\n",
    "            edu_date = driver.find_element_by_xpath('/html/body/div[5]/div[3]/div/div[3]/div/main/div/div[2]/div[1]/section[2]')\n",
    "            edu_date_year = edu_date.text.split('\\n')[-1][-2:]\n",
    "        except:\n",
    "            edu_date_1 = driver.find_element_by_xpath('/html/body/div[5]/div[3]/div/div[3]/div/main/div/div[2]/div[1]/section')\n",
    "            edu_date_year_1 = edu_date.text.split('\\n')[-1][-2:]            \n",
    "        if int(edu_date_year) >= 22 or int(edu_date_year_1) >=22:\n",
    "            print('pass out year', edu_date_year)\n",
    "            b = driver.find_element_by_xpath('/html/body/div[5]/div[3]/div/div[3]/div/main/div/div[1]/div[1]/div[1]/div[2]/div[3]/button')\n",
    "            b.click()\n",
    "            time.sleep(2)\n",
    "            c = driver.find_element_by_xpath('/html/body/div[5]/div[3]/div/div[3]/div/main/div/div[1]/div[1]/div[1]/div[2]/div[3]/div')\n",
    "            lst = c.text.split('\\n')\n",
    "            emails.append(lst[2])\n",
    "            passed+=1\n",
    "        else:\n",
    "            adults+=1\n",
    "            print('adult', adults)\n",
    "    except:\n",
    "        print('failed',  count)\n",
    "        count+=1\n",
    "        failed+=1\n",
    "        continue\n",
    "    time.sleep(2)    \n",
    "#     print(count)\n",
    "    count+=1"
   ]
  },
  {
   "cell_type": "code",
   "execution_count": 159,
   "id": "lesbian-performance",
   "metadata": {},
   "outputs": [
    {
     "data": {
      "text/plain": [
       "['2000kuldeeptiwari@gmail.com',\n",
       " 'ayush.chakladar@gmail.com',\n",
       " 'mishra.satwik9532@gmail.com',\n",
       " 'vkhurana50b@gmail.com',\n",
       " 'vkhurana50b@gmail.com']"
      ]
     },
     "execution_count": 159,
     "metadata": {},
     "output_type": "execute_result"
    }
   ],
   "source": [
    "emails"
   ]
  },
  {
   "cell_type": "code",
   "execution_count": 160,
   "id": "olive-neighborhood",
   "metadata": {},
   "outputs": [
    {
     "name": "stdout",
     "output_type": "stream",
     "text": [
      "pass out year 23\n",
      "failed 1\n",
      "failed 2\n",
      "failed 3\n",
      "failed 4\n",
      "failed 5\n",
      "failed 6\n",
      "failed 7\n",
      "failed 8\n",
      "failed 9\n",
      "failed 10\n",
      "failed 11\n",
      "pass out year 23\n",
      "failed 13\n",
      "pass out year 23\n",
      "failed 15\n",
      "pass out year 22\n",
      "failed 17\n",
      "failed 18\n",
      "pass out year 23\n",
      "failed 20\n",
      "failed 21\n",
      "failed 22\n",
      "failed 23\n",
      "failed 24\n"
     ]
    }
   ],
   "source": [
    "import time\n",
    "count = 0\n",
    "emails = []\n",
    "passed = 0\n",
    "failed = 0\n",
    "adults = 0\n",
    "for i in range(1, 26):\n",
    "    try:\n",
    "        lst = []\n",
    "        a = driver.find_element_by_xpath(f'/html/body/div[5]/div[3]/div/div[3]/div/div/div[2]/ul/li[{i}]')\n",
    "        a.click()\n",
    "        time.sleep(5)\n",
    "        #decides education date if passing year is above 2022 then ok add emails of them\n",
    "        edu_date = driver.find_element_by_xpath('/html/body/div[5]/div[3]/div/div[3]/div/main/div/div[2]/div[1]/section[2]')\n",
    "        edu_date_year = edu_date.text.split('\\n')[-1][-2:]\n",
    "#         except:\n",
    "#             edu_date_1 = driver.find_element_by_xpath('/html/body/div[5]/div[3]/div/div[3]/div/main/div/div[2]/div[1]/section')\n",
    "#             edu_date_year_1 = edu_date.text.split('\\n')[-1][-2:]            \n",
    "        if int(edu_date_year) >= 22:\n",
    "            print('pass out year', edu_date_year)\n",
    "            b = driver.find_element_by_xpath('/html/body/div[5]/div[3]/div/div[3]/div/main/div/div[1]/div[1]/div[1]/div[2]/div[3]/button')\n",
    "            b.click()\n",
    "            time.sleep(2)\n",
    "            c = driver.find_element_by_xpath('/html/body/div[5]/div[3]/div/div[3]/div/main/div/div[1]/div[1]/div[1]/div[2]/div[3]/div')\n",
    "            lst = c.text.split('\\n')\n",
    "            emails.append(lst[2])\n",
    "            passed+=1\n",
    "        else:\n",
    "            adults+=1\n",
    "            print('adult', adults)\n",
    "    except:\n",
    "        print('failed',  count)\n",
    "        count+=1\n",
    "        failed+=1\n",
    "        continue\n",
    "    time.sleep(2)    \n",
    "#     print(count)\n",
    "    count+=1"
   ]
  },
  {
   "cell_type": "code",
   "execution_count": 161,
   "id": "married-disclosure",
   "metadata": {},
   "outputs": [
    {
     "data": {
      "text/plain": [
       "['himanshu76200@gmail.com',\n",
       " '2000kuldeeptiwari@gmail.com',\n",
       " 'ayush.chakladar@gmail.com',\n",
       " 'mishra.satwik9532@gmail.com',\n",
       " 'vkhurana50b@gmail.com']"
      ]
     },
     "execution_count": 161,
     "metadata": {},
     "output_type": "execute_result"
    }
   ],
   "source": [
    "emails"
   ]
  },
  {
   "cell_type": "code",
   "execution_count": 162,
   "id": "enormous-reaction",
   "metadata": {},
   "outputs": [
    {
     "name": "stdout",
     "output_type": "stream",
     "text": [
      "failed 0\n",
      "failed 1\n",
      "failed 2\n",
      "failed 3\n",
      "failed 4\n",
      "failed 5\n",
      "failed 6\n",
      "failed 7\n",
      "failed 8\n",
      "failed 9\n",
      "failed 10\n",
      "failed 11\n",
      "failed 12\n",
      "failed 13\n",
      "failed 14\n",
      "failed 15\n",
      "failed 16\n",
      "failed 17\n",
      "failed 18\n",
      "failed 19\n",
      "failed 20\n",
      "failed 21\n",
      "failed 22\n",
      "failed 23\n",
      "failed 24\n"
     ]
    }
   ],
   "source": [
    "import time\n",
    "count = 0\n",
    "emails = []\n",
    "passed = 0\n",
    "failed = 0\n",
    "adults = 0\n",
    "for i in range(1, 26):\n",
    "    try:\n",
    "        lst = []\n",
    "        a = driver.find_element_by_xpath(f'/html/body/div[5]/div[3]/div/div[3]/div/div/div[2]/ul/li[{i}]')\n",
    "        a.click()\n",
    "        time.sleep(5)\n",
    "        #decides education date if passing year is above 2022 then ok add emails of them\n",
    "#         edu_date = driver.find_element_by_xpath('/html/body/div[5]/div[3]/div/div[3]/div/main/div/div[2]/div[1]/section[2]')\n",
    "#         edu_date_year = edu_date.text.split('\\n')[-1][-2:]\n",
    "        edu_date_1 = driver.find_element_by_xpath('/html/body/div[5]/div[3]/div/div[3]/div/main/div/div[2]/div[1]/section')\n",
    "        edu_date_year_1 = edu_date.text.split('\\n')[-1][-2:]            \n",
    "        if int(edu_date_year) >= 22:\n",
    "            print('pass out year', edu_date_year)\n",
    "            b = driver.find_element_by_xpath('/html/body/div[5]/div[3]/div/div[3]/div/main/div/div[1]/div[1]/div[1]/div[2]/div[3]/button')\n",
    "            b.click()\n",
    "            time.sleep(2)\n",
    "            c = driver.find_element_by_xpath('/html/body/div[5]/div[3]/div/div[3]/div/main/div/div[1]/div[1]/div[1]/div[2]/div[3]/div')\n",
    "            lst = c.text.split('\\n')\n",
    "            emails.append(lst[2])\n",
    "            passed+=1\n",
    "        else:\n",
    "            adults+=1\n",
    "            print('adult', adults)\n",
    "    except:\n",
    "        print('failed',  count)\n",
    "        count+=1\n",
    "        failed+=1\n",
    "        continue\n",
    "    time.sleep(2)    \n",
    "#     print(count)\n",
    "    count+=1"
   ]
  },
  {
   "cell_type": "code",
   "execution_count": 172,
   "id": "recent-turkey",
   "metadata": {
    "scrolled": false
   },
   "outputs": [],
   "source": [
    "# /html/body/div[5]/div[3]/div/div[3]/div/main/div/div[2]/div[1]/section[2]\n",
    "# /html/body/div[5]/div[3]/div/div[3]/div/main/div/div[2]/div[1]/section\n",
    "edu_date_1 = driver.find_element_by_xpath('/html/body/div[5]/div[3]/div/div[3]/div/main/div/div[2]/div[1]/section')\n",
    "edu_date_year_1 = edu_date_1.text.split('\\n')[-1][-2:] "
   ]
  },
  {
   "cell_type": "code",
   "execution_count": 168,
   "id": "superb-captain",
   "metadata": {},
   "outputs": [
    {
     "data": {
      "text/plain": [
       "'Education\\nTHDC Institute of Hydropower Engineering\\nBachelor of Technology - BTech, computer science\\nYears attended from 2018 to 2021\\n2018 – 2021'"
      ]
     },
     "execution_count": 168,
     "metadata": {},
     "output_type": "execute_result"
    }
   ],
   "source": [
    "edu_date_1.text"
   ]
  },
  {
   "cell_type": "code",
   "execution_count": 169,
   "id": "graduate-harassment",
   "metadata": {},
   "outputs": [
    {
     "data": {
      "text/plain": [
       "['Education',\n",
       " 'THDC Institute of Hydropower Engineering',\n",
       " 'Bachelor of Technology - BTech, computer science',\n",
       " 'Years attended from 2018 to 2021',\n",
       " '2018 – 2021']"
      ]
     },
     "execution_count": 169,
     "metadata": {},
     "output_type": "execute_result"
    }
   ],
   "source": [
    "edu_date_1.text.split('\\n')"
   ]
  },
  {
   "cell_type": "code",
   "execution_count": 171,
   "id": "limited-brush",
   "metadata": {},
   "outputs": [
    {
     "data": {
      "text/plain": [
       "'21'"
      ]
     },
     "execution_count": 171,
     "metadata": {},
     "output_type": "execute_result"
    }
   ],
   "source": [
    "edu_date_1.text.split('\\n')[-1][-2:]"
   ]
  },
  {
   "cell_type": "code",
   "execution_count": 173,
   "id": "material-distinction",
   "metadata": {},
   "outputs": [
    {
     "data": {
      "text/plain": [
       "'21'"
      ]
     },
     "execution_count": 173,
     "metadata": {},
     "output_type": "execute_result"
    }
   ],
   "source": [
    "edu_date_year_1"
   ]
  },
  {
   "cell_type": "code",
   "execution_count": 176,
   "id": "intense-turner",
   "metadata": {},
   "outputs": [
    {
     "name": "stdout",
     "output_type": "stream",
     "text": [
      "here\n",
      "here\n",
      "here\n",
      "here\n",
      "here\n",
      "here\n",
      "failed 6\n",
      "failed 7\n",
      "failed 8\n",
      "failed 9\n",
      "failed 10\n",
      "failed 11\n",
      "here\n",
      "failed 13\n",
      "here\n",
      "here\n",
      "here\n",
      "here\n",
      "here\n",
      "here\n",
      "here\n",
      "failed 21\n",
      "failed 22\n",
      "failed 23\n",
      "failed 24\n"
     ]
    }
   ],
   "source": [
    "import time\n",
    "count = 0\n",
    "emails = []\n",
    "passed = 0\n",
    "failed = 0\n",
    "adults = 0\n",
    "for i in range(1, 26):\n",
    "    try:\n",
    "        lst = []\n",
    "        a = driver.find_element_by_xpath(f'/html/body/div[5]/div[3]/div/div[3]/div/div/div[2]/ul/li[{i}]')\n",
    "        a.click()\n",
    "        time.sleep(5)\n",
    "        #decides education date if passing year is above 2022 then ok add emails of them\n",
    "        try:\n",
    "            edu_date = driver.find_element_by_xpath('/html/body/div[5]/div[3]/div/div[3]/div/main/div/div[2]/div[1]/section[2]')\n",
    "            edu_date_year = edu_date.text.split('\\n')[-1][-2:]\n",
    "        except:\n",
    "            edu_date_1 = driver.find_element_by_xpath('/html/body/div[5]/div[3]/div/div[3]/div/main/div/div[2]/div[1]/section')\n",
    "            edu_date_year_1 = edu_date_1.text.split('\\n')[-1][-2:]            \n",
    "        if int(edu_date_year) >= 22 or int(edu_date_year_1) >=22:\n",
    "#             print('pass out year', edu_date_year)\n",
    "            print('here')\n",
    "            b = driver.find_element_by_xpath('/html/body/div[5]/div[3]/div/div[3]/div/main/div/div[1]/div[1]/div[1]/div[2]/div[3]/button')\n",
    "            b.click()\n",
    "            time.sleep(2)\n",
    "            c = driver.find_element_by_xpath('/html/body/div[5]/div[3]/div/div[3]/div/main/div/div[1]/div[1]/div[1]/div[2]/div[3]/div')\n",
    "            lst = c.text.split('\\n')\n",
    "            emails.append(lst[2])\n",
    "            passed+=1\n",
    "        else:\n",
    "            adults+=1\n",
    "            print('adult', adults)\n",
    "    except:\n",
    "        print('failed',  count)\n",
    "        count+=1\n",
    "        failed+=1\n",
    "        continue\n",
    "    time.sleep(2)    \n",
    "#     print(count)\n",
    "    count+=1"
   ]
  },
  {
   "cell_type": "code",
   "execution_count": 175,
   "id": "alien-karma",
   "metadata": {},
   "outputs": [
    {
     "data": {
      "text/plain": [
       "['himanshu76200@gmail.com',\n",
       " 'harshitt79@gmail.com',\n",
       " 'neerajy125@gmail.com',\n",
       " '2000kuldeeptiwari@gmail.com',\n",
       " 'ayush.chakladar@gmail.com',\n",
       " 'tamaraiselvan98@gmail.com',\n",
       " 'mishra.satwik9532@gmail.com',\n",
       " 'harish.nishad0775@gmail.com',\n",
       " 'manishabaghel1122@gmail.com',\n",
       " 'vkhurana50b@gmail.com',\n",
       " 'rajeevsharma23june@gmail.com']"
      ]
     },
     "execution_count": 175,
     "metadata": {},
     "output_type": "execute_result"
    }
   ],
   "source": [
    "emails"
   ]
  },
  {
   "cell_type": "code",
   "execution_count": 177,
   "id": "comfortable-lawrence",
   "metadata": {},
   "outputs": [
    {
     "data": {
      "text/plain": [
       "['himanshu76200@gmail.com',\n",
       " 'harshitt79@gmail.com',\n",
       " 'neerajy125@gmail.com',\n",
       " 'neerajy125@gmail.com',\n",
       " 'kmanmohan030@gmail.com',\n",
       " 'jaykakkar31@gmail.com',\n",
       " '2000kuldeeptiwari@gmail.com',\n",
       " 'ayush.chakladar@gmail.com',\n",
       " 'tamaraiselvan98@gmail.com',\n",
       " 'mishra.satwik9532@gmail.com',\n",
       " 'harish.nishad0775@gmail.com',\n",
       " 'manishabaghel1122@gmail.com',\n",
       " 'vkhurana50b@gmail.com',\n",
       " 'rajeevsharma23june@gmail.com']"
      ]
     },
     "execution_count": 177,
     "metadata": {},
     "output_type": "execute_result"
    }
   ],
   "source": [
    "emails"
   ]
  },
  {
   "cell_type": "code",
   "execution_count": 178,
   "id": "aging-pharmacology",
   "metadata": {},
   "outputs": [
    {
     "name": "stdout",
     "output_type": "stream",
     "text": [
      "here\n",
      "adult 1\n",
      "adult 2\n",
      "failed 3\n",
      "adult 3\n",
      "failed 5\n",
      "failed 6\n",
      "adult 4\n",
      "here\n",
      "failed 9\n",
      "here\n",
      "here\n",
      "here\n",
      "failed 13\n",
      "here\n",
      "failed 15\n",
      "here\n",
      "adult 5\n",
      "adult 6\n",
      "here\n",
      "adult 7\n",
      "failed 21\n",
      "failed 22\n",
      "adult 8\n",
      "failed 24\n"
     ]
    }
   ],
   "source": [
    "import time\n",
    "count = 0\n",
    "emails = []\n",
    "passed = 0\n",
    "failed = 0\n",
    "adults = 0\n",
    "for i in range(1, 26):\n",
    "    edu_date_year = 0\n",
    "    edu_date_year_1 = 0 \n",
    "    try:\n",
    "        lst = []\n",
    "        a = driver.find_element_by_xpath(f'/html/body/div[5]/div[3]/div/div[3]/div/div/div[2]/ul/li[{i}]')\n",
    "        a.click()\n",
    "        time.sleep(5)\n",
    "        #decides education date if passing year is above 2022 then ok add emails of them\n",
    "        try:\n",
    "            edu_date = driver.find_element_by_xpath('/html/body/div[5]/div[3]/div/div[3]/div/main/div/div[2]/div[1]/section[2]')\n",
    "            edu_date_year = edu_date.text.split('\\n')[-1][-2:]\n",
    "        except:\n",
    "            edu_date_1 = driver.find_element_by_xpath('/html/body/div[5]/div[3]/div/div[3]/div/main/div/div[2]/div[1]/section')\n",
    "            edu_date_year_1 = edu_date_1.text.split('\\n')[-1][-2:]            \n",
    "        if int(edu_date_year) >= 22 or int(edu_date_year_1) >=22:\n",
    "#             print('pass out year', edu_date_year)\n",
    "            print('here')\n",
    "            b = driver.find_element_by_xpath('/html/body/div[5]/div[3]/div/div[3]/div/main/div/div[1]/div[1]/div[1]/div[2]/div[3]/button')\n",
    "            b.click()\n",
    "            time.sleep(2)\n",
    "            c = driver.find_element_by_xpath('/html/body/div[5]/div[3]/div/div[3]/div/main/div/div[1]/div[1]/div[1]/div[2]/div[3]/div')\n",
    "            lst = c.text.split('\\n')\n",
    "            emails.append(lst[2])\n",
    "            passed+=1\n",
    "        else:\n",
    "            adults+=1\n",
    "            print('adult', adults)\n",
    "    except:\n",
    "        print('failed',  count)\n",
    "        count+=1\n",
    "        failed+=1\n",
    "        continue\n",
    "    time.sleep(2)    \n",
    "#     print(count)\n",
    "    count+=1"
   ]
  },
  {
   "cell_type": "code",
   "execution_count": 179,
   "id": "spread-romantic",
   "metadata": {},
   "outputs": [
    {
     "data": {
      "text/plain": [
       "['himanshu76200@gmail.com',\n",
       " 'rahulgupta6350567@gmail.com',\n",
       " 'somyagupta746@gmail.com',\n",
       " 'titirb.ip.19@nitj.ac.in',\n",
       " '2000kuldeeptiwari@gmail.com',\n",
       " 'ayush.chakladar@gmail.com',\n",
       " 'mishra.satwik9532@gmail.com',\n",
       " 'vkhurana50b@gmail.com']"
      ]
     },
     "execution_count": 179,
     "metadata": {},
     "output_type": "execute_result"
    }
   ],
   "source": [
    "emails"
   ]
  },
  {
   "cell_type": "code",
   "execution_count": 180,
   "id": "gentle-insured",
   "metadata": {},
   "outputs": [
    {
     "name": "stdout",
     "output_type": "stream",
     "text": [
      "here\n",
      "adult 1\n",
      "adult 2\n",
      "adult 3\n",
      "adult 4\n"
     ]
    },
    {
     "ename": "ValueError",
     "evalue": "invalid literal for int() with base 10: 'on'",
     "output_type": "error",
     "traceback": [
      "\u001b[0;31m---------------------------------------------------------------------------\u001b[0m",
      "\u001b[0;31mValueError\u001b[0m                                Traceback (most recent call last)",
      "\u001b[0;32m<ipython-input-180-f3a4fffff235>\u001b[0m in \u001b[0;36m<module>\u001b[0;34m\u001b[0m\n\u001b[1;32m     20\u001b[0m         \u001b[0medu_date_1\u001b[0m \u001b[0;34m=\u001b[0m \u001b[0mdriver\u001b[0m\u001b[0;34m.\u001b[0m\u001b[0mfind_element_by_xpath\u001b[0m\u001b[0;34m(\u001b[0m\u001b[0;34m'/html/body/div[5]/div[3]/div/div[3]/div/main/div/div[2]/div[1]/section'\u001b[0m\u001b[0;34m)\u001b[0m\u001b[0;34m\u001b[0m\u001b[0;34m\u001b[0m\u001b[0m\n\u001b[1;32m     21\u001b[0m         \u001b[0medu_date_year_1\u001b[0m \u001b[0;34m=\u001b[0m \u001b[0medu_date_1\u001b[0m\u001b[0;34m.\u001b[0m\u001b[0mtext\u001b[0m\u001b[0;34m.\u001b[0m\u001b[0msplit\u001b[0m\u001b[0;34m(\u001b[0m\u001b[0;34m'\\n'\u001b[0m\u001b[0;34m)\u001b[0m\u001b[0;34m[\u001b[0m\u001b[0;34m-\u001b[0m\u001b[0;36m1\u001b[0m\u001b[0;34m]\u001b[0m\u001b[0;34m[\u001b[0m\u001b[0;34m-\u001b[0m\u001b[0;36m2\u001b[0m\u001b[0;34m:\u001b[0m\u001b[0;34m]\u001b[0m\u001b[0;34m\u001b[0m\u001b[0;34m\u001b[0m\u001b[0m\n\u001b[0;32m---> 22\u001b[0;31m     \u001b[0;32mif\u001b[0m \u001b[0mint\u001b[0m\u001b[0;34m(\u001b[0m\u001b[0medu_date_year\u001b[0m\u001b[0;34m)\u001b[0m \u001b[0;34m>=\u001b[0m \u001b[0;36m22\u001b[0m \u001b[0;32mor\u001b[0m \u001b[0mint\u001b[0m\u001b[0;34m(\u001b[0m\u001b[0medu_date_year_1\u001b[0m\u001b[0;34m)\u001b[0m \u001b[0;34m>=\u001b[0m\u001b[0;36m22\u001b[0m\u001b[0;34m:\u001b[0m\u001b[0;34m\u001b[0m\u001b[0;34m\u001b[0m\u001b[0m\n\u001b[0m\u001b[1;32m     23\u001b[0m \u001b[0;31m#             print('pass out year', edu_date_year)\u001b[0m\u001b[0;34m\u001b[0m\u001b[0;34m\u001b[0m\u001b[0;34m\u001b[0m\u001b[0m\n\u001b[1;32m     24\u001b[0m         \u001b[0mprint\u001b[0m\u001b[0;34m(\u001b[0m\u001b[0;34m'here'\u001b[0m\u001b[0;34m)\u001b[0m\u001b[0;34m\u001b[0m\u001b[0;34m\u001b[0m\u001b[0m\n",
      "\u001b[0;31mValueError\u001b[0m: invalid literal for int() with base 10: 'on'"
     ]
    }
   ],
   "source": [
    "import time\n",
    "count = 0\n",
    "emails = []\n",
    "passed = 0\n",
    "failed = 0\n",
    "adults = 0\n",
    "for i in range(1, 26):\n",
    "    edu_date_year = 0\n",
    "    edu_date_year_1 = 0 \n",
    "#     try:\n",
    "    lst = []\n",
    "    a = driver.find_element_by_xpath(f'/html/body/div[5]/div[3]/div/div[3]/div/div/div[2]/ul/li[{i}]')\n",
    "    a.click()\n",
    "    time.sleep(5)\n",
    "    #decides education date if passing year is above 2022 then ok add emails of them\n",
    "    try:\n",
    "        edu_date = driver.find_element_by_xpath('/html/body/div[5]/div[3]/div/div[3]/div/main/div/div[2]/div[1]/section[2]')\n",
    "        edu_date_year = edu_date.text.split('\\n')[-1][-2:]\n",
    "    except:\n",
    "        edu_date_1 = driver.find_element_by_xpath('/html/body/div[5]/div[3]/div/div[3]/div/main/div/div[2]/div[1]/section')\n",
    "        edu_date_year_1 = edu_date_1.text.split('\\n')[-1][-2:]            \n",
    "    if int(edu_date_year) >= 22 or int(edu_date_year_1) >=22:\n",
    "#             print('pass out year', edu_date_year)\n",
    "        print('here')\n",
    "        b = driver.find_element_by_xpath('/html/body/div[5]/div[3]/div/div[3]/div/main/div/div[1]/div[1]/div[1]/div[2]/div[3]/button')\n",
    "        b.click()\n",
    "        time.sleep(2)\n",
    "        c = driver.find_element_by_xpath('/html/body/div[5]/div[3]/div/div[3]/div/main/div/div[1]/div[1]/div[1]/div[2]/div[3]/div')\n",
    "        lst = c.text.split('\\n')\n",
    "        emails.append(lst[2])\n",
    "        passed+=1\n",
    "    else:\n",
    "        adults+=1\n",
    "        print('adult', adults)\n",
    "#     time.sleep(2)    \n",
    "#     print(count)\n",
    "    count+=1"
   ]
  },
  {
   "cell_type": "code",
   "execution_count": 187,
   "id": "understanding-bobby",
   "metadata": {},
   "outputs": [],
   "source": [
    "edu_date = driver.find_element_by_xpath('/html/body/div[5]/div[3]/div/div[3]/div/main/div/div[2]/div[1]/section')\n",
    "edu_date_year = edu_date.text.split('\\n')[-1][-2:]"
   ]
  },
  {
   "cell_type": "code",
   "execution_count": 188,
   "id": "collaborative-period",
   "metadata": {},
   "outputs": [
    {
     "data": {
      "text/plain": [
       "'on'"
      ]
     },
     "execution_count": 188,
     "metadata": {},
     "output_type": "execute_result"
    }
   ],
   "source": [
    "edu_date_year"
   ]
  },
  {
   "cell_type": "code",
   "execution_count": 189,
   "id": "equal-insulation",
   "metadata": {},
   "outputs": [
    {
     "data": {
      "text/plain": [
       "'Education\\nMaharaja Surajmal Institute Of Technology\\nBachelor of Technology - BTech, Information Technology\\nYears attended from 2019 to 2023\\n2019 – 2023\\nShow 1 more education'"
      ]
     },
     "execution_count": 189,
     "metadata": {},
     "output_type": "execute_result"
    }
   ],
   "source": [
    "edu_date.text"
   ]
  },
  {
   "cell_type": "code",
   "execution_count": 190,
   "id": "mental-drinking",
   "metadata": {},
   "outputs": [
    {
     "data": {
      "text/plain": [
       "['Education',\n",
       " 'Maharaja Surajmal Institute Of Technology',\n",
       " 'Bachelor of Technology - BTech, Information Technology',\n",
       " 'Years attended from 2019 to 2023',\n",
       " '2019 – 2023',\n",
       " 'Show 1 more education']"
      ]
     },
     "execution_count": 190,
     "metadata": {},
     "output_type": "execute_result"
    }
   ],
   "source": [
    "edu_date.text.split('\\n')"
   ]
  },
  {
   "cell_type": "code",
   "execution_count": 191,
   "id": "noble-british",
   "metadata": {},
   "outputs": [],
   "source": [
    "edu_date = driver.find_element_by_xpath('/html/body/div[5]/div[3]/div/div[3]/div/main/div/div[2]/div[1]/section')\n",
    "edu_date_year = edu_date.text.split('\\n')[-1][-2:]"
   ]
  },
  {
   "cell_type": "code",
   "execution_count": 192,
   "id": "dense-authentication",
   "metadata": {},
   "outputs": [
    {
     "data": {
      "text/plain": [
       "['Education',\n",
       " 'Birla Technical Training Institute,Pilani',\n",
       " 'polytechnic, Diploma in Computer science',\n",
       " 'Years attended from 2016 to 2020',\n",
       " '2016 – 2020']"
      ]
     },
     "execution_count": 192,
     "metadata": {},
     "output_type": "execute_result"
    }
   ],
   "source": [
    "edu_date.text.split('\\n')"
   ]
  },
  {
   "cell_type": "code",
   "execution_count": 199,
   "id": "civilian-renewal",
   "metadata": {},
   "outputs": [],
   "source": [
    "edu_date = driver.find_element_by_xpath('/html/body/div[5]/div[3]/div/div[3]/div/main/div/div[2]/div[1]/section[2]')\n",
    "edu_date_year = edu_date.text.split('\\n')[4][-2:]"
   ]
  },
  {
   "cell_type": "code",
   "execution_count": 200,
   "id": "accessory-merchant",
   "metadata": {},
   "outputs": [
    {
     "data": {
      "text/plain": [
       "['Education',\n",
       " 'International Institute of Information Technology Bangalore & upGrad',\n",
       " 'PG Diploma in Software Development, Software Engineering',\n",
       " 'Years attended from 2021 to 2022',\n",
       " '2021 – 2022',\n",
       " 'Show 1 more education']"
      ]
     },
     "execution_count": 200,
     "metadata": {},
     "output_type": "execute_result"
    }
   ],
   "source": [
    "edu_date.text.split('\\n')"
   ]
  },
  {
   "cell_type": "code",
   "execution_count": 201,
   "id": "national-cricket",
   "metadata": {},
   "outputs": [
    {
     "data": {
      "text/plain": [
       "'22'"
      ]
     },
     "execution_count": 201,
     "metadata": {},
     "output_type": "execute_result"
    }
   ],
   "source": [
    "edu_date_year"
   ]
  },
  {
   "cell_type": "code",
   "execution_count": 202,
   "id": "modular-drive",
   "metadata": {},
   "outputs": [
    {
     "name": "stdout",
     "output_type": "stream",
     "text": [
      "here\n",
      "adult 1\n",
      "adult 2\n",
      "adult 3\n",
      "adult 4\n",
      "here\n",
      "adult 5\n",
      "adult 6\n",
      "here\n",
      "here\n",
      "here\n",
      "here\n",
      "here\n",
      "here\n",
      "here\n",
      "adult 7\n",
      "here\n",
      "here\n",
      "adult 8\n",
      "here\n",
      "adult 9\n"
     ]
    },
    {
     "ename": "ValueError",
     "evalue": "invalid literal for int() with base 10: 'nt'",
     "output_type": "error",
     "traceback": [
      "\u001b[0;31m---------------------------------------------------------------------------\u001b[0m",
      "\u001b[0;31mValueError\u001b[0m                                Traceback (most recent call last)",
      "\u001b[0;32m<ipython-input-202-0be2af53fa24>\u001b[0m in \u001b[0;36m<module>\u001b[0;34m\u001b[0m\n\u001b[1;32m     20\u001b[0m         \u001b[0medu_date_1\u001b[0m \u001b[0;34m=\u001b[0m \u001b[0mdriver\u001b[0m\u001b[0;34m.\u001b[0m\u001b[0mfind_element_by_xpath\u001b[0m\u001b[0;34m(\u001b[0m\u001b[0;34m'/html/body/div[5]/div[3]/div/div[3]/div/main/div/div[2]/div[1]/section'\u001b[0m\u001b[0;34m)\u001b[0m\u001b[0;34m\u001b[0m\u001b[0;34m\u001b[0m\u001b[0m\n\u001b[1;32m     21\u001b[0m         \u001b[0medu_date_year_1\u001b[0m \u001b[0;34m=\u001b[0m \u001b[0medu_date_1\u001b[0m\u001b[0;34m.\u001b[0m\u001b[0mtext\u001b[0m\u001b[0;34m.\u001b[0m\u001b[0msplit\u001b[0m\u001b[0;34m(\u001b[0m\u001b[0;34m'\\n'\u001b[0m\u001b[0;34m)\u001b[0m\u001b[0;34m[\u001b[0m\u001b[0;36m4\u001b[0m\u001b[0;34m]\u001b[0m\u001b[0;34m[\u001b[0m\u001b[0;34m-\u001b[0m\u001b[0;36m2\u001b[0m\u001b[0;34m:\u001b[0m\u001b[0;34m]\u001b[0m\u001b[0;34m\u001b[0m\u001b[0;34m\u001b[0m\u001b[0m\n\u001b[0;32m---> 22\u001b[0;31m     \u001b[0;32mif\u001b[0m \u001b[0mint\u001b[0m\u001b[0;34m(\u001b[0m\u001b[0medu_date_year\u001b[0m\u001b[0;34m)\u001b[0m \u001b[0;34m>=\u001b[0m \u001b[0;36m22\u001b[0m \u001b[0;32mor\u001b[0m \u001b[0mint\u001b[0m\u001b[0;34m(\u001b[0m\u001b[0medu_date_year_1\u001b[0m\u001b[0;34m)\u001b[0m \u001b[0;34m>=\u001b[0m\u001b[0;36m22\u001b[0m\u001b[0;34m:\u001b[0m\u001b[0;34m\u001b[0m\u001b[0;34m\u001b[0m\u001b[0m\n\u001b[0m\u001b[1;32m     23\u001b[0m \u001b[0;31m#             print('pass out year', edu_date_year)\u001b[0m\u001b[0;34m\u001b[0m\u001b[0;34m\u001b[0m\u001b[0;34m\u001b[0m\u001b[0m\n\u001b[1;32m     24\u001b[0m         \u001b[0mprint\u001b[0m\u001b[0;34m(\u001b[0m\u001b[0;34m'here'\u001b[0m\u001b[0;34m)\u001b[0m\u001b[0;34m\u001b[0m\u001b[0;34m\u001b[0m\u001b[0m\n",
      "\u001b[0;31mValueError\u001b[0m: invalid literal for int() with base 10: 'nt'"
     ]
    }
   ],
   "source": [
    "import time\n",
    "count = 0\n",
    "emails = []\n",
    "passed = 0\n",
    "failed = 0\n",
    "adults = 0\n",
    "for i in range(1, 26):\n",
    "    edu_date_year = 0\n",
    "    edu_date_year_1 = 0 \n",
    "#     try:\n",
    "    lst = []\n",
    "    a = driver.find_element_by_xpath(f'/html/body/div[5]/div[3]/div/div[3]/div/div/div[2]/ul/li[{i}]')\n",
    "    a.click()\n",
    "    time.sleep(5)\n",
    "    #decides education date if passing year is above 2022 then ok add emails of them\n",
    "    try:\n",
    "        edu_date = driver.find_element_by_xpath('/html/body/div[5]/div[3]/div/div[3]/div/main/div/div[2]/div[1]/section[2]')\n",
    "        edu_date_year = edu_date.text.split('\\n')[4][-2:]\n",
    "    except:\n",
    "        edu_date_1 = driver.find_element_by_xpath('/html/body/div[5]/div[3]/div/div[3]/div/main/div/div[2]/div[1]/section')\n",
    "        edu_date_year_1 = edu_date_1.text.split('\\n')[4][-2:]            \n",
    "    if int(edu_date_year) >= 22 or int(edu_date_year_1) >=22:\n",
    "#             print('pass out year', edu_date_year)\n",
    "        print('here')\n",
    "        b = driver.find_element_by_xpath('/html/body/div[5]/div[3]/div/div[3]/div/main/div/div[1]/div[1]/div[1]/div[2]/div[3]/button')\n",
    "        b.click()\n",
    "        time.sleep(2)\n",
    "        c = driver.find_element_by_xpath('/html/body/div[5]/div[3]/div/div[3]/div/main/div/div[1]/div[1]/div[1]/div[2]/div[3]/div')\n",
    "        lst = c.text.split('\\n')\n",
    "        emails.append(lst[2])\n",
    "        passed+=1\n",
    "    else:\n",
    "        adults+=1\n",
    "        print('adult', adults)\n",
    "#     time.sleep(2)    \n",
    "#     print(count)\n",
    "    count+=1"
   ]
  },
  {
   "cell_type": "code",
   "execution_count": 203,
   "id": "bizarre-blond",
   "metadata": {},
   "outputs": [
    {
     "data": {
      "text/plain": [
       "['himanshu76200@gmail.com',\n",
       " 'jaykakkar31@gmail.com',\n",
       " 'rahulgupta6350567@gmail.com',\n",
       " 'jobforvishal@outlook.com',\n",
       " 'somyagupta746@gmail.com',\n",
       " 'titirb.ip.19@nitj.ac.in',\n",
       " '2000kuldeeptiwari@gmail.com',\n",
       " 'ashwani.shr002@gmail.com',\n",
       " 'ayush.chakladar@gmail.com',\n",
       " 'mishra.satwik9532@gmail.com',\n",
       " 'mishra.satwik9532@gmail.com',\n",
       " 'vkhurana50b@gmail.com']"
      ]
     },
     "execution_count": 203,
     "metadata": {},
     "output_type": "execute_result"
    }
   ],
   "source": [
    "emails"
   ]
  },
  {
   "cell_type": "code",
   "execution_count": 204,
   "id": "filled-arrest",
   "metadata": {},
   "outputs": [
    {
     "name": "stdout",
     "output_type": "stream",
     "text": [
      "here\n",
      "adult 1\n",
      "adult 2\n",
      "adult 3\n",
      "adult 4\n",
      "here\n",
      "adult 5\n",
      "adult 6\n",
      "here\n",
      "here\n",
      "here\n",
      "here\n",
      "here\n",
      "here\n",
      "here\n",
      "adult 7\n",
      "here\n",
      "adult 8\n",
      "adult 9\n",
      "here\n",
      "adult 10\n",
      "here\n",
      "adult 11\n"
     ]
    }
   ],
   "source": [
    "import time\n",
    "count = 0\n",
    "emails = []\n",
    "passed = 0\n",
    "failed = 0\n",
    "adults = 0\n",
    "for i in range(1, 26):\n",
    "    edu_date_year = 0\n",
    "    edu_date_year_1 = 0 \n",
    "    try:\n",
    "        lst = []\n",
    "        a = driver.find_element_by_xpath(f'/html/body/div[5]/div[3]/div/div[3]/div/div/div[2]/ul/li[{i}]')\n",
    "        a.click()\n",
    "        time.sleep(5)\n",
    "        #decides education date if passing year is above 2022 then ok add emails of them\n",
    "        try:\n",
    "            edu_date = driver.find_element_by_xpath('/html/body/div[5]/div[3]/div/div[3]/div/main/div/div[2]/div[1]/section[2]')\n",
    "            edu_date_year = edu_date.text.split('\\n')[4][-2:]\n",
    "        except:\n",
    "            edu_date_1 = driver.find_element_by_xpath('/html/body/div[5]/div[3]/div/div[3]/div/main/div/div[2]/div[1]/section')\n",
    "            edu_date_year_1 = edu_date_1.text.split('\\n')[4][-2:]            \n",
    "        if int(edu_date_year) >= 22 or int(edu_date_year_1) >=22:\n",
    "    #             print('pass out year', edu_date_year)\n",
    "            print('here')\n",
    "            b = driver.find_element_by_xpath('/html/body/div[5]/div[3]/div/div[3]/div/main/div/div[1]/div[1]/div[1]/div[2]/div[3]/button')\n",
    "            b.click()\n",
    "            time.sleep(2)\n",
    "            c = driver.find_element_by_xpath('/html/body/div[5]/div[3]/div/div[3]/div/main/div/div[1]/div[1]/div[1]/div[2]/div[3]/div')\n",
    "            lst = c.text.split('\\n')\n",
    "            emails.append(lst[2])\n",
    "            passed+=1\n",
    "        else:\n",
    "            adults+=1\n",
    "            print('adult', adults)\n",
    "#     time.sleep(2)    \n",
    "#     print(count)\n",
    "    except:\n",
    "        count+=1\n",
    "        continue\n",
    "    count+=1"
   ]
  },
  {
   "cell_type": "code",
   "execution_count": 205,
   "id": "comprehensive-month",
   "metadata": {},
   "outputs": [
    {
     "data": {
      "text/plain": [
       "['himanshu76200@gmail.com',\n",
       " 'jaykakkar31@gmail.com',\n",
       " 'rahulgupta6350567@gmail.com',\n",
       " 'jobforvishal@outlook.com',\n",
       " 'somyagupta746@gmail.com',\n",
       " 'titirb.ip.19@nitj.ac.in',\n",
       " '2000kuldeeptiwari@gmail.com',\n",
       " 'ashwani.shr002@gmail.com',\n",
       " 'ayush.chakladar@gmail.com',\n",
       " 'mishra.satwik9532@gmail.com',\n",
       " 'vkhurana50b@gmail.com',\n",
       " 'manangarg9f@gmail.com']"
      ]
     },
     "execution_count": 205,
     "metadata": {},
     "output_type": "execute_result"
    }
   ],
   "source": [
    "emails"
   ]
  },
  {
   "cell_type": "code",
   "execution_count": 206,
   "id": "prostate-inclusion",
   "metadata": {},
   "outputs": [
    {
     "data": {
      "text/plain": [
       "308"
      ]
     },
     "execution_count": 206,
     "metadata": {},
     "output_type": "execute_result"
    }
   ],
   "source": [
    "file = open('email-list.txt', 'w')\n",
    "email_str = ', '.join(emails)\n",
    "file.write(email_str)"
   ]
  },
  {
   "cell_type": "code",
   "execution_count": 207,
   "id": "reasonable-revision",
   "metadata": {},
   "outputs": [],
   "source": [
    "file.close()"
   ]
  },
  {
   "cell_type": "code",
   "execution_count": 208,
   "id": "satisfactory-projection",
   "metadata": {},
   "outputs": [
    {
     "name": "stdout",
     "output_type": "stream",
     "text": [
      "here\n",
      "adult 1\n",
      "adult 2\n",
      "here\n",
      "adult 3\n",
      "adult 4\n",
      "here\n",
      "adult 5\n",
      "here\n",
      "here\n",
      "adult 6\n",
      "adult 7\n"
     ]
    }
   ],
   "source": [
    "import time\n",
    "count = 0\n",
    "emails = []\n",
    "passed = 0\n",
    "failed = 0\n",
    "adults = 0\n",
    "for i in range(1, 26):\n",
    "    edu_date_year = 0\n",
    "    edu_date_year_1 = 0 \n",
    "    try:\n",
    "        lst = []\n",
    "        a = driver.find_element_by_xpath(f'/html/body/div[5]/div[3]/div/div[3]/div/div/div[2]/ul/li[{i}]')\n",
    "        a.click()\n",
    "        time.sleep(5)\n",
    "        #decides education date if passing year is above 2022 then ok add emails of them\n",
    "        try:\n",
    "            edu_date = driver.find_element_by_xpath('/html/body/div[5]/div[3]/div/div[3]/div/main/div/div[2]/div[1]/section[2]')\n",
    "            edu_date_year = edu_date.text.split('\\n')[4][-2:]\n",
    "        except:\n",
    "            edu_date_1 = driver.find_element_by_xpath('/html/body/div[5]/div[3]/div/div[3]/div/main/div/div[2]/div[1]/section')\n",
    "            edu_date_year_1 = edu_date_1.text.split('\\n')[4][-2:]            \n",
    "        if int(edu_date_year) >= 22 or int(edu_date_year_1) >=22:\n",
    "    #             print('pass out year', edu_date_year)\n",
    "            print('here')\n",
    "            b = driver.find_element_by_xpath('/html/body/div[5]/div[3]/div/div[3]/div/main/div/div[1]/div[1]/div[1]/div[2]/div[3]/button')\n",
    "            b.click()\n",
    "            time.sleep(2)\n",
    "            c = driver.find_element_by_xpath('/html/body/div[5]/div[3]/div/div[3]/div/main/div/div[1]/div[1]/div[1]/div[2]/div[3]/div')\n",
    "            lst = c.text.split('\\n')\n",
    "            emails.append(lst[2])\n",
    "            passed+=1\n",
    "        else:\n",
    "            adults+=1\n",
    "            print('adult', adults)\n",
    "#     time.sleep(2)    \n",
    "#     print(count)\n",
    "    except:\n",
    "        count+=1\n",
    "        continue\n",
    "    count+=1"
   ]
  },
  {
   "cell_type": "code",
   "execution_count": 209,
   "id": "detailed-paris",
   "metadata": {},
   "outputs": [
    {
     "data": {
      "text/plain": [
       "['samirgupta19670@gmail.com',\n",
       " 'guptakartik2608@gmail.com',\n",
       " 'premsundarpadhy@gmail.com',\n",
       " 'nikhilfalke11@gmail.com',\n",
       " 'harshit.srivastava2001@gmail.com']"
      ]
     },
     "execution_count": 209,
     "metadata": {},
     "output_type": "execute_result"
    }
   ],
   "source": [
    "emails"
   ]
  },
  {
   "cell_type": "code",
   "execution_count": 210,
   "id": "linear-stadium",
   "metadata": {},
   "outputs": [],
   "source": [
    "file = open('email-list.txt', 'a')\n",
    "email_str = ', '.join(emails)"
   ]
  },
  {
   "cell_type": "code",
   "execution_count": 211,
   "id": "green-antigua",
   "metadata": {},
   "outputs": [
    {
     "data": {
      "text/plain": [
       "138"
      ]
     },
     "execution_count": 211,
     "metadata": {},
     "output_type": "execute_result"
    }
   ],
   "source": [
    "file.write(email_str)"
   ]
  },
  {
   "cell_type": "code",
   "execution_count": 212,
   "id": "adverse-cotton",
   "metadata": {},
   "outputs": [],
   "source": [
    "file.close()"
   ]
  },
  {
   "cell_type": "code",
   "execution_count": 215,
   "id": "environmental-delta",
   "metadata": {},
   "outputs": [
    {
     "name": "stdout",
     "output_type": "stream",
     "text": [
      "adult 1\n",
      "here\n",
      "here\n"
     ]
    }
   ],
   "source": [
    "import time\n",
    "count = 0\n",
    "emails = []\n",
    "passed = 0\n",
    "failed = 0\n",
    "adults = 0\n",
    "for i in range(1, 4):\n",
    "    edu_date_year = 0\n",
    "    edu_date_year_1 = 0 \n",
    "#     try:\n",
    "    lst = []\n",
    "    a = driver.find_element_by_xpath(f'/html/body/div[5]/div[3]/div/div[3]/div/div/div[2]/ul/li[{i}]')\n",
    "    a.click()\n",
    "    time.sleep(5)\n",
    "    #decides education date if passing year is above 2022 then ok add emails of them\n",
    "    try:\n",
    "        edu_date = driver.find_element_by_xpath('/html/body/div[5]/div[3]/div/div[3]/div/main/div/div[2]/div[1]/section[2]')\n",
    "        edu_date_year = edu_date.text.split('\\n')[4][-2:]\n",
    "    except:\n",
    "        edu_date_1 = driver.find_element_by_xpath('/html/body/div[5]/div[3]/div/div[3]/div/main/div/div[2]/div[1]/section')\n",
    "        edu_date_year_1 = edu_date_1.text.split('\\n')[4][-2:]            \n",
    "    if int(edu_date_year) >= 22 or int(edu_date_year_1) >=22:\n",
    "#             print('pass out year', edu_date_year)\n",
    "        print('here')\n",
    "        b = driver.find_element_by_xpath('/html/body/div[5]/div[3]/div/div[3]/div/main/div/div[1]/div[1]/div[1]/div[2]/div[2]/button')\n",
    "        b.click()\n",
    "        time.sleep(2)\n",
    "        c = driver.find_element_by_xpath('/html/body/div[5]/div[3]/div/div[3]/div/main/div/div[1]/div[1]/div[1]/div[2]/div[2]/div')\n",
    "        lst = c.text.split('\\n')\n",
    "        emails.append(lst[2])\n",
    "        passed+=1\n",
    "    else:\n",
    "        adults+=1\n",
    "        print('adult', adults)\n",
    "#     time.sleep(2)    \n",
    "#     print(count)\n",
    "    count+=1"
   ]
  },
  {
   "cell_type": "code",
   "execution_count": null,
   "id": "alpha-green",
   "metadata": {},
   "outputs": [],
   "source": [
    "/html/body/div[5]/div[3]/div/div[3]/div/main/div/div[1]/div[1]/div[1]/div[2]/div[2]/button\n",
    "/html/body/div[5]/div[3]/div/div[3]/div/main/div/div[1]/div[1]/div[1]/div[2]/div[3]/button\n",
    "\n",
    "\n",
    "/html/body/div[5]/div[3]/div/div[3]/div/main/div/div[1]/div[1]/div[1]/div[2]/div[2]/div\n",
    "/html/body/div[5]/div[3]/div/div[3]/div/main/div/div[1]/div[1]/div[1]/div[2]/div[3]/div"
   ]
  },
  {
   "cell_type": "code",
   "execution_count": 216,
   "id": "nearby-little",
   "metadata": {},
   "outputs": [
    {
     "data": {
      "text/plain": [
       "['b119018@iiit-bh.ac.in', 'hranaritsh@gmail.com']"
      ]
     },
     "execution_count": 216,
     "metadata": {},
     "output_type": "execute_result"
    }
   ],
   "source": [
    "emails"
   ]
  },
  {
   "cell_type": "code",
   "execution_count": 218,
   "id": "natural-transaction",
   "metadata": {},
   "outputs": [
    {
     "name": "stdout",
     "output_type": "stream",
     "text": [
      "adult 1\n",
      "here\n",
      "here\n",
      "here\n",
      "adult 2\n",
      "here\n",
      "here\n",
      "adult 3\n",
      "adult 4\n",
      "here\n",
      "adult 5\n",
      "here\n",
      "adult 6\n",
      "here\n",
      "here\n",
      "adult 7\n",
      "here\n",
      "adult 8\n",
      "adult 9\n",
      "adult 10\n",
      "adult 11\n",
      "adult 12\n",
      "here\n"
     ]
    }
   ],
   "source": [
    "import time\n",
    "count = 0\n",
    "emails = []\n",
    "passed = 0\n",
    "failed = 0\n",
    "adults = 0\n",
    "for i in range(1, 26):\n",
    "    edu_date_year = 0\n",
    "    edu_date_year_1 = 0 \n",
    "    try:\n",
    "        lst = []\n",
    "        a = driver.find_element_by_xpath(f'/html/body/div[5]/div[3]/div/div[3]/div/div/div[2]/ul/li[{i}]')\n",
    "        a.click()\n",
    "        time.sleep(5)\n",
    "        #decides education date if passing year is above 2022 then ok add emails of them\n",
    "        try:\n",
    "            edu_date = driver.find_element_by_xpath('/html/body/div[5]/div[3]/div/div[3]/div/main/div/div[2]/div[1]/section[2]')\n",
    "            edu_date_year = edu_date.text.split('\\n')[4][-2:]\n",
    "        except:\n",
    "            edu_date_1 = driver.find_element_by_xpath('/html/body/div[5]/div[3]/div/div[3]/div/main/div/div[2]/div[1]/section')\n",
    "            edu_date_year_1 = edu_date_1.text.split('\\n')[4][-2:]            \n",
    "        if int(edu_date_year) >= 22 or int(edu_date_year_1) >=22:\n",
    "    #             print('pass out year', edu_date_year)\n",
    "            print('here')\n",
    "            b = driver.find_element_by_xpath('/html/body/div[5]/div[3]/div/div[3]/div/main/div/div[1]/div[1]/div[1]/div[2]/div[2]/button')\n",
    "            b.click()\n",
    "            time.sleep(2)\n",
    "            c = driver.find_element_by_xpath('/html/body/div[5]/div[3]/div/div[3]/div/main/div/div[1]/div[1]/div[1]/div[2]/div[2]/div')\n",
    "            lst = c.text.split('\\n')\n",
    "            emails.append(lst[2])\n",
    "            passed+=1\n",
    "        else:\n",
    "            adults+=1\n",
    "            print('adult', adults)\n",
    "#     time.sleep(2)    \n",
    "#     print(count)\n",
    "    except:\n",
    "        count+=1\n",
    "        continue\n",
    "    count+=1"
   ]
  },
  {
   "cell_type": "code",
   "execution_count": 219,
   "id": "norman-packing",
   "metadata": {},
   "outputs": [
    {
     "data": {
      "text/plain": [
       "['b119018@iiit-bh.ac.in',\n",
       " 'hranaritsh@gmail.com',\n",
       " 'ayushigupta283203@gmail.com',\n",
       " 'dhairyas2412@gmail.com',\n",
       " 'sonukumar301299@gmail.com',\n",
       " 'cdikshachoudhary25@gmail.com',\n",
       " 'ajaykrverma9838@gmail.com',\n",
       " 'mayankraj096@gmail.com',\n",
       " 'adityamainpuri1222@gmail.com',\n",
       " 's.sonam23singh@gmail.com',\n",
       " 'vickyjaiswal647@gmail.com']"
      ]
     },
     "execution_count": 219,
     "metadata": {},
     "output_type": "execute_result"
    }
   ],
   "source": [
    "emails"
   ]
  },
  {
   "cell_type": "code",
   "execution_count": 220,
   "id": "civil-bedroom",
   "metadata": {},
   "outputs": [],
   "source": [
    "file = open('email-list.txt', 'a')\n",
    "email_str = ', '.join(emails)\n",
    "file.write(email_str)\n",
    "file.close()"
   ]
  },
  {
   "cell_type": "code",
   "execution_count": 221,
   "id": "smart-pointer",
   "metadata": {},
   "outputs": [
    {
     "name": "stdout",
     "output_type": "stream",
     "text": [
      "here\n",
      "adult 1\n",
      "adult 2\n",
      "here\n",
      "here\n",
      "here\n",
      "adult 3\n",
      "here\n",
      "here\n",
      "here\n",
      "here\n",
      "here\n",
      "here\n",
      "here\n",
      "here\n",
      "here\n",
      "adult 4\n",
      "adult 5\n",
      "adult 6\n",
      "adult 7\n",
      "here\n",
      "here\n",
      "here\n",
      "here\n",
      "adult 8\n"
     ]
    }
   ],
   "source": [
    "import time\n",
    "count = 0\n",
    "emails = []\n",
    "passed = 0\n",
    "failed = 0\n",
    "adults = 0\n",
    "for i in range(1, 26):\n",
    "    edu_date_year = 0\n",
    "    edu_date_year_1 = 0 \n",
    "    try:\n",
    "        lst = []\n",
    "        a = driver.find_element_by_xpath(f'/html/body/div[5]/div[3]/div/div[3]/div/div/div[2]/ul/li[{i}]')\n",
    "        a.click()\n",
    "        time.sleep(5)\n",
    "        #decides education date if passing year is above 2022 then ok add emails of them\n",
    "        try:\n",
    "            edu_date = driver.find_element_by_xpath('/html/body/div[5]/div[3]/div/div[3]/div/main/div/div[2]/div[1]/section[2]')\n",
    "            edu_date_year = edu_date.text.split('\\n')[4][-2:]\n",
    "        except:\n",
    "            edu_date_1 = driver.find_element_by_xpath('/html/body/div[5]/div[3]/div/div[3]/div/main/div/div[2]/div[1]/section')\n",
    "            edu_date_year_1 = edu_date_1.text.split('\\n')[4][-2:]            \n",
    "        if int(edu_date_year) >= 22 or int(edu_date_year_1) >=22:\n",
    "    #             print('pass out year', edu_date_year)\n",
    "            print('here')\n",
    "            b = driver.find_element_by_xpath('/html/body/div[5]/div[3]/div/div[3]/div/main/div/div[1]/div[1]/div[1]/div[2]/div[2]/button')\n",
    "            b.click()\n",
    "            time.sleep(2)\n",
    "            c = driver.find_element_by_xpath('/html/body/div[5]/div[3]/div/div[3]/div/main/div/div[1]/div[1]/div[1]/div[2]/div[2]/div')\n",
    "            lst = c.text.split('\\n')\n",
    "            emails.append(lst[2])\n",
    "            passed+=1\n",
    "        else:\n",
    "            adults+=1\n",
    "            print('adult', adults)\n",
    "#     time.sleep(2)    \n",
    "#     print(count)\n",
    "    except:\n",
    "        count+=1\n",
    "        continue\n",
    "    count+=1"
   ]
  },
  {
   "cell_type": "code",
   "execution_count": 222,
   "id": "dress-quest",
   "metadata": {},
   "outputs": [
    {
     "data": {
      "text/plain": [
       "['slaxmika@gmail.com',\n",
       " 'abhishek1.cs.2018@mitmeerut.ac.in',\n",
       " 'mishrapriyabrata1234@gmail.com',\n",
       " 'mohnanikashish@gmail.com',\n",
       " 'sreenidhi2777@gmail.com',\n",
       " 'maheshwari.sagars2000@gmail.com',\n",
       " 'hartajsinghsidhu2005@gmail.com',\n",
       " 'khanaman331@gmail.com',\n",
       " 'abinayakumar2410@gmail.com',\n",
       " 'parteekchauhan1@gmail.com',\n",
       " 'tanishkarajput16@gmail.com',\n",
       " 'priyanshumawar29@gmail.com',\n",
       " 'ayushj.aj23@gmail.com',\n",
       " 'ravi2018cs115abesit@gmail.com',\n",
       " 'hritikarora2019@gmail.com',\n",
       " 'dheerajdixit2001@gmail.com',\n",
       " 'mysterysinghraj@gmail.com']"
      ]
     },
     "execution_count": 222,
     "metadata": {},
     "output_type": "execute_result"
    }
   ],
   "source": [
    "emails"
   ]
  },
  {
   "cell_type": "code",
   "execution_count": 223,
   "id": "mexican-equivalent",
   "metadata": {},
   "outputs": [],
   "source": [
    "file = open('email-list.txt', 'a')\n",
    "email_str = ', '.join(emails)\n",
    "file.write(email_str)\n",
    "file.close()"
   ]
  },
  {
   "cell_type": "code",
   "execution_count": 224,
   "id": "cognitive-status",
   "metadata": {},
   "outputs": [
    {
     "name": "stdout",
     "output_type": "stream",
     "text": [
      "adult 1\n",
      "here\n",
      "adult 2\n",
      "adult 3\n",
      "adult 4\n",
      "adult 5\n",
      "adult 6\n",
      "adult 7\n",
      "adult 8\n"
     ]
    }
   ],
   "source": [
    "import time\n",
    "count = 0\n",
    "emails = []\n",
    "passed = 0\n",
    "failed = 0\n",
    "adults = 0\n",
    "for i in range(1, 14):\n",
    "    edu_date_year = 0\n",
    "    edu_date_year_1 = 0 \n",
    "    try:\n",
    "        lst = []\n",
    "        a = driver.find_element_by_xpath(f'/html/body/div[5]/div[3]/div/div[3]/div/div/div[2]/ul/li[{i}]')\n",
    "        a.click()\n",
    "        time.sleep(5)\n",
    "        #decides education date if passing year is above 2022 then ok add emails of them\n",
    "        try:\n",
    "            edu_date = driver.find_element_by_xpath('/html/body/div[5]/div[3]/div/div[3]/div/main/div/div[2]/div[1]/section[2]')\n",
    "            edu_date_year = edu_date.text.split('\\n')[4][-2:]\n",
    "        except:\n",
    "            edu_date_1 = driver.find_element_by_xpath('/html/body/div[5]/div[3]/div/div[3]/div/main/div/div[2]/div[1]/section')\n",
    "            edu_date_year_1 = edu_date_1.text.split('\\n')[4][-2:]            \n",
    "        if int(edu_date_year) >= 22 or int(edu_date_year_1) >=22:\n",
    "    #             print('pass out year', edu_date_year)\n",
    "            print('here')\n",
    "            b = driver.find_element_by_xpath('/html/body/div[5]/div[3]/div/div[3]/div/main/div/div[1]/div[1]/div[1]/div[2]/div[2]/button')\n",
    "            b.click()\n",
    "            time.sleep(2)\n",
    "            c = driver.find_element_by_xpath('/html/body/div[5]/div[3]/div/div[3]/div/main/div/div[1]/div[1]/div[1]/div[2]/div[2]/div')\n",
    "            lst = c.text.split('\\n')\n",
    "            emails.append(lst[2])\n",
    "            passed+=1\n",
    "        else:\n",
    "            adults+=1\n",
    "            print('adult', adults)\n",
    "#     time.sleep(2)    \n",
    "#     print(count)\n",
    "    except:\n",
    "        count+=1\n",
    "        continue\n",
    "    count+=1"
   ]
  },
  {
   "cell_type": "code",
   "execution_count": 225,
   "id": "standard-fabric",
   "metadata": {},
   "outputs": [
    {
     "data": {
      "text/plain": [
       "['pragyarai325@gmail.com']"
      ]
     },
     "execution_count": 225,
     "metadata": {},
     "output_type": "execute_result"
    }
   ],
   "source": [
    "emails"
   ]
  },
  {
   "cell_type": "code",
   "execution_count": 226,
   "id": "welsh-trouble",
   "metadata": {},
   "outputs": [],
   "source": [
    "file = open('email-list.txt', 'a')\n",
    "email_str = ', '.join(emails)\n",
    "file.write(email_str)\n",
    "file.close()"
   ]
  },
  {
   "cell_type": "code",
   "execution_count": 227,
   "id": "piano-celebration",
   "metadata": {},
   "outputs": [],
   "source": [
    "file = open('email-list.txt', 'r')\n",
    "cand = file.read()"
   ]
  },
  {
   "cell_type": "code",
   "execution_count": 228,
   "id": "recorded-optimization",
   "metadata": {},
   "outputs": [
    {
     "data": {
      "text/plain": [
       "'himanshu76200@gmail.com, jaykakkar31@gmail.com, rahulgupta6350567@gmail.com, jobforvishal@outlook.com, somyagupta746@gmail.com, titirb.ip.19@nitj.ac.in, 2000kuldeeptiwari@gmail.com, ashwani.shr002@gmail.com, ayush.chakladar@gmail.com, mishra.satwik9532@gmail.com, vkhurana50b@gmail.com, manangarg9f@gmail.com, samirgupta19670@gmail.com, guptakartik2608@gmail.com, premsundarpadhy@gmail.com, nikhilfalke11@gmail.com, harshit.srivastava2001@gmail.comb119018@iiit-bh.ac.in, hranaritsh@gmail.com, ayushigupta283203@gmail.com, dhairyas2412@gmail.com, sonukumar301299@gmail.com, cdikshachoudhary25@gmail.com, ajaykrverma9838@gmail.com, mayankraj096@gmail.com, adityamainpuri1222@gmail.com, s.sonam23singh@gmail.com, vickyjaiswal647@gmail.comslaxmika@gmail.com, abhishek1.cs.2018@mitmeerut.ac.in, mishrapriyabrata1234@gmail.com, mohnanikashish@gmail.com, sreenidhi2777@gmail.com, maheshwari.sagars2000@gmail.com, hartajsinghsidhu2005@gmail.com, khanaman331@gmail.com, abinayakumar2410@gmail.com, parteekchauhan1@gmail.com, tanishkarajput16@gmail.com, priyanshumawar29@gmail.com, ayushj.aj23@gmail.com, ravi2018cs115abesit@gmail.com, hritikarora2019@gmail.com, dheerajdixit2001@gmail.com, mysterysinghraj@gmail.compragyarai325@gmail.com'"
      ]
     },
     "execution_count": 228,
     "metadata": {},
     "output_type": "execute_result"
    }
   ],
   "source": [
    "cand"
   ]
  },
  {
   "cell_type": "code",
   "execution_count": 230,
   "id": "funded-november",
   "metadata": {},
   "outputs": [
    {
     "data": {
      "text/plain": [
       "43"
      ]
     },
     "execution_count": 230,
     "metadata": {},
     "output_type": "execute_result"
    }
   ],
   "source": [
    "len(cand.split(', '))"
   ]
  },
  {
   "cell_type": "code",
   "execution_count": 1,
   "id": "forty-august",
   "metadata": {},
   "outputs": [],
   "source": [
    "from selenium import webdriver"
   ]
  },
  {
   "cell_type": "code",
   "execution_count": 7,
   "id": "affiliated-hayes",
   "metadata": {},
   "outputs": [],
   "source": [
    "driver = webdriver.Chrome()"
   ]
  },
  {
   "cell_type": "raw",
   "id": "alien-separate",
   "metadata": {},
   "source": [
    "Final Code to get the emails of all the applicants"
   ]
  },
  {
   "cell_type": "code",
   "execution_count": 4,
   "id": "handed-genre",
   "metadata": {
    "collapsed": true
   },
   "outputs": [
    {
     "name": "stdout",
     "output_type": "stream",
     "text": [
      "0\n",
      "1\n",
      "2\n",
      "3\n",
      "4\n",
      "5\n",
      "6\n",
      "7\n",
      "8\n",
      "9\n",
      "failed 10\n",
      "failed 11\n",
      "failed 12\n",
      "failed 13\n",
      "failed 14\n",
      "failed 15\n",
      "failed 16\n",
      "failed 17\n",
      "failed 18\n",
      "failed 19\n",
      "failed 20\n",
      "failed 21\n",
      "failed 22\n",
      "failed 23\n",
      "failed 24\n"
     ]
    }
   ],
   "source": [
    "# /html/body/div[5]/div[3]/div/div[3]/div/div/div[3]/ul/li[1]\n",
    "import time\n",
    "count = 0\n",
    "emails = []\n",
    "passed = 0\n",
    "failed = 0\n",
    "for i in range(1, 26):\n",
    "    try:\n",
    "        lst = []\n",
    "        a = driver.find_element_by_xpath(f'/html/body/div[5]/div[3]/div/div[3]/div/div/div[3]/ul/li[{i}]')\n",
    "        a.click()\n",
    "        time.sleep(5)\n",
    "        b = driver.find_element_by_xpath('/html/body/div[5]/div[3]/div/div[3]/div/main/div/div[1]/div[1]/div[1]/div[2]/div[3]/button')\n",
    "        b.click()\n",
    "        time.sleep(2)\n",
    "        c = driver.find_element_by_xpath('/html/body/div[5]/div[3]/div/div[3]/div/main/div/div[1]/div[1]/div[1]/div[2]/div[3]/div')\n",
    "        lst = c.text.split('\\n')\n",
    "        emails.append(lst[2])\n",
    "        passed+=1\n",
    "    except:\n",
    "        print('failed',  count)\n",
    "        count+=1\n",
    "        failed+=1\n",
    "        continue\n",
    "    print(count)\n",
    "    count+=1"
   ]
  },
  {
   "cell_type": "code",
   "execution_count": 5,
   "id": "first-facing",
   "metadata": {},
   "outputs": [
    {
     "data": {
      "text/plain": [
       "['prateek.tmg1901166@tmu.ac.in',\n",
       " 'gvishal054@gmail.com',\n",
       " 'divyanshubhargava313@gmail.com',\n",
       " 'kamboj_ritik@yahoo.com',\n",
       " 'amitavachowdhury8@gmail.com',\n",
       " 'bhaveshchoudharysb@gmail.com',\n",
       " 'jananikarnan103@gmail.com',\n",
       " 'chakshattewathia@gmail.com',\n",
       " 'punitakumaripandey9519@gmail.com',\n",
       " 'saiyadainz@gmail.com']"
      ]
     },
     "execution_count": 5,
     "metadata": {},
     "output_type": "execute_result"
    }
   ],
   "source": [
    "emails"
   ]
  },
  {
   "cell_type": "code",
   "execution_count": 6,
   "id": "sufficient-explosion",
   "metadata": {},
   "outputs": [],
   "source": [
    "file = open('email-list-sales-10-jul.txt', 'a')\n",
    "email_str = ', '.join(emails)\n",
    "file.write(email_str)\n",
    "file.close()"
   ]
  },
  {
   "cell_type": "code",
   "execution_count": 8,
   "id": "signal-builder",
   "metadata": {},
   "outputs": [
    {
     "name": "stdout",
     "output_type": "stream",
     "text": [
      "0\n",
      "1\n",
      "2\n",
      "3\n",
      "4\n",
      "5\n",
      "6\n",
      "7\n",
      "8\n",
      "9\n",
      "10\n",
      "11\n",
      "failed 12\n",
      "failed 13\n",
      "failed 14\n",
      "failed 15\n",
      "failed 16\n",
      "failed 17\n",
      "failed 18\n",
      "failed 19\n",
      "failed 20\n",
      "failed 21\n",
      "failed 22\n",
      "failed 23\n",
      "failed 24\n"
     ]
    }
   ],
   "source": [
    "# /html/body/div[5]/div[3]/div/div[3]/div/div/div[3]/ul/li[1]\n",
    "import time\n",
    "count = 0\n",
    "emails = []\n",
    "passed = 0\n",
    "failed = 0\n",
    "for i in range(1, 26):\n",
    "    try:\n",
    "        lst = []\n",
    "        a = driver.find_element_by_xpath(f'/html/body/div[5]/div[3]/div/div[3]/div/div/div[3]/ul/li[{i}]')\n",
    "        a.click()\n",
    "        time.sleep(5)\n",
    "        b = driver.find_element_by_xpath('/html/body/div[5]/div[3]/div/div[3]/div/main/div/div[1]/div[1]/div[1]/div[2]/div[3]/button')\n",
    "        b.click()\n",
    "        time.sleep(2)\n",
    "        c = driver.find_element_by_xpath('/html/body/div[5]/div[3]/div/div[3]/div/main/div/div[1]/div[1]/div[1]/div[2]/div[3]/div')\n",
    "        lst = c.text.split('\\n')\n",
    "        emails.append(lst[2])\n",
    "        passed+=1\n",
    "    except:\n",
    "        print('failed',  count)\n",
    "        count+=1\n",
    "        failed+=1\n",
    "        continue\n",
    "    print(count)\n",
    "    count+=1"
   ]
  },
  {
   "cell_type": "code",
   "execution_count": 13,
   "id": "czech-median",
   "metadata": {
    "scrolled": true
   },
   "outputs": [
    {
     "data": {
      "text/plain": [
       "['adev5294@gmail.com',\n",
       " 'shalini.brandsimpact@gmail.com',\n",
       " 'shalini.brandsimpact@gmail.com',\n",
       " 'aprajita229@gmail.com',\n",
       " 'kri4affiliate@gmail.com',\n",
       " 'anusmitagreat@gmail.com',\n",
       " 'manvisharma1297@gmail.com',\n",
       " 'arnav051883@greenwoodhigh.edu.in',\n",
       " 'mohdsheerazansari786@gmail.com',\n",
       " 'ishikabgy@gmail.com',\n",
       " 'srijan.5639@gmail.com',\n",
       " 'anmolsaxena71@gmail.com',\n",
       " 'anchalgupta425@gmail.com']"
      ]
     },
     "execution_count": 13,
     "metadata": {},
     "output_type": "execute_result"
    }
   ],
   "source": [
    "emails"
   ]
  },
  {
   "cell_type": "code",
   "execution_count": 10,
   "id": "successful-cornwall",
   "metadata": {},
   "outputs": [],
   "source": [
    "emails.append('anchalgupta425@gmail.com')"
   ]
  },
  {
   "cell_type": "code",
   "execution_count": 12,
   "id": "automotive-alloy",
   "metadata": {},
   "outputs": [
    {
     "data": {
      "text/plain": [
       "13"
      ]
     },
     "execution_count": 12,
     "metadata": {},
     "output_type": "execute_result"
    }
   ],
   "source": [
    "len(emails)"
   ]
  },
  {
   "cell_type": "code",
   "execution_count": 14,
   "id": "meaningful-newark",
   "metadata": {},
   "outputs": [],
   "source": [
    "file = open('email-list-sales-10-jul.txt', 'a')\n",
    "email_str = ', '.join(emails)\n",
    "file.write(email_str)\n",
    "file.close()"
   ]
  },
  {
   "cell_type": "code",
   "execution_count": 15,
   "id": "willing-header",
   "metadata": {},
   "outputs": [],
   "source": [
    "file = open('email-list-sales-10-jul.txt', 'r')\n"
   ]
  },
  {
   "cell_type": "code",
   "execution_count": 16,
   "id": "smooth-reduction",
   "metadata": {},
   "outputs": [],
   "source": [
    "emails_str = file.read()"
   ]
  },
  {
   "cell_type": "code",
   "execution_count": 17,
   "id": "located-devil",
   "metadata": {
    "scrolled": true
   },
   "outputs": [
    {
     "data": {
      "text/plain": [
       "'prateek.tmg1901166@tmu.ac.in, gvishal054@gmail.com, divyanshubhargava313@gmail.com, kamboj_ritik@yahoo.com, amitavachowdhury8@gmail.com, bhaveshchoudharysb@gmail.com, jananikarnan103@gmail.com, chakshattewathia@gmail.com, punitakumaripandey9519@gmail.com, saiyadainz@gmail.com, adev5294@gmail.com, shalini.brandsimpact@gmail.com, shalini.brandsimpact@gmail.com, aprajita229@gmail.com, kri4affiliate@gmail.com, anusmitagreat@gmail.com, manvisharma1297@gmail.com, arnav051883@greenwoodhigh.edu.in, mohdsheerazansari786@gmail.com, ishikabgy@gmail.com, srijan.5639@gmail.com, anmolsaxena71@gmail.com, anchalgupta425@gmail.com'"
      ]
     },
     "execution_count": 17,
     "metadata": {},
     "output_type": "execute_result"
    }
   ],
   "source": [
    "emails_str"
   ]
  },
  {
   "cell_type": "code",
   "execution_count": 18,
   "id": "figured-rating",
   "metadata": {},
   "outputs": [],
   "source": [
    "emails = emails_str.split(', ')"
   ]
  },
  {
   "cell_type": "code",
   "execution_count": 19,
   "id": "magnetic-nerve",
   "metadata": {},
   "outputs": [
    {
     "data": {
      "text/plain": [
       "23"
      ]
     },
     "execution_count": 19,
     "metadata": {},
     "output_type": "execute_result"
    }
   ],
   "source": [
    "len(emails)"
   ]
  },
  {
   "cell_type": "code",
   "execution_count": null,
   "id": "organic-allocation",
   "metadata": {},
   "outputs": [],
   "source": []
  },
  {
   "cell_type": "code",
   "execution_count": null,
   "id": "suited-danger",
   "metadata": {},
   "outputs": [],
   "source": []
  },
  {
   "cell_type": "code",
   "execution_count": null,
   "id": "refined-ferry",
   "metadata": {},
   "outputs": [],
   "source": []
  },
  {
   "cell_type": "code",
   "execution_count": null,
   "id": "pleasant-command",
   "metadata": {},
   "outputs": [],
   "source": []
  },
  {
   "cell_type": "code",
   "execution_count": null,
   "id": "serial-community",
   "metadata": {},
   "outputs": [],
   "source": []
  },
  {
   "cell_type": "code",
   "execution_count": null,
   "id": "public-reserve",
   "metadata": {},
   "outputs": [],
   "source": []
  },
  {
   "cell_type": "code",
   "execution_count": null,
   "id": "alive-white",
   "metadata": {},
   "outputs": [],
   "source": []
  },
  {
   "cell_type": "code",
   "execution_count": null,
   "id": "metallic-mills",
   "metadata": {},
   "outputs": [],
   "source": []
  }
 ],
 "metadata": {
  "kernelspec": {
   "display_name": "Python 3",
   "language": "python",
   "name": "python3"
  },
  "language_info": {
   "codemirror_mode": {
    "name": "ipython",
    "version": 3
   },
   "file_extension": ".py",
   "mimetype": "text/x-python",
   "name": "python",
   "nbconvert_exporter": "python",
   "pygments_lexer": "ipython3",
   "version": "3.8.5"
  }
 },
 "nbformat": 4,
 "nbformat_minor": 5
}
