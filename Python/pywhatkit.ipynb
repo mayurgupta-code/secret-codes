{
 "cells": [
  {
   "cell_type": "code",
   "execution_count": 1,
   "metadata": {},
   "outputs": [
    {
     "name": "stdout",
     "output_type": "stream",
     "text": [
      "Hello from the creator of pywhatkit, Ankit Raj Mahapatra.\n",
      "Kindly do report bugs if any\n",
      "What's new:\n",
      "1. Removed selenium dependent functions\n",
      "2. Added pywhatkit.text_to_handwriting() which will convert text to handwritten characters.\n",
      "3. Added pywhatkit.image_to_ascii_art() which will convert image to ascii art.\n"
     ]
    }
   ],
   "source": [
    "import pywhatkit as kit"
   ]
  },
  {
   "cell_type": "code",
   "execution_count": 3,
   "metadata": {},
   "outputs": [],
   "source": [
    "kit.watch_tutorial_in_English()"
   ]
  },
  {
   "cell_type": "code",
   "execution_count": 12,
   "metadata": {},
   "outputs": [
    {
     "name": "stdout",
     "output_type": "stream",
     "text": [
      "In 17 seconds web.whatsapp.com will open and after 10 seconds message will be delivered\n"
     ]
    }
   ],
   "source": [
    "kit.sendwhatmsg('+918791216171','Tested OK', 14, 46,wait_time=10 )"
   ]
  },
  {
   "cell_type": "code",
   "execution_count": 16,
   "metadata": {},
   "outputs": [],
   "source": [
    "import requests\n",
    "from bs4 import BeautifulSoup"
   ]
  },
  {
   "cell_type": "code",
   "execution_count": 17,
   "metadata": {},
   "outputs": [],
   "source": [
    "r = requests.get('https://instagram.com/mayur_raftaar/')"
   ]
  },
  {
   "cell_type": "code",
   "execution_count": 18,
   "metadata": {},
   "outputs": [],
   "source": [
    "i = BeautifulSoup(r.text,'html.parser')"
   ]
  },
  {
   "cell_type": "code",
   "execution_count": 30,
   "metadata": {},
   "outputs": [],
   "source": [
    "meta = i.find('meta',property='og:description')"
   ]
  },
  {
   "cell_type": "code",
   "execution_count": 31,
   "metadata": {},
   "outputs": [
    {
     "name": "stdout",
     "output_type": "stream",
     "text": [
      "<meta content=\"788 Followers, 923 Following, 24 Posts - See Instagram photos and videos from Mayur Raftaar (@mayur_raftaar)\" property=\"og:description\"/>\n"
     ]
    }
   ],
   "source": [
    "print(meta)"
   ]
  },
  {
   "cell_type": "code",
   "execution_count": 64,
   "metadata": {},
   "outputs": [],
   "source": [
    "file = open('words.txt','w')\n",
    "file.write('word1 word2 word3')\n",
    "file.write('\\n')\n",
    "file.write('word4 word5 word6')\n",
    "\n",
    "file.close()"
   ]
  },
  {
   "cell_type": "code",
   "execution_count": 146,
   "metadata": {},
   "outputs": [],
   "source": [
    "file = open('words.txt','r')"
   ]
  },
  {
   "cell_type": "code",
   "execution_count": 148,
   "metadata": {},
   "outputs": [
    {
     "data": {
      "text/plain": [
       "' word2 wo'"
      ]
     },
     "execution_count": 148,
     "metadata": {},
     "output_type": "execute_result"
    }
   ],
   "source": [
    "file.read(9)"
   ]
  },
  {
   "cell_type": "code",
   "execution_count": 78,
   "metadata": {},
   "outputs": [],
   "source": [
    "#print(file.readline())\n",
    "s = file.readline()"
   ]
  },
  {
   "cell_type": "code",
   "execution_count": 79,
   "metadata": {},
   "outputs": [
    {
     "name": "stdout",
     "output_type": "stream",
     "text": [
      "word1 word2 word3\n",
      "\n"
     ]
    }
   ],
   "source": [
    "print(s)"
   ]
  },
  {
   "cell_type": "code",
   "execution_count": 80,
   "metadata": {},
   "outputs": [
    {
     "data": {
      "text/plain": [
       "str"
      ]
     },
     "execution_count": 80,
     "metadata": {},
     "output_type": "execute_result"
    }
   ],
   "source": [
    "type(s)"
   ]
  },
  {
   "cell_type": "code",
   "execution_count": 149,
   "metadata": {},
   "outputs": [],
   "source": [
    "file.close()"
   ]
  },
  {
   "cell_type": "code",
   "execution_count": 82,
   "metadata": {},
   "outputs": [
    {
     "name": "stdout",
     "output_type": "stream",
     "text": [
      "word1\n",
      "word2\n",
      "word3\n",
      "word4\n",
      "word5\n",
      "word6\n"
     ]
    }
   ],
   "source": [
    "with open('words.txt','r') as f:\n",
    "    for line in f:\n",
    "        for word in line.split():\n",
    "           print(word)   "
   ]
  },
  {
   "cell_type": "code",
   "execution_count": 83,
   "metadata": {},
   "outputs": [
    {
     "data": {
      "text/plain": [
       "True"
      ]
     },
     "execution_count": 83,
     "metadata": {},
     "output_type": "execute_result"
    }
   ],
   "source": [
    "f.closed"
   ]
  },
  {
   "cell_type": "code",
   "execution_count": 107,
   "metadata": {},
   "outputs": [],
   "source": [
    "file = open('words.txt','r')\n"
   ]
  },
  {
   "cell_type": "code",
   "execution_count": 111,
   "metadata": {},
   "outputs": [],
   "source": [
    "file.close()"
   ]
  },
  {
   "cell_type": "code",
   "execution_count": 85,
   "metadata": {},
   "outputs": [
    {
     "name": "stdout",
     "output_type": "stream",
     "text": [
      "word1 word2 word3\n",
      "\n",
      "word4 word5 word6\n"
     ]
    }
   ],
   "source": [
    "for line in file:\n",
    "    print(line)"
   ]
  },
  {
   "cell_type": "code",
   "execution_count": 88,
   "metadata": {},
   "outputs": [
    {
     "name": "stdout",
     "output_type": "stream",
     "text": [
      "word1 word2 word3\n",
      "\n",
      "word4 word5 word6\n"
     ]
    }
   ],
   "source": [
    "for word in file:\n",
    "    print(word)\n",
    "    "
   ]
  },
  {
   "cell_type": "code",
   "execution_count": 95,
   "metadata": {},
   "outputs": [
    {
     "name": "stdout",
     "output_type": "stream",
     "text": [
      "word1 word2 word3\n",
      "\n",
      "word1\n",
      "word2\n",
      "word3\n",
      "word4 word5 word6\n",
      "word4\n",
      "word5\n",
      "word6\n"
     ]
    }
   ],
   "source": [
    "for line in file:\n",
    "    print(line)\n",
    "    for word in line.split():\n",
    "        print(word)"
   ]
  },
  {
   "cell_type": "code",
   "execution_count": 99,
   "metadata": {},
   "outputs": [
    {
     "name": "stdout",
     "output_type": "stream",
     "text": [
      "word4 word5 word6\n",
      "word4\n",
      "word5\n",
      "word6\n"
     ]
    }
   ],
   "source": [
    "lst = []\n",
    "for line in file:\n",
    "    print(line)\n",
    "    lst = line.split()\n",
    "    for word in lst:\n",
    "        print(word)"
   ]
  },
  {
   "cell_type": "code",
   "execution_count": 101,
   "metadata": {},
   "outputs": [
    {
     "data": {
      "text/plain": [
       "['word4', 'word5', 'word6']"
      ]
     },
     "execution_count": 101,
     "metadata": {},
     "output_type": "execute_result"
    }
   ],
   "source": [
    "lst"
   ]
  },
  {
   "cell_type": "code",
   "execution_count": 102,
   "metadata": {},
   "outputs": [
    {
     "data": {
      "text/plain": [
       "0"
      ]
     },
     "execution_count": 102,
     "metadata": {},
     "output_type": "execute_result"
    }
   ],
   "source": [
    "lst.index('word4')"
   ]
  },
  {
   "cell_type": "code",
   "execution_count": 104,
   "metadata": {},
   "outputs": [],
   "source": [
    "req_word = lst[lst.index('word4')+1]"
   ]
  },
  {
   "cell_type": "code",
   "execution_count": 105,
   "metadata": {},
   "outputs": [
    {
     "data": {
      "text/plain": [
       "'word5'"
      ]
     },
     "execution_count": 105,
     "metadata": {},
     "output_type": "execute_result"
    }
   ],
   "source": [
    "req_word"
   ]
  },
  {
   "cell_type": "code",
   "execution_count": 108,
   "metadata": {},
   "outputs": [
    {
     "name": "stdout",
     "output_type": "stream",
     "text": [
      "word1 word2 word3\n",
      "\n",
      "word4 word5 word6\n"
     ]
    }
   ],
   "source": [
    "req_lst = []\n",
    "for line in file:\n",
    "    print(line)\n",
    "    lst = line.split()\n",
    "    req_lst.append(lst[2])"
   ]
  },
  {
   "cell_type": "code",
   "execution_count": 109,
   "metadata": {},
   "outputs": [
    {
     "data": {
      "text/plain": [
       "['word3', 'word6']"
      ]
     },
     "execution_count": 109,
     "metadata": {},
     "output_type": "execute_result"
    }
   ],
   "source": [
    "req_lst"
   ]
  },
  {
   "cell_type": "code",
   "execution_count": 150,
   "metadata": {},
   "outputs": [],
   "source": [
    "file = open('test.txt','r')"
   ]
  },
  {
   "cell_type": "code",
   "execution_count": 154,
   "metadata": {},
   "outputs": [],
   "source": [
    "file.close()"
   ]
  },
  {
   "cell_type": "code",
   "execution_count": 143,
   "metadata": {},
   "outputs": [],
   "source": [
    "req_lst = []\n",
    "\n",
    "for line in file:\n",
    "    lst = line.split()\n",
    "    for word in lst:\n",
    "        try :\n",
    "            req_lst.append(lst[lst.index('username')+1])\n",
    "            req_lst.remove('username')\n",
    "        except:\n",
    "            pass"
   ]
  },
  {
   "cell_type": "code",
   "execution_count": 151,
   "metadata": {},
   "outputs": [],
   "source": [
    "txt = file.read()"
   ]
  },
  {
   "cell_type": "code",
   "execution_count": 153,
   "metadata": {},
   "outputs": [
    {
     "data": {
      "text/plain": [
       "str"
      ]
     },
     "execution_count": 153,
     "metadata": {},
     "output_type": "execute_result"
    }
   ],
   "source": [
    "type(txt)"
   ]
  },
  {
   "cell_type": "code",
   "execution_count": 156,
   "metadata": {},
   "outputs": [],
   "source": [
    "lst = txt.split()"
   ]
  },
  {
   "cell_type": "code",
   "execution_count": 158,
   "metadata": {},
   "outputs": [
    {
     "data": {
      "text/plain": [
       "48"
      ]
     },
     "execution_count": 158,
     "metadata": {},
     "output_type": "execute_result"
    }
   ],
   "source": [
    "lst.index('username')"
   ]
  },
  {
   "cell_type": "code",
   "execution_count": 159,
   "metadata": {},
   "outputs": [
    {
     "data": {
      "text/plain": [
       "'\"vishaljethwa06\"'"
      ]
     },
     "execution_count": 159,
     "metadata": {},
     "output_type": "execute_result"
    }
   ],
   "source": [
    "lst[49]"
   ]
  },
  {
   "cell_type": "code",
   "execution_count": 160,
   "metadata": {},
   "outputs": [
    {
     "data": {
      "text/plain": [
       "'username'"
      ]
     },
     "execution_count": 160,
     "metadata": {},
     "output_type": "execute_result"
    }
   ],
   "source": [
    "lst.pop(48)"
   ]
  },
  {
   "cell_type": "code",
   "execution_count": 161,
   "metadata": {},
   "outputs": [
    {
     "data": {
      "text/plain": [
       "119"
      ]
     },
     "execution_count": 161,
     "metadata": {},
     "output_type": "execute_result"
    }
   ],
   "source": [
    "lst.index('username')"
   ]
  },
  {
   "cell_type": "code",
   "execution_count": 162,
   "metadata": {},
   "outputs": [
    {
     "data": {
      "text/plain": [
       "'\"maeramishra\"'"
      ]
     },
     "execution_count": 162,
     "metadata": {},
     "output_type": "execute_result"
    }
   ],
   "source": [
    "lst[120]"
   ]
  },
  {
   "cell_type": "code",
   "execution_count": 164,
   "metadata": {},
   "outputs": [],
   "source": [
    "following = []\n",
    "i = 0\n",
    "for item in lst:\n",
    "    if item == 'username':\n",
    "        following.append(lst[i+1])\n",
    "    i+=1   \n",
    "        \n",
    "    "
   ]
  },
  {
   "cell_type": "code",
   "execution_count": 165,
   "metadata": {},
   "outputs": [
    {
     "data": {
      "text/plain": [
       "['\"maeramishra\"',\n",
       " '\"karina_na_more\"',\n",
       " '\"neena_gupta\"',\n",
       " '\"itssavithakur_official\"',\n",
       " '\"creatures.wildlife\"',\n",
       " '\"vaishnavi_rao5\"',\n",
       " '\"drashti.bhanushali\"',\n",
       " '\"rianne.meijer\"',\n",
       " '\"pratibha_ranta\"',\n",
       " '\"lovesofmaturewomens\"',\n",
       " '\"happynowquotes\"',\n",
       " '\"kanika_is_love7\"',\n",
       " '\"sanaeslamkhan\"',\n",
       " '\"danishalfaaz\"',\n",
       " '\"sikandarkharbanda\"',\n",
       " '\"theabhisheknigam\"',\n",
       " '\"manufitnesstrainer\"',\n",
       " '\"maatriz_studio\"',\n",
       " '\"nirupamparitala\"',\n",
       " '\"priyabalakumaran_gp\"',\n",
       " '\"rahulvaidyarkv\"',\n",
       " '\"luxury_trendz_official\"',\n",
       " '\"jimmychoo\"',\n",
       " '\"roseroom__official\"',\n",
       " '\"maisoncajauletpartner\"',\n",
       " '\"joon_ashish\"',\n",
       " '\"stuffsunique1\"',\n",
       " '\"curlgirlofficial\"',\n",
       " '\"streetstylestalkfashion\"',\n",
       " '\"nishkanu\"',\n",
       " '\"akshan_world.life\"',\n",
       " '\"tatacliqluxury\"',\n",
       " '\"the.shabbir.naik\"',\n",
       " '\"scarlet_by_shrutijamaal\"',\n",
       " '\"tanvikarekar\"',\n",
       " '\"iam_spiritual\"',\n",
       " '\"jb.writer\"',\n",
       " '\"celebrityschool.in\"',\n",
       " '\"officialrubarumissindiaelite\"',\n",
       " '\"drrashmishettyra\"',\n",
       " '\"pengjoon\"',\n",
       " '\"sanjaygagnaniofficial\"',\n",
       " '\"ruhiiiiiiiiii\"',\n",
       " '\"priyan8699\"',\n",
       " '\"power_of_thoughts9\"',\n",
       " '\"adhvik_official\"',\n",
       " '\"vikaskhannagroup\"',\n",
       " '\"tej_e_singh\"',\n",
       " '\"vaidehi_theperformer\"',\n",
       " '\"extreme__quotes\"',\n",
       " '\"siwach7468\"',\n",
       " '\"nehasingh2221\"',\n",
       " '\"wordsgasm_\"',\n",
       " '\"findingnivi\"',\n",
       " '\"ishikamalikkk\"',\n",
       " '\"the.aadi_\"',\n",
       " '\"etimes_tv\"',\n",
       " '\"indiaforums\"',\n",
       " '\"isunnykahlon\"',\n",
       " '\"regdofficial\"',\n",
       " '\"poojanandal29\"',\n",
       " '\"sohanthakur1\"',\n",
       " '\"andtvofficial\"',\n",
       " '\"dipti.kalwani\"',\n",
       " '\"avneetsthoughts\"',\n",
       " '\"billabhajicreation\"',\n",
       " '\"sargun_kaur.luthra\"',\n",
       " '\"kp24\"',\n",
       " '\"poetsandwriters\"',\n",
       " '\"mallikadua\"',\n",
       " '\"iwmbuzz\"',\n",
       " '\"awakened_goddesses\"',\n",
       " '\"karansagar1\"',\n",
       " '\"spiritual.remedies101\"',\n",
       " '\"kennethseb\"',\n",
       " '\"spiritual.awake.111\"',\n",
       " '\"secretly_twisted2\"',\n",
       " '\"know__your_worth\"',\n",
       " '\"radhikamadan\"',\n",
       " '\"sushantkm\"',\n",
       " '\"amithtyagi\"',\n",
       " '\"devazya_\"',\n",
       " '\"sakshimalikk\"',\n",
       " '\"jaya.bhattacharya\"',\n",
       " '\"ankushkundu9\"',\n",
       " '\"aasthakundu\"',\n",
       " '\"shrutisinhahaha\"',\n",
       " '\"feelbythoughtss\"',\n",
       " '\"livinglifelikeanadult\"',\n",
       " '\"uniquedhavalkhatri\"',\n",
       " '\"ananyasharmareal_\"',\n",
       " '\"kendalljenner\"',\n",
       " '\"abhishekpandeyyy\"',\n",
       " '\"surleen_kaurr\"',\n",
       " '\"dollysingh\"',\n",
       " '\"pooja_malik22\"',\n",
       " '\"priyankafit\"',\n",
       " '\"worthy_thought\"',\n",
       " '\"ritubharti1111\"',\n",
       " '\"sunalsingla\"',\n",
       " '\"djspersis\"',\n",
       " '\"nidhi.ramna\"',\n",
       " '\"atsbb\"',\n",
       " '\"oyerjalok\"',\n",
       " '\"saragurpals\"',\n",
       " '\"ajay.malik.35325\"',\n",
       " '\"visit.dubai\"',\n",
       " '\"viralbhayani\"',\n",
       " '\"gauravgera\"',\n",
       " '\"lalitshokeen1515\"',\n",
       " '\"tellychakkar\"',\n",
       " '\"kanchisingh09\"',\n",
       " '\"be_a_bassi\"',\n",
       " '\"toor.manpreet\"',\n",
       " '\"raghavjuyal\"',\n",
       " '\"anushkashettyofficial\"',\n",
       " '\"gurnazar_chattha\"',\n",
       " '\"explorerssaurus_\"',\n",
       " '\"nehayadav_official\"',\n",
       " '\"kamal19677\"',\n",
       " '\"aamantrikha\"',\n",
       " '\"anusoru\"',\n",
       " '\"vishu.1110\"',\n",
       " '\"kinnareebhanushali\"',\n",
       " '\"deyga_organics\"',\n",
       " '\"praffulsamarthphotography\"',\n",
       " '\"hopenuggets\"',\n",
       " '\"rajkumar.casting\"',\n",
       " '\"inbritish\"',\n",
       " '\"tanmaymainkarstudio\"',\n",
       " '\"officialkabirphotomania\"',\n",
       " '\"being_flamingo\"',\n",
       " '\"flamingo.productions\"',\n",
       " '\"madhav7940_official\"',\n",
       " '\"misstakkar_15\"',\n",
       " '\"rashmiguptaa09\"',\n",
       " '\"shruti_badjatya\"',\n",
       " '\"krystledsouza\"',\n",
       " '\"zeel_agarwal\"',\n",
       " '\"ravikant.nashier\"',\n",
       " '\"prateeksharma_unofficial\"',\n",
       " '\"purple.star.entertainment\"',\n",
       " '\"shweta.tiwari\"',\n",
       " '\"palaktiwarii\"',\n",
       " '\"wadhwa.aarav\"',\n",
       " '\"anmolchugh0705\"',\n",
       " '\"thenotoriousmma\"',\n",
       " '\"naughtyworld_\"',\n",
       " '\"iam_ejf\"',\n",
       " '\"kirensandhu_designer\"',\n",
       " '\"sharmadharam24\"',\n",
       " '\"karanjotwani\"',\n",
       " '\"adityaroykapur\"',\n",
       " '\"amandacerny\"',\n",
       " '\"abhishek.mahajan0630\"',\n",
       " '\"priya.p.varrier\"',\n",
       " '\"burjalarab\"',\n",
       " '\"dubai\"',\n",
       " '\"manav.manglani\"',\n",
       " '\"kuna_kamra\"',\n",
       " '\"bharat_shutterlust\"',\n",
       " '\"sayali_vidya\"',\n",
       " '\"surabhi.samriddhi\"',\n",
       " '\"harshalds\"',\n",
       " '\"symone.neilson_mua_hair\"',\n",
       " '\"simrat_bohra\"',\n",
       " '\"amantorka\"',\n",
       " '\"gaurakshay\"',\n",
       " '\"imparaskothari\"',\n",
       " '\"charmboard\"',\n",
       " '\"zuberiya_ansari\"',\n",
       " '\"anuranjan1010\"',\n",
       " '\"rujuta.diwekar\"',\n",
       " '\"beautymalakar\"',\n",
       " '\"zee5shows\"',\n",
       " '\"maria01_cherian\"',\n",
       " '\"geeta.sharma1103\"',\n",
       " '\"amit.sharma2811\"',\n",
       " '\"ridhimapandit\"',\n",
       " '\"bpraak\"',\n",
       " '\"zee5\"',\n",
       " '\"kapursahab\"',\n",
       " '\"anewradha\"',\n",
       " '\"nehaadhvikmahajan\"',\n",
       " '\"pawanshankar\"',\n",
       " '\"mmadhvi\"',\n",
       " '\"msrashmi2002_\"',\n",
       " '\"iam_anandofficial\"',\n",
       " '\"twinbabydiaries\"',\n",
       " '\"beatking_sumedh\"',\n",
       " '\"kalkikanmani\"',\n",
       " '\"mokady3\"',\n",
       " '\"palak_jain_18\"',\n",
       " '\"sonytvofficial\"',\n",
       " '\"anitahassanandani\"',\n",
       " '\"balajitelefilmslimited\"',\n",
       " '\"colorstv\"',\n",
       " '\"starplus\"',\n",
       " '\"sbsabpnews\"',\n",
       " '\"rameshtaurani\"',\n",
       " '\"sushant.junnarkar\"',\n",
       " '\"lettheshootsbegin\"',\n",
       " '\"manushi_chhillar\"',\n",
       " '\"yamigautam\"',\n",
       " '\"jiteshpillaai\"',\n",
       " '\"supriyarshukla\"',\n",
       " '\"shantanunikhil\"',\n",
       " '\"thedkk\"',\n",
       " '\"something_interestingg\"',\n",
       " '\"atmikatiwari\"',\n",
       " '\"tjbainsla\"',\n",
       " '\"yasshkadamm\"',\n",
       " '\"thesecret365\"',\n",
       " '\"oshointernational\"',\n",
       " '\"simranmann01\"',\n",
       " '\"ashnoorkaur\"',\n",
       " '\"covetfashion\"',\n",
       " '\"vikaaskalantri\"',\n",
       " '\"vrushyy\"',\n",
       " '\"avinash_world\"',\n",
       " '\"pinkvillasouth\"',\n",
       " '\"rahulbassi_official\"',\n",
       " '\"ormaxmedia\"',\n",
       " '\"ashwanimann185\"',\n",
       " '\"navraj_hans\"',\n",
       " '\"ramjigulatiofficial\"',\n",
       " '\"guunjanvm\"',\n",
       " '\"vikkasm\"',\n",
       " '\"evgeniy_travel\"',\n",
       " '\"pallvi_avyan\"',\n",
       " '\"aayushkapoor143\"',\n",
       " '\"rheakapoor\"',\n",
       " '\"vanshika.kpr5\"',\n",
       " '\"tanyasharma27\"',\n",
       " '\"2muchspeed\"',\n",
       " '\"shoes_hub4\"',\n",
       " '\"wordpuppet\"',\n",
       " '\"charulmalik\"',\n",
       " '\"firecrackling\"',\n",
       " '\"natgeotravel\"',\n",
       " '\"natgeo\"',\n",
       " '\"aupmanyu\"',\n",
       " '\"mrunalofficial2016\"',\n",
       " '\"actorprabhas\"',\n",
       " '\"ethoswatches\"',\n",
       " '\"apoorvvij\"',\n",
       " '\"drzya_ridhisuri\"',\n",
       " '\"aquamarine_jewellery\"',\n",
       " '\"silverstreakstore\"',\n",
       " '\"manasvi88\"',\n",
       " '\"vaarha\"',\n",
       " '\"victorinox\"',\n",
       " '\"babyg_casio\"',\n",
       " '\"_mad_over_accessories\"',\n",
       " '\"dhanashreeaate.makeup.hair\"',\n",
       " '\"rochelledsa\"',\n",
       " '\"banijayasia\"',\n",
       " '\"mxsworld\"',\n",
       " '\"dikffaa_16\"',\n",
       " '\"pinkvillatelly\"',\n",
       " '\"brillareindia\"',\n",
       " '\"elwa__\"',\n",
       " '\"naturesbounty\"',\n",
       " '\"namak.production\"',\n",
       " '\"aliwarofficial\"',\n",
       " '\"umikakarnani\"',\n",
       " '\"fountainofpurity\"',\n",
       " '\"rahulgangs_\"',\n",
       " '\"visitbrussels\"',\n",
       " '\"tibiclenci\"',\n",
       " '\"alliaalrufai\"',\n",
       " '\"hangout_kathi_rolls\"',\n",
       " '\"kiaraaliaadvani\"',\n",
       " '\"avneetkaur_13\"',\n",
       " '\"anmolbhatia_\"',\n",
       " '\"krunal.naik.9400\"',\n",
       " '\"vikram22chahal\"',\n",
       " '\"natalyosmann\"',\n",
       " '\"the_gaurav_dubey\"',\n",
       " '\"bharti.laughterqueen\"',\n",
       " '\"anyuta_rai\"',\n",
       " '\"bellezajewels\"',\n",
       " '\"g.diksha\"',\n",
       " '\"rickydas\"',\n",
       " '\"kaurdalljiet\"',\n",
       " '\"harshit1111\"',\n",
       " '\"heli_daruwala\"',\n",
       " '\"abhijeet_568\"',\n",
       " '\"anamdarbar97\"',\n",
       " '\"starmusicalss\"',\n",
       " '\"videotiks\"',\n",
       " '\"sweety_vishal_nain\"',\n",
       " '\"_laakshi_\"',\n",
       " '\"freewill_in\"',\n",
       " '\"imranabbas.official\"',\n",
       " '\"emmadirfani\"',\n",
       " '\"swarovski\"',\n",
       " '\"guess\"',\n",
       " '\"gigihadid\"',\n",
       " '\"michaelkors\"',\n",
       " '\"fendi\"',\n",
       " '\"burberry\"',\n",
       " '\"hm\"',\n",
       " '\"zara\"',\n",
       " '\"prada\"',\n",
       " '\"voguemagazine\"',\n",
       " '\"dior\"',\n",
       " '\"dolcegabbana\"',\n",
       " '\"chanelofficial\"',\n",
       " '\"arianagrande\"',\n",
       " '\"kimkardashian\"',\n",
       " '\"kyliejenner\"',\n",
       " '\"versace\"',\n",
       " '\"louisvuitton\"',\n",
       " '\"gucci\"',\n",
       " '\"philosophyofficial\"',\n",
       " '\"norafatehi\"',\n",
       " '\"realhinakhan\"',\n",
       " '\"niveditabasu\"',\n",
       " '\"punitdmalhotra\"',\n",
       " '\"nzoomfakih\"',\n",
       " '\"adityaseal\"',\n",
       " '\"sudhirthewriter\"',\n",
       " '\"justsul\"',\n",
       " '\"robertdowneyjr\"',\n",
       " '\"sehban_azim\"',\n",
       " '\"surbhijyoti\"',\n",
       " '\"jannatzubair29\"',\n",
       " '\"arishfakhan138\"',\n",
       " '\"sanket.toor\"',\n",
       " '\"aparshakti_khurana\"',\n",
       " '\"ashishchanchlani\"',\n",
       " '\"eccentric_stree\"',\n",
       " '\"vaibhavsingh182019\"',\n",
       " '\"tonykakkar\"',\n",
       " '\"senoritagupta\"',\n",
       " '\"netflix_in\"',\n",
       " '\"aruna_reporter\"',\n",
       " '\"akshay.mlk\"',\n",
       " '\"ishanisharmaofficial\"',\n",
       " '\"smriti_khanna\"',\n",
       " '\"imrashamidesai\"',\n",
       " '\"saraalikhan95\"',\n",
       " '\"vickykaushal09\"',\n",
       " '\"dharmamovies\"',\n",
       " '\"ashwinyiyertiwari\"',\n",
       " '\"zoieakhtar\"',\n",
       " '\"shoojitsircar\"',\n",
       " '\"meghnagulzar\"',\n",
       " '\"tamannaahspeaks\"',\n",
       " '\"priyankachoudharyofficial\"',\n",
       " '\"sonali.bhadauria\"',\n",
       " '\"abhimanyuchaudhary65\"',\n",
       " '\"dhanawadetushar\"',\n",
       " '\"ronitboseroy\"',\n",
       " '\"itsme_kushalpunjabi\"',\n",
       " '\"iamcardib\"',\n",
       " '\"trzyinnovationz\"',\n",
       " '\"chaitanya15128\"',\n",
       " '\"kapilsharma\"',\n",
       " '\"jatinn77\"',\n",
       " '\"divyankatripathidahiya\"',\n",
       " '\"loki_exclusive\"',\n",
       " '\"d_chaudhary\"',\n",
       " '\"_aamirkhan\"',\n",
       " '\"malaikaaroraofficial\"',\n",
       " '\"sanyamalhotra_\"',\n",
       " '\"mostlysane\"',\n",
       " '\"lawofattractionlive\"',\n",
       " '\"nain_vishal\"',\n",
       " '\"sukhemuziicaldoctorz\"',\n",
       " '\"dheerajdhoopar\"',\n",
       " '\"garimadixit18\"',\n",
       " '\"mipalkarofficial\"',\n",
       " '\"terence_here\"',\n",
       " '\"keetika.kt\"',\n",
       " '\"kanik4kapoor\"',\n",
       " '\"sonal_dahima\"',\n",
       " '\"winged_hair\"',\n",
       " '\"tarnvir_singh_jagpal\"',\n",
       " '\"melvinlouis\"',\n",
       " '\"fizzygoblet\"',\n",
       " '\"dyson\"',\n",
       " '\"kanikamann_world\"',\n",
       " '\"eishasingh\"',\n",
       " '\"officialaditisharma\"',\n",
       " '\"reem_sameer8\"',\n",
       " '\"subhashischakrabortyofficial\"',\n",
       " '\"syed_sehrish_ali\"',\n",
       " '\"shwetmahadik\"',\n",
       " '\"zeetv\"',\n",
       " '\"rehaanroyofficial\"',\n",
       " '\"nishantsinghm_official\"',\n",
       " '\"trishlashah93\"',\n",
       " '\"vidhii_tandon\"',\n",
       " '\"urmilarawat25\"',\n",
       " '\"nikhildwivedi11\"',\n",
       " '\"shristhi_mitra\"',\n",
       " '\"sarya12\"',\n",
       " '\"ishaankhatter\"',\n",
       " '\"neeta_lulla\"',\n",
       " '\"abhishekdadevil\"',\n",
       " '\"sahil.baghra\"',\n",
       " '\"nushrrattbharuccha\"',\n",
       " '\"angiekassabie\"',\n",
       " '\"enews\"',\n",
       " '\"jennifer.garner\"',\n",
       " '\"reesewitherspoon\"',\n",
       " '\"farahkhankunder\"',\n",
       " '\"kartikaaryan\"',\n",
       " '\"aditi_bhatia4\"',\n",
       " '\"ravidubey2312\"',\n",
       " '\"pinkvilla\"',\n",
       " '\"myenvybox_india\"',\n",
       " '\"castingchhabra\"',\n",
       " '\"mandy.takhar\"',\n",
       " '\"mawrellous\"',\n",
       " '\"amrapalijewels\"',\n",
       " '\"radhikasangwan20\"',\n",
       " '\"jayshetty\"',\n",
       " '\"gururandhawa\"',\n",
       " '\"arvindrkhaira\"',\n",
       " '\"atifaslam\"',\n",
       " '\"armaanmalik\"',\n",
       " '\"salma_mansuri\"',\n",
       " '\"gurioye\"',\n",
       " '\"danishjs\"',\n",
       " '\"arhaankhaan\"',\n",
       " '\"princenarula\"',\n",
       " '\"shanoosharmayrfcasting\"',\n",
       " '\"adah_ki_adah\"',\n",
       " '\"sushantsinghrajput\"',\n",
       " '\"shikhardofficial\"',\n",
       " '\"prince_lohchab_19\"',\n",
       " '\"nikeetdhillon\"',\n",
       " '\"lizakoshy\"',\n",
       " '\"lilly\"',\n",
       " '\"raigurinder\"',\n",
       " '\"taapsee\"',\n",
       " '\"goldie_mann\"',\n",
       " '\"niasharma90\"',\n",
       " '\"rithvik_d\"',\n",
       " '\"panditaaanchal\"',\n",
       " '\"tanvi.kataria\"',\n",
       " '\"pawandeep_kwatra\"',\n",
       " '\"faroutakhtar\"',\n",
       " '\"ketkipassi\"',\n",
       " '\"sunanda_ss\"',\n",
       " '\"sargunmehta\"',\n",
       " '\"ajaypal_maan\"',\n",
       " '\"kanikamann_official\"',\n",
       " '\"jayyrandhawa\"',\n",
       " '\"chiragsurana1494\"',\n",
       " '\"nimratkhairaofficial\"',\n",
       " '\"iamhimanshikhurana\"',\n",
       " '\"khushpal.trumakers\"',\n",
       " '\"dilsher.trumakers\"',\n",
       " '\"mano_ravichandran\"',\n",
       " '\"dheerajkkumar\"',\n",
       " '\"sureshbeesaveni\"',\n",
       " '\"jassie.gill\"',\n",
       " '\"dishapatani\"',\n",
       " '\"zayn\"',\n",
       " '\"taylorswift\"',\n",
       " '\"emmawatson\"',\n",
       " '\"britneyspears\"',\n",
       " '\"imouniroy\"',\n",
       " '\"arjunbijlani\"',\n",
       " '\"jenniferwinget1\"',\n",
       " '\"ektarkapoor\"',\n",
       " '\"iamsrk\"',\n",
       " '\"ileana_official\"',\n",
       " '\"hrithikroshan\"',\n",
       " '\"nehadhupia\"',\n",
       " '\"jacquelinef143\"',\n",
       " '\"randeephooda\"',\n",
       " '\"chauhan_1601_\"',\n",
       " '\"arshdeep_k_dhaliwal\"',\n",
       " '\"navpreet_kaur_rai\"',\n",
       " '\"harbiravneet1630\"',\n",
       " '\"r_kt77\"',\n",
       " '\"lifehack\"',\n",
       " '\"simichahal9\"',\n",
       " '\"millionaire_mentor\"',\n",
       " '\"hairstylist_madhav\"',\n",
       " '\"raashisood\"',\n",
       " '\"iamankittasharma\"',\n",
       " '\"harrdysandhu\"',\n",
       " '\"the_quote4life\"',\n",
       " '\"virat.kohli\"',\n",
       " '\"fawadkhan81\"',\n",
       " '\"shrutzhaasan\"',\n",
       " '\"beingsalmankhan\"',\n",
       " '\"varundvn\"',\n",
       " '\"karanjohar\"',\n",
       " '\"akshaykumar\"',\n",
       " '\"ranveersingh\"',\n",
       " '\"filmfare\"',\n",
       " '\"sidmalhotra\"',\n",
       " '\"realsanaa\"',\n",
       " '\"jaani777\"',\n",
       " '\"dhanoaanu\"',\n",
       " '\"poorva_gupta14\"',\n",
       " '\"varinderpalbainsofficial\"',\n",
       " '\"tarsemjassar\"',\n",
       " '\"ravinderknandal\"',\n",
       " '\"jaggisangheraofficial\"',\n",
       " '\"iamarmaanbedil\"',\n",
       " '\"vaishali7malik\"',\n",
       " '\"harmangillofficial\"',\n",
       " '\"sharrymaan\"',\n",
       " '\"goldboypro2.0\"',\n",
       " '\"iamamyjackson\"',\n",
       " '\"aliaabhatt\"',\n",
       " '\"manishmalhotra05\"',\n",
       " '\"redhusaurabh\"',\n",
       " '\"anushkasharma\"',\n",
       " '\"justinbieber\"',\n",
       " '\"selenagomez\"',\n",
       " '\"parineetichopra\"',\n",
       " '\"aslisona\"',\n",
       " '\"nehakakkar\"',\n",
       " '\"shraddhakapoor\"',\n",
       " '\"shahidkapoor\"',\n",
       " '\"babbalrai9\"',\n",
       " '\"sonambajwa\"',\n",
       " '\"officialgarrysandhu\"',\n",
       " '\"maninderbuttar\"',\n",
       " '\"diljitdosanjh\"',\n",
       " '\"kritisanon\"',\n",
       " '\"thegoodquote\"',\n",
       " '\"sonamkapoor\"',\n",
       " '\"priyankachopra\"',\n",
       " '\"deepikapadukone\"']"
      ]
     },
     "execution_count": 165,
     "metadata": {},
     "output_type": "execute_result"
    }
   ],
   "source": [
    "following"
   ]
  },
  {
   "cell_type": "code",
   "execution_count": 166,
   "metadata": {},
   "outputs": [
    {
     "data": {
      "text/plain": [
       "'\"karina_na_more\"'"
      ]
     },
     "execution_count": 166,
     "metadata": {},
     "output_type": "execute_result"
    }
   ],
   "source": [
    "following[1]"
   ]
  },
  {
   "cell_type": "code",
   "execution_count": null,
   "metadata": {},
   "outputs": [],
   "source": []
  }
 ],
 "metadata": {
  "kernelspec": {
   "display_name": "Python 3",
   "language": "python",
   "name": "python3"
  },
  "language_info": {
   "codemirror_mode": {
    "name": "ipython",
    "version": 3
   },
   "file_extension": ".py",
   "mimetype": "text/x-python",
   "name": "python",
   "nbconvert_exporter": "python",
   "pygments_lexer": "ipython3",
   "version": "3.8.3"
  }
 },
 "nbformat": 4,
 "nbformat_minor": 4
}
