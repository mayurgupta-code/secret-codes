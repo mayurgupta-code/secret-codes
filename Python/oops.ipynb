{
 "cells": [
  {
   "cell_type": "markdown",
   "id": "strong-psychology",
   "metadata": {},
   "source": [
    "# class"
   ]
  },
  {
   "cell_type": "code",
   "execution_count": 37,
   "id": "featured-green",
   "metadata": {},
   "outputs": [],
   "source": [
    "class Students:\n",
    "    pass"
   ]
  },
  {
   "cell_type": "code",
   "execution_count": 38,
   "id": "ongoing-integral",
   "metadata": {},
   "outputs": [],
   "source": [
    "#mayur and mansi are objects here\n",
    "mayur = Students()\n",
    "mansi = Students()"
   ]
  },
  {
   "cell_type": "code",
   "execution_count": 39,
   "id": "incorrect-history",
   "metadata": {},
   "outputs": [
    {
     "name": "stdout",
     "output_type": "stream",
     "text": [
      "<__main__.Students object at 0x7fc4153a91f0> <__main__.Students object at 0x7fc4153a9610>\n"
     ]
    }
   ],
   "source": [
    "#these are different as their memory allocation is different for each\n",
    "print(mayur, mansi)"
   ]
  },
  {
   "cell_type": "code",
   "execution_count": 40,
   "id": "military-trouble",
   "metadata": {},
   "outputs": [],
   "source": [
    "mayur.name = 'mayur'\n",
    "mayur.std = 12\n",
    "mayur.section = 1"
   ]
  },
  {
   "cell_type": "code",
   "execution_count": 41,
   "id": "agreed-tampa",
   "metadata": {},
   "outputs": [
    {
     "data": {
      "text/plain": [
       "'mayur'"
      ]
     },
     "execution_count": 41,
     "metadata": {},
     "output_type": "execute_result"
    }
   ],
   "source": [
    "mayur.name"
   ]
  },
  {
   "cell_type": "code",
   "execution_count": 42,
   "id": "understood-death",
   "metadata": {},
   "outputs": [
    {
     "data": {
      "text/plain": [
       "12"
      ]
     },
     "execution_count": 42,
     "metadata": {},
     "output_type": "execute_result"
    }
   ],
   "source": [
    "mayur.std"
   ]
  },
  {
   "cell_type": "code",
   "execution_count": 43,
   "id": "clinical-walnut",
   "metadata": {},
   "outputs": [
    {
     "data": {
      "text/plain": [
       "1"
      ]
     },
     "execution_count": 43,
     "metadata": {},
     "output_type": "execute_result"
    }
   ],
   "source": [
    "mayur.section"
   ]
  },
  {
   "cell_type": "code",
   "execution_count": 44,
   "id": "improving-hollywood",
   "metadata": {},
   "outputs": [],
   "source": [
    "mansi.std = 9"
   ]
  },
  {
   "cell_type": "code",
   "execution_count": 45,
   "id": "developing-destination",
   "metadata": {},
   "outputs": [
    {
     "name": "stdout",
     "output_type": "stream",
     "text": [
      "12 9\n"
     ]
    }
   ],
   "source": [
    "print(mayur.std, mansi.std)"
   ]
  },
  {
   "cell_type": "code",
   "execution_count": 46,
   "id": "lesbian-benefit",
   "metadata": {},
   "outputs": [],
   "source": [
    "mansi.subjects = ['maths', 'english']"
   ]
  },
  {
   "cell_type": "code",
   "execution_count": 47,
   "id": "resident-plastic",
   "metadata": {},
   "outputs": [
    {
     "data": {
      "text/plain": [
       "['maths', 'english']"
      ]
     },
     "execution_count": 47,
     "metadata": {},
     "output_type": "execute_result"
    }
   ],
   "source": [
    "mansi.subjects"
   ]
  },
  {
   "cell_type": "code",
   "execution_count": 48,
   "id": "canadian-tactics",
   "metadata": {},
   "outputs": [
    {
     "data": {
      "text/plain": [
       "list"
      ]
     },
     "execution_count": 48,
     "metadata": {},
     "output_type": "execute_result"
    }
   ],
   "source": [
    "type(mansi.subjects)"
   ]
  },
  {
   "cell_type": "code",
   "execution_count": 49,
   "id": "charged-testing",
   "metadata": {},
   "outputs": [
    {
     "ename": "AttributeError",
     "evalue": "'Students' object has no attribute 'section'",
     "output_type": "error",
     "traceback": [
      "\u001b[0;31m---------------------------------------------------------------------------\u001b[0m",
      "\u001b[0;31mAttributeError\u001b[0m                            Traceback (most recent call last)",
      "\u001b[0;32m<ipython-input-49-3c26e41048b1>\u001b[0m in \u001b[0;36m<module>\u001b[0;34m\u001b[0m\n\u001b[0;32m----> 1\u001b[0;31m \u001b[0mmansi\u001b[0m\u001b[0;34m.\u001b[0m\u001b[0msection\u001b[0m\u001b[0;34m\u001b[0m\u001b[0;34m\u001b[0m\u001b[0m\n\u001b[0m\u001b[1;32m      2\u001b[0m \u001b[0;31m#because we didn't defines the section for the mansi\u001b[0m\u001b[0;34m\u001b[0m\u001b[0;34m\u001b[0m\u001b[0;34m\u001b[0m\u001b[0m\n",
      "\u001b[0;31mAttributeError\u001b[0m: 'Students' object has no attribute 'section'"
     ]
    }
   ],
   "source": [
    "mansi.section\n",
    "#because we didn't defines the section for the mansi"
   ]
  },
  {
   "cell_type": "code",
   "execution_count": 69,
   "id": "sonic-interest",
   "metadata": {},
   "outputs": [],
   "source": [
    "#standard procedure to write name of the classes\n",
    "class Employee:\n",
    "    no_of_employees = 8\n",
    "    pass"
   ]
  },
  {
   "cell_type": "code",
   "execution_count": 70,
   "id": "moved-colonial",
   "metadata": {},
   "outputs": [],
   "source": [
    "mayur = Employee()\n",
    "mansi = Employee()"
   ]
  },
  {
   "cell_type": "code",
   "execution_count": 71,
   "id": "federal-bangladesh",
   "metadata": {},
   "outputs": [],
   "source": [
    "mayur.name = 'mayur'\n",
    "mayur.salary = 455\n",
    "mayur.role = 'instructor'\n",
    "\n",
    "mansi.name = 'mansi'\n",
    "mansi.salary = 4554\n",
    "mansi.role = 'developer'"
   ]
  },
  {
   "cell_type": "code",
   "execution_count": 72,
   "id": "complimentary-eclipse",
   "metadata": {},
   "outputs": [
    {
     "data": {
      "text/plain": [
       "'mayur'"
      ]
     },
     "execution_count": 72,
     "metadata": {},
     "output_type": "execute_result"
    }
   ],
   "source": [
    "mayur.name"
   ]
  },
  {
   "cell_type": "code",
   "execution_count": 73,
   "id": "treated-interstate",
   "metadata": {},
   "outputs": [
    {
     "data": {
      "text/plain": [
       "4554"
      ]
     },
     "execution_count": 73,
     "metadata": {},
     "output_type": "execute_result"
    }
   ],
   "source": [
    "mansi.salary"
   ]
  },
  {
   "cell_type": "code",
   "execution_count": 74,
   "id": "intensive-singapore",
   "metadata": {},
   "outputs": [
    {
     "ename": "NameError",
     "evalue": "name 'no_of_employees' is not defined",
     "output_type": "error",
     "traceback": [
      "\u001b[0;31m---------------------------------------------------------------------------\u001b[0m",
      "\u001b[0;31mNameError\u001b[0m                                 Traceback (most recent call last)",
      "\u001b[0;32m<ipython-input-74-44b12bf1044a>\u001b[0m in \u001b[0;36m<module>\u001b[0;34m\u001b[0m\n\u001b[0;32m----> 1\u001b[0;31m \u001b[0mno_of_employees\u001b[0m\u001b[0;34m\u001b[0m\u001b[0;34m\u001b[0m\u001b[0m\n\u001b[0m",
      "\u001b[0;31mNameError\u001b[0m: name 'no_of_employees' is not defined"
     ]
    }
   ],
   "source": [
    "no_of_employees"
   ]
  },
  {
   "cell_type": "code",
   "execution_count": 75,
   "id": "changing-involvement",
   "metadata": {},
   "outputs": [
    {
     "data": {
      "text/plain": [
       "8"
      ]
     },
     "execution_count": 75,
     "metadata": {},
     "output_type": "execute_result"
    }
   ],
   "source": [
    "mayur.no_of_employees"
   ]
  },
  {
   "cell_type": "code",
   "execution_count": 76,
   "id": "consecutive-soccer",
   "metadata": {},
   "outputs": [
    {
     "data": {
      "text/plain": [
       "8"
      ]
     },
     "execution_count": 76,
     "metadata": {},
     "output_type": "execute_result"
    }
   ],
   "source": [
    "mansi.no_of_employees\n",
    "#both gives 8 because these no_of_employees inherit from class Employee"
   ]
  },
  {
   "cell_type": "code",
   "execution_count": 77,
   "id": "hollow-latino",
   "metadata": {},
   "outputs": [
    {
     "data": {
      "text/plain": [
       "8"
      ]
     },
     "execution_count": 77,
     "metadata": {},
     "output_type": "execute_result"
    }
   ],
   "source": [
    "Employee.no_of_employees"
   ]
  },
  {
   "cell_type": "code",
   "execution_count": 78,
   "id": "naked-anchor",
   "metadata": {},
   "outputs": [
    {
     "data": {
      "text/plain": [
       "{'name': 'mayur', 'salary': 455, 'role': 'instructor'}"
      ]
     },
     "execution_count": 78,
     "metadata": {},
     "output_type": "execute_result"
    }
   ],
   "source": [
    "mayur.__dict__"
   ]
  },
  {
   "cell_type": "code",
   "execution_count": 79,
   "id": "ecological-tournament",
   "metadata": {},
   "outputs": [
    {
     "data": {
      "text/plain": [
       "{'name': 'mansi', 'salary': 4554, 'role': 'developer'}"
      ]
     },
     "execution_count": 79,
     "metadata": {},
     "output_type": "execute_result"
    }
   ],
   "source": [
    "mansi.__dict__"
   ]
  },
  {
   "cell_type": "code",
   "execution_count": 80,
   "id": "apart-cherry",
   "metadata": {},
   "outputs": [
    {
     "data": {
      "text/plain": [
       "mappingproxy({'__module__': '__main__',\n",
       "              'no_of_employees': 8,\n",
       "              '__dict__': <attribute '__dict__' of 'Employee' objects>,\n",
       "              '__weakref__': <attribute '__weakref__' of 'Employee' objects>,\n",
       "              '__doc__': None})"
      ]
     },
     "execution_count": 80,
     "metadata": {},
     "output_type": "execute_result"
    }
   ],
   "source": [
    "Employee.__dict__"
   ]
  },
  {
   "cell_type": "code",
   "execution_count": 81,
   "id": "rubber-operator",
   "metadata": {},
   "outputs": [],
   "source": [
    "#something change\n",
    "mayur.no_of_employees = 9"
   ]
  },
  {
   "cell_type": "code",
   "execution_count": 82,
   "id": "small-county",
   "metadata": {},
   "outputs": [
    {
     "data": {
      "text/plain": [
       "9"
      ]
     },
     "execution_count": 82,
     "metadata": {},
     "output_type": "execute_result"
    }
   ],
   "source": [
    "mayur.no_of_employees"
   ]
  },
  {
   "cell_type": "code",
   "execution_count": 83,
   "id": "inside-messenger",
   "metadata": {},
   "outputs": [
    {
     "data": {
      "text/plain": [
       "8"
      ]
     },
     "execution_count": 83,
     "metadata": {},
     "output_type": "execute_result"
    }
   ],
   "source": [
    "mansi.no_of_employees"
   ]
  },
  {
   "cell_type": "code",
   "execution_count": 84,
   "id": "constant-cedar",
   "metadata": {},
   "outputs": [
    {
     "data": {
      "text/plain": [
       "8"
      ]
     },
     "execution_count": 84,
     "metadata": {},
     "output_type": "execute_result"
    }
   ],
   "source": [
    "Employee.no_of_employees"
   ]
  },
  {
   "cell_type": "code",
   "execution_count": 85,
   "id": "vietnamese-manual",
   "metadata": {},
   "outputs": [
    {
     "data": {
      "text/plain": [
       "{'name': 'mayur', 'salary': 455, 'role': 'instructor', 'no_of_employees': 9}"
      ]
     },
     "execution_count": 85,
     "metadata": {},
     "output_type": "execute_result"
    }
   ],
   "source": [
    "mayur.__dict__"
   ]
  },
  {
   "cell_type": "code",
   "execution_count": 86,
   "id": "civic-stevens",
   "metadata": {},
   "outputs": [
    {
     "data": {
      "text/plain": [
       "{'name': 'mansi', 'salary': 4554, 'role': 'developer'}"
      ]
     },
     "execution_count": 86,
     "metadata": {},
     "output_type": "execute_result"
    }
   ],
   "source": [
    "mansi.__dict__\n",
    "#means no_of_employees variable is only changed in the mayur instance not in other ones"
   ]
  },
  {
   "cell_type": "code",
   "execution_count": 88,
   "id": "sticky-rebate",
   "metadata": {},
   "outputs": [
    {
     "data": {
      "text/plain": [
       "mappingproxy({'__module__': '__main__',\n",
       "              'no_of_employees': 8,\n",
       "              '__dict__': <attribute '__dict__' of 'Employee' objects>,\n",
       "              '__weakref__': <attribute '__weakref__' of 'Employee' objects>,\n",
       "              '__doc__': None})"
      ]
     },
     "execution_count": 88,
     "metadata": {},
     "output_type": "execute_result"
    }
   ],
   "source": [
    "Employee.__dict__\n",
    "#no_of_employees = class variable"
   ]
  },
  {
   "cell_type": "code",
   "execution_count": 89,
   "id": "quantitative-photography",
   "metadata": {},
   "outputs": [],
   "source": [
    "Employee.no_of_employees = 10"
   ]
  },
  {
   "cell_type": "code",
   "execution_count": 90,
   "id": "proof-adapter",
   "metadata": {},
   "outputs": [
    {
     "data": {
      "text/plain": [
       "9"
      ]
     },
     "execution_count": 90,
     "metadata": {},
     "output_type": "execute_result"
    }
   ],
   "source": [
    "mayur.no_of_employees"
   ]
  },
  {
   "cell_type": "code",
   "execution_count": 93,
   "id": "destroyed-means",
   "metadata": {},
   "outputs": [
    {
     "data": {
      "text/plain": [
       "10"
      ]
     },
     "execution_count": 93,
     "metadata": {},
     "output_type": "execute_result"
    }
   ],
   "source": [
    "mansi.no_of_employees\n",
    "#means that only class can make changes in their variable\n",
    "#no object can changes the class variable\n",
    "#but if we assign variable no_of_employee for other class then there attributes are added in itself only not in main class\n",
    "#class variable is not changed but the mayur new instance varible is created"
   ]
  },
  {
   "cell_type": "code",
   "execution_count": 94,
   "id": "parliamentary-recorder",
   "metadata": {},
   "outputs": [],
   "source": [
    "class Employee:\n",
    "    no_of_employees = 8\n",
    "    \n",
    "    def printDetails(self): #this is method\n",
    "        #this is like self is accessed using any of the instance of the class\n",
    "        #but now we are making this function using self and after that this can be applied to any other instance of the class\n",
    "        #like here mayur or mansi\n",
    "        return f'Name is {self.name}, Salary is {self.salary}, Role is {self.role}'\n",
    "        \n",
    "        "
   ]
  },
  {
   "cell_type": "code",
   "execution_count": 101,
   "id": "nutritional-yeast",
   "metadata": {},
   "outputs": [],
   "source": [
    "mayur = Employee()\n",
    "mansi = Employee()\n",
    "\n",
    "mayur.name = 'mayur'\n",
    "mayur.salary = 455\n",
    "mayur.role = 'instructor'\n",
    "\n",
    "mansi.name = 'mansi'\n",
    "mansi.salary = 4554\n",
    "mansi.role = 'developer'"
   ]
  },
  {
   "cell_type": "code",
   "execution_count": 99,
   "id": "integrated-heather",
   "metadata": {},
   "outputs": [
    {
     "data": {
      "text/plain": [
       "'Name is mayur, Salary is 455, Role is instructor'"
      ]
     },
     "execution_count": 99,
     "metadata": {},
     "output_type": "execute_result"
    }
   ],
   "source": [
    "#now if i apply this printDetails method on one of the instance then that instance occurs as self in this method\n",
    "mayur.printDetails()\n",
    "#means mayur is the argument of the method printDetails\n",
    "#but here this is not given but that's the rule in this oops"
   ]
  },
  {
   "cell_type": "code",
   "execution_count": 100,
   "id": "detected-brook",
   "metadata": {},
   "outputs": [],
   "source": [
    "#if we remove self from the method\n",
    "class Employee:\n",
    "    no_of_employees = 8\n",
    "    \n",
    "    def printDetails():\n",
    "        return f'Name is {self.name}, Salary is {self.salary}, Role is {self.role}'\n",
    "        "
   ]
  },
  {
   "cell_type": "code",
   "execution_count": 104,
   "id": "blessed-registration",
   "metadata": {},
   "outputs": [
    {
     "ename": "TypeError",
     "evalue": "printDetails() takes 0 positional arguments but 1 was given",
     "output_type": "error",
     "traceback": [
      "\u001b[0;31m---------------------------------------------------------------------------\u001b[0m",
      "\u001b[0;31mTypeError\u001b[0m                                 Traceback (most recent call last)",
      "\u001b[0;32m<ipython-input-104-9d5a00edaf38>\u001b[0m in \u001b[0;36m<module>\u001b[0;34m\u001b[0m\n\u001b[0;32m----> 1\u001b[0;31m \u001b[0mmayur\u001b[0m\u001b[0;34m.\u001b[0m\u001b[0mprintDetails\u001b[0m\u001b[0;34m(\u001b[0m\u001b[0;34m)\u001b[0m\u001b[0;34m\u001b[0m\u001b[0;34m\u001b[0m\u001b[0m\n\u001b[0m",
      "\u001b[0;31mTypeError\u001b[0m: printDetails() takes 0 positional arguments but 1 was given"
     ]
    }
   ],
   "source": [
    "mayur.printDetails()\n",
    "#this says that 0 argument is required but 1 was given\n",
    "#means according to the python we have given 1 argument \n",
    "#but see in this we haven't write anything inside these braces\n",
    "#then how this argument is there\n",
    "#thats the rule of oops in python"
   ]
  },
  {
   "cell_type": "raw",
   "id": "significant-healthcare",
   "metadata": {},
   "source": [
    "mayur.name = 'mayur'\n",
    "mayur.salary = 455\n",
    "mayur.role = 'instructor'\n",
    "\n",
    "besides writing like this what if i give arguments in the class during creating the instance of the class"
   ]
  },
  {
   "cell_type": "code",
   "execution_count": 105,
   "id": "durable-gender",
   "metadata": {},
   "outputs": [
    {
     "ename": "TypeError",
     "evalue": "Employee() takes no arguments",
     "output_type": "error",
     "traceback": [
      "\u001b[0;31m---------------------------------------------------------------------------\u001b[0m",
      "\u001b[0;31mTypeError\u001b[0m                                 Traceback (most recent call last)",
      "\u001b[0;32m<ipython-input-105-be7d2b26d9ad>\u001b[0m in \u001b[0;36m<module>\u001b[0;34m\u001b[0m\n\u001b[0;32m----> 1\u001b[0;31m \u001b[0mmayur\u001b[0m \u001b[0;34m=\u001b[0m \u001b[0mEmployee\u001b[0m\u001b[0;34m(\u001b[0m\u001b[0;34m'mayur'\u001b[0m\u001b[0;34m,\u001b[0m \u001b[0;36m455\u001b[0m\u001b[0;34m,\u001b[0m \u001b[0;34m'developer'\u001b[0m\u001b[0;34m)\u001b[0m\u001b[0;34m\u001b[0m\u001b[0;34m\u001b[0m\u001b[0m\n\u001b[0m",
      "\u001b[0;31mTypeError\u001b[0m: Employee() takes no arguments"
     ]
    }
   ],
   "source": [
    "mayur = Employee('mayur', 455, 'instructor')\n",
    "#this raises an error because Employee class takes no argument"
   ]
  },
  {
   "cell_type": "code",
   "execution_count": 112,
   "id": "tender-steps",
   "metadata": {},
   "outputs": [],
   "source": [
    "#so to create arguments in the class we create __init__ function \n",
    "#and that arguments are gives to the instance of the class or object\n",
    "class Employee:\n",
    "    no_of_leaves = 8\n",
    "    \n",
    "    def __init__(self, aname, asalary, arole):\n",
    "        self.name = aname\n",
    "        self.salary = asalary\n",
    "        self.role = arole\n",
    "    \n",
    "    def printDetails(self):\n",
    "        return f'Name is {self.name}, Salary is {self.salary}, Role is {self.role}'\n",
    "        "
   ]
  },
  {
   "cell_type": "code",
   "execution_count": 113,
   "id": "known-observer",
   "metadata": {},
   "outputs": [
    {
     "ename": "TypeError",
     "evalue": "__init__() missing 3 required positional arguments: 'aname', 'asalary', and 'arole'",
     "output_type": "error",
     "traceback": [
      "\u001b[0;31m---------------------------------------------------------------------------\u001b[0m",
      "\u001b[0;31mTypeError\u001b[0m                                 Traceback (most recent call last)",
      "\u001b[0;32m<ipython-input-113-d0e6aedce2f7>\u001b[0m in \u001b[0;36m<module>\u001b[0;34m\u001b[0m\n\u001b[0;32m----> 1\u001b[0;31m \u001b[0mmayur\u001b[0m \u001b[0;34m=\u001b[0m \u001b[0mEmployee\u001b[0m\u001b[0;34m(\u001b[0m\u001b[0;34m)\u001b[0m\u001b[0;34m\u001b[0m\u001b[0;34m\u001b[0m\u001b[0m\n\u001b[0m\u001b[1;32m      2\u001b[0m \u001b[0;31m#now this wants 3 arguments\u001b[0m\u001b[0;34m\u001b[0m\u001b[0;34m\u001b[0m\u001b[0;34m\u001b[0m\u001b[0m\n",
      "\u001b[0;31mTypeError\u001b[0m: __init__() missing 3 required positional arguments: 'aname', 'asalary', and 'arole'"
     ]
    }
   ],
   "source": [
    "mayur = Employee()\n",
    "#now this wants 3 arguments"
   ]
  },
  {
   "cell_type": "code",
   "execution_count": 114,
   "id": "otherwise-shadow",
   "metadata": {},
   "outputs": [],
   "source": [
    "mayur = Employee('mayur', 424, 'instructor')"
   ]
  },
  {
   "cell_type": "code",
   "execution_count": 115,
   "id": "interior-school",
   "metadata": {},
   "outputs": [
    {
     "data": {
      "text/plain": [
       "424"
      ]
     },
     "execution_count": 115,
     "metadata": {},
     "output_type": "execute_result"
    }
   ],
   "source": [
    "mayur.salary"
   ]
  },
  {
   "cell_type": "code",
   "execution_count": 116,
   "id": "whole-substance",
   "metadata": {},
   "outputs": [
    {
     "data": {
      "text/plain": [
       "'instructor'"
      ]
     },
     "execution_count": 116,
     "metadata": {},
     "output_type": "execute_result"
    }
   ],
   "source": [
    "mayur.role"
   ]
  },
  {
   "cell_type": "code",
   "execution_count": 117,
   "id": "executive-rotation",
   "metadata": {},
   "outputs": [
    {
     "data": {
      "text/plain": [
       "'Name is mayur, Salary is 424, Role is instructor'"
      ]
     },
     "execution_count": 117,
     "metadata": {},
     "output_type": "execute_result"
    }
   ],
   "source": [
    "mayur.printDetails()"
   ]
  },
  {
   "cell_type": "code",
   "execution_count": 118,
   "id": "thrown-indianapolis",
   "metadata": {},
   "outputs": [],
   "source": [
    "#now if we want to change any class variable with any of the instance of the class then\n",
    "#we use classmethod decorator and in this we takes the input not as self but as class or cls\n",
    "#that makes changes insides the class\n",
    "class Employee:\n",
    "    no_of_leaves = 8\n",
    "    \n",
    "    def __init__(self, aname, asalary, arole):\n",
    "        self.name = aname\n",
    "        self.salary = asalary\n",
    "        self.role = arole\n",
    "    \n",
    "    def printDetails(self):\n",
    "        return f'Name is {self.name}, Salary is {self.salary}, Role is {self.role}'\n",
    "    \n",
    "    @classmethod\n",
    "    def change_leaves(cls, newleaves):\n",
    "        cls.no_of_leaves = newleaves"
   ]
  },
  {
   "cell_type": "code",
   "execution_count": 119,
   "id": "fifteen-reproduction",
   "metadata": {},
   "outputs": [],
   "source": [
    "mayur = Employee('mayur', 424, 'instructor')"
   ]
  },
  {
   "cell_type": "code",
   "execution_count": 120,
   "id": "ordinary-panel",
   "metadata": {},
   "outputs": [
    {
     "data": {
      "text/plain": [
       "8"
      ]
     },
     "execution_count": 120,
     "metadata": {},
     "output_type": "execute_result"
    }
   ],
   "source": [
    "mayur.no_of_leaves"
   ]
  },
  {
   "cell_type": "code",
   "execution_count": 121,
   "id": "deluxe-passenger",
   "metadata": {},
   "outputs": [],
   "source": [
    "mayur.change_leaves(newleaves=10)"
   ]
  },
  {
   "cell_type": "code",
   "execution_count": 122,
   "id": "anonymous-start",
   "metadata": {},
   "outputs": [
    {
     "data": {
      "text/plain": [
       "10"
      ]
     },
     "execution_count": 122,
     "metadata": {},
     "output_type": "execute_result"
    }
   ],
   "source": [
    "mayur.no_of_leaves"
   ]
  },
  {
   "cell_type": "code",
   "execution_count": 123,
   "id": "adjustable-glossary",
   "metadata": {},
   "outputs": [
    {
     "data": {
      "text/plain": [
       "10"
      ]
     },
     "execution_count": 123,
     "metadata": {},
     "output_type": "execute_result"
    }
   ],
   "source": [
    "Employee.no_of_leaves"
   ]
  },
  {
   "cell_type": "raw",
   "id": "auburn-governor",
   "metadata": {},
   "source": [
    "class method as alternative constructor\n",
    "means we takes one argument only in the argument of class and then create the instance of the class"
   ]
  },
  {
   "cell_type": "code",
   "execution_count": 127,
   "id": "coated-booth",
   "metadata": {},
   "outputs": [],
   "source": [
    "class Employee:\n",
    "    no_of_leaves = 8\n",
    "    \n",
    "    def __init__(self, aname, asalary, arole):\n",
    "        self.name = aname\n",
    "        self.salary = asalary\n",
    "        self.role = arole\n",
    "    \n",
    "    def printDetails(self):\n",
    "        return f'Name is {self.name}, Salary is {self.salary}, Role is {self.role}'\n",
    "    \n",
    "    @classmethod\n",
    "    def change_leaves(cls, newleaves):\n",
    "        cls.no_of_leaves = newleaves\n",
    "     \n",
    "    @classmethod\n",
    "    def class_from_str(cls, string):\n",
    "        params = string.split('-')\n",
    "        return cls(params[0], params[1], params[2]) #here cls is class\n",
    "        "
   ]
  },
  {
   "cell_type": "code",
   "execution_count": 126,
   "id": "further-horizon",
   "metadata": {
    "scrolled": true
   },
   "outputs": [
    {
     "ename": "TypeError",
     "evalue": "__init__() missing 2 required positional arguments: 'asalary' and 'arole'",
     "output_type": "error",
     "traceback": [
      "\u001b[0;31m---------------------------------------------------------------------------\u001b[0m",
      "\u001b[0;31mTypeError\u001b[0m                                 Traceback (most recent call last)",
      "\u001b[0;32m<ipython-input-126-bd74dd7b7d59>\u001b[0m in \u001b[0;36m<module>\u001b[0;34m\u001b[0m\n\u001b[0;32m----> 1\u001b[0;31m \u001b[0msurya\u001b[0m \u001b[0;34m=\u001b[0m \u001b[0mEmployee\u001b[0m\u001b[0;34m(\u001b[0m\u001b[0;34m'karan-453-Student'\u001b[0m\u001b[0;34m)\u001b[0m\u001b[0;34m\u001b[0m\u001b[0;34m\u001b[0m\u001b[0m\n\u001b[0m",
      "\u001b[0;31mTypeError\u001b[0m: __init__() missing 2 required positional arguments: 'asalary' and 'arole'"
     ]
    }
   ],
   "source": [
    "surya = Employee('karan-453-Student')\n",
    "#that is 2 missing arguments"
   ]
  },
  {
   "cell_type": "code",
   "execution_count": 129,
   "id": "premier-brazil",
   "metadata": {},
   "outputs": [],
   "source": [
    "surya = Employee.class_from_str('karan-453-Student')"
   ]
  },
  {
   "cell_type": "code",
   "execution_count": 131,
   "id": "aware-liberty",
   "metadata": {},
   "outputs": [
    {
     "data": {
      "text/plain": [
       "'karan'"
      ]
     },
     "execution_count": 131,
     "metadata": {},
     "output_type": "execute_result"
    }
   ],
   "source": [
    "surya.name"
   ]
  },
  {
   "cell_type": "code",
   "execution_count": 132,
   "id": "tribal-communist",
   "metadata": {},
   "outputs": [
    {
     "data": {
      "text/plain": [
       "'Student'"
      ]
     },
     "execution_count": 132,
     "metadata": {},
     "output_type": "execute_result"
    }
   ],
   "source": [
    "surya.role"
   ]
  },
  {
   "cell_type": "code",
   "execution_count": 133,
   "id": "neither-influence",
   "metadata": {},
   "outputs": [],
   "source": [
    "class Employee:\n",
    "    no_of_leaves = 8\n",
    "    \n",
    "    def __init__(self, aname, asalary, arole):\n",
    "        self.name = aname\n",
    "        self.salary = asalary\n",
    "        self.role = arole\n",
    "    \n",
    "    def printDetails(self):\n",
    "        return f'Name is {self.name}, Salary is {self.salary}, Role is {self.role}'\n",
    "    \n",
    "    @classmethod\n",
    "    def change_leaves(cls, newleaves):\n",
    "        cls.no_of_leaves = newleaves\n",
    "     \n",
    "    @classmethod\n",
    "    def class_from_str(cls, string):\n",
    "        #params = string.split('-')\n",
    "        #return cls(params[0], params[1], params[2])\n",
    "        return cls(*string.split('-'))"
   ]
  },
  {
   "cell_type": "code",
   "execution_count": 134,
   "id": "opened-designation",
   "metadata": {},
   "outputs": [],
   "source": [
    "surya = Employee.class_from_str('karan-453-Student')"
   ]
  },
  {
   "cell_type": "code",
   "execution_count": 135,
   "id": "standing-trunk",
   "metadata": {},
   "outputs": [
    {
     "data": {
      "text/plain": [
       "'karan'"
      ]
     },
     "execution_count": 135,
     "metadata": {},
     "output_type": "execute_result"
    }
   ],
   "source": [
    "surya.name"
   ]
  },
  {
   "cell_type": "raw",
   "id": "fleet-league",
   "metadata": {},
   "source": [
    "If we don't want to give neither self neither cls as the argument \n",
    "but we want a normally function like the function outside the class"
   ]
  },
  {
   "cell_type": "code",
   "execution_count": 156,
   "id": "unavailable-cameroon",
   "metadata": {},
   "outputs": [],
   "source": [
    "class Employee:\n",
    "    no_of_leaves = 8\n",
    "    \n",
    "    def __init__(self, aname, asalary, arole):\n",
    "        self.name = aname\n",
    "        self.salary = asalary\n",
    "        self.role = arole\n",
    "    \n",
    "    def printDetails(self):\n",
    "        return f'Name is {self.name}, Salary is {self.salary}, Role is {self.role}'\n",
    "    \n",
    "    @classmethod\n",
    "    def change_leaves(cls, newleaves):\n",
    "        cls.no_of_leaves = newleaves\n",
    "     \n",
    "    @classmethod\n",
    "    def class_from_str(cls, string):\n",
    "        #params = string.split('-')\n",
    "        #return cls(params[0], params[1], params[2])\n",
    "        return cls(*string.split('-'))\n",
    "    \n",
    "    @staticmethod\n",
    "    def printgood(string):\n",
    "        #print('This is good ' + string)\n",
    "        return f'This is good {string}'"
   ]
  },
  {
   "cell_type": "code",
   "execution_count": 157,
   "id": "employed-cornwall",
   "metadata": {},
   "outputs": [],
   "source": [
    "mayur = Employee('mayur', 424, 'instructor')"
   ]
  },
  {
   "cell_type": "code",
   "execution_count": 158,
   "id": "stainless-retail",
   "metadata": {},
   "outputs": [
    {
     "data": {
      "text/plain": [
       "'This is good cat'"
      ]
     },
     "execution_count": 158,
     "metadata": {},
     "output_type": "execute_result"
    }
   ],
   "source": [
    "mayur.printgood('cat')"
   ]
  },
  {
   "cell_type": "code",
   "execution_count": 159,
   "id": "advised-playback",
   "metadata": {},
   "outputs": [
    {
     "name": "stdout",
     "output_type": "stream",
     "text": [
      "This is good cat\n"
     ]
    }
   ],
   "source": [
    "#WHY NONE?\n",
    "print(mayur.printgood('cat'))\n",
    "#here none is also printing because printgood function is returning any thing\n",
    "#now there is no NONE"
   ]
  },
  {
   "cell_type": "code",
   "execution_count": 154,
   "id": "qualified-timing",
   "metadata": {},
   "outputs": [
    {
     "data": {
      "text/plain": [
       "'This is 4'"
      ]
     },
     "execution_count": 154,
     "metadata": {},
     "output_type": "execute_result"
    }
   ],
   "source": [
    "x = 4\n",
    "'This is {}'.format(x)"
   ]
  },
  {
   "cell_type": "code",
   "execution_count": 155,
   "id": "foster-bubble",
   "metadata": {
    "scrolled": true
   },
   "outputs": [
    {
     "data": {
      "text/plain": [
       "'This is 4'"
      ]
     },
     "execution_count": 155,
     "metadata": {},
     "output_type": "execute_result"
    }
   ],
   "source": [
    "f'This is {x}'"
   ]
  },
  {
   "cell_type": "raw",
   "id": "affected-nursery",
   "metadata": {},
   "source": [
    "Inheritance\n",
    "means creating other class but taking some features from the previous class"
   ]
  },
  {
   "cell_type": "code",
   "execution_count": 160,
   "id": "lucky-stephen",
   "metadata": {},
   "outputs": [],
   "source": [
    "class Programmer(Employee):\n",
    "    pass"
   ]
  },
  {
   "cell_type": "code",
   "execution_count": 161,
   "id": "desperate-spain",
   "metadata": {},
   "outputs": [
    {
     "data": {
      "text/plain": [
       "<__main__.Employee at 0x7fc415c3fb80>"
      ]
     },
     "execution_count": 161,
     "metadata": {},
     "output_type": "execute_result"
    }
   ],
   "source": [
    "mayur"
   ]
  },
  {
   "cell_type": "code",
   "execution_count": 162,
   "id": "comic-vegetable",
   "metadata": {},
   "outputs": [
    {
     "data": {
      "text/plain": [
       "{'name': 'mayur', 'salary': 424, 'role': 'instructor'}"
      ]
     },
     "execution_count": 162,
     "metadata": {},
     "output_type": "execute_result"
    }
   ],
   "source": [
    "mayur.__dict__"
   ]
  },
  {
   "cell_type": "code",
   "execution_count": 163,
   "id": "weird-finnish",
   "metadata": {},
   "outputs": [],
   "source": [
    "mansi = Programmer('mansi', 555, 'programmer')\n",
    "#create using programmer class but taking the methods of previous class employee"
   ]
  },
  {
   "cell_type": "code",
   "execution_count": 164,
   "id": "confused-barbados",
   "metadata": {},
   "outputs": [
    {
     "data": {
      "text/plain": [
       "'mansi'"
      ]
     },
     "execution_count": 164,
     "metadata": {},
     "output_type": "execute_result"
    }
   ],
   "source": [
    "mansi.name"
   ]
  },
  {
   "cell_type": "code",
   "execution_count": 179,
   "id": "existing-guidance",
   "metadata": {},
   "outputs": [],
   "source": [
    "#but if we want to add some arguments of features\n",
    "class Programmer(Employee):\n",
    "    no_of_holiday = 15\n",
    "    \n",
    "    def __init__(self, aname, asalary, arole, alanguage):\n",
    "        self.name = aname\n",
    "        self.salary = asalary\n",
    "        self.role = arole\n",
    "        self.languages = alanguage\n",
    "    \n",
    "    def printProg(self):\n",
    "        return f'Name is {self.name}, Salary is {self.salary}, Role is {self.role}, Languages are {self.languages}'"
   ]
  },
  {
   "cell_type": "code",
   "execution_count": 166,
   "id": "phantom-operator",
   "metadata": {},
   "outputs": [
    {
     "ename": "TypeError",
     "evalue": "__init__() missing 1 required positional argument: 'alanguage'",
     "output_type": "error",
     "traceback": [
      "\u001b[0;31m---------------------------------------------------------------------------\u001b[0m",
      "\u001b[0;31mTypeError\u001b[0m                                 Traceback (most recent call last)",
      "\u001b[0;32m<ipython-input-166-618eff7cf6a6>\u001b[0m in \u001b[0;36m<module>\u001b[0;34m\u001b[0m\n\u001b[0;32m----> 1\u001b[0;31m \u001b[0mmansi\u001b[0m \u001b[0;34m=\u001b[0m \u001b[0mProgrammer\u001b[0m\u001b[0;34m(\u001b[0m\u001b[0;34m'mansi'\u001b[0m\u001b[0;34m,\u001b[0m \u001b[0;36m555\u001b[0m\u001b[0;34m,\u001b[0m \u001b[0;34m'programmer'\u001b[0m\u001b[0;34m)\u001b[0m\u001b[0;34m\u001b[0m\u001b[0;34m\u001b[0m\u001b[0m\n\u001b[0m",
      "\u001b[0;31mTypeError\u001b[0m: __init__() missing 1 required positional argument: 'alanguage'"
     ]
    }
   ],
   "source": [
    "mansi = Programmer('mansi', 555, 'programmer')\n"
   ]
  },
  {
   "cell_type": "code",
   "execution_count": 180,
   "id": "unnecessary-truth",
   "metadata": {},
   "outputs": [],
   "source": [
    "mansi = Programmer('mansi', 555, 'programmer', ['python', 'cpp'])"
   ]
  },
  {
   "cell_type": "code",
   "execution_count": 181,
   "id": "divine-romania",
   "metadata": {},
   "outputs": [
    {
     "data": {
      "text/plain": [
       "'Name is mansi, Salary is 555, Role is programmer'"
      ]
     },
     "execution_count": 181,
     "metadata": {},
     "output_type": "execute_result"
    }
   ],
   "source": [
    "mansi.printDetails()"
   ]
  },
  {
   "cell_type": "code",
   "execution_count": 182,
   "id": "expressed-institute",
   "metadata": {},
   "outputs": [
    {
     "data": {
      "text/plain": [
       "\"Name is mansi, Salary is 555, Role is programmer, Languages are ['python', 'cpp']\""
      ]
     },
     "execution_count": 182,
     "metadata": {},
     "output_type": "execute_result"
    }
   ],
   "source": [
    "mansi.printProg()"
   ]
  },
  {
   "cell_type": "code",
   "execution_count": 184,
   "id": "solved-smooth",
   "metadata": {},
   "outputs": [
    {
     "data": {
      "text/plain": [
       "8"
      ]
     },
     "execution_count": 184,
     "metadata": {},
     "output_type": "execute_result"
    }
   ],
   "source": [
    "mansi.no_of_leaves\n",
    "#from Employee class"
   ]
  },
  {
   "cell_type": "code",
   "execution_count": 186,
   "id": "filled-china",
   "metadata": {
    "scrolled": true
   },
   "outputs": [
    {
     "data": {
      "text/plain": [
       "15"
      ]
     },
     "execution_count": 186,
     "metadata": {},
     "output_type": "execute_result"
    }
   ],
   "source": [
    "mansi.no_of_holiday\n",
    "#from Programmer class"
   ]
  },
  {
   "cell_type": "raw",
   "id": "facial-shoulder",
   "metadata": {},
   "source": [
    "Multilevel Inheritence"
   ]
  },
  {
   "cell_type": "code",
   "execution_count": 221,
   "id": "express-booking",
   "metadata": {},
   "outputs": [],
   "source": [
    "class Player:\n",
    "    no_of_games = 4\n",
    "    \n",
    "    def __init__(self, name, game):\n",
    "        self.name = name\n",
    "        self.game = game\n",
    "         \n",
    "    def printDetails(self):\n",
    "        return f'Name is {self.name}, Games are {self.game}'   \n",
    "    \n",
    "    def printRole(self):\n",
    "        return f'Role is {self.role}'"
   ]
  },
  {
   "cell_type": "code",
   "execution_count": 222,
   "id": "subsequent-presence",
   "metadata": {},
   "outputs": [],
   "source": [
    "surya = Player('surya', ['cricket', 'badminton'])"
   ]
  },
  {
   "cell_type": "code",
   "execution_count": 223,
   "id": "intense-authentication",
   "metadata": {},
   "outputs": [
    {
     "data": {
      "text/plain": [
       "\"Name is surya, Games are ['cricket', 'badminton']\""
      ]
     },
     "execution_count": 223,
     "metadata": {},
     "output_type": "execute_result"
    }
   ],
   "source": [
    "surya.printDetails()"
   ]
  },
  {
   "cell_type": "code",
   "execution_count": 224,
   "id": "productive-combat",
   "metadata": {},
   "outputs": [],
   "source": [
    "class CoolProgrammer(Employee, Player):\n",
    "    language = 'C++' #class variable\n",
    "    \n",
    "    def printLanguage(self): #class method\n",
    "        print(self.language)"
   ]
  },
  {
   "cell_type": "code",
   "execution_count": 225,
   "id": "favorite-purple",
   "metadata": {},
   "outputs": [],
   "source": [
    "#use shift+tab\n",
    "mayur = CoolProgrammer('mayur', 454, 'instructor')\n",
    "#this takes arguments of the first class only\n",
    "#also if we reverse then this will takes the arguments of Player\n",
    "#this get access to the methods of both the classes\n",
    "#but if two classes has same method then this will use the method of first class"
   ]
  },
  {
   "cell_type": "code",
   "execution_count": 226,
   "id": "romantic-forge",
   "metadata": {},
   "outputs": [
    {
     "data": {
      "text/plain": [
       "'Name is mayur, Salary is 454, Role is instructor'"
      ]
     },
     "execution_count": 226,
     "metadata": {},
     "output_type": "execute_result"
    }
   ],
   "source": [
    "mayur.printDetails()"
   ]
  },
  {
   "cell_type": "code",
   "execution_count": 227,
   "id": "absolute-bridge",
   "metadata": {},
   "outputs": [
    {
     "data": {
      "text/plain": [
       "4"
      ]
     },
     "execution_count": 227,
     "metadata": {},
     "output_type": "execute_result"
    }
   ],
   "source": [
    "mayur.no_of_games"
   ]
  },
  {
   "cell_type": "code",
   "execution_count": 228,
   "id": "standing-edwards",
   "metadata": {},
   "outputs": [
    {
     "data": {
      "text/plain": [
       "'C++'"
      ]
     },
     "execution_count": 228,
     "metadata": {},
     "output_type": "execute_result"
    }
   ],
   "source": [
    "mayur.language"
   ]
  },
  {
   "cell_type": "code",
   "execution_count": 229,
   "id": "minute-indicator",
   "metadata": {},
   "outputs": [
    {
     "name": "stdout",
     "output_type": "stream",
     "text": [
      "C++\n"
     ]
    }
   ],
   "source": [
    "mayur.printLanguage()"
   ]
  },
  {
   "cell_type": "code",
   "execution_count": 211,
   "id": "reported-cleanup",
   "metadata": {},
   "outputs": [
    {
     "data": {
      "text/plain": [
       "<slot wrapper '__getattribute__' of 'object' objects>"
      ]
     },
     "execution_count": 211,
     "metadata": {},
     "output_type": "execute_result"
    }
   ],
   "source": [
    "Employee.__getattribute__"
   ]
  },
  {
   "cell_type": "code",
   "execution_count": 218,
   "id": "dried-maine",
   "metadata": {},
   "outputs": [
    {
     "data": {
      "text/plain": [
       "mappingproxy({'__module__': '__main__',\n",
       "              'no_of_leaves': 8,\n",
       "              '__init__': <function __main__.Employee.__init__(self, aname, asalary, arole)>,\n",
       "              'printDetails': <function __main__.Employee.printDetails(self)>,\n",
       "              'change_leaves': <classmethod at 0x7fc415a76190>,\n",
       "              'class_from_str': <classmethod at 0x7fc415a76100>,\n",
       "              'printgood': <staticmethod at 0x7fc415a76eb0>,\n",
       "              '__dict__': <attribute '__dict__' of 'Employee' objects>,\n",
       "              '__weakref__': <attribute '__weakref__' of 'Employee' objects>,\n",
       "              '__doc__': None})"
      ]
     },
     "execution_count": 218,
     "metadata": {},
     "output_type": "execute_result"
    }
   ],
   "source": [
    "Employee.__dict__"
   ]
  },
  {
   "cell_type": "markdown",
   "id": "outstanding-transport",
   "metadata": {},
   "source": [
    "[For class atrribute and instance attribute](https://dzone.com/articles/python-class-attributes-vs-instance-attributes)"
   ]
  },
  {
   "cell_type": "code",
   "execution_count": 230,
   "id": "restricted-forwarding",
   "metadata": {},
   "outputs": [
    {
     "data": {
      "text/plain": [
       "'Role is instructor'"
      ]
     },
     "execution_count": 230,
     "metadata": {},
     "output_type": "execute_result"
    }
   ],
   "source": [
    "mayur.printRole()"
   ]
  },
  {
   "cell_type": "raw",
   "id": "entertaining-mexico",
   "metadata": {},
   "source": [
    "Multilevel instances"
   ]
  },
  {
   "cell_type": "code",
   "execution_count": 232,
   "id": "lined-affair",
   "metadata": {},
   "outputs": [],
   "source": [
    "class Dad:\n",
    "    pass\n",
    "class Son(Dad):\n",
    "    pass\n",
    "class Grandson(Son):\n",
    "    pass\n",
    "\n",
    "#means Son can access all methods and variables of Dad\n",
    "#and Grandson can access all methods and varibales of Son which can access fot Dad\n",
    "#so Grandson has access for both"
   ]
  },
  {
   "cell_type": "code",
   "execution_count": 237,
   "id": "geographic-husband",
   "metadata": {},
   "outputs": [],
   "source": [
    "class Dad:\n",
    "    basketball = 1\n",
    "    \n",
    "class Son(Dad):\n",
    "    dance = 6\n",
    "    \n",
    "    def isDance(self):\n",
    "        return f'Yes I dance {self.dance} no. of times'\n",
    "    \n",
    "class Grandson(Son):\n",
    "    dance = 10\n",
    "    \n",
    "    def isDancer(self):\n",
    "        return f'Yes I am dancer and I dance {self.dance} no. of times'\n",
    "    "
   ]
  },
  {
   "cell_type": "code",
   "execution_count": 238,
   "id": "julian-lithuania",
   "metadata": {},
   "outputs": [],
   "source": [
    "rohan = Grandson()"
   ]
  },
  {
   "cell_type": "code",
   "execution_count": 239,
   "id": "baking-daughter",
   "metadata": {},
   "outputs": [
    {
     "data": {
      "text/plain": [
       "10"
      ]
     },
     "execution_count": 239,
     "metadata": {},
     "output_type": "execute_result"
    }
   ],
   "source": [
    "rohan.dance\n",
    "#now from Grandson"
   ]
  },
  {
   "cell_type": "code",
   "execution_count": 240,
   "id": "seventh-cowboy",
   "metadata": {},
   "outputs": [
    {
     "data": {
      "text/plain": [
       "'Yes I dance 10 no. of times'"
      ]
     },
     "execution_count": 240,
     "metadata": {},
     "output_type": "execute_result"
    }
   ],
   "source": [
    "rohan.isDance()\n",
    "#because dance attribut is 10 now and it sets 10 at the beginning only"
   ]
  },
  {
   "cell_type": "code",
   "execution_count": 241,
   "id": "lesser-mustang",
   "metadata": {},
   "outputs": [
    {
     "data": {
      "text/plain": [
       "'Yes I am dancer and I dance 10 no. of times'"
      ]
     },
     "execution_count": 241,
     "metadata": {},
     "output_type": "execute_result"
    }
   ],
   "source": [
    "rohan.isDancer()"
   ]
  },
  {
   "cell_type": "raw",
   "id": "detailed-program",
   "metadata": {},
   "source": [
    "So, this searches for an attribute inside the Grandson then Son then Dad"
   ]
  },
  {
   "cell_type": "code",
   "execution_count": 242,
   "id": "surrounded-magazine",
   "metadata": {},
   "outputs": [
    {
     "data": {
      "text/plain": [
       "1"
      ]
     },
     "execution_count": 242,
     "metadata": {},
     "output_type": "execute_result"
    }
   ],
   "source": [
    "rohan.basketball"
   ]
  },
  {
   "cell_type": "raw",
   "id": "beneficial-wilson",
   "metadata": {},
   "source": [
    "override means if we inherit a class in new class then if we write that method in new class then that method is always taken from new class and the all the other methods can be taken from inherited class"
   ]
  },
  {
   "cell_type": "code",
   "execution_count": null,
   "id": "healthy-acquisition",
   "metadata": {},
   "outputs": [],
   "source": []
  },
  {
   "cell_type": "code",
   "execution_count": null,
   "id": "ahead-first",
   "metadata": {},
   "outputs": [],
   "source": []
  },
  {
   "cell_type": "code",
   "execution_count": null,
   "id": "measured-congo",
   "metadata": {},
   "outputs": [],
   "source": []
  },
  {
   "cell_type": "code",
   "execution_count": null,
   "id": "lined-verse",
   "metadata": {},
   "outputs": [],
   "source": []
  },
  {
   "cell_type": "code",
   "execution_count": null,
   "id": "virgin-direction",
   "metadata": {},
   "outputs": [],
   "source": []
  },
  {
   "cell_type": "code",
   "execution_count": null,
   "id": "general-partition",
   "metadata": {},
   "outputs": [],
   "source": []
  },
  {
   "cell_type": "code",
   "execution_count": null,
   "id": "finished-links",
   "metadata": {},
   "outputs": [],
   "source": []
  }
 ],
 "metadata": {
  "kernelspec": {
   "display_name": "Python 3",
   "language": "python",
   "name": "python3"
  },
  "language_info": {
   "codemirror_mode": {
    "name": "ipython",
    "version": 3
   },
   "file_extension": ".py",
   "mimetype": "text/x-python",
   "name": "python",
   "nbconvert_exporter": "python",
   "pygments_lexer": "ipython3",
   "version": "3.8.5"
  }
 },
 "nbformat": 4,
 "nbformat_minor": 5
}
