{
 "cells": [
  {
   "cell_type": "code",
   "execution_count": 10,
   "id": "driving-screening",
   "metadata": {},
   "outputs": [
    {
     "name": "stdout",
     "output_type": "stream",
     "text": [
      "4500\n"
     ]
    }
   ],
   "source": [
    "x = int(input()) \n",
    "if x < 2000:\n",
    "    if x < 1000:\n",
    "        print('Wifi Recharge 😁')\n",
    "    elif x < 1200: \n",
    "        print('Wifi Recharge 😁 + Netflix 😍') \n",
    "    else: \n",
    "        print('Wifi Recharge 😁 + OTT Combo 😚') \n",
    "elif x >= 2000: \n",
    "    print('Go Outside 🥳') \n",
    "else: \n",
    "    print('Go to Sleep 🥲')\n"
   ]
  },
  {
   "cell_type": "code",
   "execution_count": null,
   "id": "wooden-slovak",
   "metadata": {},
   "outputs": [],
   "source": [
    "x = int(input()) \n",
    "if x < 2000:\n",
    "    if x < 1000:\n",
    "        print('Wifi Recharge 😁 + Netflix 😍') \n",
    "    elif x < 1500: \n",
    "        print('Wifi Recharge 😁 + OTT Combo 😚') \n",
    "    #else: \n",
    "        #print('Wifi Recharge 😁') \n",
    "elif x >= 4000: \n",
    "    print('Go Outside 🥳') \n",
    "else: \n",
    "    print('Go to Sleep 🥲')\n"
   ]
  },
  {
   "cell_type": "code",
   "execution_count": 13,
   "id": "demanding-sixth",
   "metadata": {},
   "outputs": [
    {
     "name": "stdout",
     "output_type": "stream",
     "text": [
      "1200\n",
      "Wifi Recharge 😁\n"
     ]
    }
   ],
   "source": [
    "x = int(input()) \n",
    "if x >= 1000: \n",
    "    print('Wifi Recharge 😁') \n",
    "else: \n",
    "    print('Go to Sleep 🥲')\n"
   ]
  },
  {
   "cell_type": "code",
   "execution_count": 22,
   "id": "massive-miller",
   "metadata": {},
   "outputs": [
    {
     "name": "stdout",
     "output_type": "stream",
     "text": [
      "4500\n",
      "Go Outside 🥳\n"
     ]
    }
   ],
   "source": [
    "x = int(input()) \n",
    "if (x >= 1000) & (x < 4000): \n",
    "    print('Wifi Recharge 😁') \n",
    "elif x >= 4000: \n",
    "    print('Go Outside 🥳') \n",
    "else: \n",
    "    print('Go to Sleep 🥲')\n"
   ]
  },
  {
   "cell_type": "code",
   "execution_count": 27,
   "id": "center-curve",
   "metadata": {},
   "outputs": [
    {
     "name": "stdout",
     "output_type": "stream",
     "text": [
      "100\n",
      "Go to Sleep 🥲\n"
     ]
    }
   ],
   "source": [
    "x = int(input()) \n",
    "if (x >= 1000) & (x < 4000): \n",
    "    if x > 1200: \n",
    "        print('Wifi Recharge 😁 + Netflix 😍') \n",
    "    else: \n",
    "        print('Wifi Recharge 😁') \n",
    "elif x >= 4000: \n",
    "    print('Go Outside 🥳') \n",
    "else: \n",
    "    print('Go to Sleep 🥲')\n"
   ]
  },
  {
   "cell_type": "code",
   "execution_count": 30,
   "id": "liberal-romance",
   "metadata": {},
   "outputs": [
    {
     "name": "stdout",
     "output_type": "stream",
     "text": [
      "1555\n",
      "Wifi Recharge 😁 + OTT Combo 😚\n"
     ]
    }
   ],
   "source": [
    "x = int(input()) \n",
    "if (x >= 1000) & (x < 4000): \n",
    "    if (x > 1200) & (x < 1500): \n",
    "        print('Wifi Recharge 😁 + Netflix 😍') \n",
    "    elif x >= 1500: \n",
    "        print('Wifi Recharge 😁 + OTT Combo 😚') \n",
    "    else: \n",
    "        print('Wifi Recharge 😁') \n",
    "elif x >= 4000: \n",
    "    print('Go Outside 🥳') \n",
    "else: \n",
    "    print('Go to Sleep 🥲')\n"
   ]
  },
  {
   "cell_type": "code",
   "execution_count": 1,
   "id": "white-london",
   "metadata": {},
   "outputs": [],
   "source": [
    "s = {1,3,4,4}"
   ]
  },
  {
   "cell_type": "code",
   "execution_count": 2,
   "id": "decreased-journalism",
   "metadata": {},
   "outputs": [
    {
     "data": {
      "text/plain": [
       "{1, 3, 4}"
      ]
     },
     "execution_count": 2,
     "metadata": {},
     "output_type": "execute_result"
    }
   ],
   "source": [
    "s"
   ]
  },
  {
   "cell_type": "code",
   "execution_count": 3,
   "id": "earlier-seventh",
   "metadata": {},
   "outputs": [],
   "source": [
    "s = {'a',1,42.5}"
   ]
  },
  {
   "cell_type": "code",
   "execution_count": 4,
   "id": "impaired-particular",
   "metadata": {},
   "outputs": [
    {
     "data": {
      "text/plain": [
       "{1, 42.5, 'a'}"
      ]
     },
     "execution_count": 4,
     "metadata": {},
     "output_type": "execute_result"
    }
   ],
   "source": [
    "s"
   ]
  },
  {
   "cell_type": "code",
   "execution_count": 5,
   "id": "vulnerable-congress",
   "metadata": {},
   "outputs": [
    {
     "data": {
      "text/plain": [
       "set"
      ]
     },
     "execution_count": 5,
     "metadata": {},
     "output_type": "execute_result"
    }
   ],
   "source": [
    "type(s)"
   ]
  },
  {
   "cell_type": "code",
   "execution_count": 1,
   "id": "curious-group",
   "metadata": {},
   "outputs": [],
   "source": [
    "import os"
   ]
  },
  {
   "cell_type": "code",
   "execution_count": 3,
   "id": "constant-function",
   "metadata": {},
   "outputs": [
    {
     "data": {
      "text/plain": [
       "'/Users/apple/Desktop/code/Python'"
      ]
     },
     "execution_count": 3,
     "metadata": {},
     "output_type": "execute_result"
    }
   ],
   "source": [
    "os.getcwd()"
   ]
  },
  {
   "cell_type": "code",
   "execution_count": 7,
   "id": "attractive-tournament",
   "metadata": {},
   "outputs": [
    {
     "data": {
      "text/plain": [
       "['/opt/anaconda3/bin',\n",
       " '/opt/anaconda3/condabin',\n",
       " '/usr/local/bin',\n",
       " '/usr/bin',\n",
       " '/bin',\n",
       " '/usr/sbin',\n",
       " '/sbin']"
      ]
     },
     "execution_count": 7,
     "metadata": {},
     "output_type": "execute_result"
    }
   ],
   "source": [
    "os.get_exec_path()"
   ]
  },
  {
   "cell_type": "code",
   "execution_count": null,
   "id": "referenced-shift",
   "metadata": {},
   "outputs": [],
   "source": []
  }
 ],
 "metadata": {
  "kernelspec": {
   "display_name": "Python 3",
   "language": "python",
   "name": "python3"
  },
  "language_info": {
   "codemirror_mode": {
    "name": "ipython",
    "version": 3
   },
   "file_extension": ".py",
   "mimetype": "text/x-python",
   "name": "python",
   "nbconvert_exporter": "python",
   "pygments_lexer": "ipython3",
   "version": "3.8.5"
  }
 },
 "nbformat": 4,
 "nbformat_minor": 5
}
